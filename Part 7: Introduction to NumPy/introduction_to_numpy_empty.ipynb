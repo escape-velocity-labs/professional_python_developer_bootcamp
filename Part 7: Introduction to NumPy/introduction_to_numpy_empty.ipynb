{
  "nbformat": 4,
  "nbformat_minor": 0,
  "metadata": {
    "colab": {
      "provenance": []
    },
    "kernelspec": {
      "name": "python3",
      "display_name": "Python 3"
    },
    "language_info": {
      "name": "python"
    }
  },
  "cells": [
    {
      "cell_type": "markdown",
      "source": [
        "# 7. Introduction to NumPy"
      ],
      "metadata": {
        "id": "zXva8rA8Ifi4"
      }
    },
    {
      "cell_type": "code",
      "source": [
        "#@title ##### Download test images and audio\n",
        "\n",
        "%%capture\n",
        "%%bash\n",
        "git clone https://github.com/escape-velocity-labs/professional_python_developer_bootcamp.git\n",
        "cp professional_python_developer_bootcamp/img/* .\n",
        "cp professional_python_developer_bootcamp/audio/* .\n",
        "rm -r professional_python_developer_bootcamp"
      ],
      "metadata": {
        "cellView": "form",
        "id": "D15iKMXlm5ZC"
      },
      "execution_count": null,
      "outputs": []
    },
    {
      "cell_type": "markdown",
      "source": [
        "## 7.1 NumPy Basics"
      ],
      "metadata": {
        "id": "1z3XqbBbIfeR"
      }
    },
    {
      "cell_type": "code",
      "source": [],
      "metadata": {
        "id": "73sGDIDx1nvx"
      },
      "execution_count": null,
      "outputs": []
    },
    {
      "cell_type": "code",
      "execution_count": null,
      "metadata": {
        "id": "E3NkXVJeFOcb"
      },
      "outputs": [],
      "source": []
    },
    {
      "cell_type": "code",
      "source": [],
      "metadata": {
        "id": "Y9K17559Iiuz"
      },
      "execution_count": null,
      "outputs": []
    },
    {
      "cell_type": "code",
      "source": [],
      "metadata": {
        "id": "J8H6AZNiIi0r"
      },
      "execution_count": null,
      "outputs": []
    },
    {
      "cell_type": "code",
      "source": [],
      "metadata": {
        "id": "5sodftXRIi3q"
      },
      "execution_count": null,
      "outputs": []
    },
    {
      "cell_type": "code",
      "source": [],
      "metadata": {
        "id": "WfMqydOaIi6J"
      },
      "execution_count": null,
      "outputs": []
    },
    {
      "cell_type": "code",
      "source": [],
      "metadata": {
        "id": "3NmyD_KLmZEX"
      },
      "execution_count": null,
      "outputs": []
    },
    {
      "cell_type": "code",
      "source": [],
      "metadata": {
        "id": "kQcfhlbb_tOX"
      },
      "execution_count": null,
      "outputs": []
    },
    {
      "cell_type": "code",
      "source": [],
      "metadata": {
        "id": "2zX7Q7ywmZHH"
      },
      "execution_count": null,
      "outputs": []
    },
    {
      "cell_type": "code",
      "source": [],
      "metadata": {
        "id": "FfJkEhR-5Wpy"
      },
      "execution_count": null,
      "outputs": []
    },
    {
      "cell_type": "code",
      "source": [],
      "metadata": {
        "id": "tFhOqxOW5WsW"
      },
      "execution_count": null,
      "outputs": []
    },
    {
      "cell_type": "code",
      "source": [],
      "metadata": {
        "id": "tDtcFtyo5Wud"
      },
      "execution_count": null,
      "outputs": []
    },
    {
      "cell_type": "code",
      "source": [],
      "metadata": {
        "id": "LPkqNHCG_yEh"
      },
      "execution_count": null,
      "outputs": []
    },
    {
      "cell_type": "code",
      "source": [],
      "metadata": {
        "id": "F42iE-7r5Wwx"
      },
      "execution_count": null,
      "outputs": []
    },
    {
      "cell_type": "code",
      "source": [],
      "metadata": {
        "id": "-SJJf04B6vDH"
      },
      "execution_count": null,
      "outputs": []
    },
    {
      "cell_type": "code",
      "source": [],
      "metadata": {
        "id": "gXpYNdCzxTaE"
      },
      "execution_count": null,
      "outputs": []
    },
    {
      "cell_type": "markdown",
      "source": [
        "## 7.2 Array data types"
      ],
      "metadata": {
        "id": "lHcQIJrl8J3r"
      }
    },
    {
      "cell_type": "code",
      "source": [],
      "metadata": {
        "id": "4Z3-50U48KIo"
      },
      "execution_count": null,
      "outputs": []
    },
    {
      "cell_type": "code",
      "source": [],
      "metadata": {
        "id": "QTBu4p318KK8"
      },
      "execution_count": null,
      "outputs": []
    },
    {
      "cell_type": "code",
      "source": [],
      "metadata": {
        "id": "Vppgv-pb8KNj"
      },
      "execution_count": null,
      "outputs": []
    },
    {
      "cell_type": "code",
      "source": [],
      "metadata": {
        "id": "yr6n6-Vw8KP6"
      },
      "execution_count": null,
      "outputs": []
    },
    {
      "cell_type": "code",
      "source": [],
      "metadata": {
        "id": "k3qR6kGIADhu"
      },
      "execution_count": null,
      "outputs": []
    },
    {
      "cell_type": "code",
      "source": [],
      "metadata": {
        "id": "1D7_EvJjADkT"
      },
      "execution_count": null,
      "outputs": []
    },
    {
      "cell_type": "code",
      "source": [],
      "metadata": {
        "id": "h4mljlkqADms"
      },
      "execution_count": null,
      "outputs": []
    },
    {
      "cell_type": "markdown",
      "source": [
        "## 7.3 Array manipulation"
      ],
      "metadata": {
        "id": "sUbHz-KV8Gww"
      }
    },
    {
      "cell_type": "code",
      "source": [],
      "metadata": {
        "id": "yYT9b-eT6vFd"
      },
      "execution_count": null,
      "outputs": []
    },
    {
      "cell_type": "code",
      "source": [],
      "metadata": {
        "id": "vfFJXR1pvvAP"
      },
      "execution_count": null,
      "outputs": []
    },
    {
      "cell_type": "code",
      "source": [],
      "metadata": {
        "id": "412z5qw-vvCi"
      },
      "execution_count": null,
      "outputs": []
    },
    {
      "cell_type": "code",
      "source": [],
      "metadata": {
        "id": "NyvM8oDVww9W"
      },
      "execution_count": null,
      "outputs": []
    },
    {
      "cell_type": "code",
      "source": [],
      "metadata": {
        "id": "c2OIjP0hww_7"
      },
      "execution_count": null,
      "outputs": []
    },
    {
      "cell_type": "code",
      "source": [],
      "metadata": {
        "id": "egpwX1Bc4VrJ"
      },
      "execution_count": null,
      "outputs": []
    },
    {
      "cell_type": "code",
      "source": [],
      "metadata": {
        "id": "PZnRAnbx4i-t"
      },
      "execution_count": null,
      "outputs": []
    },
    {
      "cell_type": "code",
      "source": [],
      "metadata": {
        "id": "wsDPmvFz4qBC"
      },
      "execution_count": null,
      "outputs": []
    },
    {
      "cell_type": "code",
      "source": [],
      "metadata": {
        "id": "P5ZlluW14jew"
      },
      "execution_count": null,
      "outputs": []
    },
    {
      "cell_type": "code",
      "source": [],
      "metadata": {
        "id": "0OscSSrlwxCE"
      },
      "execution_count": null,
      "outputs": []
    },
    {
      "cell_type": "code",
      "source": [],
      "metadata": {
        "id": "MoHatOkzzVZa"
      },
      "execution_count": null,
      "outputs": []
    },
    {
      "cell_type": "code",
      "source": [],
      "metadata": {
        "id": "wGu_P-hIzVbw"
      },
      "execution_count": null,
      "outputs": []
    },
    {
      "cell_type": "markdown",
      "source": [
        "## 7.4 Indexing and slicing arrays"
      ],
      "metadata": {
        "id": "uinrXJXB5QUe"
      }
    },
    {
      "cell_type": "code",
      "source": [],
      "metadata": {
        "id": "Q2tFWTjVzn0z"
      },
      "execution_count": null,
      "outputs": []
    },
    {
      "cell_type": "code",
      "source": [],
      "metadata": {
        "id": "EzmY2jnGzn3a"
      },
      "execution_count": null,
      "outputs": []
    },
    {
      "cell_type": "code",
      "source": [],
      "metadata": {
        "id": "rlq405KNzn5v"
      },
      "execution_count": null,
      "outputs": []
    },
    {
      "cell_type": "code",
      "source": [],
      "metadata": {
        "id": "TvOm-y9Gzn8G"
      },
      "execution_count": null,
      "outputs": []
    },
    {
      "cell_type": "code",
      "source": [],
      "metadata": {
        "id": "a_nkjCGCzn-d"
      },
      "execution_count": null,
      "outputs": []
    },
    {
      "cell_type": "markdown",
      "source": [
        "## 7.5 Scalar operations"
      ],
      "metadata": {
        "id": "PHeCEMBk9lqf"
      }
    },
    {
      "cell_type": "code",
      "source": [],
      "metadata": {
        "id": "HlAWr6eEzoAx"
      },
      "execution_count": null,
      "outputs": []
    },
    {
      "cell_type": "code",
      "source": [],
      "metadata": {
        "id": "GOSlYhMl-WjY"
      },
      "execution_count": null,
      "outputs": []
    },
    {
      "cell_type": "code",
      "source": [],
      "metadata": {
        "id": "bO9N5RiU-Wle"
      },
      "execution_count": null,
      "outputs": []
    },
    {
      "cell_type": "code",
      "source": [],
      "metadata": {
        "id": "QLo288me-Wnm"
      },
      "execution_count": null,
      "outputs": []
    },
    {
      "cell_type": "code",
      "source": [],
      "metadata": {
        "id": "lPNveX78_f-S"
      },
      "execution_count": null,
      "outputs": []
    },
    {
      "cell_type": "code",
      "source": [],
      "metadata": {
        "id": "OkXSbydv_gAW"
      },
      "execution_count": null,
      "outputs": []
    },
    {
      "cell_type": "markdown",
      "source": [
        "## 7.6 Operations with other arrays"
      ],
      "metadata": {
        "id": "nv5sq3suoODl"
      }
    },
    {
      "cell_type": "code",
      "source": [],
      "metadata": {
        "id": "ZvtooUEk_lf-"
      },
      "execution_count": null,
      "outputs": []
    },
    {
      "cell_type": "code",
      "source": [],
      "metadata": {
        "id": "SiWScf_d_liz"
      },
      "execution_count": null,
      "outputs": []
    },
    {
      "cell_type": "code",
      "source": [],
      "metadata": {
        "id": "FMs-6FQI_06I"
      },
      "execution_count": null,
      "outputs": []
    },
    {
      "cell_type": "code",
      "source": [],
      "metadata": {
        "id": "drE5pQX7_08w"
      },
      "execution_count": null,
      "outputs": []
    },
    {
      "cell_type": "markdown",
      "source": [
        "## 7.7 Functions with arrays"
      ],
      "metadata": {
        "id": "ggdAwTvNo0Yz"
      }
    },
    {
      "cell_type": "code",
      "source": [],
      "metadata": {
        "id": "GYgbwbpypE5l"
      },
      "execution_count": null,
      "outputs": []
    },
    {
      "cell_type": "code",
      "source": [],
      "metadata": {
        "id": "A4M6QV6F_0_M"
      },
      "execution_count": null,
      "outputs": []
    },
    {
      "cell_type": "code",
      "source": [],
      "metadata": {
        "id": "5Ia3vxbWo7Pf"
      },
      "execution_count": null,
      "outputs": []
    },
    {
      "cell_type": "code",
      "source": [],
      "metadata": {
        "id": "NG-2m53so7R2"
      },
      "execution_count": null,
      "outputs": []
    },
    {
      "cell_type": "code",
      "source": [],
      "metadata": {
        "id": "ZnNqy_iao7T7"
      },
      "execution_count": null,
      "outputs": []
    },
    {
      "cell_type": "code",
      "source": [],
      "metadata": {
        "id": "o5-X0bMvo7Wi"
      },
      "execution_count": null,
      "outputs": []
    },
    {
      "cell_type": "markdown",
      "source": [
        "## 7.8 Aggregation functions"
      ],
      "metadata": {
        "id": "9ytLcuLnrfjf"
      }
    },
    {
      "cell_type": "code",
      "source": [],
      "metadata": {
        "id": "p0KBPtVsqLH3"
      },
      "execution_count": null,
      "outputs": []
    },
    {
      "cell_type": "code",
      "source": [],
      "metadata": {
        "id": "s_SHYB3TqLKH"
      },
      "execution_count": null,
      "outputs": []
    },
    {
      "cell_type": "code",
      "source": [],
      "metadata": {
        "id": "BrosCrQMqLMg"
      },
      "execution_count": null,
      "outputs": []
    },
    {
      "cell_type": "code",
      "source": [],
      "metadata": {
        "id": "UisbPxtwu1W_"
      },
      "execution_count": null,
      "outputs": []
    },
    {
      "cell_type": "code",
      "source": [],
      "metadata": {
        "id": "aOYJkNZWwec2"
      },
      "execution_count": null,
      "outputs": []
    },
    {
      "cell_type": "code",
      "source": [],
      "metadata": {
        "id": "aof88pvlwelN"
      },
      "execution_count": null,
      "outputs": []
    },
    {
      "cell_type": "code",
      "source": [],
      "metadata": {
        "id": "XWx39ZA5wvGM"
      },
      "execution_count": null,
      "outputs": []
    },
    {
      "cell_type": "code",
      "source": [],
      "metadata": {
        "id": "Dc3W8sQGwvIh"
      },
      "execution_count": null,
      "outputs": []
    },
    {
      "cell_type": "code",
      "source": [],
      "metadata": {
        "id": "iqczX3tMwenv"
      },
      "execution_count": null,
      "outputs": []
    },
    {
      "cell_type": "code",
      "source": [],
      "metadata": {
        "id": "6rWvSracweqF"
      },
      "execution_count": null,
      "outputs": []
    },
    {
      "cell_type": "markdown",
      "source": [
        "## 7.9 Mortgage Calculator"
      ],
      "metadata": {
        "id": "qAS55Fo9JqYd"
      }
    },
    {
      "cell_type": "code",
      "source": [],
      "metadata": {
        "id": "mXaT0nnPm35h"
      },
      "execution_count": null,
      "outputs": []
    },
    {
      "cell_type": "code",
      "source": [],
      "metadata": {
        "id": "fSKIiNV3m37x"
      },
      "execution_count": null,
      "outputs": []
    },
    {
      "cell_type": "code",
      "source": [],
      "metadata": {
        "id": "x18DbsPC2_6O"
      },
      "execution_count": null,
      "outputs": []
    },
    {
      "cell_type": "code",
      "source": [],
      "metadata": {
        "id": "M-uYJhBB2_8s"
      },
      "execution_count": null,
      "outputs": []
    },
    {
      "cell_type": "code",
      "source": [],
      "metadata": {
        "id": "Xnw4_Yvu2_-h"
      },
      "execution_count": null,
      "outputs": []
    },
    {
      "cell_type": "code",
      "source": [
        "\n",
        "plt.show()"
      ],
      "metadata": {
        "id": "rwZX4iZjm4F9"
      },
      "execution_count": null,
      "outputs": []
    },
    {
      "cell_type": "markdown",
      "source": [
        "## 7.10 Audio wave plotting"
      ],
      "metadata": {
        "id": "BpVbum0VJqbQ"
      }
    },
    {
      "cell_type": "code",
      "source": [
        "from IPython.display import Audio\n",
        "\n",
        "# Read the binary data from the audio file\n",
        "with open('greeting.wav', 'rb') as file:\n",
        "    audio_data = file.read()\n",
        "\n",
        "Audio(data=audio_data, rate=44100)"
      ],
      "metadata": {
        "id": "e5GqfdHkHC8w"
      },
      "execution_count": null,
      "outputs": []
    },
    {
      "cell_type": "code",
      "source": [
        "\n",
        "\n",
        "# Plot the waveform\n",
        "plt.figure(figsize=(10, 4))\n",
        "plt.plot(time, audio_array, lw=0.5)\n",
        "plt.xlabel('Time (s)')\n",
        "plt.ylabel('Amplitude')\n",
        "plt.title('Audio Waveform')\n",
        "plt.grid()\n",
        "plt.show()"
      ],
      "metadata": {
        "id": "esx0ijpGm4o3"
      },
      "execution_count": null,
      "outputs": []
    },
    {
      "cell_type": "markdown",
      "source": [
        "## 7.11 Single Value Decomposition of an image (SVD)"
      ],
      "metadata": {
        "id": "Z8e1I5AjJqeV"
      }
    },
    {
      "cell_type": "code",
      "source": [],
      "metadata": {
        "id": "ZRJ5jq1zNmRB"
      },
      "execution_count": null,
      "outputs": []
    },
    {
      "cell_type": "code",
      "source": [],
      "metadata": {
        "id": "2TiTjcDvNooE"
      },
      "execution_count": null,
      "outputs": []
    },
    {
      "cell_type": "code",
      "source": [],
      "metadata": {
        "id": "_uJPiZ5Qt5y3"
      },
      "execution_count": null,
      "outputs": []
    },
    {
      "cell_type": "code",
      "source": [],
      "metadata": {
        "id": "HhlJ8VKzrZOA"
      },
      "execution_count": null,
      "outputs": []
    },
    {
      "cell_type": "code",
      "source": [],
      "metadata": {
        "id": "29bH3sCUv3zc"
      },
      "execution_count": null,
      "outputs": []
    },
    {
      "cell_type": "code",
      "source": [],
      "metadata": {
        "id": "d9Op4zynvwdj"
      },
      "execution_count": null,
      "outputs": []
    },
    {
      "cell_type": "code",
      "source": [],
      "metadata": {
        "id": "VKGKmUNZrZRC"
      },
      "execution_count": null,
      "outputs": []
    },
    {
      "cell_type": "code",
      "source": [
        "plt.imshow(compressed, cmap=\"gray\")\n",
        "plt.axis(\"off\")\n",
        "plt.show()"
      ],
      "metadata": {
        "id": "40GX85xnOLYi"
      },
      "execution_count": null,
      "outputs": []
    },
    {
      "cell_type": "markdown",
      "source": [
        "## 7.13 Simple linear regression"
      ],
      "metadata": {
        "id": "TL0AeFt7luzB"
      }
    },
    {
      "cell_type": "code",
      "source": [],
      "metadata": {
        "id": "VPTPVUFMm66t"
      },
      "execution_count": null,
      "outputs": []
    },
    {
      "cell_type": "code",
      "source": [
        "# Plot the dataset without the regression line\n",
        "plt.scatter(years_experience, salary)\n",
        "plt.xlabel(\"Years of Experience\")\n",
        "plt.ylabel(\"Salary\")\n",
        "plt.title(\"Years of Experience vs. Salary (Data Only)\")\n",
        "plt.grid(True)\n",
        "plt.show()"
      ],
      "metadata": {
        "id": "7t2yqqRpKBZL"
      },
      "execution_count": null,
      "outputs": []
    },
    {
      "cell_type": "code",
      "source": [],
      "metadata": {
        "id": "8nUoPKb8m69A"
      },
      "execution_count": null,
      "outputs": []
    },
    {
      "cell_type": "code",
      "source": [
        "# Plot the dataset and regression line\n",
        "plt.scatter(years_experience, salary, label=\"Data Points\")\n",
        "plt.plot(years_experience, predicted_salary, color='red', label=\"Regression Line\")\n",
        "plt.xlabel(\"Years of Experience\")\n",
        "plt.ylabel(\"Salary\")\n",
        "plt.title(\"Years of Experience vs. Salary\")\n",
        "plt.legend()\n",
        "plt.grid(True)\n",
        "plt.show()"
      ],
      "metadata": {
        "id": "sc9aQ4Oom6_Y"
      },
      "execution_count": null,
      "outputs": []
    },
    {
      "cell_type": "markdown",
      "source": [
        "## 7.14 Ballistic trajectory"
      ],
      "metadata": {
        "id": "HEGBWVXFma0u"
      }
    },
    {
      "cell_type": "code",
      "source": [
        "\n",
        "\n",
        "\n",
        "fig, ax = plt.subplots(figsize=(8, 4))\n",
        "\n",
        "\n",
        "\n",
        "\n",
        "\n",
        "\n",
        "ax.set_title(\"Cannonball Trajectories\")\n",
        "ax.set_xlabel(\"Horizontal Distance (m)\")\n",
        "ax.set_ylabel(\"Vertical Distance (m)\")\n",
        "ax.legend([f\"Cannonball {i+1}\" for i in range(len(initial_velocity))])\n",
        "ax.set_xlim(0, np.max(x))\n",
        "ax.set_ylim(0, np.max(y))\n",
        "ax.grid()\n",
        "\n",
        "plt.show()\n"
      ],
      "metadata": {
        "id": "yONMEGKmm7oi"
      },
      "execution_count": null,
      "outputs": []
    },
    {
      "cell_type": "markdown",
      "source": [
        "## 7.15 Game of life"
      ],
      "metadata": {
        "id": "mSxYKhAumayr"
      }
    },
    {
      "cell_type": "code",
      "source": [
        "import numpy as np\n",
        "import matplotlib.pyplot as plt\n",
        "import matplotlib.animation as animation\n",
        "from IPython.display import HTML\n",
        "\n",
        "# Set the size of the grid and the number of generations\n",
        "grid_size = 100\n",
        "num_generations = 1000\n",
        "\n",
        "# Initialize the grid with random values (0 or 1). On has a 20% chance\n",
        "\n",
        "# grid = np.random.choice([0, 1], (grid_size, grid_size))\n",
        "\n",
        "grid = np.zeros((grid_size, grid_size))\n",
        "\n",
        "live_cells = [\n",
        "    (50,49),(50,51),(51, 49),(51,51),(52,49),(52,50),(52,51),\n",
        "    (20,21),(21,21),(22,21),(21,20),(20,22),(80,81),(81,81),\n",
        "    (82,81),(81,80),(80,82),(20,81),(21,81),(22,81),(21,80),\n",
        "    (20,82),(80,21),(81,21),(82,21),(81,20),(80,22)]\n",
        "\n",
        "for row, col in live_cells:\n",
        "    grid[row, col] = 1"
      ],
      "metadata": {
        "id": "3ViicwEwJq1j"
      },
      "execution_count": null,
      "outputs": []
    },
    {
      "cell_type": "code",
      "source": [
        "plt.imshow(grid, cmap='gray')\n",
        "plt.axis(\"off\")"
      ],
      "metadata": {
        "id": "9fm7nQMYT4zR"
      },
      "execution_count": null,
      "outputs": []
    },
    {
      "cell_type": "code",
      "source": [
        "def get_neighbors(row, col):\n",
        "    neighbors = 0\n",
        "    for i in range(-1, 2):\n",
        "        for j in range(-1, 2):\n",
        "            if i == 0 and j == 0:\n",
        "                continue\n",
        "            if 0 <= row + i < grid_size and 0 <= col + j < grid_size:\n",
        "                neighbors += grid[row + i, col + j]\n",
        "    return neighbors"
      ],
      "metadata": {
        "id": "jP75NuL4JMuX"
      },
      "execution_count": null,
      "outputs": []
    },
    {
      "cell_type": "code",
      "source": [
        "def update_grid(grid):\n",
        "    new_grid = np.copy(grid)\n",
        "    for row in range(grid_size):\n",
        "        for col in range(grid_size):\n",
        "            neighbors = get_neighbors(row, col)\n",
        "            is_alive = grid[row, col] == 1\n",
        "            if is_alive:\n",
        "                if not 2 <= neighbors <= 3:\n",
        "                    new_grid[row, col] = 0\n",
        "            else:\n",
        "                if neighbors == 3:\n",
        "                    new_grid[row, col] = 1\n",
        "    return new_grid"
      ],
      "metadata": {
        "id": "N1xvgiLkWV9N"
      },
      "execution_count": null,
      "outputs": []
    },
    {
      "cell_type": "code",
      "source": [
        "# Create a function to animate the grid\n",
        "def animate(i):\n",
        "    # Mat here is the matplotlib object that we can manipulate\n",
        "    mat.set_data(update_grid(grid))\n",
        "    grid[:] = mat.get_array()\n",
        "    return [mat]"
      ],
      "metadata": {
        "id": "GwAOArRgWV_i"
      },
      "execution_count": null,
      "outputs": []
    },
    {
      "cell_type": "code",
      "source": [
        "fig, ax = plt.subplots(figsize=(8, 8))\n",
        "plt.axis(\"off\")\n",
        "mat = ax.matshow(grid, cmap='gray')\n",
        "anim = animation.FuncAnimation(fig, animate, interval=50, frames=num_generations, blit=True)"
      ],
      "metadata": {
        "id": "LyfwI9SMJq4J"
      },
      "execution_count": null,
      "outputs": []
    },
    {
      "cell_type": "code",
      "source": [
        "HTML(anim.to_html5_video())"
      ],
      "metadata": {
        "id": "QXJg1lDWJq7I"
      },
      "execution_count": null,
      "outputs": []
    },
    {
      "cell_type": "code",
      "source": [],
      "metadata": {
        "id": "MNuW6WjWJrBJ"
      },
      "execution_count": null,
      "outputs": []
    }
  ]
}