{
  "nbformat": 4,
  "nbformat_minor": 0,
  "metadata": {
    "colab": {
      "provenance": []
    },
    "kernelspec": {
      "name": "python3",
      "display_name": "Python 3"
    },
    "language_info": {
      "name": "python"
    }
  },
  "cells": [
    {
      "cell_type": "markdown",
      "source": [
        "# 2. Object-Oriented Programming (OOP)"
      ],
      "metadata": {
        "id": "rr-VvBqNU0yo"
      }
    },
    {
      "cell_type": "markdown",
      "source": [
        "## 2.1 Basic object-oriented programming (OOP)"
      ],
      "metadata": {
        "id": "GeI9nQYkzbKK"
      }
    },
    {
      "cell_type": "markdown",
      "source": [
        "### 2.1.1 Creating the `Classroom` class"
      ],
      "metadata": {
        "id": "jkACx4gAzbYB"
      }
    },
    {
      "cell_type": "code",
      "source": [],
      "metadata": {
        "id": "0w7VqvXqxfvL"
      },
      "execution_count": null,
      "outputs": []
    },
    {
      "cell_type": "code",
      "source": [],
      "metadata": {
        "id": "siiLw_LC9IEm"
      },
      "execution_count": null,
      "outputs": []
    },
    {
      "cell_type": "code",
      "source": [],
      "metadata": {
        "id": "R-7OTQNiUMW0"
      },
      "execution_count": null,
      "outputs": []
    },
    {
      "cell_type": "code",
      "source": [],
      "metadata": {
        "id": "oSm1XCoxUMZO"
      },
      "execution_count": null,
      "outputs": []
    },
    {
      "cell_type": "code",
      "source": [],
      "metadata": {
        "id": "_fUVA-NXUmKj"
      },
      "execution_count": null,
      "outputs": []
    },
    {
      "cell_type": "code",
      "source": [],
      "metadata": {
        "id": "-3ouMzYUUmdx"
      },
      "execution_count": null,
      "outputs": []
    },
    {
      "cell_type": "code",
      "source": [],
      "metadata": {
        "id": "QhpNALBrUmgg"
      },
      "execution_count": null,
      "outputs": []
    },
    {
      "cell_type": "code",
      "source": [],
      "metadata": {
        "id": "E-Qk0h6T9ILA"
      },
      "execution_count": null,
      "outputs": []
    },
    {
      "cell_type": "markdown",
      "source": [
        "### 2.1.2 Creating the `Subject` class"
      ],
      "metadata": {
        "id": "Kf3l9_Uazba7"
      }
    },
    {
      "cell_type": "code",
      "source": [],
      "metadata": {
        "id": "JH75RJYNxgDA"
      },
      "execution_count": null,
      "outputs": []
    },
    {
      "cell_type": "code",
      "source": [],
      "metadata": {
        "id": "MYm2OFitTOGj"
      },
      "execution_count": null,
      "outputs": []
    },
    {
      "cell_type": "code",
      "source": [],
      "metadata": {
        "id": "FOTTegXMxs9a"
      },
      "execution_count": null,
      "outputs": []
    },
    {
      "cell_type": "code",
      "source": [],
      "metadata": {
        "id": "vpbElNG8aGaA"
      },
      "execution_count": null,
      "outputs": []
    },
    {
      "cell_type": "code",
      "source": [],
      "metadata": {
        "id": "d2yAeBkAX_pi"
      },
      "execution_count": null,
      "outputs": []
    },
    {
      "cell_type": "code",
      "source": [],
      "metadata": {
        "id": "769cQHodYP3U"
      },
      "execution_count": null,
      "outputs": []
    },
    {
      "cell_type": "code",
      "source": [],
      "metadata": {
        "id": "6fjWOV9iaKaM"
      },
      "execution_count": null,
      "outputs": []
    },
    {
      "cell_type": "code",
      "source": [],
      "metadata": {
        "id": "vMZ9D99KaKcz"
      },
      "execution_count": null,
      "outputs": []
    },
    {
      "cell_type": "markdown",
      "source": [
        "### 2.1.3 Creating the `Student` class"
      ],
      "metadata": {
        "id": "fiSRFN8IGD8F"
      }
    },
    {
      "cell_type": "code",
      "source": [],
      "metadata": {
        "id": "qc9LxHRCHeJV"
      },
      "execution_count": null,
      "outputs": []
    },
    {
      "cell_type": "code",
      "source": [],
      "metadata": {
        "id": "AVxPAgnke3VG"
      },
      "execution_count": null,
      "outputs": []
    },
    {
      "cell_type": "code",
      "source": [],
      "metadata": {
        "id": "DEa5LMpJe3Xn"
      },
      "execution_count": null,
      "outputs": []
    },
    {
      "cell_type": "code",
      "source": [],
      "metadata": {
        "id": "ZhlVhbZre3Z-"
      },
      "execution_count": null,
      "outputs": []
    },
    {
      "cell_type": "code",
      "source": [],
      "metadata": {
        "id": "BxyN3gebHeOt"
      },
      "execution_count": null,
      "outputs": []
    },
    {
      "cell_type": "code",
      "source": [],
      "metadata": {
        "id": "R5yGcjaCxtC7"
      },
      "execution_count": null,
      "outputs": []
    },
    {
      "cell_type": "code",
      "source": [],
      "metadata": {
        "id": "yzDEornBHe4f"
      },
      "execution_count": null,
      "outputs": []
    },
    {
      "cell_type": "code",
      "source": [],
      "metadata": {
        "id": "iXxmuZY0He9g"
      },
      "execution_count": null,
      "outputs": []
    },
    {
      "cell_type": "markdown",
      "source": [
        "## Code project #5: Grade tracker\n",
        "\n",
        "\n",
        "In this project, you will create a student management program that keeps track of students' grades using object-oriented programming. The program contains two classes: `Student` and `GradeBook`.\n",
        "\n",
        "\n",
        "Student class defines the `__init__` method, which initializes the object with a name. Additionally, it has a `update_grade` method to update the grade of a specific subject for a student and a `__str__` method to return a string representation of the object.\n",
        "\n",
        "\n",
        "The GradeBook class defines the `__init__` method to initialize the object. It also includes methods to add and remove students from the grade book, update their grades, and display a list of students.\n",
        "\n",
        "\n",
        "To manage the gradebook, you will run a loop with five options to choose from:\n",
        "1. adding a student\n",
        "2. updating a student's grade\n",
        "3. removing a student\n",
        "4. displaying all students\n",
        "5. quitting the program.\n",
        "\n",
        "\n",
        "You will prompt the user to enter the relevant data required for each of these operations, and the program will respond accordingly.\n",
        "\n",
        "Take your time. Good luck, and have fun!\n",
        "\n",
        "<br>\n",
        "\n"
      ],
      "metadata": {
        "id": "A908l9xdzblj"
      }
    },
    {
      "cell_type": "code",
      "source": [
        "# Create the student class.\n",
        "\n",
        "    # Create the __init__ method to set up the Student objects.\n",
        "    # Student objects will have a name and a dictionary of grades ('subject': 'grade').\n",
        "    # Grades are 0 by default until they are updated.\n",
        "\n",
        "    # Create the 'update_grade' method.\n",
        "\n",
        "    # Create the __str__ method to represent the student as a string.\n",
        "\n",
        "\n",
        "# Create the Gradebook class.\n",
        "\n",
        "    # Create the __init__ method to set up the GradeBook objects.\n",
        "\n",
        "\n",
        "    # Create the 'add_student' method to add a Student object to the GradeBook.\n",
        "\n",
        "\n",
        "    # Create the 'remove_student' method to remove a Student object from the GradeBook.\n",
        "\n",
        "\n",
        "    # Create the 'update_grade' method to change the value of a student's grade.\n",
        "\n",
        "\n",
        "    # Create the __str__ method to represent the grade book as a string.\n",
        "\n",
        "\n",
        "\n",
        "# Create a GradeBook instance.\n",
        "\n",
        "\n",
        "# Start the main loop of the programa, where the user can perform\n",
        "# operations on the grade book. Run this loop until the user chooses\n",
        "# to quit the program.\n",
        "\n",
        "\n",
        "    # Print the options that the user can choose from:\n",
        "    # 1. Add a student.\n",
        "    # 2. Update student grade.\n",
        "    # 3. Remove a student.\n",
        "    # 4. Show all students.\n",
        "    # 5. Quit.\n",
        "\n",
        "\n",
        "    # Take the user's choice ('1', '2', '3', '4' or '5'. String).\n",
        "\n",
        "\n",
        "    # If the choice is '1':\n",
        "\n",
        "        # Take a student's name from the user, add it to the\n",
        "        # grade book and print a confirmation message.\n",
        "\n",
        "\n",
        "    # If the choice is '2':\n",
        "\n",
        "        # Take a student's name, subject and grade from the user and update the grade book.\n",
        "        # Take a student's name from the user and remove it from the grade book.\n",
        "        # Display a success/failure message depending on the result of the operation.\n",
        "\n",
        "\n",
        "    # If the choice is '3':\n",
        "\n",
        "        # Take a student's name from the user and remove it from the grade book.\n",
        "        # Display a success/failure message depending on the result of the operation.\n",
        "\n",
        "\n",
        "    # If the choice is '4':\n",
        "\n",
        "        # Print the grade book.\n",
        "\n",
        "\n",
        "    # If the choice is '5':\n",
        "\n",
        "        # Quit the program.\n",
        "\n",
        "\n",
        "    # If the choice is not valid, display an error message and prompt the user again.\n",
        "\n"
      ],
      "metadata": {
        "id": "Y3hd8GW3mFeN"
      },
      "execution_count": null,
      "outputs": []
    },
    {
      "cell_type": "code",
      "source": [
        "#@title Solution\n",
        "\n",
        "\n",
        "# Create the student class.\n",
        "class Student:\n",
        "\n",
        "    # Create the __init__ method to set up the Student objects.\n",
        "    def __init__(self, name):\n",
        "        self.name = name\n",
        "        self.grades = {\"math\": 0, \"science\": 0, \"history\": 0}\n",
        "\n",
        "    # Create the 'update_grade' method.\n",
        "    def update_grade(self, subject, grade):\n",
        "        self.grades[subject] = grade\n",
        "\n",
        "    # Create the __str__ method to represent the student as a string.\n",
        "    def __str__(self):\n",
        "        return f\"{self.name}: math={self.grades['math']}, science={self.grades['science']}, history={self.grades['history']}\"\n",
        "\n",
        "\n",
        "# Create the grade book class.\n",
        "class GradeBook:\n",
        "\n",
        "    # Create the __init__ method to set up the GradeBook objects.\n",
        "    def __init__(self):\n",
        "        self.students = {}\n",
        "\n",
        "    # Create the 'add_student' method to add a Student object to the GradeBook.\n",
        "    def add_student(self, name):\n",
        "        student = Student(name)\n",
        "        self.students[name] = student\n",
        "\n",
        "    # Create the 'remove_student' method to remove a Student object from the GradeBook.\n",
        "    def remove_student(self, name):\n",
        "        if name in self.students:\n",
        "            del self.students[name]\n",
        "            return True\n",
        "        else:\n",
        "            return False\n",
        "\n",
        "    # Create the 'update_grade' method to change the value of a student's grade.\n",
        "    def update_grade(self, name, subject, grade):\n",
        "        if name in self.students:\n",
        "            student = self.students[name]\n",
        "            student.update_grade(subject, grade)\n",
        "            return True\n",
        "        else:\n",
        "            return False\n",
        "\n",
        "    # Create the __str__ method to represent the grade book as a string.\n",
        "    def __str__(self):\n",
        "        output = \"Current students:\\n\"\n",
        "        for name, student in self.students.items():\n",
        "            output += str(student) + \"\\n\"\n",
        "        return output\n",
        "\n",
        "# Create a GradeBook instance.\n",
        "grade_book = GradeBook()\n",
        "\n",
        "# Start the main loop of the programa, where the user can perform\n",
        "# operations on the grade book. Run this loop until the user chooses\n",
        "# to quit the program.\n",
        "quit = False\n",
        "\n",
        "while not quit:\n",
        "    # Print the options that the user can choose from:\n",
        "    # 1. Add a student.\n",
        "    # 2. Update student grade.\n",
        "    # 3. Remove a student.\n",
        "    # 4. Show all students.\n",
        "    # 5. Quit.\n",
        "    print(\"\\n\")\n",
        "    print(\"Choose an option:\")\n",
        "    print(\"1. Add student\")\n",
        "    print(\"2. Update student grade\")\n",
        "    print(\"3. Remove student\")\n",
        "    print(\"4. Show all students\")\n",
        "    print(\"5. Quit\")\n",
        "\n",
        "    # Take the user's choice ('1', '2', '3', '4' or '5'. String).\n",
        "    choice = input(\"What do you want to do: \")\n",
        "\n",
        "    # If the choice is '1':\n",
        "    if choice == \"1\":\n",
        "        # Take a student's name from the user, add it to the\n",
        "        # grade book and print a confirmation message.\n",
        "        name = input(\"Enter student name: \")\n",
        "        grade_book.add_student(name)\n",
        "        print(f\"{name} added to the grade book.\")\n",
        "\n",
        "    # If the choice is '2':\n",
        "    elif choice == \"2\":\n",
        "        # Take a student's name, subject and grade from the user and update the grade book.\n",
        "        # Take a student's name from the user and remove it from the grade book.\n",
        "        # Display a success/failure message depending on the result of the operation.\n",
        "        name = input(\"Enter student name: \")\n",
        "        subject = input(\"Enter the subject you want to update (math, science, history): \")\n",
        "        grade = int(input(\"Enter the new grade: \"))\n",
        "        if grade_book.update_grade(name, subject, grade):\n",
        "            print(f\"{name}'s grade in {subject} is now {grade}\")\n",
        "        else:\n",
        "            print(f\"{name} was not found in the list.\")\n",
        "\n",
        "    # If the choice is '3':\n",
        "    elif choice == \"3\":\n",
        "        # Take a student's name from the user and remove it from the grade book.\n",
        "        # Display a success/failure message depending on the result of the operation.\n",
        "        name = input(\"Enter student name: \")\n",
        "        if grade_book.remove_student(name):\n",
        "            print(f\"You removed {name} from the list!\")\n",
        "        else:\n",
        "            print(f\"{name} was not found in the list.\")\n",
        "\n",
        "    # If the choice is '4':\n",
        "    elif choice == \"4\":\n",
        "        # Print the grade book.\n",
        "        print(grade_book)\n",
        "\n",
        "    # If the choice is '5':\n",
        "    elif choice == \"5\":\n",
        "        # Quit the program.\n",
        "        quit = True\n",
        "\n",
        "    # If the choice is not valid, display an error message and prompt the user again.\n",
        "    else:\n",
        "        print(\"Invalid choice\")\n"
      ],
      "metadata": {
        "id": "rsqd5cuWmFgG",
        "cellView": "form"
      },
      "execution_count": null,
      "outputs": []
    },
    {
      "cell_type": "markdown",
      "source": [
        "<br><br><br>"
      ],
      "metadata": {
        "id": "TgCjzi6NuWRL"
      }
    },
    {
      "cell_type": "markdown",
      "source": [
        "## 2.2 Intermediate object-oriented programming"
      ],
      "metadata": {
        "id": "ciff1lgTzbM-"
      }
    },
    {
      "cell_type": "markdown",
      "source": [
        "### 2.2.1 Inheritance: building the base class"
      ],
      "metadata": {
        "id": "mY-_hd_tHt-M"
      }
    },
    {
      "cell_type": "code",
      "source": [],
      "metadata": {
        "id": "cIDl62KZzcq4"
      },
      "execution_count": null,
      "outputs": []
    },
    {
      "cell_type": "code",
      "source": [],
      "metadata": {
        "id": "-HU0proTzctl"
      },
      "execution_count": null,
      "outputs": []
    },
    {
      "cell_type": "code",
      "source": [],
      "metadata": {
        "id": "a1tLiLrvzcwm"
      },
      "execution_count": null,
      "outputs": []
    },
    {
      "cell_type": "code",
      "source": [],
      "metadata": {
        "id": "O5VKK23lVXv5"
      },
      "execution_count": null,
      "outputs": []
    },
    {
      "cell_type": "code",
      "source": [],
      "metadata": {
        "id": "SMPYwx2WVX0Z"
      },
      "execution_count": null,
      "outputs": []
    },
    {
      "cell_type": "markdown",
      "source": [
        "### 2.2.2 Inheritance: building the derived classes"
      ],
      "metadata": {
        "id": "HLlvC54qHuA4"
      }
    },
    {
      "cell_type": "code",
      "source": [],
      "metadata": {
        "id": "PLPP1SPNzczh"
      },
      "execution_count": null,
      "outputs": []
    },
    {
      "cell_type": "code",
      "source": [],
      "metadata": {
        "id": "CxVNM7G5zc2e"
      },
      "execution_count": null,
      "outputs": []
    },
    {
      "cell_type": "code",
      "source": [],
      "metadata": {
        "id": "zMKZsPTGzc5b"
      },
      "execution_count": null,
      "outputs": []
    },
    {
      "cell_type": "code",
      "source": [],
      "metadata": {
        "id": "7jS84HRazc_g"
      },
      "execution_count": null,
      "outputs": []
    },
    {
      "cell_type": "code",
      "source": [],
      "metadata": {
        "id": "iHQrNI1wues-"
      },
      "execution_count": null,
      "outputs": []
    },
    {
      "cell_type": "code",
      "source": [],
      "metadata": {
        "id": "Gmg6ZyH-zc8c"
      },
      "execution_count": null,
      "outputs": []
    },
    {
      "cell_type": "code",
      "source": [],
      "metadata": {
        "id": "hQWIMHKCzdCJ"
      },
      "execution_count": null,
      "outputs": []
    },
    {
      "cell_type": "markdown",
      "source": [
        "### 2.2.3 Polymorphism: method overriding"
      ],
      "metadata": {
        "id": "LAmKFDEDHuDh"
      }
    },
    {
      "cell_type": "code",
      "source": [],
      "metadata": {
        "id": "vPKWzVAUzdK9"
      },
      "execution_count": null,
      "outputs": []
    },
    {
      "cell_type": "code",
      "source": [],
      "metadata": {
        "id": "UIbl_NYDxhDP"
      },
      "execution_count": null,
      "outputs": []
    },
    {
      "cell_type": "code",
      "source": [],
      "metadata": {
        "id": "fLr_w-TQxhGs"
      },
      "execution_count": null,
      "outputs": []
    },
    {
      "cell_type": "code",
      "source": [],
      "metadata": {
        "id": "N81vzHY4xhJr"
      },
      "execution_count": null,
      "outputs": []
    },
    {
      "cell_type": "code",
      "source": [],
      "metadata": {
        "id": "1SeF6b9Hu55U"
      },
      "execution_count": null,
      "outputs": []
    },
    {
      "cell_type": "markdown",
      "source": [
        "### 2.2.4 Encapsulation: public and private members"
      ],
      "metadata": {
        "id": "Y7obb7I_K4XG"
      }
    },
    {
      "cell_type": "code",
      "source": [],
      "metadata": {
        "id": "KpPLYSyIu57b"
      },
      "execution_count": null,
      "outputs": []
    },
    {
      "cell_type": "code",
      "source": [],
      "metadata": {
        "id": "2i_qAxJEu59j"
      },
      "execution_count": null,
      "outputs": []
    },
    {
      "cell_type": "code",
      "source": [],
      "metadata": {
        "id": "Lbvpb8RIu5_p"
      },
      "execution_count": null,
      "outputs": []
    },
    {
      "cell_type": "code",
      "source": [],
      "metadata": {
        "id": "VMnQnq9dxhN5"
      },
      "execution_count": null,
      "outputs": []
    },
    {
      "cell_type": "markdown",
      "source": [
        "### 2.2.5 Encapsulation: attribute scrambling"
      ],
      "metadata": {
        "id": "IyaH2xo0LCJU"
      }
    },
    {
      "cell_type": "code",
      "source": [],
      "metadata": {
        "id": "tIS3L6qozdQl"
      },
      "execution_count": null,
      "outputs": []
    },
    {
      "cell_type": "code",
      "source": [],
      "metadata": {
        "id": "JdHenkSmzdTW"
      },
      "execution_count": null,
      "outputs": []
    },
    {
      "cell_type": "code",
      "source": [],
      "metadata": {
        "id": "2lYe8cFbzdWX"
      },
      "execution_count": null,
      "outputs": []
    },
    {
      "cell_type": "code",
      "source": [],
      "metadata": {
        "id": "8kdJh3QizdZi"
      },
      "execution_count": null,
      "outputs": []
    },
    {
      "cell_type": "markdown",
      "source": [
        "### 2.2.6 Setters and getters"
      ],
      "metadata": {
        "id": "jmTzbewfLNuK"
      }
    },
    {
      "cell_type": "code",
      "source": [],
      "metadata": {
        "id": "VEvH62_sMTx_"
      },
      "execution_count": null,
      "outputs": []
    },
    {
      "cell_type": "code",
      "source": [],
      "metadata": {
        "id": "TnjLECh1tkaC"
      },
      "execution_count": null,
      "outputs": []
    },
    {
      "cell_type": "code",
      "source": [],
      "metadata": {
        "id": "N-b5P0bQtkcV"
      },
      "execution_count": null,
      "outputs": []
    },
    {
      "cell_type": "code",
      "source": [],
      "metadata": {
        "id": "RxESEvAStkfc"
      },
      "execution_count": null,
      "outputs": []
    },
    {
      "cell_type": "code",
      "source": [],
      "metadata": {
        "id": "VrMhP_EBBz7x"
      },
      "execution_count": null,
      "outputs": []
    },
    {
      "cell_type": "code",
      "source": [],
      "metadata": {
        "id": "TPP56yUDCBm2"
      },
      "execution_count": null,
      "outputs": []
    },
    {
      "cell_type": "code",
      "source": [],
      "metadata": {
        "id": "ns_yP7OYtkiR"
      },
      "execution_count": null,
      "outputs": []
    },
    {
      "cell_type": "code",
      "source": [],
      "metadata": {
        "id": "o8trj5MNz_KS"
      },
      "execution_count": null,
      "outputs": []
    },
    {
      "cell_type": "code",
      "source": [],
      "metadata": {
        "id": "oPWecbLwtkk3"
      },
      "execution_count": null,
      "outputs": []
    },
    {
      "cell_type": "markdown",
      "source": [
        "### 2.2.7 Calling a method of the superclass with `super`"
      ],
      "metadata": {
        "id": "Pe1lcTpiDLjy"
      }
    },
    {
      "cell_type": "code",
      "source": [],
      "metadata": {
        "id": "eEOxYso2LNEZ"
      },
      "execution_count": null,
      "outputs": []
    },
    {
      "cell_type": "code",
      "source": [],
      "metadata": {
        "id": "ASU7dJYnLNHL"
      },
      "execution_count": null,
      "outputs": []
    },
    {
      "cell_type": "code",
      "source": [],
      "metadata": {
        "id": "ZfwVaIWGxhX4"
      },
      "execution_count": null,
      "outputs": []
    },
    {
      "cell_type": "code",
      "source": [],
      "metadata": {
        "id": "7dkQ8o6rEmaR"
      },
      "execution_count": null,
      "outputs": []
    },
    {
      "cell_type": "code",
      "source": [],
      "metadata": {
        "id": "G4F5JhoqxhbX"
      },
      "execution_count": null,
      "outputs": []
    },
    {
      "cell_type": "code",
      "source": [],
      "metadata": {
        "id": "2YfzQZqaC54t"
      },
      "execution_count": null,
      "outputs": []
    },
    {
      "cell_type": "code",
      "source": [],
      "metadata": {
        "id": "6bcJF91gC57O"
      },
      "execution_count": null,
      "outputs": []
    },
    {
      "cell_type": "code",
      "source": [],
      "metadata": {
        "id": "H0vS6mloC594"
      },
      "execution_count": null,
      "outputs": []
    },
    {
      "cell_type": "markdown",
      "source": [
        "# Code project: Role-playing game (RPG)\n",
        "\n",
        "In this project, you will be creating a simple RPG (Role-Playing Game). In it, our hero will fight an enemy. There are three unique character classes: `Paladin`, `Mage` and `Warrior`. Each type has strengths and weaknesses.\n",
        "\n",
        "Characters have several attributes:\n",
        "\n",
        "<br>\n",
        "\n",
        "#### **Health:**\n",
        "\n",
        "Non-negative value that defines how much damage the character can take. When a character is attacked, their health points decrease. When the health points go to 0, the character is dead.\n",
        "\n",
        "\n",
        "#### **Mana:**\n",
        "Mana is a resource that some characters use to cast spells and use special abilities. When they do, mana is consumed. When mana is insufficient, the characters cannot use those special abilities.\n",
        "\n",
        "\n",
        "\n",
        "#### **Agility, intelligence and strength:**\n",
        "\n",
        "Attributes of the character that determine how much damage they inflict on the enemy when they attack and how much damage they receive when they are attacked by the enemy.\n",
        "\n",
        "\n",
        "<br>\n",
        "\n",
        "#### **Game mechanics:**\n",
        "\n",
        "We must choose our hero (Paladin, Mage or Warrior). Then, an enemy of one of these classes will appear and the battle will begin.\n",
        "\n",
        "The caracters will take turns attacking each other and defending enemy strikes.\n",
        "When a given character attacks, the other defends, and vice versa. The last fighter standing wins the battle.\n",
        "\n",
        "<br>\n",
        "\n",
        "Sharpen your sword, draw your wand, and let the battle begin!\n",
        "\n",
        "<br>\n"
      ],
      "metadata": {
        "id": "PiPETOGPzboL"
      }
    },
    {
      "cell_type": "code",
      "source": [
        "import random\n",
        "\n",
        "# Create a parent class called \"Character\".\n",
        "class Character:\n",
        "\n",
        "    # Define the constructor to initialize the attributes.\n",
        "    def __init__(self, name, health, mana, strength, agility, intelligence):\n",
        "        self._name = name\n",
        "        self._health = health\n",
        "        self._mana = mana\n",
        "        self._strength = strength\n",
        "        self._agility = agility\n",
        "        self._intelligence = intelligence\n",
        "\n",
        "    # Define the \"attack\" method (to be implemented by the subclasses).\n",
        "    def attack(self, enemy):\n",
        "        raise NotImplementedError\n",
        "\n",
        "    # Define the \"defend\" method (to be implemented by the subclasses).\n",
        "    def defend(self, damage):\n",
        "        raise NotImplementedError\n",
        "\n",
        "    # Define a property to check if the character is alive.\n",
        "    @property\n",
        "    def is_alive(self):\n",
        "        return self._health > 0\n",
        "\n",
        "\n",
        "# Create a subclass called \"Paladin\".\n",
        "class Paladin(Character):\n",
        "\n",
        "    # Define the constructor to initialize the attributes.\n",
        "    def __init__(self, name):\n",
        "        super().__init__(name, health=150, mana=100, strength=20, agility=10, intelligence=10)\n",
        "\n",
        "    # Define the \"string\" method to print the\n",
        "    # character's name, class and health (integer).\n",
        "    def __str__(self):\n",
        "        pass\n",
        "\n",
        "    # Override the \"attack\" method.\n",
        "    def attack(self, enemy):\n",
        "        pass\n",
        "        # Calculate the damage (80% strength, 50% agility, 50% intelligence).\n",
        "\n",
        "        # Apply a random multiplier between 0.8 and 1.2 to the damage.\n",
        "\n",
        "        # Make the enemy defend the damage.\n",
        "\n",
        "        # Check if the paladin has enough mana to heal (costs 10 mana).\n",
        "\n",
        "            # Reduce their mana level by 10.\n",
        "\n",
        "            # Heal the paladin by 5 hp.\n",
        "\n",
        "            # Make sure health is not greater than 150 (maximum).\n",
        "\n",
        "    # Override the \"defend\" method.\n",
        "    def defend(self, damage):\n",
        "        pass\n",
        "        # Calculate the defense (50% agility, 30% intelligence, 20% strength).\n",
        "\n",
        "        # Calculate the actual damage (damage - defense).\n",
        "\n",
        "        # Reduce the health by the actual damage.\n",
        "\n",
        "\n",
        "\n",
        "# Create a subclass called \"Mage\"\n",
        "class Mage(Character):\n",
        "\n",
        "    # Define the constructor to initialize the attributes.\n",
        "    def __init__(self, name):\n",
        "        super().__init__(name, health=100, mana=150, strength=10, agility=10, intelligence=20)\n",
        "\n",
        "    # Define the \"string\" method to print the\n",
        "    # character's name, class and health (integer).\n",
        "    def __str__(self):\n",
        "        pass\n",
        "\n",
        "    # Override the \"attack\" method.\n",
        "    def attack(self, enemy):\n",
        "        pass\n",
        "        # Check if there is enough mana to cast a stronger spell.\n",
        "\n",
        "            # Reduce the mana level by 20 points.\n",
        "\n",
        "            # Calculate the damage (200% intelligence).\n",
        "\n",
        "        # If there is not enough mana, cast a weaker spell\n",
        "\n",
        "            # Calculate the damage (100% intelligence).\n",
        "\n",
        "        # Apply a random multiplier between 0.8 and 1.2 to the damage.\n",
        "\n",
        "        # Make the enemy defend the damage.\n",
        "\n",
        "        # Restore 5 mana points after attacking.\n",
        "\n",
        "\n",
        "    # Override the \"defend\" method.\n",
        "    def defend(self, damage):\n",
        "        pass\n",
        "        # Calculate the defense (30% agility, 30% intelligence, 10% strength).\n",
        "\n",
        "        # Calculate the actual damage (damage - defense).\n",
        "\n",
        "        # Reduce the health by the actual damage.\n",
        "\n",
        "        # Restore 5 mana points after defending.\n",
        "\n",
        "\n",
        "\n",
        "# Create a subclass called \"Warrior\"\n",
        "class Warrior(Character):\n",
        "\n",
        "    # Define the constructor to initialize the attributes.\n",
        "    def __init__(self, name):\n",
        "        super().__init__(name, health=200, mana=0, strength=25, agility=15, intelligence=5)\n",
        "\n",
        "    # Define the \"string\" method to print the\n",
        "    # character's name, class and health (integer).\n",
        "    def __str__(self):\n",
        "        pass\n",
        "\n",
        "    # Override the \"attack\" method.\n",
        "    def attack(self, enemy):\n",
        "        pass\n",
        "        # Calculate the damage (80% strength, 50% agility).\n",
        "\n",
        "        # Apply a random multiplier between 0.8 and 1.2 to the damage.\n",
        "\n",
        "        # Make the enemy defend the damage.\n",
        "\n",
        "        # 20% chance to hit twice.\n",
        "\n",
        "            # Make the enemy defend the damage again.\n",
        "\n",
        "\n",
        "    # Override the \"defend\" method.\n",
        "    def defend(self, damage):\n",
        "        pass\n",
        "        # Calculate the defense (10% agility, 10% intelligence, 10% strength).\n",
        "\n",
        "        # Calculate the actual damage (damage - defense).\n",
        "\n",
        "        # Reduce the health by the actual damage.\n",
        "\n",
        "        # If the Warrior is still alive after defending:\n",
        "\n",
        "            # Heal for 5 health points.\n",
        "\n",
        "            # Make sure health is not greater than 200 (maximum).\n",
        "\n",
        "\n",
        "\n",
        "# Create a list of characters\n",
        "characters = [Paladin(\"Galahad\"), Mage(\"Lyra\"), Warrior(\"Ragnar\")]\n",
        "\n",
        "# Choose a character\n",
        "print(\"Pick a hero:\")\n",
        "for i, character in enumerate(characters):\n",
        "    print(f\"{i+1}: {character}\")\n",
        "choice = int(input(\"> \")) - 1\n",
        "player = characters[choice]\n",
        "\n",
        "# Create a random enemy\n",
        "enemies = [Paladin(\"Godfrey\"), Mage(\"Magnus\"), Warrior(\"Galen\")]\n",
        "enemy = random.choice(enemies)\n",
        "\n",
        "# Fight!\n",
        "print(f\"You encounter {enemy}!\")\n",
        "turn = 1\n",
        "while player.is_alive and enemy.is_alive:\n",
        "    if turn == 1:\n",
        "        print(f\"{player} attacks {enemy}!\")\n",
        "        player.attack(enemy)\n",
        "        turn = 2\n",
        "    elif turn == 2:\n",
        "        print(f\"{enemy} attacks {player}!\")\n",
        "        enemy.attack(player)\n",
        "        turn = 1\n",
        "if player.is_alive:\n",
        "    print(f\"{player} has won the battle!\")\n",
        "else:\n",
        "    print(f\"{enemy} has won the battle!\")\n"
      ],
      "metadata": {
        "id": "GCJEEPfXWPRK"
      },
      "execution_count": null,
      "outputs": []
    },
    {
      "cell_type": "code",
      "source": [
        "#@title Solution\n",
        "\n",
        "\n",
        "import random\n",
        "\n",
        "# Create a parent class called \"Character\".\n",
        "class Character:\n",
        "\n",
        "    # Define the constructor to initialize the attributes.\n",
        "    def __init__(self, name, health, mana, strength, agility, intelligence):\n",
        "        self._name = name\n",
        "        self._health = health\n",
        "        self._mana = mana\n",
        "        self._strength = strength\n",
        "        self._agility = agility\n",
        "        self._intelligence = intelligence\n",
        "\n",
        "    # Define the \"attack\" method (to be implemented by the subclasses).\n",
        "    def attack(self, enemy):\n",
        "        raise NotImplementedError\n",
        "\n",
        "    # Define the \"defend\" method (to be implemented by the subclasses).\n",
        "    def defend(self, damage):\n",
        "        raise NotImplementedError\n",
        "\n",
        "    # Define a property to check if the character is alive.\n",
        "    @property\n",
        "    def is_alive(self):\n",
        "        return self._health > 0\n",
        "\n",
        "\n",
        "# Create a subclass called \"Paladin\".\n",
        "class Paladin(Character):\n",
        "\n",
        "    # Define the constructor to initialize the attributes.\n",
        "    def __init__(self, name):\n",
        "        super().__init__(name, health=150, mana=100, strength=20, agility=10, intelligence=10)\n",
        "\n",
        "    # Define the \"string\" method to print the\n",
        "    # character's name, class and health (integer).\n",
        "    def __str__(self):\n",
        "        return f\"{self._name} (Paladin): {self._health:.0f} hp\"\n",
        "\n",
        "    # Override the \"attack\" method.\n",
        "    def attack(self, enemy):\n",
        "        # Calculate the damage (80% strength, 50% agility, 50% intelligence).\n",
        "        damage = self._strength * 0.8 + self._agility * 0.5 + self._intelligence * 0.5\n",
        "        # Apply a random multiplier between 0.8 and 1.2 to the damage.\n",
        "        damage *= random.uniform(0.8, 1.2)\n",
        "        # Make the enemy defend the damage.\n",
        "        enemy.defend(damage)\n",
        "        # Check if the paladin has enough mana to heal (costs 10 mana).\n",
        "        if self._mana >= 10:\n",
        "            # Reduce their mana level by 10.\n",
        "            self._mana -= 10\n",
        "            # Heal the paladin by 5 hp.\n",
        "            self._health += 5\n",
        "            # Make sure health is not greater than 150 (maximum).\n",
        "            self._health = min(self._health, 150)\n",
        "\n",
        "    # Override the \"defend\" method.\n",
        "    def defend(self, damage):\n",
        "        # Calculate the defense (50% agility, 30% intelligence, 20% strength).\n",
        "        defense = self._agility * 0.5 + self._intelligence * 0.3 + self._strength * 0.2\n",
        "        # Calculate the actual damage (damage - defense).\n",
        "        actual_damage = max(0, damage - defense)\n",
        "        # Reduce the health by the actual damage.\n",
        "        self._health -= actual_damage\n",
        "\n",
        "\n",
        "# Create a subclass called \"Mage\"\n",
        "class Mage(Character):\n",
        "\n",
        "    # Define the constructor to initialize the attributes.\n",
        "    def __init__(self, name):\n",
        "        super().__init__(name, health=100, mana=150, strength=10, agility=10, intelligence=20)\n",
        "\n",
        "    # Define the \"string\" method to print the\n",
        "    # character's name, class and health (integer).\n",
        "    def __str__(self):\n",
        "        return f\"{self._name} (Mage): {self._health:.0f} hp\"\n",
        "\n",
        "    # Override the \"attack\" method.\n",
        "    def attack(self, enemy):\n",
        "        # Check if there is enough mana to cast a stronger spell (20 mana points).\n",
        "        if self._mana >= 20:\n",
        "            # Reduce the mana level by 20 points.\n",
        "            self._mana -= 20\n",
        "            # Calculate the damage (200% intelligence).\n",
        "            damage = self._intelligence * 2.0\n",
        "        # If there is not enough mana, cast a weaker spell\n",
        "        else:\n",
        "            # Calculate the damage (100% intelligence).\n",
        "            damage = self._intelligence * 1.0\n",
        "        # Apply a random multiplier between 0.8 and 1.2 to the damage.\n",
        "        damage *= random.uniform(0.8, 1.2)\n",
        "        # Make the enemy defend the damage.\n",
        "        enemy.defend(damage)\n",
        "        # Restore 5 mana points after attacking.\n",
        "        self._mana += 5\n",
        "\n",
        "    # Override the \"defend\" method.\n",
        "    def defend(self, damage):\n",
        "        # Calculate the defense (30% agility, 30% intelligence, 10% strength).\n",
        "        defense = self._agility * 0.3 + self._intelligence * 0.3 + self._strength * 0.1\n",
        "        # Calculate the actual damage (damage - defense).\n",
        "        actual_damage = max(0, damage - defense)\n",
        "        # Reduce the health by the actual damage.\n",
        "        self._health -= actual_damage\n",
        "        # Restore 5 mana points after defending.\n",
        "        self._mana += 5\n",
        "\n",
        "\n",
        "# Create a subclass called \"Warrior\"\n",
        "class Warrior(Character):\n",
        "\n",
        "    # Define the constructor to initialize the attributes.\n",
        "    def __init__(self, name):\n",
        "        super().__init__(name, health=200, mana=0, strength=25, agility=15, intelligence=5)\n",
        "\n",
        "    # Define the \"string\" method to print the\n",
        "    # character's name, class and health (integer).\n",
        "    def __str__(self):\n",
        "        return f\"{self._name} (Warrior): {self._health:.0f} hp\"\n",
        "\n",
        "    # Override the \"attack\" method.\n",
        "    def attack(self, enemy):\n",
        "        # Calculate the damage (80% strength, 50% agility).\n",
        "        damage = self._strength * 0.8 + self._agility * 0.5\n",
        "        # Apply a random multiplier between 0.8 and 1.2 to the damage.\n",
        "        damage *= random.uniform(0.8, 1.2)\n",
        "        # Make the enemy defend the damage.\n",
        "        enemy.defend(damage)\n",
        "        # 20% chance to hit twice\n",
        "        if random.random() <= 0.2:\n",
        "            # Make the enemy defend the damage again.\n",
        "            enemy.defend(damage)\n",
        "\n",
        "    # Override the \"defend\" method.\n",
        "    def defend(self, damage):\n",
        "        # Calculate the defense (10% agility, 10% intelligence, 10% strength).\n",
        "        defense = self._agility * 0.1 + self._intelligence * 0.1 + self._strength * 0.1\n",
        "        # Calculate the actual damage (damage - defense).\n",
        "        actual_damage = max(0, damage - defense)\n",
        "        # Reduce the health by the actual damage.\n",
        "        self._health -= actual_damage\n",
        "\n",
        "        # If the Warrior is still alive after defending:\n",
        "        if self.is_alive:\n",
        "            # Heal for 5 health points.\n",
        "            self._health += 5\n",
        "            # Make sure health is not greater than 200 (maximum).\n",
        "            self._health = min(self._health, 200)\n",
        "\n",
        "\n",
        "# Create a list of characters\n",
        "characters = [Paladin(\"Galahad\"), Mage(\"Lyra\"), Warrior(\"Ragnar\")]\n",
        "\n",
        "# Choose a character\n",
        "print(\"Pick a hero:\")\n",
        "for i, character in enumerate(characters):\n",
        "    print(f\"{i+1}: {character}\")\n",
        "choice = int(input(\"> \")) - 1\n",
        "player = characters[choice]\n",
        "\n",
        "# Create a random enemy\n",
        "enemies = [Paladin(\"Godfrey\"), Mage(\"Magnus\"), Warrior(\"Galen\")]\n",
        "enemy = random.choice(enemies)\n",
        "\n",
        "# Fight!\n",
        "print(f\"You encounter {enemy}!\")\n",
        "turn = 1\n",
        "while player.is_alive and enemy.is_alive:\n",
        "    if turn == 1:\n",
        "        print(f\"{player} attacks {enemy}!\")\n",
        "        player.attack(enemy)\n",
        "        turn = 2\n",
        "    elif turn == 2:\n",
        "        print(f\"{enemy} attacks {player}!\")\n",
        "        enemy.attack(player)\n",
        "        turn = 1\n",
        "if player.is_alive:\n",
        "    print(f\"{player} has won the battle!\")\n",
        "else:\n",
        "    print(f\"{enemy} has won the battle!\")\n"
      ],
      "metadata": {
        "id": "cB_acYF_Fewh",
        "cellView": "form"
      },
      "execution_count": null,
      "outputs": []
    }
  ]
}