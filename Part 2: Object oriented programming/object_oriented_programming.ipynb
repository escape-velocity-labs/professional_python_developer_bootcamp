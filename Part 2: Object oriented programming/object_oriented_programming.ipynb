{
  "nbformat": 4,
  "nbformat_minor": 0,
  "metadata": {
    "colab": {
      "provenance": []
    },
    "kernelspec": {
      "name": "python3",
      "display_name": "Python 3"
    },
    "language_info": {
      "name": "python"
    }
  },
  "cells": [
    {
      "cell_type": "markdown",
      "source": [
        "# 2. Object-Oriented Programming (OOP)"
      ],
      "metadata": {
        "id": "rr-VvBqNU0yo"
      }
    },
    {
      "cell_type": "markdown",
      "source": [
        "## 2.1 Basic object-oriented programming (OOP)"
      ],
      "metadata": {
        "id": "GeI9nQYkzbKK"
      }
    },
    {
      "cell_type": "markdown",
      "source": [
        "### 2.1.1 Creating the `Classroom` class"
      ],
      "metadata": {
        "id": "jkACx4gAzbYB"
      }
    },
    {
      "cell_type": "code",
      "source": [
        "class Classroom:\n",
        "\n",
        "    def __init__(self, number, building):\n",
        "        self.number = number\n",
        "        self.building = building\n",
        "\n",
        "    def __str__(self):\n",
        "        return f\"Classroom {self.number} in {self.building}\""
      ],
      "metadata": {
        "id": "0w7VqvXqxfvL"
      },
      "execution_count": 8,
      "outputs": []
    },
    {
      "cell_type": "code",
      "source": [
        "classroom1 = Classroom(\"101\", \"Building A\")\n",
        "classroom2 = Classroom(\"102\", \"Building A\")\n",
        "classroom3 = Classroom(\"201\", \"Building B\")"
      ],
      "metadata": {
        "id": "siiLw_LC9IEm"
      },
      "execution_count": 9,
      "outputs": []
    },
    {
      "cell_type": "code",
      "source": [
        "classroom1.number"
      ],
      "metadata": {
        "id": "R-7OTQNiUMW0",
        "outputId": "449d5630-87be-481a-f3eb-b6042d761d46",
        "colab": {
          "base_uri": "https://localhost:8080/",
          "height": 36
        }
      },
      "execution_count": 10,
      "outputs": [
        {
          "output_type": "execute_result",
          "data": {
            "text/plain": [
              "'101'"
            ],
            "application/vnd.google.colaboratory.intrinsic+json": {
              "type": "string"
            }
          },
          "metadata": {},
          "execution_count": 10
        }
      ]
    },
    {
      "cell_type": "code",
      "source": [
        "classroom1.building"
      ],
      "metadata": {
        "id": "oSm1XCoxUMZO",
        "outputId": "b23965e0-eec9-46f2-9197-0a3b1a2d12b4",
        "colab": {
          "base_uri": "https://localhost:8080/",
          "height": 36
        }
      },
      "execution_count": 11,
      "outputs": [
        {
          "output_type": "execute_result",
          "data": {
            "text/plain": [
              "'Building A'"
            ],
            "application/vnd.google.colaboratory.intrinsic+json": {
              "type": "string"
            }
          },
          "metadata": {},
          "execution_count": 11
        }
      ]
    },
    {
      "cell_type": "code",
      "source": [
        "classroom3.building"
      ],
      "metadata": {
        "id": "_fUVA-NXUmKj",
        "outputId": "1825e37a-c22b-49da-d5ca-58c3e855fda8",
        "colab": {
          "base_uri": "https://localhost:8080/",
          "height": 36
        }
      },
      "execution_count": 12,
      "outputs": [
        {
          "output_type": "execute_result",
          "data": {
            "text/plain": [
              "'Building B'"
            ],
            "application/vnd.google.colaboratory.intrinsic+json": {
              "type": "string"
            }
          },
          "metadata": {},
          "execution_count": 12
        }
      ]
    },
    {
      "cell_type": "code",
      "source": [
        "classroom1.building = \"Turing Center\"\n",
        "classroom2.building = \"Turing Center\""
      ],
      "metadata": {
        "id": "-3ouMzYUUmdx"
      },
      "execution_count": 13,
      "outputs": []
    },
    {
      "cell_type": "code",
      "source": [
        "classroom1.building"
      ],
      "metadata": {
        "id": "QhpNALBrUmgg",
        "outputId": "f615880e-0a04-457b-9ebc-fe5d4d5f6e36",
        "colab": {
          "base_uri": "https://localhost:8080/",
          "height": 36
        }
      },
      "execution_count": 14,
      "outputs": [
        {
          "output_type": "execute_result",
          "data": {
            "text/plain": [
              "'Turing Center'"
            ],
            "application/vnd.google.colaboratory.intrinsic+json": {
              "type": "string"
            }
          },
          "metadata": {},
          "execution_count": 14
        }
      ]
    },
    {
      "cell_type": "code",
      "source": [
        "print(f\"Chemistry is at {classroom3}\")"
      ],
      "metadata": {
        "id": "E-Qk0h6T9ILA",
        "outputId": "a035b5a0-98e7-497d-a35f-8875c1a73dff",
        "colab": {
          "base_uri": "https://localhost:8080/"
        }
      },
      "execution_count": 15,
      "outputs": [
        {
          "output_type": "stream",
          "name": "stdout",
          "text": [
            "Chemistry is at Classroom 201 in Building B\n"
          ]
        }
      ]
    },
    {
      "cell_type": "markdown",
      "source": [
        "### 2.1.2 Creating the `Subject` class"
      ],
      "metadata": {
        "id": "Kf3l9_Uazba7"
      }
    },
    {
      "cell_type": "code",
      "source": [
        "class Subject:\n",
        "\n",
        "    def __init__(self, name, classroom, weekday, time):\n",
        "        self.name = name\n",
        "        self.classroom = classroom\n",
        "        self.weekday = weekday\n",
        "        self.time = time\n",
        "        self.prerequisites = []\n",
        "\n",
        "    def __str__(self):\n",
        "        return f\"{self.name} on {self.weekday} at {self.time} in {self.classroom}\"\n",
        "\n",
        "    def add_prerequisite(self, prerequisite):\n",
        "        self.prerequisites.append(prerequisite)\n",
        "\n",
        "    def get_prerequisites(self):\n",
        "        return self.prerequisites"
      ],
      "metadata": {
        "id": "JH75RJYNxgDA"
      },
      "execution_count": 16,
      "outputs": []
    },
    {
      "cell_type": "code",
      "source": [
        "intro_math = Subject(\"Introduction to math\", classroom1, \"Monday\", \"10:00am\")\n",
        "calculus1 = Subject(\"Calculus I\", classroom3, \"Monday\", \"09:00am\")\n",
        "linear_algebra = Subject(\"Linear algebra\", classroom2, \"Thursday\", \"11:00am\")\n",
        "diff_equations = Subject(\"Differential equations\", classroom3, \"Friday\", \"08:00am\")\n",
        "eng_literature = Subject(\"English literature\", classroom2, \"Tuesday\", \"09:00am\")"
      ],
      "metadata": {
        "id": "MYm2OFitTOGj"
      },
      "execution_count": 17,
      "outputs": []
    },
    {
      "cell_type": "code",
      "source": [
        "eng_literature.weekday"
      ],
      "metadata": {
        "id": "FOTTegXMxs9a",
        "outputId": "d6a301e8-2e8a-400a-e9e4-b3dcad1dd0da",
        "colab": {
          "base_uri": "https://localhost:8080/",
          "height": 36
        }
      },
      "execution_count": 18,
      "outputs": [
        {
          "output_type": "execute_result",
          "data": {
            "text/plain": [
              "'Tuesday'"
            ],
            "application/vnd.google.colaboratory.intrinsic+json": {
              "type": "string"
            }
          },
          "metadata": {},
          "execution_count": 18
        }
      ]
    },
    {
      "cell_type": "code",
      "source": [
        "eng_literature.time"
      ],
      "metadata": {
        "id": "vpbElNG8aGaA",
        "outputId": "28b0e081-4477-4340-d2cf-26c8dcc68af6",
        "colab": {
          "base_uri": "https://localhost:8080/",
          "height": 36
        }
      },
      "execution_count": 19,
      "outputs": [
        {
          "output_type": "execute_result",
          "data": {
            "text/plain": [
              "'09:00am'"
            ],
            "application/vnd.google.colaboratory.intrinsic+json": {
              "type": "string"
            }
          },
          "metadata": {},
          "execution_count": 19
        }
      ]
    },
    {
      "cell_type": "code",
      "source": [
        "print(diff_equations)"
      ],
      "metadata": {
        "id": "d2yAeBkAX_pi",
        "outputId": "eb7ddf9b-188d-49d1-a21e-687454ee36c5",
        "colab": {
          "base_uri": "https://localhost:8080/"
        }
      },
      "execution_count": 20,
      "outputs": [
        {
          "output_type": "stream",
          "name": "stdout",
          "text": [
            "Differential equations on Friday at 08:00am in Classroom 201 in Building B\n"
          ]
        }
      ]
    },
    {
      "cell_type": "code",
      "source": [
        "subject_name = diff_equations.name\n",
        "prerequisites = diff_equations.get_prerequisites()\n",
        "\n",
        "print(f\"Prerequisites for {subject_name} are: {prerequisites}\")"
      ],
      "metadata": {
        "id": "769cQHodYP3U",
        "outputId": "530091b8-e2f2-412c-92e9-8e960ad2f20b",
        "colab": {
          "base_uri": "https://localhost:8080/"
        }
      },
      "execution_count": 21,
      "outputs": [
        {
          "output_type": "stream",
          "name": "stdout",
          "text": [
            "Prerequisites for Differential equations are: []\n"
          ]
        }
      ]
    },
    {
      "cell_type": "code",
      "source": [
        "diff_equations.add_prerequisite(\"Linear algebra\")\n",
        "diff_equations.add_prerequisite(\"Calculus I\")"
      ],
      "metadata": {
        "id": "6fjWOV9iaKaM"
      },
      "execution_count": 22,
      "outputs": []
    },
    {
      "cell_type": "code",
      "source": [
        "subject_name = diff_equations.name\n",
        "prerequisites = diff_equations.get_prerequisites()\n",
        "\n",
        "print(f\"Prerequisites for {subject_name} are: {prerequisites}\")"
      ],
      "metadata": {
        "id": "vMZ9D99KaKcz",
        "colab": {
          "base_uri": "https://localhost:8080/"
        },
        "outputId": "b1c27f60-4ce4-49c8-e170-8a3df2b15e5a"
      },
      "execution_count": 23,
      "outputs": [
        {
          "output_type": "stream",
          "name": "stdout",
          "text": [
            "Prerequisites for Differential equations are: ['Linear algebra', 'Calculus I']\n"
          ]
        }
      ]
    },
    {
      "cell_type": "markdown",
      "source": [
        "### 2.1.3 Creating the `Student` class"
      ],
      "metadata": {
        "id": "fiSRFN8IGD8F"
      }
    },
    {
      "cell_type": "code",
      "source": [
        "class Student:\n",
        "\n",
        "    def __init__(self, name):\n",
        "        self.name = name\n",
        "        self.subjects = {}\n",
        "\n",
        "    def __str__(self):\n",
        "        return self.name\n",
        "\n",
        "    def enrol(self, subject):\n",
        "        for prerequisite in subject.get_prerequisites():\n",
        "            if prerequisite not in self.subjects:\n",
        "                print(f\"Unable to enrol in {subject.name}\")\n",
        "                return False\n",
        "        self.subjects[subject.name] = subject\n",
        "        return True\n",
        "\n",
        "    def drop_subject(self, subject_name):\n",
        "        if subject_name in self.subjects:\n",
        "            del self.subjects[subject_name]\n",
        "            return True\n",
        "        return False\n",
        "\n",
        "    def get_schedule(self):\n",
        "        schedule = {}\n",
        "\n",
        "        for subject_name in self.subjects:\n",
        "            subject = self.subjects[subject_name]\n",
        "            schedule[subject.name] = f\"{subject.weekday} at {subject.time}\"\n",
        "        return schedule"
      ],
      "metadata": {
        "id": "qc9LxHRCHeJV"
      },
      "execution_count": 24,
      "outputs": []
    },
    {
      "cell_type": "code",
      "source": [
        "david = Student(\"David\")\n",
        "andrew = Student(\"Andrew\")\n",
        "jane = Student(\"Jane\")"
      ],
      "metadata": {
        "id": "AVxPAgnke3VG"
      },
      "execution_count": 25,
      "outputs": []
    },
    {
      "cell_type": "code",
      "source": [
        "schedule = david.get_schedule()\n",
        "\n",
        "print(f\"David's schedule is: {schedule}\")"
      ],
      "metadata": {
        "id": "DEa5LMpJe3Xn",
        "colab": {
          "base_uri": "https://localhost:8080/"
        },
        "outputId": "6582506c-9954-452f-a61d-f2b865e47253"
      },
      "execution_count": 26,
      "outputs": [
        {
          "output_type": "stream",
          "name": "stdout",
          "text": [
            "David's schedule is: {}\n"
          ]
        }
      ]
    },
    {
      "cell_type": "code",
      "source": [
        "david.enrol(eng_literature)\n",
        "jane.enrol(calculus1)\n",
        "jane.enrol(linear_algebra)\n",
        "jane.enrol(diff_equations)"
      ],
      "metadata": {
        "id": "ZhlVhbZre3Z-",
        "colab": {
          "base_uri": "https://localhost:8080/"
        },
        "outputId": "7a6729e1-1fe2-4fa6-cbb8-3865ef3dcdd3"
      },
      "execution_count": 27,
      "outputs": [
        {
          "output_type": "execute_result",
          "data": {
            "text/plain": [
              "True"
            ]
          },
          "metadata": {},
          "execution_count": 27
        }
      ]
    },
    {
      "cell_type": "code",
      "source": [
        "schedule = david.get_schedule()\n",
        "\n",
        "print(f\"David's schedule is: {schedule}\")"
      ],
      "metadata": {
        "id": "BxyN3gebHeOt",
        "colab": {
          "base_uri": "https://localhost:8080/"
        },
        "outputId": "354e4b98-d2af-4deb-c598-52631279ee1d"
      },
      "execution_count": 28,
      "outputs": [
        {
          "output_type": "stream",
          "name": "stdout",
          "text": [
            "David's schedule is: {'English literature': 'Tuesday at 09:00am'}\n"
          ]
        }
      ]
    },
    {
      "cell_type": "code",
      "source": [
        "schedule = jane.get_schedule()\n",
        "\n",
        "print(f\"Jane's schedule is: {schedule}\")"
      ],
      "metadata": {
        "id": "R5yGcjaCxtC7",
        "colab": {
          "base_uri": "https://localhost:8080/"
        },
        "outputId": "1543e8c1-53ad-41e2-b247-3d25e7b6d6ca"
      },
      "execution_count": 29,
      "outputs": [
        {
          "output_type": "stream",
          "name": "stdout",
          "text": [
            "Jane's schedule is: {'Calculus I': 'Monday at 09:00am', 'Linear algebra': 'Thursday at 11:00am', 'Differential equations': 'Friday at 08:00am'}\n"
          ]
        }
      ]
    },
    {
      "cell_type": "code",
      "source": [
        "if jane.drop_subject(\"Differential equations\"):\n",
        "    print(\"Jane dropped out of Differential equations\")\n",
        "else:\n",
        "    print(\"Jane wasn't enrolled in the first place!\")"
      ],
      "metadata": {
        "id": "yzDEornBHe4f",
        "colab": {
          "base_uri": "https://localhost:8080/"
        },
        "outputId": "17d6df1e-f7fb-43aa-90b1-d0b7487dbd65"
      },
      "execution_count": 30,
      "outputs": [
        {
          "output_type": "stream",
          "name": "stdout",
          "text": [
            "Jane dropped out of Differential equations\n"
          ]
        }
      ]
    },
    {
      "cell_type": "code",
      "source": [
        "schedule = jane.get_schedule()\n",
        "\n",
        "print(f\"Jane's schedule is: {schedule}\")"
      ],
      "metadata": {
        "id": "iXxmuZY0He9g",
        "colab": {
          "base_uri": "https://localhost:8080/"
        },
        "outputId": "6ebd2ffa-3d01-42cb-bde5-c3c67beb9339"
      },
      "execution_count": 31,
      "outputs": [
        {
          "output_type": "stream",
          "name": "stdout",
          "text": [
            "Jane's schedule is: {'Calculus I': 'Monday at 09:00am', 'Linear algebra': 'Thursday at 11:00am'}\n"
          ]
        }
      ]
    },
    {
      "cell_type": "markdown",
      "source": [
        "## Code project #5: Grade tracker\n",
        "\n",
        "\n",
        "In this project, you will create a student management program that keeps track of students' grades using object-oriented programming. The program contains two classes: `Student` and `GradeBook`.\n",
        "\n",
        "\n",
        "Student class defines the `__init__` method, which initializes the object with a name. Additionally, it has a `update_grade` method to update the grade of a specific subject for a student and a `__str__` method to return a string representation of the object.\n",
        "\n",
        "\n",
        "The GradeBook class defines the `__init__` method to initialize the object. It also includes methods to add and remove students from the grade book, update their grades, and display a list of students.\n",
        "\n",
        "\n",
        "To manage the gradebook, you will run a loop with five options to choose from:\n",
        "1. adding a student\n",
        "2. updating a student's grade\n",
        "3. removing a student\n",
        "4. displaying all students\n",
        "5. quitting the program.\n",
        "\n",
        "\n",
        "You will prompt the user to enter the relevant data required for each of these operations, and the program will respond accordingly.\n",
        "\n",
        "Take your time. Good luck, and have fun!\n",
        "\n",
        "<br>\n",
        "\n"
      ],
      "metadata": {
        "id": "A908l9xdzblj"
      }
    },
    {
      "cell_type": "code",
      "source": [
        "# Create the student class.\n",
        "class Student:\n",
        "\n",
        "    # Create the __init__ method to set up the Student objects.\n",
        "    def __init__(self, name):\n",
        "        self.name = name\n",
        "        self.grades = {\"math\": 0, \"science\": 0, \"history\": 0}\n",
        "\n",
        "    # Create the 'update_grade' method.\n",
        "    def update_grade(self, subject, grade):\n",
        "        self.grades[subject] = grade\n",
        "\n",
        "    # Create the __str__ method to represent the student as a string.\n",
        "    def __str__(self):\n",
        "        return f\"{self.name}: math={self.grades['math']}, science={self.grades['science']}, history={self.grades['history']}\"\n",
        "\n",
        "\n",
        "# Create the grade book class.\n",
        "class GradeBook:\n",
        "\n",
        "    # Create the __init__ method to set up the GradeBook objects.\n",
        "    def __init__(self):\n",
        "        self.students = {}\n",
        "\n",
        "    # Create the 'add_student' method to add a Student object to the GradeBook.\n",
        "    def add_student(self, name):\n",
        "        student = Student(name)\n",
        "        self.students[name] = student\n",
        "\n",
        "    # Create the 'remove_student' method to remove a Student object from the GradeBook.\n",
        "    def remove_student(self, name):\n",
        "        if name in self.students:\n",
        "            del self.students[name]\n",
        "            return True\n",
        "        else:\n",
        "            return False\n",
        "\n",
        "    # Create the 'update_grade' method to change the value of a student's grade.\n",
        "    def update_grade(self, name, subject, grade):\n",
        "        if name in self.students:\n",
        "            student = self.students[name]\n",
        "            student.update_grade(subject, grade)\n",
        "            return True\n",
        "        else:\n",
        "            return False\n",
        "\n",
        "    # Create the __str__ method to represent the grade book as a string.\n",
        "    def __str__(self):\n",
        "        output = \"Current students:\\n\"\n",
        "        for name, student in self.students.items():\n",
        "            output += str(student) + \"\\n\"\n",
        "        return output\n",
        "\n",
        "# Create a GradeBook instance.\n",
        "grade_book = GradeBook()\n",
        "\n",
        "# Start the main loop of the programa, where the user can perform\n",
        "# operations on the grade book. Run this loop until the user chooses\n",
        "# to quit the program.\n",
        "quit = False\n",
        "\n",
        "while not quit:\n",
        "    # Print the options that the user can choose from:\n",
        "    # 1. Add a student.\n",
        "    # 2. Update student grade.\n",
        "    # 3. Remove a student.\n",
        "    # 4. Show all students.\n",
        "    # 5. Quit.\n",
        "    print(\"\\n\")\n",
        "    print(\"Choose an option:\")\n",
        "    print(\"1. Add student\")\n",
        "    print(\"2. Update student grade\")\n",
        "    print(\"3. Remove student\")\n",
        "    print(\"4. Show all students\")\n",
        "    print(\"5. Quit\")\n",
        "\n",
        "    # Take the user's choice ('1', '2', '3', '4' or '5'. String).\n",
        "    choice = input(\"What do you want to do: \")\n",
        "\n",
        "    # If the choice is '1':\n",
        "    if choice == \"1\":\n",
        "        # Take a student's name from the user, add it to the\n",
        "        # grade book and print a confirmation message.\n",
        "        name = input(\"Enter student name: \")\n",
        "        grade_book.add_student(name)\n",
        "        print(f\"{name} added to the grade book.\")\n",
        "\n",
        "    # If the choice is '2':\n",
        "    elif choice == \"2\":\n",
        "        # Take a student's name, subject and grade from the user and update the grade book.\n",
        "        # Take a student's name from the user and remove it from the grade book.\n",
        "        # Display a success/failure message depending on the result of the operation.\n",
        "        name = input(\"Enter student name: \")\n",
        "        subject = input(\"Enter the subject you want to update (math, science, history): \")\n",
        "        grade = int(input(\"Enter the new grade: \"))\n",
        "        if grade_book.update_grade(name, subject, grade):\n",
        "            print(f\"{name}'s grade in {subject} is now {grade}\")\n",
        "        else:\n",
        "            print(f\"{name} was not found in the list.\")\n",
        "\n",
        "    # If the choice is '3':\n",
        "    elif choice == \"3\":\n",
        "        # Take a student's name from the user and remove it from the grade book.\n",
        "        # Display a success/failure message depending on the result of the operation.\n",
        "        name = input(\"Enter student name: \")\n",
        "        if grade_book.remove_student(name):\n",
        "            print(f\"You removed {name} from the list!\")\n",
        "        else:\n",
        "            print(f\"{name} was not found in the list.\")\n",
        "\n",
        "    # If the choice is '4':\n",
        "    elif choice == \"4\":\n",
        "        # Print the grade book.\n",
        "        print(grade_book)\n",
        "\n",
        "    # If the choice is '5':\n",
        "    elif choice == \"5\":\n",
        "        # Quit the program.\n",
        "        quit = True\n",
        "\n",
        "    # If the choice is not valid, display an error message and prompt the user again.\n",
        "    else:\n",
        "        print(\"Invalid choice\")\n"
      ],
      "metadata": {
        "id": "Y3hd8GW3mFeN"
      },
      "execution_count": null,
      "outputs": []
    },
    {
      "cell_type": "code",
      "source": [
        "#@title Solution\n",
        "\n",
        "\n",
        "# Create the student class.\n",
        "class Student:\n",
        "\n",
        "    # Create the __init__ method to set up the Student objects.\n",
        "    def __init__(self, name):\n",
        "        self.name = name\n",
        "        self.grades = {\"math\": 0, \"science\": 0, \"history\": 0}\n",
        "\n",
        "    # Create the 'update_grade' method.\n",
        "    def update_grade(self, subject, grade):\n",
        "        self.grades[subject] = grade\n",
        "\n",
        "    # Create the __str__ method to represent the student as a string.\n",
        "    def __str__(self):\n",
        "        return f\"{self.name}: math={self.grades['math']}, science={self.grades['science']}, history={self.grades['history']}\"\n",
        "\n",
        "\n",
        "# Create the grade book class.\n",
        "class GradeBook:\n",
        "\n",
        "    # Create the __init__ method to set up the GradeBook objects.\n",
        "    def __init__(self):\n",
        "        self.students = {}\n",
        "\n",
        "    # Create the 'add_student' method to add a Student object to the GradeBook.\n",
        "    def add_student(self, name):\n",
        "        student = Student(name)\n",
        "        self.students[name] = student\n",
        "\n",
        "    # Create the 'remove_student' method to remove a Student object from the GradeBook.\n",
        "    def remove_student(self, name):\n",
        "        if name in self.students:\n",
        "            del self.students[name]\n",
        "            return True\n",
        "        else:\n",
        "            return False\n",
        "\n",
        "    # Create the 'update_grade' method to change the value of a student's grade.\n",
        "    def update_grade(self, name, subject, grade):\n",
        "        if name in self.students:\n",
        "            student = self.students[name]\n",
        "            student.update_grade(subject, grade)\n",
        "            return True\n",
        "        else:\n",
        "            return False\n",
        "\n",
        "    # Create the __str__ method to represent the grade book as a string.\n",
        "    def __str__(self):\n",
        "        output = \"Current students:\\n\"\n",
        "        for name, student in self.students.items():\n",
        "            output += str(student) + \"\\n\"\n",
        "        return output\n",
        "\n",
        "# Create a GradeBook instance.\n",
        "grade_book = GradeBook()\n",
        "\n",
        "# Start the main loop of the programa, where the user can perform\n",
        "# operations on the grade book. Run this loop until the user chooses\n",
        "# to quit the program.\n",
        "quit = False\n",
        "\n",
        "while not quit:\n",
        "    # Print the options that the user can choose from:\n",
        "    # 1. Add a student.\n",
        "    # 2. Update student grade.\n",
        "    # 3. Remove a student.\n",
        "    # 4. Show all students.\n",
        "    # 5. Quit.\n",
        "    print(\"\\n\")\n",
        "    print(\"Choose an option:\")\n",
        "    print(\"1. Add student\")\n",
        "    print(\"2. Update student grade\")\n",
        "    print(\"3. Remove student\")\n",
        "    print(\"4. Show all students\")\n",
        "    print(\"5. Quit\")\n",
        "\n",
        "    # Take the user's choice ('1', '2', '3', '4' or '5'. String).\n",
        "    choice = input(\"What do you want to do: \")\n",
        "\n",
        "    # If the choice is '1':\n",
        "    if choice == \"1\":\n",
        "        # Take a student's name from the user, add it to the\n",
        "        # grade book and print a confirmation message.\n",
        "        name = input(\"Enter student name: \")\n",
        "        grade_book.add_student(name)\n",
        "        print(f\"{name} added to the grade book.\")\n",
        "\n",
        "    # If the choice is '2':\n",
        "    elif choice == \"2\":\n",
        "        # Take a student's name, subject and grade from the user and update the grade book.\n",
        "        # Take a student's name from the user and remove it from the grade book.\n",
        "        # Display a success/failure message depending on the result of the operation.\n",
        "        name = input(\"Enter student name: \")\n",
        "        subject = input(\"Enter the subject you want to update (math, science, history): \")\n",
        "        grade = int(input(\"Enter the new grade: \"))\n",
        "        if grade_book.update_grade(name, subject, grade):\n",
        "            print(f\"{name}'s grade in {subject} is now {grade}\")\n",
        "        else:\n",
        "            print(f\"{name} was not found in the list.\")\n",
        "\n",
        "    # If the choice is '3':\n",
        "    elif choice == \"3\":\n",
        "        # Take a student's name from the user and remove it from the grade book.\n",
        "        # Display a success/failure message depending on the result of the operation.\n",
        "        name = input(\"Enter student name: \")\n",
        "        if grade_book.remove_student(name):\n",
        "            print(f\"You removed {name} from the list!\")\n",
        "        else:\n",
        "            print(f\"{name} was not found in the list.\")\n",
        "\n",
        "    # If the choice is '4':\n",
        "    elif choice == \"4\":\n",
        "        # Print the grade book.\n",
        "        print(grade_book)\n",
        "\n",
        "    # If the choice is '5':\n",
        "    elif choice == \"5\":\n",
        "        # Quit the program.\n",
        "        quit = True\n",
        "\n",
        "    # If the choice is not valid, display an error message and prompt the user again.\n",
        "    else:\n",
        "        print(\"Invalid choice\")\n"
      ],
      "metadata": {
        "id": "rsqd5cuWmFgG",
        "cellView": "form"
      },
      "execution_count": null,
      "outputs": []
    },
    {
      "cell_type": "markdown",
      "source": [
        "<br><br><br>"
      ],
      "metadata": {
        "id": "TgCjzi6NuWRL"
      }
    },
    {
      "cell_type": "markdown",
      "source": [
        "## 2.2 Intermediate object-oriented programming"
      ],
      "metadata": {
        "id": "ciff1lgTzbM-"
      }
    },
    {
      "cell_type": "markdown",
      "source": [
        "### 2.2.1 Inheritance: building the base class"
      ],
      "metadata": {
        "id": "mY-_hd_tHt-M"
      }
    },
    {
      "cell_type": "code",
      "source": [
        "class BankAccount:\n",
        "\n",
        "    def __init__(self, account_number, balance=0):\n",
        "        self.account_number = account_number\n",
        "        self.balance = balance\n",
        "\n",
        "    def __str__(self):\n",
        "        return f\"Account number: {self.account_number}, balance: ${self.balance}\"\n",
        "\n",
        "    def deposit(self, amount):\n",
        "        self.balance += amount\n",
        "\n",
        "    def can_withdraw(self, amount):\n",
        "        return amount <= self.balance\n",
        "\n",
        "    def withdraw(self, amount):\n",
        "        if self.can_withdraw(amount):\n",
        "            self.balance -= amount"
      ],
      "metadata": {
        "id": "cIDl62KZzcq4"
      },
      "execution_count": 32,
      "outputs": []
    },
    {
      "cell_type": "code",
      "source": [
        "account1 = BankAccount(\"1234567890\", 20000)"
      ],
      "metadata": {
        "id": "-HU0proTzctl"
      },
      "execution_count": 33,
      "outputs": []
    },
    {
      "cell_type": "code",
      "source": [
        "account1.deposit(100)"
      ],
      "metadata": {
        "id": "a1tLiLrvzcwm"
      },
      "execution_count": 34,
      "outputs": []
    },
    {
      "cell_type": "code",
      "source": [
        "account1.withdraw(30)"
      ],
      "metadata": {
        "id": "O5VKK23lVXv5"
      },
      "execution_count": 35,
      "outputs": []
    },
    {
      "cell_type": "code",
      "source": [
        "print(account1)"
      ],
      "metadata": {
        "id": "SMPYwx2WVX0Z",
        "colab": {
          "base_uri": "https://localhost:8080/"
        },
        "outputId": "7826b2e3-4f84-4a79-cc2f-47776695e205"
      },
      "execution_count": 36,
      "outputs": [
        {
          "output_type": "stream",
          "name": "stdout",
          "text": [
            "Account number: 1234567890, balance: $20070\n"
          ]
        }
      ]
    },
    {
      "cell_type": "markdown",
      "source": [
        "### 2.2.2 Inheritance: building the derived classes"
      ],
      "metadata": {
        "id": "HLlvC54qHuA4"
      }
    },
    {
      "cell_type": "code",
      "source": [
        "class CheckingAccount(BankAccount):\n",
        "\n",
        "    def __init__(self, account_number, balance=0, monthly_fee=1.50):\n",
        "        super().__init__(account_number, balance)\n",
        "        self.monthly_fee = monthly_fee\n",
        "\n",
        "    def deduct_fees(self):\n",
        "        self.balance -= self.monthly_fee"
      ],
      "metadata": {
        "id": "PLPP1SPNzczh"
      },
      "execution_count": 45,
      "outputs": []
    },
    {
      "cell_type": "code",
      "source": [
        "class SavingsAccount(BankAccount):\n",
        "\n",
        "    def __init__(self, account_number, balance=0, interest_rate=0.01):\n",
        "        super().__init__(account_number, balance)\n",
        "        self.interest_rate = interest_rate\n",
        "\n",
        "    def add_interest(self):\n",
        "        interest = self.balance * self.interest_rate\n",
        "        self.balance += interest"
      ],
      "metadata": {
        "id": "CxVNM7G5zc2e"
      },
      "execution_count": 46,
      "outputs": []
    },
    {
      "cell_type": "code",
      "source": [
        "account2 = CheckingAccount(\"1a2b3c4d5e\")\n",
        "account3 = SavingsAccount(\"6543210987\", balance=1000, interest_rate=0.025)"
      ],
      "metadata": {
        "id": "zMKZsPTGzc5b"
      },
      "execution_count": 47,
      "outputs": []
    },
    {
      "cell_type": "code",
      "source": [
        "print(account2)\n",
        "account2.deduct_fees()\n",
        "print(account2)"
      ],
      "metadata": {
        "id": "7jS84HRazc_g",
        "colab": {
          "base_uri": "https://localhost:8080/"
        },
        "outputId": "3ee0f114-02ea-4d19-c72f-66deab82e14f"
      },
      "execution_count": 48,
      "outputs": [
        {
          "output_type": "stream",
          "name": "stdout",
          "text": [
            "Account number: 1a2b3c4d5e, balance: $0\n",
            "Account number: 1a2b3c4d5e, balance: $-1.5\n"
          ]
        }
      ]
    },
    {
      "cell_type": "code",
      "source": [
        "account2.deposit(100)\n",
        "\n",
        "print(account2)"
      ],
      "metadata": {
        "id": "iHQrNI1wues-",
        "colab": {
          "base_uri": "https://localhost:8080/"
        },
        "outputId": "4ac90ad8-3bd7-4433-be9d-b17322c7317f"
      },
      "execution_count": 49,
      "outputs": [
        {
          "output_type": "stream",
          "name": "stdout",
          "text": [
            "Account number: 1a2b3c4d5e, balance: $98.5\n"
          ]
        }
      ]
    },
    {
      "cell_type": "code",
      "source": [
        "print(account3)\n",
        "account3.add_interest()\n",
        "print(account3)"
      ],
      "metadata": {
        "id": "Gmg6ZyH-zc8c",
        "colab": {
          "base_uri": "https://localhost:8080/"
        },
        "outputId": "f11a23ed-4d4f-4646-ec7c-7301034af24d"
      },
      "execution_count": 50,
      "outputs": [
        {
          "output_type": "stream",
          "name": "stdout",
          "text": [
            "Account number: 6543210987, balance: $1000\n",
            "Account number: 6543210987, balance: $1025.0\n"
          ]
        }
      ]
    },
    {
      "cell_type": "code",
      "source": [
        "account3.withdraw(25)\n",
        "\n",
        "print(account3)"
      ],
      "metadata": {
        "id": "hQWIMHKCzdCJ",
        "colab": {
          "base_uri": "https://localhost:8080/"
        },
        "outputId": "55185ebd-b02b-46fa-c866-c873223d86ad"
      },
      "execution_count": 51,
      "outputs": [
        {
          "output_type": "stream",
          "name": "stdout",
          "text": [
            "Account number: 6543210987, balance: $1000.0\n"
          ]
        }
      ]
    },
    {
      "cell_type": "markdown",
      "source": [
        "### 2.2.3 Polymorphism: method overriding"
      ],
      "metadata": {
        "id": "LAmKFDEDHuDh"
      }
    },
    {
      "cell_type": "code",
      "source": [
        "class CheckingAccount(BankAccount):\n",
        "\n",
        "    def __init__(self, account_number, balance=0, monthly_fee=1.50):\n",
        "        super().__init__(account_number, balance)\n",
        "        self.monthly_fee = monthly_fee\n",
        "\n",
        "    def deduct_fees(self):\n",
        "        self.balance -= self.monthly_fee\n",
        "\n",
        "    def can_withdraw(self, amount):\n",
        "        return True\n",
        "\n",
        "    def withdraw(self, amount):\n",
        "        if amount > self.balance:\n",
        "            amount += 35\n",
        "        super().withdraw(amount)"
      ],
      "metadata": {
        "id": "vPKWzVAUzdK9"
      },
      "execution_count": 52,
      "outputs": []
    },
    {
      "cell_type": "code",
      "source": [
        "class SavingsAccount(BankAccount):\n",
        "\n",
        "    def __init__(self, account_number, balance=0, interest_rate=0.01):\n",
        "        super().__init__(account_number, balance)\n",
        "        self.interest_rate = interest_rate\n",
        "\n",
        "    def add_interest(self):\n",
        "        interest = self.balance * self.interest_rate\n",
        "        self.balance += interest\n",
        "\n",
        "    def withdraw(self, amount):\n",
        "        amount += 1.5\n",
        "        super().withdraw(amount)"
      ],
      "metadata": {
        "id": "UIbl_NYDxhDP"
      },
      "execution_count": 53,
      "outputs": []
    },
    {
      "cell_type": "code",
      "source": [
        "account4 = CheckingAccount('34567abcde', balance=2500)\n",
        "account5 = SavingsAccount(\"fghijk1234\", balance=1000)"
      ],
      "metadata": {
        "id": "fLr_w-TQxhGs"
      },
      "execution_count": 54,
      "outputs": []
    },
    {
      "cell_type": "code",
      "source": [
        "print(account4)\n",
        "account4.deduct_fees()\n",
        "print(account4)\n",
        "account4.withdraw(4000)\n",
        "print(account4)"
      ],
      "metadata": {
        "id": "N81vzHY4xhJr",
        "colab": {
          "base_uri": "https://localhost:8080/"
        },
        "outputId": "68923018-3aaa-4128-c006-7f3ec67c8f81"
      },
      "execution_count": 55,
      "outputs": [
        {
          "output_type": "stream",
          "name": "stdout",
          "text": [
            "Account number: 34567abcde, balance: $2500\n",
            "Account number: 34567abcde, balance: $2498.5\n",
            "Account number: 34567abcde, balance: $-1536.5\n"
          ]
        }
      ]
    },
    {
      "cell_type": "code",
      "source": [
        "print(account5)\n",
        "account5.add_interest()\n",
        "print(account5)\n",
        "account5.withdraw(4000)\n",
        "print(account5)\n",
        "account5.withdraw(500)\n",
        "print(account5)"
      ],
      "metadata": {
        "id": "1SeF6b9Hu55U",
        "colab": {
          "base_uri": "https://localhost:8080/"
        },
        "outputId": "ab2af0b3-1c89-4601-cec3-81a3ff3796bc"
      },
      "execution_count": 56,
      "outputs": [
        {
          "output_type": "stream",
          "name": "stdout",
          "text": [
            "Account number: fghijk1234, balance: $1000\n",
            "Account number: fghijk1234, balance: $1010.0\n",
            "Account number: fghijk1234, balance: $1010.0\n",
            "Account number: fghijk1234, balance: $508.5\n"
          ]
        }
      ]
    },
    {
      "cell_type": "markdown",
      "source": [
        "### 2.2.4 Encapsulation: public and private members"
      ],
      "metadata": {
        "id": "Y7obb7I_K4XG"
      }
    },
    {
      "cell_type": "code",
      "source": [
        "class BankAccount:\n",
        "\n",
        "    def __init__(self, account_number, balance=0):\n",
        "        self._account_number = account_number\n",
        "        self._balance = balance\n",
        "\n",
        "    def __str__(self):\n",
        "        return f\"Account number: {self._account_number}, balance: ${self._balance}\"\n",
        "\n",
        "    def deposit(self, amount):\n",
        "        self._balance += amount\n",
        "\n",
        "    def can_withdraw(self, amount):\n",
        "        return amount <= self._balance\n",
        "\n",
        "    def withdraw(self, amount):\n",
        "        if self.can_withdraw(amount):\n",
        "            self._balance -= amount"
      ],
      "metadata": {
        "id": "KpPLYSyIu57b"
      },
      "execution_count": 57,
      "outputs": []
    },
    {
      "cell_type": "code",
      "source": [
        "account6 = BankAccount(\"A1B2Z3X4Y5\", balance=2500)"
      ],
      "metadata": {
        "id": "2i_qAxJEu59j"
      },
      "execution_count": 58,
      "outputs": []
    },
    {
      "cell_type": "code",
      "source": [
        "account6._balance"
      ],
      "metadata": {
        "id": "VMnQnq9dxhN5",
        "colab": {
          "base_uri": "https://localhost:8080/"
        },
        "outputId": "ec8a537a-1364-4af8-f046-60d6e21bcfca"
      },
      "execution_count": 60,
      "outputs": [
        {
          "output_type": "execute_result",
          "data": {
            "text/plain": [
              "2500"
            ]
          },
          "metadata": {},
          "execution_count": 60
        }
      ]
    },
    {
      "cell_type": "code",
      "source": [
        "account6._account_number"
      ],
      "metadata": {
        "id": "Lbvpb8RIu5_p",
        "colab": {
          "base_uri": "https://localhost:8080/",
          "height": 36
        },
        "outputId": "c1bfedf4-5699-4c01-9d38-78f9d3556278"
      },
      "execution_count": 59,
      "outputs": [
        {
          "output_type": "execute_result",
          "data": {
            "text/plain": [
              "'A1B2Z3X4Y5'"
            ],
            "application/vnd.google.colaboratory.intrinsic+json": {
              "type": "string"
            }
          },
          "metadata": {},
          "execution_count": 59
        }
      ]
    },
    {
      "cell_type": "markdown",
      "source": [
        "### 2.2.5 Encapsulation: attribute scrambling"
      ],
      "metadata": {
        "id": "IyaH2xo0LCJU"
      }
    },
    {
      "cell_type": "code",
      "source": [
        "class BankAccount:\n",
        "\n",
        "    def __init__(self, account_number, balance=0):\n",
        "        self.__account_number = account_number\n",
        "        self.__balance = balance\n",
        "\n",
        "    def __str__(self):\n",
        "        return f\"Account number: {self.__account_number}, balance: ${self.__balance}\"\n",
        "\n",
        "    def deposit(self, amount):\n",
        "        self.__balance += amount\n",
        "\n",
        "    def can_withdraw(self, amount):\n",
        "        return amount <= self.__balance\n",
        "\n",
        "    def withdraw(self, amount):\n",
        "        if self.can_withdraw(amount):\n",
        "            self.__balance -= amount"
      ],
      "metadata": {
        "id": "tIS3L6qozdQl"
      },
      "execution_count": 63,
      "outputs": []
    },
    {
      "cell_type": "code",
      "source": [
        "account7 = BankAccount(\"M1N2O3P4Q5\", balance=3200)"
      ],
      "metadata": {
        "id": "JdHenkSmzdTW"
      },
      "execution_count": 64,
      "outputs": []
    },
    {
      "cell_type": "code",
      "source": [
        "account7.__balance"
      ],
      "metadata": {
        "id": "2lYe8cFbzdWX",
        "colab": {
          "base_uri": "https://localhost:8080/",
          "height": 183
        },
        "outputId": "43701d3a-75a5-4c74-acd0-732c4cdfef10"
      },
      "execution_count": 65,
      "outputs": [
        {
          "output_type": "error",
          "ename": "AttributeError",
          "evalue": "ignored",
          "traceback": [
            "\u001b[0;31m---------------------------------------------------------------------------\u001b[0m",
            "\u001b[0;31mAttributeError\u001b[0m                            Traceback (most recent call last)",
            "\u001b[0;32m<ipython-input-65-6b86344293b7>\u001b[0m in \u001b[0;36m<cell line: 1>\u001b[0;34m()\u001b[0m\n\u001b[0;32m----> 1\u001b[0;31m \u001b[0maccount7\u001b[0m\u001b[0;34m.\u001b[0m\u001b[0m__balance\u001b[0m\u001b[0;34m\u001b[0m\u001b[0;34m\u001b[0m\u001b[0m\n\u001b[0m",
            "\u001b[0;31mAttributeError\u001b[0m: 'BankAccount' object has no attribute '__balance'"
          ]
        }
      ]
    },
    {
      "cell_type": "code",
      "source": [
        "dir(account7)"
      ],
      "metadata": {
        "id": "8kdJh3QizdZi",
        "colab": {
          "base_uri": "https://localhost:8080/"
        },
        "outputId": "03f3e9a4-75cb-41dd-ea0b-61886ef44091"
      },
      "execution_count": 66,
      "outputs": [
        {
          "output_type": "execute_result",
          "data": {
            "text/plain": [
              "['_BankAccount__account_number',\n",
              " '_BankAccount__balance',\n",
              " '__class__',\n",
              " '__delattr__',\n",
              " '__dict__',\n",
              " '__dir__',\n",
              " '__doc__',\n",
              " '__eq__',\n",
              " '__format__',\n",
              " '__ge__',\n",
              " '__getattribute__',\n",
              " '__gt__',\n",
              " '__hash__',\n",
              " '__init__',\n",
              " '__init_subclass__',\n",
              " '__le__',\n",
              " '__lt__',\n",
              " '__module__',\n",
              " '__ne__',\n",
              " '__new__',\n",
              " '__reduce__',\n",
              " '__reduce_ex__',\n",
              " '__repr__',\n",
              " '__setattr__',\n",
              " '__sizeof__',\n",
              " '__str__',\n",
              " '__subclasshook__',\n",
              " '__weakref__',\n",
              " 'can_withdraw',\n",
              " 'deposit',\n",
              " 'withdraw']"
            ]
          },
          "metadata": {},
          "execution_count": 66
        }
      ]
    },
    {
      "cell_type": "markdown",
      "source": [
        "### 2.2.6 Setters and getters"
      ],
      "metadata": {
        "id": "jmTzbewfLNuK"
      }
    },
    {
      "cell_type": "code",
      "source": [
        "class BankAccount:\n",
        "\n",
        "    def __init__(self, account_number, balance=0):\n",
        "        self.__account_number = account_number\n",
        "        self.__balance = balance\n",
        "\n",
        "    def __str__(self):\n",
        "        return f\"Account number: {self.account_number}, balance: ${self.__balance}\"\n",
        "\n",
        "    def deposit(self, amount):\n",
        "        self.__balance += amount\n",
        "\n",
        "    def can_withdraw(self, amount):\n",
        "        return amount <= self.__balance\n",
        "\n",
        "    def withdraw(self, amount):\n",
        "        if self.can_withdraw(amount):\n",
        "            self.__balance -= amount\n",
        "\n",
        "    @property\n",
        "    def balance(self):\n",
        "        return self.__balance\n",
        "\n",
        "    @property\n",
        "    def account_number(self):\n",
        "        return f\"****{self.__account_number[-4:]}\"\n",
        "\n",
        "    @account_number.setter\n",
        "    def account_number(self, value):\n",
        "        if len(value) != 10 or not value.isalnum():\n",
        "            raise ValueError(\"Account number must be a 10 character alphanumeric string.\")\n",
        "        self.__account_number = value"
      ],
      "metadata": {
        "id": "VEvH62_sMTx_"
      },
      "execution_count": 89,
      "outputs": []
    },
    {
      "cell_type": "code",
      "source": [
        "account8 = BankAccount(\"KEK2N1Z30V\", balance=4100)"
      ],
      "metadata": {
        "id": "TnjLECh1tkaC"
      },
      "execution_count": 90,
      "outputs": []
    },
    {
      "cell_type": "code",
      "source": [
        "account8.balance"
      ],
      "metadata": {
        "id": "N-b5P0bQtkcV",
        "colab": {
          "base_uri": "https://localhost:8080/"
        },
        "outputId": "eee58876-ab29-4ee9-f3a0-70a73b98297f"
      },
      "execution_count": 91,
      "outputs": [
        {
          "output_type": "execute_result",
          "data": {
            "text/plain": [
              "4100"
            ]
          },
          "metadata": {},
          "execution_count": 91
        }
      ]
    },
    {
      "cell_type": "code",
      "source": [
        "account8.balance = 4500"
      ],
      "metadata": {
        "id": "RxESEvAStkfc",
        "colab": {
          "base_uri": "https://localhost:8080/",
          "height": 183
        },
        "outputId": "514102d4-e1fe-4780-8c1f-7ad6c4f41b94"
      },
      "execution_count": 92,
      "outputs": [
        {
          "output_type": "error",
          "ename": "AttributeError",
          "evalue": "ignored",
          "traceback": [
            "\u001b[0;31m---------------------------------------------------------------------------\u001b[0m",
            "\u001b[0;31mAttributeError\u001b[0m                            Traceback (most recent call last)",
            "\u001b[0;32m<ipython-input-92-c4577b961c9f>\u001b[0m in \u001b[0;36m<cell line: 1>\u001b[0;34m()\u001b[0m\n\u001b[0;32m----> 1\u001b[0;31m \u001b[0maccount8\u001b[0m\u001b[0;34m.\u001b[0m\u001b[0mbalance\u001b[0m \u001b[0;34m=\u001b[0m \u001b[0;36m4500\u001b[0m\u001b[0;34m\u001b[0m\u001b[0;34m\u001b[0m\u001b[0m\n\u001b[0m",
            "\u001b[0;31mAttributeError\u001b[0m: can't set attribute 'balance'"
          ]
        }
      ]
    },
    {
      "cell_type": "code",
      "source": [
        "print(account8)"
      ],
      "metadata": {
        "id": "VrMhP_EBBz7x",
        "colab": {
          "base_uri": "https://localhost:8080/"
        },
        "outputId": "08e6206f-b6bf-4ff7-e671-7897c13f744e"
      },
      "execution_count": 93,
      "outputs": [
        {
          "output_type": "stream",
          "name": "stdout",
          "text": [
            "Account number: ****Z30V, balance: $4100\n"
          ]
        }
      ]
    },
    {
      "cell_type": "code",
      "source": [
        "account8.account_number"
      ],
      "metadata": {
        "id": "TPP56yUDCBm2",
        "colab": {
          "base_uri": "https://localhost:8080/",
          "height": 36
        },
        "outputId": "ae2e2f78-b801-4d80-bf95-05af43119f20"
      },
      "execution_count": 94,
      "outputs": [
        {
          "output_type": "execute_result",
          "data": {
            "text/plain": [
              "'****Z30V'"
            ],
            "application/vnd.google.colaboratory.intrinsic+json": {
              "type": "string"
            }
          },
          "metadata": {},
          "execution_count": 94
        }
      ]
    },
    {
      "cell_type": "code",
      "source": [
        "account8.account_number = \"Z3KOS3F5S9\""
      ],
      "metadata": {
        "id": "ns_yP7OYtkiR"
      },
      "execution_count": 95,
      "outputs": []
    },
    {
      "cell_type": "code",
      "source": [
        "account8.account_number"
      ],
      "metadata": {
        "id": "o8trj5MNz_KS",
        "colab": {
          "base_uri": "https://localhost:8080/",
          "height": 36
        },
        "outputId": "80fc9216-2d6b-4b73-dc5f-2a6234969091"
      },
      "execution_count": 96,
      "outputs": [
        {
          "output_type": "execute_result",
          "data": {
            "text/plain": [
              "'****F5S9'"
            ],
            "application/vnd.google.colaboratory.intrinsic+json": {
              "type": "string"
            }
          },
          "metadata": {},
          "execution_count": 96
        }
      ]
    },
    {
      "cell_type": "code",
      "source": [
        "print(account8)"
      ],
      "metadata": {
        "id": "oPWecbLwtkk3",
        "colab": {
          "base_uri": "https://localhost:8080/"
        },
        "outputId": "7341939c-0064-4d81-c578-13b4a6340f65"
      },
      "execution_count": 97,
      "outputs": [
        {
          "output_type": "stream",
          "name": "stdout",
          "text": [
            "Account number: ****F5S9, balance: $4100\n"
          ]
        }
      ]
    },
    {
      "cell_type": "markdown",
      "source": [
        "### 2.2.7 Calling a method of the superclass with `super`"
      ],
      "metadata": {
        "id": "Pe1lcTpiDLjy"
      }
    },
    {
      "cell_type": "code",
      "source": [
        "class SavingsAccount(BankAccount):\n",
        "\n",
        "    def __init__(self, account_number, balance=0, interest_rate=0.01):\n",
        "        super().__init__(account_number, balance)\n",
        "        self.interest_rate = interest_rate\n",
        "\n",
        "    def add_interest(self):\n",
        "        interest = self.balance * self.interest_rate\n",
        "        self.deposit(interest)\n",
        "\n",
        "    def withdraw(self, amount):\n",
        "        amount += 1.5\n",
        "        super().withdraw(amount)"
      ],
      "metadata": {
        "id": "eEOxYso2LNEZ"
      },
      "execution_count": 102,
      "outputs": []
    },
    {
      "cell_type": "code",
      "source": [
        "account9 = SavingsAccount(\"K3K2N1Z3OV\", balance=4100)"
      ],
      "metadata": {
        "id": "ASU7dJYnLNHL"
      },
      "execution_count": 103,
      "outputs": []
    },
    {
      "cell_type": "code",
      "source": [
        "print(account9)\n",
        "account9.withdraw(100)\n",
        "print(account9)"
      ],
      "metadata": {
        "id": "ZfwVaIWGxhX4",
        "colab": {
          "base_uri": "https://localhost:8080/"
        },
        "outputId": "995b739e-56b9-4f4b-ec09-8ef2ead59453"
      },
      "execution_count": 104,
      "outputs": [
        {
          "output_type": "stream",
          "name": "stdout",
          "text": [
            "Account number: ****Z3OV, balance: $4100\n",
            "Account number: ****Z3OV, balance: $3998.5\n"
          ]
        }
      ]
    },
    {
      "cell_type": "code",
      "source": [
        "print(account9)\n",
        "account9.add_interest()\n",
        "print(account9)"
      ],
      "metadata": {
        "id": "7dkQ8o6rEmaR",
        "colab": {
          "base_uri": "https://localhost:8080/"
        },
        "outputId": "6b1233ba-db2c-483b-8fec-1e27570fed7a"
      },
      "execution_count": 105,
      "outputs": [
        {
          "output_type": "stream",
          "name": "stdout",
          "text": [
            "Account number: ****Z3OV, balance: $3998.5\n",
            "Account number: ****Z3OV, balance: $4038.485\n"
          ]
        }
      ]
    },
    {
      "cell_type": "code",
      "source": [
        "class CheckingAccount(BankAccount):\n",
        "\n",
        "    def __init__(self, account_number, balance=0, monthly_fee=1.50):\n",
        "        super().__init__(account_number, balance)\n",
        "        self.monthly_fee = monthly_fee\n",
        "\n",
        "    def deduct_fees(self):\n",
        "        self.withdraw(self.monthly_fee)\n",
        "\n",
        "    def can_withdraw(self, amount):\n",
        "        return True\n",
        "\n",
        "    def withdraw(self, amount):\n",
        "        if amount > self.balance:\n",
        "            amount += 35\n",
        "        super().withdraw(amount)"
      ],
      "metadata": {
        "id": "G4F5JhoqxhbX"
      },
      "execution_count": 112,
      "outputs": []
    },
    {
      "cell_type": "code",
      "source": [
        "account10 = CheckingAccount(\"D2V5D6V2S1\", balance=1800)"
      ],
      "metadata": {
        "id": "2YfzQZqaC54t"
      },
      "execution_count": 113,
      "outputs": []
    },
    {
      "cell_type": "code",
      "source": [
        "print(account10)\n",
        "account10.deduct_fees()\n",
        "print(account10)"
      ],
      "metadata": {
        "id": "6bcJF91gC57O",
        "colab": {
          "base_uri": "https://localhost:8080/"
        },
        "outputId": "aef450ab-5e5f-4c1e-930c-c31ad5d39fb0"
      },
      "execution_count": 114,
      "outputs": [
        {
          "output_type": "stream",
          "name": "stdout",
          "text": [
            "Account number: ****V2S1, balance: $1800\n",
            "Account number: ****V2S1, balance: $1798.5\n"
          ]
        }
      ]
    },
    {
      "cell_type": "code",
      "source": [
        "print(account10)\n",
        "account10.withdraw(2000)\n",
        "print(account10)"
      ],
      "metadata": {
        "id": "H0vS6mloC594",
        "colab": {
          "base_uri": "https://localhost:8080/"
        },
        "outputId": "8f5a2397-387a-45bc-eade-bcda32d28f0d"
      },
      "execution_count": 115,
      "outputs": [
        {
          "output_type": "stream",
          "name": "stdout",
          "text": [
            "Account number: ****V2S1, balance: $1798.5\n",
            "Account number: ****V2S1, balance: $-236.5\n"
          ]
        }
      ]
    },
    {
      "cell_type": "markdown",
      "source": [
        "# Code project: Role-playing game (RPG)\n",
        "\n",
        "In this project, you will be creating a simple RPG (Role-Playing Game). In it, our hero will fight an enemy. There are three unique character classes: `Paladin`, `Mage` and `Warrior`. Each type has strengths and weaknesses.\n",
        "\n",
        "Characters have several attributes:\n",
        "\n",
        "<br>\n",
        "\n",
        "#### **Health:**\n",
        "\n",
        "Non-negative value that defines how much damage the character can take. When a character is attacked, their health points decrease. When the health points go to 0, the character is dead.\n",
        "\n",
        "\n",
        "#### **Mana:**\n",
        "Mana is a resource that some characters use to cast spells and use special abilities. When they do, mana is consumed. When mana is insufficient, the characters cannot use those special abilities.\n",
        "\n",
        "\n",
        "\n",
        "#### **Agility, intelligence and strength:**\n",
        "\n",
        "Attributes of the character that determine how much damage they inflict on the enemy when they attack and how much damage they receive when they are attacked by the enemy.\n",
        "\n",
        "\n",
        "<br>\n",
        "\n",
        "#### **Game mechanics:**\n",
        "\n",
        "We must choose our hero (Paladin, Mage or Warrior). Then, an enemy of one of these classes will appear and the battle will begin.\n",
        "\n",
        "The caracters will take turns attacking each other and defending enemy strikes.\n",
        "When a given character attacks, the other defends, and vice versa. The last fighter standing wins the battle.\n",
        "\n",
        "<br>\n",
        "\n",
        "Sharpen your sword, draw your wand, and let the battle begin!\n",
        "\n",
        "<br>\n"
      ],
      "metadata": {
        "id": "PiPETOGPzboL"
      }
    },
    {
      "cell_type": "code",
      "source": [
        "import random\n",
        "\n",
        "# Create a parent class called \"Character\".\n",
        "class Character:\n",
        "\n",
        "    # Define the constructor to initialize the attributes.\n",
        "    def __init__(self, name, health, mana, strength, agility, intelligence):\n",
        "        self._name = name\n",
        "        self._health = health\n",
        "        self._mana = mana\n",
        "        self._strength = strength\n",
        "        self._agility = agility\n",
        "        self._intelligence = intelligence\n",
        "\n",
        "    # Define the \"attack\" method (to be implemented by the subclasses).\n",
        "    def attack(self, enemy):\n",
        "        raise NotImplementedError\n",
        "\n",
        "    # Define the \"defend\" method (to be implemented by the subclasses).\n",
        "    def defend(self, damage):\n",
        "        raise NotImplementedError\n",
        "\n",
        "    # Define a property to check if the character is alive.\n",
        "    @property\n",
        "    def is_alive(self):\n",
        "        return self._health > 0\n",
        "\n",
        "\n",
        "# Create a subclass called \"Paladin\".\n",
        "class Paladin(Character):\n",
        "\n",
        "    # Define the constructor to initialize the attributes.\n",
        "    def __init__(self, name):\n",
        "        super().__init__(name, health=150, mana=100, strength=20, agility=10, intelligence=10)\n",
        "\n",
        "    # Define the \"string\" method to print the\n",
        "    # character's name, class and health (integer).\n",
        "    def __str__(self):\n",
        "        return f\"{self._name} (Paladin): {self._health:.0f} hp\"\n",
        "\n",
        "    # Override the \"attack\" method.\n",
        "    def attack(self, enemy):\n",
        "        # Calculate the damage (80% strength, 50% agility, 50% intelligence).\n",
        "        damage = self._strength * 0.8 + self._agility * 0.5 + self._intelligence * 0.5\n",
        "        # Apply a random multiplier between 0.8 and 1.2 to the damage.\n",
        "        damage *= random.uniform(0.8, 1.2)\n",
        "        # Make the enemy defend the damage.\n",
        "        enemy.defend(damage)\n",
        "        # Check if the paladin has enough mana to heal (costs 10 mana).\n",
        "        if self._mana >= 10:\n",
        "            # Reduce their mana level by 10.\n",
        "            self._mana -= 10\n",
        "            # Heal the paladin by 5 hp.\n",
        "            self._health += 5\n",
        "            # Make sure health is not greater than 150 (maximum).\n",
        "            self._health = min(self._health, 150)\n",
        "\n",
        "    # Override the \"defend\" method.\n",
        "    def defend(self, damage):\n",
        "        # Calculate the defense (50% agility, 30% intelligence, 20% strength).\n",
        "        defense = self._agility * 0.5 + self._intelligence * 0.3 + self._strength * 0.2\n",
        "        # Calculate the actual damage (damage - defense).\n",
        "        actual_damage = max(0, damage - defense)\n",
        "        # Reduce the health by the actual damage.\n",
        "        self._health -= actual_damage\n",
        "\n",
        "\n",
        "# Create a subclass called \"Mage\"\n",
        "class Mage(Character):\n",
        "\n",
        "    # Define the constructor to initialize the attributes.\n",
        "    def __init__(self, name):\n",
        "        super().__init__(name, health=100, mana=150, strength=10, agility=10, intelligence=20)\n",
        "\n",
        "    # Define the \"string\" method to print the\n",
        "    # character's name, class and health (integer).\n",
        "    def __str__(self):\n",
        "        return f\"{self._name} (Mage): {self._health:.0f} hp\"\n",
        "\n",
        "    # Override the \"attack\" method.\n",
        "    def attack(self, enemy):\n",
        "        # Check if there is enough mana to cast a stronger spell (20 mana points).\n",
        "        if self._mana >= 20:\n",
        "            # Reduce the mana level by 20 points.\n",
        "            self._mana -= 20\n",
        "            # Calculate the damage (200% intelligence).\n",
        "            damage = self._intelligence * 2.0\n",
        "        # If there is not enough mana, cast a weaker spell\n",
        "        else:\n",
        "            # Calculate the damage (100% intelligence).\n",
        "            damage = self._intelligence * 1.0\n",
        "        # Apply a random multiplier between 0.8 and 1.2 to the damage.\n",
        "        damage *= random.uniform(0.8, 1.2)\n",
        "        # Make the enemy defend the damage.\n",
        "        enemy.defend(damage)\n",
        "        # Restore 5 mana points after attacking.\n",
        "        self._mana += 5\n",
        "\n",
        "    # Override the \"defend\" method.\n",
        "    def defend(self, damage):\n",
        "        # Calculate the defense (30% agility, 30% intelligence, 10% strength).\n",
        "        defense = self._agility * 0.3 + self._intelligence * 0.3 + self._strength * 0.1\n",
        "        # Calculate the actual damage (damage - defense).\n",
        "        actual_damage = max(0, damage - defense)\n",
        "        # Reduce the health by the actual damage.\n",
        "        self._health -= actual_damage\n",
        "        # Restore 5 mana points after defending.\n",
        "        self._mana += 5\n",
        "\n",
        "\n",
        "# Create a subclass called \"Warrior\"\n",
        "class Warrior(Character):\n",
        "\n",
        "    # Define the constructor to initialize the attributes.\n",
        "    def __init__(self, name):\n",
        "        super().__init__(name, health=200, mana=0, strength=25, agility=15, intelligence=5)\n",
        "\n",
        "    # Define the \"string\" method to print the\n",
        "    # character's name, class and health (integer).\n",
        "    def __str__(self):\n",
        "        return f\"{self._name} (Warrior): {self._health:.0f} hp\"\n",
        "\n",
        "    # Override the \"attack\" method.\n",
        "    def attack(self, enemy):\n",
        "        # Calculate the damage (80% strength, 50% agility).\n",
        "        damage = self._strength * 0.8 + self._agility * 0.5\n",
        "        # Apply a random multiplier between 0.8 and 1.2 to the damage.\n",
        "        damage *= random.uniform(0.8, 1.2)\n",
        "        # Make the enemy defend the damage.\n",
        "        enemy.defend(damage)\n",
        "        # 20% chance to hit twice\n",
        "        if random.random() <= 0.2:\n",
        "            # Make the enemy defend the damage again.\n",
        "            enemy.defend(damage)\n",
        "\n",
        "    # Override the \"defend\" method.\n",
        "    def defend(self, damage):\n",
        "        # Calculate the defense (10% agility, 10% intelligence, 10% strength).\n",
        "        defense = self._agility * 0.1 + self._intelligence * 0.1 + self._strength * 0.1\n",
        "        # Calculate the actual damage (damage - defense).\n",
        "        actual_damage = max(0, damage - defense)\n",
        "        # Reduce the health by the actual damage.\n",
        "        self._health -= actual_damage\n",
        "\n",
        "        # If the Warrior is still alive after defending:\n",
        "        if self.is_alive:\n",
        "            # Heal for 5 health points.\n",
        "            self._health += 5\n",
        "            # Make sure health is not greater than 200 (maximum).\n",
        "            self._health = min(self._health, 200)\n",
        "\n",
        "\n",
        "# Create a list of characters\n",
        "characters = [Paladin(\"Galahad\"), Mage(\"Lyra\"), Warrior(\"Ragnar\")]\n",
        "\n",
        "# Choose a character\n",
        "print(\"Pick a hero:\")\n",
        "for i, character in enumerate(characters):\n",
        "    print(f\"{i+1}: {character}\")\n",
        "choice = int(input(\"> \")) - 1\n",
        "player = characters[choice]\n",
        "\n",
        "# Create a random enemy\n",
        "enemies = [Paladin(\"Godfrey\"), Mage(\"Magnus\"), Warrior(\"Galen\")]\n",
        "enemy = random.choice(enemies)\n",
        "\n",
        "# Fight!\n",
        "print(f\"You encounter {enemy}!\")\n",
        "turn = 1\n",
        "while player.is_alive and enemy.is_alive:\n",
        "    if turn == 1:\n",
        "        print(f\"{player} attacks {enemy}!\")\n",
        "        player.attack(enemy)\n",
        "        turn = 2\n",
        "    elif turn == 2:\n",
        "        print(f\"{enemy} attacks {player}!\")\n",
        "        enemy.attack(player)\n",
        "        turn = 1\n",
        "if player.is_alive:\n",
        "    print(f\"{player} has won the battle!\")\n",
        "else:\n",
        "    print(f\"{enemy} has won the battle!\")\n"
      ],
      "metadata": {
        "id": "GCJEEPfXWPRK"
      },
      "execution_count": null,
      "outputs": []
    },
    {
      "cell_type": "code",
      "source": [
        "#@title Solution\n",
        "\n",
        "\n",
        "import random\n",
        "\n",
        "# Create a parent class called \"Character\".\n",
        "class Character:\n",
        "\n",
        "    # Define the constructor to initialize the attributes.\n",
        "    def __init__(self, name, health, mana, strength, agility, intelligence):\n",
        "        self._name = name\n",
        "        self._health = health\n",
        "        self._mana = mana\n",
        "        self._strength = strength\n",
        "        self._agility = agility\n",
        "        self._intelligence = intelligence\n",
        "\n",
        "    # Define the \"attack\" method (to be implemented by the subclasses).\n",
        "    def attack(self, enemy):\n",
        "        raise NotImplementedError\n",
        "\n",
        "    # Define the \"defend\" method (to be implemented by the subclasses).\n",
        "    def defend(self, damage):\n",
        "        raise NotImplementedError\n",
        "\n",
        "    # Define a property to check if the character is alive.\n",
        "    @property\n",
        "    def is_alive(self):\n",
        "        return self._health > 0\n",
        "\n",
        "\n",
        "# Create a subclass called \"Paladin\".\n",
        "class Paladin(Character):\n",
        "\n",
        "    # Define the constructor to initialize the attributes.\n",
        "    def __init__(self, name):\n",
        "        super().__init__(name, health=150, mana=100, strength=20, agility=10, intelligence=10)\n",
        "\n",
        "    # Define the \"string\" method to print the\n",
        "    # character's name, class and health (integer).\n",
        "    def __str__(self):\n",
        "        return f\"{self._name} (Paladin): {self._health:.0f} hp\"\n",
        "\n",
        "    # Override the \"attack\" method.\n",
        "    def attack(self, enemy):\n",
        "        # Calculate the damage (80% strength, 50% agility, 50% intelligence).\n",
        "        damage = self._strength * 0.8 + self._agility * 0.5 + self._intelligence * 0.5\n",
        "        # Apply a random multiplier between 0.8 and 1.2 to the damage.\n",
        "        damage *= random.uniform(0.8, 1.2)\n",
        "        # Make the enemy defend the damage.\n",
        "        enemy.defend(damage)\n",
        "        # Check if the paladin has enough mana to heal (costs 10 mana).\n",
        "        if self._mana >= 10:\n",
        "            # Reduce their mana level by 10.\n",
        "            self._mana -= 10\n",
        "            # Heal the paladin by 5 hp.\n",
        "            self._health += 5\n",
        "            # Make sure health is not greater than 150 (maximum).\n",
        "            self._health = min(self._health, 150)\n",
        "\n",
        "    # Override the \"defend\" method.\n",
        "    def defend(self, damage):\n",
        "        # Calculate the defense (50% agility, 30% intelligence, 20% strength).\n",
        "        defense = self._agility * 0.5 + self._intelligence * 0.3 + self._strength * 0.2\n",
        "        # Calculate the actual damage (damage - defense).\n",
        "        actual_damage = max(0, damage - defense)\n",
        "        # Reduce the health by the actual damage.\n",
        "        self._health -= actual_damage\n",
        "\n",
        "\n",
        "# Create a subclass called \"Mage\"\n",
        "class Mage(Character):\n",
        "\n",
        "    # Define the constructor to initialize the attributes.\n",
        "    def __init__(self, name):\n",
        "        super().__init__(name, health=100, mana=150, strength=10, agility=10, intelligence=20)\n",
        "\n",
        "    # Define the \"string\" method to print the\n",
        "    # character's name, class and health (integer).\n",
        "    def __str__(self):\n",
        "        return f\"{self._name} (Mage): {self._health:.0f} hp\"\n",
        "\n",
        "    # Override the \"attack\" method.\n",
        "    def attack(self, enemy):\n",
        "        # Check if there is enough mana to cast a stronger spell (20 mana points).\n",
        "        if self._mana >= 20:\n",
        "            # Reduce the mana level by 20 points.\n",
        "            self._mana -= 20\n",
        "            # Calculate the damage (200% intelligence).\n",
        "            damage = self._intelligence * 2.0\n",
        "        # If there is not enough mana, cast a weaker spell\n",
        "        else:\n",
        "            # Calculate the damage (100% intelligence).\n",
        "            damage = self._intelligence * 1.0\n",
        "        # Apply a random multiplier between 0.8 and 1.2 to the damage.\n",
        "        damage *= random.uniform(0.8, 1.2)\n",
        "        # Make the enemy defend the damage.\n",
        "        enemy.defend(damage)\n",
        "        # Restore 5 mana points after attacking.\n",
        "        self._mana += 5\n",
        "\n",
        "    # Override the \"defend\" method.\n",
        "    def defend(self, damage):\n",
        "        # Calculate the defense (30% agility, 30% intelligence, 10% strength).\n",
        "        defense = self._agility * 0.3 + self._intelligence * 0.3 + self._strength * 0.1\n",
        "        # Calculate the actual damage (damage - defense).\n",
        "        actual_damage = max(0, damage - defense)\n",
        "        # Reduce the health by the actual damage.\n",
        "        self._health -= actual_damage\n",
        "        # Restore 5 mana points after defending.\n",
        "        self._mana += 5\n",
        "\n",
        "\n",
        "# Create a subclass called \"Warrior\"\n",
        "class Warrior(Character):\n",
        "\n",
        "    # Define the constructor to initialize the attributes.\n",
        "    def __init__(self, name):\n",
        "        super().__init__(name, health=200, mana=0, strength=25, agility=15, intelligence=5)\n",
        "\n",
        "    # Define the \"string\" method to print the\n",
        "    # character's name, class and health (integer).\n",
        "    def __str__(self):\n",
        "        return f\"{self._name} (Warrior): {self._health:.0f} hp\"\n",
        "\n",
        "    # Override the \"attack\" method.\n",
        "    def attack(self, enemy):\n",
        "        # Calculate the damage (80% strength, 50% agility).\n",
        "        damage = self._strength * 0.8 + self._agility * 0.5\n",
        "        # Apply a random multiplier between 0.8 and 1.2 to the damage.\n",
        "        damage *= random.uniform(0.8, 1.2)\n",
        "        # Make the enemy defend the damage.\n",
        "        enemy.defend(damage)\n",
        "        # 20% chance to hit twice\n",
        "        if random.random() <= 0.2:\n",
        "            # Make the enemy defend the damage again.\n",
        "            enemy.defend(damage)\n",
        "\n",
        "    # Override the \"defend\" method.\n",
        "    def defend(self, damage):\n",
        "        # Calculate the defense (10% agility, 10% intelligence, 10% strength).\n",
        "        defense = self._agility * 0.1 + self._intelligence * 0.1 + self._strength * 0.1\n",
        "        # Calculate the actual damage (damage - defense).\n",
        "        actual_damage = max(0, damage - defense)\n",
        "        # Reduce the health by the actual damage.\n",
        "        self._health -= actual_damage\n",
        "\n",
        "        # If the Warrior is still alive after defending:\n",
        "        if self.is_alive:\n",
        "            # Heal for 5 health points.\n",
        "            self._health += 5\n",
        "            # Make sure health is not greater than 200 (maximum).\n",
        "            self._health = min(self._health, 200)\n",
        "\n",
        "\n",
        "# Create a list of characters\n",
        "characters = [Paladin(\"Galahad\"), Mage(\"Lyra\"), Warrior(\"Ragnar\")]\n",
        "\n",
        "# Choose a character\n",
        "print(\"Pick a hero:\")\n",
        "for i, character in enumerate(characters):\n",
        "    print(f\"{i+1}: {character}\")\n",
        "choice = int(input(\"> \")) - 1\n",
        "player = characters[choice]\n",
        "\n",
        "# Create a random enemy\n",
        "enemies = [Paladin(\"Godfrey\"), Mage(\"Magnus\"), Warrior(\"Galen\")]\n",
        "enemy = random.choice(enemies)\n",
        "\n",
        "# Fight!\n",
        "print(f\"You encounter {enemy}!\")\n",
        "turn = 1\n",
        "while player.is_alive and enemy.is_alive:\n",
        "    if turn == 1:\n",
        "        print(f\"{player} attacks {enemy}!\")\n",
        "        player.attack(enemy)\n",
        "        turn = 2\n",
        "    elif turn == 2:\n",
        "        print(f\"{enemy} attacks {player}!\")\n",
        "        enemy.attack(player)\n",
        "        turn = 1\n",
        "if player.is_alive:\n",
        "    print(f\"{player} has won the battle!\")\n",
        "else:\n",
        "    print(f\"{enemy} has won the battle!\")\n"
      ],
      "metadata": {
        "id": "cB_acYF_Fewh",
        "cellView": "form"
      },
      "execution_count": null,
      "outputs": []
    }
  ]
}