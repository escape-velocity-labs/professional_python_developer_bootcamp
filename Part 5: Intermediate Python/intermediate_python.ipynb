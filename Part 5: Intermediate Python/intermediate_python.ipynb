{
  "nbformat": 4,
  "nbformat_minor": 0,
  "metadata": {
    "colab": {
      "provenance": [],
      "collapsed_sections": [
        "GUATdg4P2_HG",
        "RNFTAF1L3Lzi",
        "I-vmNnroAP1C",
        "9KrSq81YDrZY",
        "QJw8Ki0VDkPJ",
        "6FuCy3G1M8iT",
        "VXD3_UmpNSdP",
        "VJ1ss21DNM_x",
        "kWDXLfQVNVu4",
        "idtkaHJ75LDZ",
        "AooTB-7x5FLR",
        "2RymcIjL5vh9",
        "m2C_sWtXt32N",
        "pFYkIRGmt6Nl",
        "xYRpDbf69xmL",
        "pTy74G5G_Nzx",
        "1MeUucugDdoI",
        "iU6XrKGjbZhp",
        "lFsvHr8BaB61",
        "YniVurVFx-4s"
      ]
    },
    "kernelspec": {
      "name": "python3",
      "display_name": "Python 3"
    },
    "language_info": {
      "name": "python"
    }
  },
  "cells": [
    {
      "cell_type": "markdown",
      "source": [
        "# 5. Intermediate Python"
      ],
      "metadata": {
        "id": "GU3yqFEnaBwx"
      }
    },
    {
      "cell_type": "markdown",
      "source": [
        "## 5.1 Higher-order functions"
      ],
      "metadata": {
        "id": "cNg1DDVfaB1w"
      }
    },
    {
      "cell_type": "markdown",
      "source": [
        "### 5.1.1 `function` is just another type of value"
      ],
      "metadata": {
        "id": "GUATdg4P2_HG"
      }
    },
    {
      "cell_type": "code",
      "source": [
        "def return_zero():\n",
        "    return 0"
      ],
      "metadata": {
        "id": "Vd_zt3AFtEc7"
      },
      "execution_count": null,
      "outputs": []
    },
    {
      "cell_type": "code",
      "source": [
        "print(return_zero)"
      ],
      "metadata": {
        "id": "4yuyHMn5utCR"
      },
      "execution_count": null,
      "outputs": []
    },
    {
      "cell_type": "code",
      "source": [
        "my_function = return_zero\n",
        "\n",
        "print(my_function)"
      ],
      "metadata": {
        "id": "m_1_KPq-iYNI"
      },
      "execution_count": null,
      "outputs": []
    },
    {
      "cell_type": "code",
      "source": [
        "print([my_function, return_zero])"
      ],
      "metadata": {
        "id": "s6kAZdB1v_cd"
      },
      "execution_count": null,
      "outputs": []
    },
    {
      "cell_type": "code",
      "source": [
        "print({\"return_zero\": return_zero})"
      ],
      "metadata": {
        "id": "CbM6__rQv_hN"
      },
      "execution_count": null,
      "outputs": []
    },
    {
      "cell_type": "code",
      "source": [
        "type(return_zero)"
      ],
      "metadata": {
        "id": "PYDcqNKTv_kS"
      },
      "execution_count": null,
      "outputs": []
    },
    {
      "cell_type": "markdown",
      "source": [
        "### 5.1.2 Overview of higher-order functions"
      ],
      "metadata": {
        "id": "RNFTAF1L3Lzi"
      }
    },
    {
      "cell_type": "code",
      "source": [
        "def sum_until(numbers, stop_condition):\n",
        "    total = 0\n",
        "    for n in numbers:\n",
        "        total += n\n",
        "        if stop_condition(total):\n",
        "            break\n",
        "    return total"
      ],
      "metadata": {
        "id": "uZczLi_k3MFk"
      },
      "execution_count": null,
      "outputs": []
    },
    {
      "cell_type": "code",
      "source": [
        "numbers = [5, 1, 5, 8, 2, 7, 9, 9, 8, 4, 3, 7, 2, 7, 5]"
      ],
      "metadata": {
        "id": "vi20o1fQ3MI3"
      },
      "execution_count": null,
      "outputs": []
    },
    {
      "cell_type": "code",
      "source": [
        "def over_fifty_and_even(number):\n",
        "    return number > 50 and number % 2 == 0"
      ],
      "metadata": {
        "id": "KXIrJK7R3MSD"
      },
      "execution_count": null,
      "outputs": []
    },
    {
      "cell_type": "code",
      "source": [
        "total = sum_until(numbers, over_fifty_and_even)\n",
        "print(total)"
      ],
      "metadata": {
        "id": "TaSK2shC6M10"
      },
      "execution_count": null,
      "outputs": []
    },
    {
      "cell_type": "code",
      "source": [
        "def ends_with_eight(number):\n",
        "    return number % 10 == 8"
      ],
      "metadata": {
        "id": "_gOuk9d06M4J"
      },
      "execution_count": null,
      "outputs": []
    },
    {
      "cell_type": "code",
      "source": [
        "total = sum_until(numbers, ends_with_eight)\n",
        "print(total)"
      ],
      "metadata": {
        "id": "2D4SAF3y3MU0"
      },
      "execution_count": null,
      "outputs": []
    },
    {
      "cell_type": "markdown",
      "source": [
        "### 5.1.3 `lambda` functions"
      ],
      "metadata": {
        "id": "I-vmNnroAP1C"
      }
    },
    {
      "cell_type": "code",
      "source": [
        "lambda number: number % 10 == 8"
      ],
      "metadata": {
        "id": "pJDYFvo3BR_Q"
      },
      "execution_count": null,
      "outputs": []
    },
    {
      "cell_type": "code",
      "source": [
        "my_favourite_function = lambda number: number % 10 == 8"
      ],
      "metadata": {
        "id": "GhurbXpFBSBw"
      },
      "execution_count": null,
      "outputs": []
    },
    {
      "cell_type": "code",
      "source": [
        "my_favourite_function(48)"
      ],
      "metadata": {
        "id": "cfj4_d7wBSE8"
      },
      "execution_count": null,
      "outputs": []
    },
    {
      "cell_type": "code",
      "source": [
        "my_favourite_function(52)"
      ],
      "metadata": {
        "id": "SaFT4b87C22V"
      },
      "execution_count": null,
      "outputs": []
    },
    {
      "cell_type": "code",
      "source": [
        "total = sum_until(numbers, lambda number: number % 10 == 8)\n",
        "print(total)"
      ],
      "metadata": {
        "id": "s_W0VwFIv_nv"
      },
      "execution_count": null,
      "outputs": []
    },
    {
      "cell_type": "code",
      "source": [
        "total = sum_until(numbers, lambda number: number > 50 and number % 2 == 0)\n",
        "print(total)"
      ],
      "metadata": {
        "id": "YpWcwy8HiYNL"
      },
      "execution_count": null,
      "outputs": []
    },
    {
      "cell_type": "markdown",
      "source": [
        "### 5.1.4 Higher-order functions: `map` and `filter`"
      ],
      "metadata": {
        "id": "9KrSq81YDrZY"
      }
    },
    {
      "cell_type": "code",
      "source": [
        "songs = [{\"name\": \"Bohemian Rhapsody\", \"genre\": \"Rock\", \"artist\": \"Queen\", \"duration\": 354, \"release year\": 1975}, {\"name\": \"Stairway to Heaven\", \"genre\": \"Rock\", \"artist\": \"Led Zeppelin\", \"duration\": 482, \"release year\": 1971}, {\"name\": \"Born to Run\", \"genre\": \"Rock\", \"artist\": \"Bruce Springsteen\", \"duration\": 290, \"release year\": 1975}, {\"name\": \"Superstition\", \"genre\": \"Soul\", \"artist\": \"Stevie Wonder\", \"duration\": 271, \"release year\": 1972}, {\"name\": \"Purple Rain\", \"genre\": \"Rock\", \"artist\": \"Prince\", \"duration\": 508, \"release year\": 1984}, {\"name\": \"Billie Jean\", \"genre\": \"Pop\", \"artist\": \"Michael Jackson\", \"duration\": 295, \"release year\": 1983}, {\"name\": \"What's Going On\", \"genre\": \"Soul\", \"artist\": \"Marvin Gaye\", \"duration\": 211, \"release year\": 1971}, {\"name\": \"Sweet Child o' Mine\", \"genre\": \"Rock\", \"artist\": \"Guns N' Roses\", \"duration\": 356, \"release year\": 1987}, {\"name\": \"Kiss\", \"genre\": \"Rock\", \"artist\": \"Prince\", \"duration\": 224, \"release year\": 1986}, {\"name\": \"The Way You Make Me Feel\", \"genre\": \"Pop\", \"artist\": \"Michael Jackson\", \"duration\": 244, \"release year\": 1987}, {\"name\": \"Smooth Operator\", \"genre\": \"Jazz\", \"artist\": \"Sade\", \"duration\": 270, \"release year\": 1984}, {\"name\": \"Sweet Home Alabama\", \"genre\": \"Rock\", \"artist\": \"Lynyrd Skynyrd\", \"duration\": 303, \"release year\": 1974}, {\"name\": \"Another Brick in the Wall\", \"genre\": \"Rock\", \"artist\": \"Pink Floyd\", \"duration\": 386, \"release year\": 1979}, {\"name\": \"The Message\", \"genre\": \"Hip Hop\", \"artist\": \"Grandmaster Flash and the Furious Five\", \"duration\": 363, \"release year\": 1982}, {\"name\": \"Hotel California\", \"genre\": \"Rock\", \"artist\": \"Eagles\", \"duration\": 391, \"release year\": 1976}, {\"name\": \"I Will Always Love You\", \"genre\": \"Pop\", \"artist\": \"Whitney Houston\", \"duration\": 271, \"release year\": 1992}, {\"name\": \"Bittersweet Symphony\", \"genre\": \"Rock\", \"artist\": \"The Verve\", \"duration\": 298, \"release year\": 1997}, {\"name\": \"Come Away With Me\", \"genre\": \"Jazz\", \"artist\": \"Norah Jones\", \"duration\": 204, \"release year\": 2002}, {\"name\": \"Wonderwall\", \"genre\": \"Rock\", \"artist\": \"Oasis\", \"duration\": 258, \"release year\": 1995}, {\"name\": \"Living On A Prayer\", \"genre\": \"Rock\", \"artist\": \"Bon Jovi\", \"duration\": 247, \"release year\": 1986}, {\"name\": \"I Want To Hold Your Hand\", \"genre\": \"Rock\", \"artist\": \"The Beatles\", \"duration\": 150, \"release year\": 1963}, {\"name\": \"Killing Me Softly With His Song\", \"genre\": \"Soul\", \"artist\": \"Roberta Flack\", \"duration\": 276, \"release year\": 1973}, {\"name\": \"Wonderful Tonight\", \"genre\": \"Rock\", \"artist\": \"Eric Clapton\", \"duration\": 233, \"release year\": 1977}, {\"name\": \"September\", \"genre\": \"Disco\", \"artist\": \"Earth, Wind & Fire\", \"duration\": 215, \"release year\": 1978}, {\"name\": \"Every Breath You Take\", \"genre\": \"Pop\", \"artist\": \"The Police\", \"duration\": 243, \"release year\": 1983}, {\"name\": \"I Heard It Through The Grapevine\", \"genre\": \"Soul\", \"artist\": \"Marvin Gaye\", \"duration\": 215, \"release year\": 1968}, {\"name\": \"The Boys Are Back In Town\", \"genre\": \"Rock\", \"artist\": \"Thin Lizzy\", \"duration\": 263, \"release year\": 1976}, {\"name\": \"Me And Bobby McGee\", \"genre\": \"Country\", \"artist\": \"Janis Joplin\", \"duration\": 248, \"release year\": 1971}, {\"name\": \"Landslide\", \"genre\": \"Rock\", \"artist\": \"Fleetwood Mac\", \"duration\": 210, \"release year\": 1975}, {\"name\": \"L-O-V-E\", \"genre\": \"Jazz\", \"artist\": \"Nat King Cole\", \"duration\": 163, \"release year\": 1965}, {\"name\": \"You've Got A Friend\", \"genre\": \"Folk\", \"artist\": \"James Taylor\", \"duration\": 293, \"release year\": 1971}, {\"name\": \"Bad Moon Rising\", \"genre\": \"Rock\", \"artist\": \"Creedence Clearwater Revival\", \"duration\": 141, \"release year\": 1969}, {\"name\": \"My Girl\", \"genre\": \"Soul\", \"artist\": \"The Temptations\", \"duration\": 170, \"release year\": 1965}, {\"name\": \"Endless Love\", \"genre\": \"Pop\", \"artist\": \"Diana Ross and Lionel Richie\", \"duration\": 273, \"release year\": 1981}, {\"name\": \"Heart of Glass\", \"genre\": \"Disco\", \"artist\": \"Blondie\", \"duration\": 242, \"release year\": 1979}, {\"name\": \"Fly Me To The Moon\", \"genre\": \"Jazz\", \"artist\": \"Frank Sinatra\", \"duration\": 187, \"release year\": 1964}, {\"name\": \"Black Hole Sun\", \"genre\": \"Rock\", \"artist\": \"Soundgarden\", \"duration\": 320, \"release year\": 1994}]"
      ],
      "metadata": {
        "id": "yEzGs7wjKpN1"
      },
      "execution_count": null,
      "outputs": []
    },
    {
      "cell_type": "code",
      "source": [
        "durations = map(lambda x: x['duration'], songs)\n",
        "total_duration = sum(durations)\n",
        "\n",
        "print(total_duration)"
      ],
      "metadata": {
        "id": "y6FDs19LKpfI"
      },
      "execution_count": null,
      "outputs": []
    },
    {
      "cell_type": "code",
      "source": [
        "rock_playlist = filter(lambda x: x['genre'] == 'Rock', songs)\n",
        "\n",
        "print(list(rock_playlist))"
      ],
      "metadata": {
        "id": "VdPJh8UrdMmV"
      },
      "execution_count": null,
      "outputs": []
    },
    {
      "cell_type": "code",
      "source": [
        "soul_playlist = filter(lambda x: x['genre'] == 'Soul', songs)\n",
        "\n",
        "print(list(soul_playlist))"
      ],
      "metadata": {
        "id": "7bsj2uHEdMox"
      },
      "execution_count": null,
      "outputs": []
    },
    {
      "cell_type": "code",
      "source": [
        "jazz_playlist = filter(lambda x: x['genre'] == 'Jazz', songs)\n",
        "\n",
        "print(list(jazz_playlist))"
      ],
      "metadata": {
        "id": "pLygJwaqhx9T"
      },
      "execution_count": null,
      "outputs": []
    },
    {
      "cell_type": "code",
      "source": [
        "seventies_playlist = filter(lambda x: 1970 <= x['release year'] <= 1979, songs)\n",
        "\n",
        "print(list(seventies_playlist))"
      ],
      "metadata": {
        "id": "X03J2EnPhyAD"
      },
      "execution_count": null,
      "outputs": []
    },
    {
      "cell_type": "code",
      "source": [
        "eighties_playlist = filter(lambda x: 1980 <= x['release year'] <= 1989, songs)\n",
        "\n",
        "print(list(eighties_playlist))"
      ],
      "metadata": {
        "id": "p51r9d-8hye_"
      },
      "execution_count": null,
      "outputs": []
    },
    {
      "cell_type": "code",
      "source": [
        "nineties_playlist = filter(lambda x: 1990 <= x['release year'] <= 1999, songs)\n",
        "\n",
        "print(list(nineties_playlist))"
      ],
      "metadata": {
        "id": "5-SpYoh1dMrP"
      },
      "execution_count": null,
      "outputs": []
    },
    {
      "cell_type": "markdown",
      "source": [
        "### 5.1.5 Higher-order functions: `sorted`"
      ],
      "metadata": {
        "id": "QJw8Ki0VDkPJ"
      }
    },
    {
      "cell_type": "code",
      "source": [
        "numbers = [3, 5, 1, 2, 4, 1, 9, 6, 7, 1, 5]\n",
        "sorted_numbers = sorted(numbers)\n",
        "print(sorted_numbers)"
      ],
      "metadata": {
        "id": "lSlWbsERDjh4"
      },
      "execution_count": null,
      "outputs": []
    },
    {
      "cell_type": "code",
      "source": [
        "sorted_songs = sorted(songs)\n",
        "\n",
        "print(sorted_songs)"
      ],
      "metadata": {
        "id": "lM-N_LczKpUV"
      },
      "execution_count": null,
      "outputs": []
    },
    {
      "cell_type": "code",
      "source": [
        "sorted_songs = sorted(songs, key=lambda x: x['name'])\n",
        "\n",
        "print(sorted_songs)"
      ],
      "metadata": {
        "id": "bkjNGdlJKpjl"
      },
      "execution_count": null,
      "outputs": []
    },
    {
      "cell_type": "code",
      "source": [
        "sorted_songs = sorted(songs, key=lambda x: x['artist'])\n",
        "\n",
        "print(sorted_songs)"
      ],
      "metadata": {
        "id": "Q-Id3dqkKpr_"
      },
      "execution_count": null,
      "outputs": []
    },
    {
      "cell_type": "code",
      "source": [
        "sorted_songs = sorted(songs, key=lambda x: x['duration'])\n",
        "\n",
        "print(sorted_songs)"
      ],
      "metadata": {
        "id": "e8ZSyIT3Kpu9"
      },
      "execution_count": null,
      "outputs": []
    },
    {
      "cell_type": "markdown",
      "source": [
        "## 5.2 Comprehensions"
      ],
      "metadata": {
        "id": "T1uHkDgLaB4A"
      }
    },
    {
      "cell_type": "markdown",
      "source": [
        "### 5.2.1 List comprehensions"
      ],
      "metadata": {
        "id": "6FuCy3G1M8iT"
      }
    },
    {
      "cell_type": "code",
      "source": [
        "number_list = [1,2,3,4,5,6,7,8,9,10]"
      ],
      "metadata": {
        "id": "9eNLdr_FMZ09"
      },
      "execution_count": null,
      "outputs": []
    },
    {
      "cell_type": "code",
      "source": [
        "def squares(nums):\n",
        "    result = []\n",
        "    for num in nums:\n",
        "        result.append(num**2)\n",
        "    return result\n",
        "\n",
        "print(squares(number_list))"
      ],
      "metadata": {
        "id": "8bJvHa2qiYNM"
      },
      "execution_count": null,
      "outputs": []
    },
    {
      "cell_type": "code",
      "source": [
        "squares = [num**2 for num in range(1, 11)]\n",
        "\n",
        "print(squares)"
      ],
      "metadata": {
        "id": "W9dwZOihLzZj"
      },
      "execution_count": null,
      "outputs": []
    },
    {
      "cell_type": "markdown",
      "source": [
        "### 5.2.2 Set comprehensions"
      ],
      "metadata": {
        "id": "VXD3_UmpNSdP"
      }
    },
    {
      "cell_type": "code",
      "source": [
        "employee_list = [\n",
        "    (\"John\", \"Software Engineer\"),\n",
        "    (\"Jane\", \"Data Analyst\"),\n",
        "    (\"Alex\", \"Project Manager\"),\n",
        "    (\"Bob\", \"Data Analyst\")\n",
        "]"
      ],
      "metadata": {
        "id": "-arj7Lv-SkWR"
      },
      "execution_count": null,
      "outputs": []
    },
    {
      "cell_type": "code",
      "source": [
        "def find_professions(employees):\n",
        "    professions =  set()\n",
        "    for employee in employees:\n",
        "        professions.add(employee[1])\n",
        "    return professions\n",
        "\n",
        "print(find_professions(employee_list))"
      ],
      "metadata": {
        "id": "5mBDM4r6Ssq6"
      },
      "execution_count": null,
      "outputs": []
    },
    {
      "cell_type": "code",
      "source": [
        "professions = {employee[1] for employee in employee_list}\n",
        "\n",
        "print(professions)"
      ],
      "metadata": {
        "id": "aS0qW8DhSstg"
      },
      "execution_count": null,
      "outputs": []
    },
    {
      "cell_type": "markdown",
      "source": [
        "### 5.2.3 Dictionary comprehensions"
      ],
      "metadata": {
        "id": "VJ1ss21DNM_x"
      }
    },
    {
      "cell_type": "code",
      "source": [
        "from string import ascii_lowercase as letters\n",
        "\n",
        "string = \"the quick brown fox jumps over the lazy dog\""
      ],
      "metadata": {
        "id": "9o1ySE-DeLdr"
      },
      "execution_count": null,
      "outputs": []
    },
    {
      "cell_type": "code",
      "source": [
        "def count_letters(s):\n",
        "    counts = {}\n",
        "    for letter in letters:\n",
        "        counts[letter] = string.count(letter)\n",
        "    return counts\n",
        "\n",
        "counts = count_letters(string)\n",
        "print(counts)"
      ],
      "metadata": {
        "id": "Qoknreb0NV03"
      },
      "execution_count": null,
      "outputs": []
    },
    {
      "cell_type": "code",
      "source": [
        "counts_comp = {letter: string.count(letter) for letter in letters}\n",
        "print(counts_comp)"
      ],
      "metadata": {
        "id": "DEJtz-yINV3W"
      },
      "execution_count": null,
      "outputs": []
    },
    {
      "cell_type": "markdown",
      "source": [
        "### 5.2.4 Tuple comprehensions"
      ],
      "metadata": {
        "id": "kWDXLfQVNVu4"
      }
    },
    {
      "cell_type": "code",
      "source": [
        "word_list = ['hello', 'world', 'python', 'comprehension']"
      ],
      "metadata": {
        "id": "PBcLdFA6OH-M"
      },
      "execution_count": null,
      "outputs": []
    },
    {
      "cell_type": "code",
      "source": [
        "def word_lengths(words):\n",
        "    result = []\n",
        "    for word in words:\n",
        "        result.append(len(word))\n",
        "    return tuple(result)\n",
        "\n",
        "print(word_lengths(word_list))"
      ],
      "metadata": {
        "id": "c2OVqz54NU7Z"
      },
      "execution_count": null,
      "outputs": []
    },
    {
      "cell_type": "code",
      "source": [
        "word_lengths = tuple(len(word) for word in word_list)\n",
        "\n",
        "print(word_lengths)"
      ],
      "metadata": {
        "id": "a_wRWkpFN6ZE"
      },
      "execution_count": null,
      "outputs": []
    },
    {
      "cell_type": "markdown",
      "source": [
        "## 5.3 Useful built-in functions"
      ],
      "metadata": {
        "id": "4usPs1oGaBzB"
      }
    },
    {
      "cell_type": "markdown",
      "source": [
        "### 5.3.1 `abs`, `min`, `max`, `round`, `sum` and `pow`"
      ],
      "metadata": {
        "id": "idtkaHJ75LDZ"
      }
    },
    {
      "cell_type": "code",
      "source": [
        "a = -1.2\n",
        "b = 3.44"
      ],
      "metadata": {
        "id": "MtM29to-Gefs"
      },
      "execution_count": null,
      "outputs": []
    },
    {
      "cell_type": "code",
      "source": [
        "abs(a), abs(b)"
      ],
      "metadata": {
        "id": "1KFZ4JIpGejV"
      },
      "execution_count": null,
      "outputs": []
    },
    {
      "cell_type": "code",
      "source": [
        "min(a, b), max(a, b)"
      ],
      "metadata": {
        "id": "mFLYeqrrGem0"
      },
      "execution_count": null,
      "outputs": []
    },
    {
      "cell_type": "code",
      "source": [
        "round(a), round(b)"
      ],
      "metadata": {
        "id": "TcjQ4oOIJlzf"
      },
      "execution_count": null,
      "outputs": []
    },
    {
      "cell_type": "code",
      "source": [
        "sum([a, b])"
      ],
      "metadata": {
        "id": "WUnr3upsJl3g"
      },
      "execution_count": null,
      "outputs": []
    },
    {
      "cell_type": "code",
      "source": [
        "pow(b, a)"
      ],
      "metadata": {
        "id": "zD23YaqTGeqF"
      },
      "execution_count": null,
      "outputs": []
    },
    {
      "cell_type": "markdown",
      "source": [
        "### 5.3.2 `any` and `all`"
      ],
      "metadata": {
        "id": "AooTB-7x5FLR"
      }
    },
    {
      "cell_type": "code",
      "source": [
        "temperatures = [21.2, 18.4, 20.3, 24.7, 26.2, 24.1, 27.3]\n",
        "threshold = 25.0"
      ],
      "metadata": {
        "id": "KVoV32-H5UNn"
      },
      "execution_count": null,
      "outputs": []
    },
    {
      "cell_type": "code",
      "source": [
        "threshold_exceeded = [temp > threshold for temp in temperatures]\n",
        "threshold_exceeded"
      ],
      "metadata": {
        "id": "s-Bu_hOe6Qjv"
      },
      "execution_count": null,
      "outputs": []
    },
    {
      "cell_type": "code",
      "source": [
        "alert = any(threshold_exceeded)\n",
        "if alert:\n",
        "    print(\"Temperature threshold exceeded!\")"
      ],
      "metadata": {
        "id": "nc9IN-sWbb18"
      },
      "execution_count": null,
      "outputs": []
    },
    {
      "cell_type": "code",
      "source": [
        "temperatures_ok = [temp <= threshold for temp in temperatures]\n",
        "temperatures_ok"
      ],
      "metadata": {
        "id": "TWaJDAKS6Wbv"
      },
      "execution_count": null,
      "outputs": []
    },
    {
      "cell_type": "code",
      "source": [
        "under_control = all(temperatures_ok)\n",
        "if under_control:\n",
        "    print(\"Temperature is fine everywhere\")"
      ],
      "metadata": {
        "id": "OP7QjSQB7uka"
      },
      "execution_count": null,
      "outputs": []
    },
    {
      "cell_type": "markdown",
      "source": [
        "### 5.3.3 `enumerate`, `zip` and `reversed`"
      ],
      "metadata": {
        "id": "2RymcIjL5vh9"
      }
    },
    {
      "cell_type": "code",
      "source": [
        "products = [\"Apples\", \"Bananas\", \"Oranges\"]\n",
        "sales_1 = [100, 200, 300]\n",
        "sales_2 = [150, 250, 200]"
      ],
      "metadata": {
        "id": "mu7ZqAs-7vAJ"
      },
      "execution_count": null,
      "outputs": []
    },
    {
      "cell_type": "code",
      "source": [
        "sales_per_product = []\n",
        "\n",
        "for s1, s2 in zip(sales_1, sales_2):\n",
        "    total_product_sales = s1 + s2\n",
        "    sales_per_product.append(total_product_sales)\n",
        "\n",
        "print(sales_per_product)"
      ],
      "metadata": {
        "id": "9Aqc70LDbb18"
      },
      "execution_count": null,
      "outputs": []
    },
    {
      "cell_type": "code",
      "source": [
        "reversed_sales_per_product = reversed(sales_per_product)\n",
        "print(list(reversed_sales_per_product))"
      ],
      "metadata": {
        "id": "iB1PiPCpBWTg"
      },
      "execution_count": null,
      "outputs": []
    },
    {
      "cell_type": "code",
      "source": [
        "for idx, prod in enumerate(products):\n",
        "    print(f\"Sales of {prod} were: {sales_per_product[idx]}\")"
      ],
      "metadata": {
        "id": "UV6ZQcnh-T7y"
      },
      "execution_count": null,
      "outputs": []
    },
    {
      "cell_type": "markdown",
      "source": [
        "## 5.4 Iterables, iterators and generators"
      ],
      "metadata": {
        "id": "C7YqI36AaB9h"
      }
    },
    {
      "cell_type": "markdown",
      "source": [
        "### 5.4.1 Iterables"
      ],
      "metadata": {
        "id": "m2C_sWtXt32N"
      }
    },
    {
      "cell_type": "code",
      "source": [
        "class Fibonacci:\n",
        "\n",
        "    def __init__(self):\n",
        "        self.fib_nums = [0, 1]\n",
        "\n",
        "    def __getitem__(self, index):\n",
        "        if index < 0 or index > 20:\n",
        "            raise IndexError(\"Index is out of range\")\n",
        "        while len(self.fib_nums) <= index:\n",
        "            last, second_last = self.fib_nums[-1], self.fib_nums[-2]\n",
        "            self.fib_nums.append(last + second_last)\n",
        "        return self.fib_nums[index]\n"
      ],
      "metadata": {
        "id": "Ym0bTcjdbq7z"
      },
      "execution_count": null,
      "outputs": []
    },
    {
      "cell_type": "code",
      "source": [
        "fib = Fibonacci()"
      ],
      "metadata": {
        "id": "iYDv9s566zYI"
      },
      "execution_count": null,
      "outputs": []
    },
    {
      "cell_type": "code",
      "source": [
        "fib[12]"
      ],
      "metadata": {
        "id": "Ihq9nAyd6zgm"
      },
      "execution_count": null,
      "outputs": []
    },
    {
      "cell_type": "code",
      "source": [
        "fib[8]"
      ],
      "metadata": {
        "id": "a4yopDn36zi7"
      },
      "execution_count": null,
      "outputs": []
    },
    {
      "cell_type": "code",
      "source": [
        "for f in Fibonacci():\n",
        "    print(f)\n"
      ],
      "metadata": {
        "id": "2VrrRdx_JEM9"
      },
      "execution_count": null,
      "outputs": []
    },
    {
      "cell_type": "markdown",
      "source": [
        "### 5.4.2 Iterators"
      ],
      "metadata": {
        "id": "pFYkIRGmt6Nl"
      }
    },
    {
      "cell_type": "code",
      "source": [
        "class FibonacciIterator:\n",
        "\n",
        "    def __init__(self):\n",
        "        self.current, self.next = 0, 1\n",
        "        self.count = 0\n",
        "\n",
        "    def __next__(self):\n",
        "        if self.count > 20:\n",
        "            raise StopIteration\n",
        "        else:\n",
        "            result = self.current\n",
        "            self.current, self.next = self.next, self.current + self.next\n",
        "            self.count += 1\n",
        "            return result\n"
      ],
      "metadata": {
        "id": "sPzmppxktUXg"
      },
      "execution_count": null,
      "outputs": []
    },
    {
      "cell_type": "code",
      "source": [
        "class Fibonacci:\n",
        "\n",
        "    def __init__(self):\n",
        "        self.fib_nums = [0, 1]\n",
        "\n",
        "    def __iter__(self):\n",
        "        return FibonacciIterator()"
      ],
      "metadata": {
        "id": "epIJENsVtUbb"
      },
      "execution_count": null,
      "outputs": []
    },
    {
      "cell_type": "code",
      "source": [
        "fib = Fibonacci()"
      ],
      "metadata": {
        "id": "DknVoYBxtUfS"
      },
      "execution_count": null,
      "outputs": []
    },
    {
      "cell_type": "code",
      "source": [
        "for f in fib:\n",
        "    print(f)"
      ],
      "metadata": {
        "id": "IY63dnjh6zlY"
      },
      "execution_count": null,
      "outputs": []
    },
    {
      "cell_type": "markdown",
      "source": [
        "### 5.4.3 Generators"
      ],
      "metadata": {
        "id": "xYRpDbf69xmL"
      }
    },
    {
      "cell_type": "code",
      "source": [
        "def count_to(n):\n",
        "    for i in range(1, n+1):\n",
        "        yield i"
      ],
      "metadata": {
        "id": "IPVtDDNWbq72"
      },
      "execution_count": null,
      "outputs": []
    },
    {
      "cell_type": "code",
      "source": [
        "count_to_three = count_to(3)\n",
        "\n",
        "for value in count_to_three:\n",
        "    print(value)"
      ],
      "metadata": {
        "id": "BZ8CDolqtixQ"
      },
      "execution_count": null,
      "outputs": []
    },
    {
      "cell_type": "code",
      "source": [
        "for value in count_to_three:\n",
        "    print(value)"
      ],
      "metadata": {
        "id": "LvxZDHW-ti2U"
      },
      "execution_count": null,
      "outputs": []
    },
    {
      "cell_type": "code",
      "source": [
        "count_to_five = count_to(5)\n",
        "\n",
        "for value in count_to_five:\n",
        "    print(value)\n",
        "    if value > 2:\n",
        "        break"
      ],
      "metadata": {
        "id": "KGKgZtL05JSR"
      },
      "execution_count": null,
      "outputs": []
    },
    {
      "cell_type": "code",
      "source": [
        "for value in count_to_five:\n",
        "    print(value)"
      ],
      "metadata": {
        "id": "ssDC16jx5JXm"
      },
      "execution_count": null,
      "outputs": []
    },
    {
      "cell_type": "markdown",
      "source": [
        "### 5.4.4 Generator expressions"
      ],
      "metadata": {
        "id": "pTy74G5G_Nzx"
      }
    },
    {
      "cell_type": "code",
      "source": [
        "count_to_five = (value for value in range(1, 6))"
      ],
      "metadata": {
        "id": "ZKLyqvu3ti69"
      },
      "execution_count": null,
      "outputs": []
    },
    {
      "cell_type": "code",
      "source": [
        "for value in count_to_five:\n",
        "    print(value)"
      ],
      "metadata": {
        "id": "q6sJkJRD_U2f"
      },
      "execution_count": null,
      "outputs": []
    },
    {
      "cell_type": "markdown",
      "source": [
        "### 5.4.5 More advanced generators"
      ],
      "metadata": {
        "id": "1MeUucugDdoI"
      }
    },
    {
      "cell_type": "code",
      "source": [
        "def fibonacci(n):\n",
        "    current, next = 0, 1\n",
        "    for i in range(n):\n",
        "        yield current\n",
        "        current, next = next, current + next"
      ],
      "metadata": {
        "id": "mpRO7a7J_U8e"
      },
      "execution_count": null,
      "outputs": []
    },
    {
      "cell_type": "code",
      "source": [
        "ten_fibonacci = fibonacci(10)\n",
        "\n",
        "for i, value in enumerate(ten_fibonacci):\n",
        "    print(f\"The {i} Fibonacci number is {value}\")"
      ],
      "metadata": {
        "id": "dmYIcDlw_VCM"
      },
      "execution_count": null,
      "outputs": []
    },
    {
      "cell_type": "markdown",
      "source": [
        "## 5.5 Custom exceptions"
      ],
      "metadata": {
        "id": "iU6XrKGjbZhp"
      }
    },
    {
      "cell_type": "code",
      "source": [
        "class InvalidAgeException(Exception):\n",
        "\n",
        "    def __init__(self, message):\n",
        "        super().__init__(message)"
      ],
      "metadata": {
        "id": "KjVQF5eEbZm_"
      },
      "execution_count": null,
      "outputs": []
    },
    {
      "cell_type": "code",
      "source": [
        "age = input(\"Enter your age: \")\n",
        "if int(age) < 18:\n",
        "    raise InvalidAgeException(\"You must be at least 18 years old.\")\n",
        "else:\n",
        "    print(\"Welcome, come in!\")"
      ],
      "metadata": {
        "id": "6khsILrXbZso"
      },
      "execution_count": null,
      "outputs": []
    },
    {
      "cell_type": "code",
      "source": [
        "class InsufficientFundsException(Exception):\n",
        "\n",
        "    def __init__(self, balance, amount):\n",
        "        super().__init__(f\"You tried to withdraw {amount} but you only have {balance}.\")\n"
      ],
      "metadata": {
        "id": "W8kRwrPzbZqA"
      },
      "execution_count": null,
      "outputs": []
    },
    {
      "cell_type": "code",
      "source": [
        "balance = 2000\n",
        "amount = input(\"How much do you want to withdraw: \")\n",
        "if int(amount) > balance:\n",
        "    raise InsufficientFundsException(balance, amount)\n",
        "else:\n",
        "    print(\"Here's your money!\")"
      ],
      "metadata": {
        "id": "GGc3is83bZvb"
      },
      "execution_count": null,
      "outputs": []
    },
    {
      "cell_type": "markdown",
      "source": [
        "## 5.6 Abstract classes"
      ],
      "metadata": {
        "id": "lFsvHr8BaB61"
      }
    },
    {
      "cell_type": "code",
      "source": [
        "from abc import ABC, abstractmethod\n",
        "\n",
        "class Shape(ABC):\n",
        "\n",
        "    @abstractmethod\n",
        "    def area(self):\n",
        "        pass\n",
        "\n",
        "    @abstractmethod\n",
        "    def perimeter(self):\n",
        "        pass"
      ],
      "metadata": {
        "id": "bhc4Y61Wbq75"
      },
      "execution_count": null,
      "outputs": []
    },
    {
      "cell_type": "code",
      "source": [
        "import math\n",
        "\n",
        "class Circle(Shape):\n",
        "\n",
        "    def __init__(self, radius):\n",
        "        self.radius = radius\n",
        "\n",
        "    def area(self):\n",
        "        return math.pi * (self.radius ** 2)\n",
        "\n",
        "    def perimeter(self):\n",
        "        return 2 * math.pi * self.radius\n",
        "\n",
        "\n",
        "class Rectangle(Shape):\n",
        "\n",
        "    def __init__(self, width, height):\n",
        "        self.width = width\n",
        "        self.height = height\n",
        "\n",
        "    def area(self):\n",
        "        return self.width * self.height\n",
        "\n",
        "    def perimeter(self):\n",
        "        return 2 * (self.width + self.height)"
      ],
      "metadata": {
        "id": "KgXthdY7Cm5-"
      },
      "execution_count": null,
      "outputs": []
    },
    {
      "cell_type": "code",
      "source": [
        "circle = Circle(10)\n",
        "print(circle.area())\n",
        "print(circle.perimeter())"
      ],
      "metadata": {
        "id": "p0cMYzwWCm8T"
      },
      "execution_count": null,
      "outputs": []
    },
    {
      "cell_type": "code",
      "source": [
        "rectangle = Rectangle(width=5, height=7)\n",
        "print(rectangle.area())\n",
        "print(rectangle.perimeter())"
      ],
      "metadata": {
        "id": "a8r6bR0KCm_C"
      },
      "execution_count": null,
      "outputs": []
    },
    {
      "cell_type": "code",
      "source": [
        "class Shape(ABC):\n",
        "\n",
        "    def __init__(self, mass, name):\n",
        "        self.mass = mass\n",
        "        self.name = name\n",
        "\n",
        "    @abstractmethod\n",
        "    def area(self):\n",
        "        pass\n",
        "\n",
        "    @abstractmethod\n",
        "    def perimeter(self):\n",
        "        pass\n",
        "\n",
        "    def density(self):\n",
        "        return self.mass / self.area()"
      ],
      "metadata": {
        "id": "UhK2A5aTCnBk"
      },
      "execution_count": null,
      "outputs": []
    },
    {
      "cell_type": "code",
      "source": [
        "class Circle(Shape):\n",
        "\n",
        "    def __init__(self, radius, mass):\n",
        "        super().__init__(mass, \"Circle\")\n",
        "        self.radius = radius\n",
        "\n",
        "    def area(self):\n",
        "        return math.pi * (self.radius ** 2)\n",
        "\n",
        "    def perimeter(self):\n",
        "        return 2 * math.pi * self.radius\n",
        "\n",
        "\n",
        "class Rectangle(Shape):\n",
        "\n",
        "    def __init__(self, width, height, mass):\n",
        "        super().__init__(mass, \"Rectangle\")\n",
        "        self.width = width\n",
        "        self.height = height\n",
        "\n",
        "    def area(self):\n",
        "        return self.width * self.height\n",
        "\n",
        "    def perimeter(self):\n",
        "        return 2 * (self.width + self.height)"
      ],
      "metadata": {
        "id": "zInIW3Db5I70"
      },
      "execution_count": null,
      "outputs": []
    },
    {
      "cell_type": "code",
      "source": [
        "circle = Circle(radius=12, mass=15)\n",
        "print(circle.name)\n",
        "print(circle.density())"
      ],
      "metadata": {
        "id": "EHBo3ysM5I_v"
      },
      "execution_count": null,
      "outputs": []
    },
    {
      "cell_type": "code",
      "source": [
        "rectangle = Rectangle(width=5, height=7, mass=100)\n",
        "print(rectangle.name)\n",
        "print(rectangle.density())"
      ],
      "metadata": {
        "id": "VmTyHa_X5JC-"
      },
      "execution_count": null,
      "outputs": []
    },
    {
      "cell_type": "markdown",
      "source": [
        "## 5.7 Static and class methods and attributes"
      ],
      "metadata": {
        "id": "YniVurVFx-4s"
      }
    },
    {
      "cell_type": "code",
      "source": [
        "class BankAccount:\n",
        "\n",
        "    bank_name = \"First Ponzi Bank Ltd.\"\n",
        "    total_accounts = 0\n",
        "\n",
        "    def __init__(self, account_number, balance):\n",
        "        self.account_number = account_number\n",
        "        self.balance = balance\n",
        "        BankAccount.total_accounts += 1\n",
        "\n",
        "    def __str__(self):\n",
        "        return f\"{self.account_number}: {self.balance}\"\n",
        "\n",
        "    def deposit(self, amount):\n",
        "        self.balance += amount\n",
        "\n",
        "    def withdraw(self, amount):\n",
        "        if self.balance >= amount:\n",
        "            self.balance -= amount\n",
        "        else:\n",
        "            print(\"Insufficient funds.\")\n",
        "\n",
        "    @classmethod\n",
        "    def get_bank_size(cls):\n",
        "        return f\"{cls.bank_name} has {cls.total_accounts} accounts\"\n",
        "\n",
        "    @staticmethod\n",
        "    def calculate_interest(balance, interest_rate):\n",
        "        return balance * interest_rate / 100\n"
      ],
      "metadata": {
        "id": "D_JlDUc6layM"
      },
      "execution_count": null,
      "outputs": []
    },
    {
      "cell_type": "code",
      "source": [
        "print(BankAccount.bank_name)\n",
        "print(BankAccount.get_bank_size())"
      ],
      "metadata": {
        "id": "bNk2r7Adla1O"
      },
      "execution_count": null,
      "outputs": []
    },
    {
      "cell_type": "code",
      "source": [
        "account = BankAccount(\"#0001\", 1000)"
      ],
      "metadata": {
        "id": "HAi_R5rnla3d"
      },
      "execution_count": null,
      "outputs": []
    },
    {
      "cell_type": "code",
      "source": [
        "account.deposit(500)\n",
        "account.withdraw(300)\n",
        "print(account)"
      ],
      "metadata": {
        "id": "PO1hwbrjla6I"
      },
      "execution_count": null,
      "outputs": []
    },
    {
      "cell_type": "code",
      "source": [
        "BankAccount.calculate_interest(2000, 5)"
      ],
      "metadata": {
        "id": "Q2maMOmnla8r"
      },
      "execution_count": null,
      "outputs": []
    }
  ]
}