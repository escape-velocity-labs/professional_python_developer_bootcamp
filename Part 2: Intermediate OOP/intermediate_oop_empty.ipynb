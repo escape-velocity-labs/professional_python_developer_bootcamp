{
  "nbformat": 4,
  "nbformat_minor": 0,
  "metadata": {
    "colab": {
      "provenance": []
    },
    "kernelspec": {
      "name": "python3",
      "display_name": "Python 3"
    },
    "language_info": {
      "name": "python"
    }
  },
  "cells": [
    {
      "cell_type": "markdown",
      "source": [
        "# 2. Intermediate object-oriented programming"
      ],
      "metadata": {
        "id": "ciff1lgTzbM-"
      }
    },
    {
      "cell_type": "markdown",
      "source": [
        "## 2.1 Inheritance: building the base class"
      ],
      "metadata": {
        "id": "mY-_hd_tHt-M"
      }
    },
    {
      "cell_type": "code",
      "source": [],
      "metadata": {
        "id": "cIDl62KZzcq4"
      },
      "execution_count": null,
      "outputs": []
    },
    {
      "cell_type": "code",
      "source": [],
      "metadata": {
        "id": "-HU0proTzctl"
      },
      "execution_count": null,
      "outputs": []
    },
    {
      "cell_type": "code",
      "source": [],
      "metadata": {
        "id": "a1tLiLrvzcwm"
      },
      "execution_count": null,
      "outputs": []
    },
    {
      "cell_type": "code",
      "source": [],
      "metadata": {
        "id": "O5VKK23lVXv5"
      },
      "execution_count": null,
      "outputs": []
    },
    {
      "cell_type": "code",
      "source": [],
      "metadata": {
        "id": "SMPYwx2WVX0Z"
      },
      "execution_count": null,
      "outputs": []
    },
    {
      "cell_type": "markdown",
      "source": [
        "## 2.2 Inheritance: building the derived classes"
      ],
      "metadata": {
        "id": "HLlvC54qHuA4"
      }
    },
    {
      "cell_type": "code",
      "source": [],
      "metadata": {
        "id": "PLPP1SPNzczh"
      },
      "execution_count": null,
      "outputs": []
    },
    {
      "cell_type": "code",
      "source": [],
      "metadata": {
        "id": "CxVNM7G5zc2e"
      },
      "execution_count": null,
      "outputs": []
    },
    {
      "cell_type": "code",
      "source": [],
      "metadata": {
        "id": "zMKZsPTGzc5b"
      },
      "execution_count": null,
      "outputs": []
    },
    {
      "cell_type": "code",
      "source": [],
      "metadata": {
        "id": "7jS84HRazc_g"
      },
      "execution_count": null,
      "outputs": []
    },
    {
      "cell_type": "code",
      "source": [],
      "metadata": {
        "id": "iHQrNI1wues-"
      },
      "execution_count": null,
      "outputs": []
    },
    {
      "cell_type": "code",
      "source": [],
      "metadata": {
        "id": "Gmg6ZyH-zc8c"
      },
      "execution_count": null,
      "outputs": []
    },
    {
      "cell_type": "code",
      "source": [],
      "metadata": {
        "id": "hQWIMHKCzdCJ"
      },
      "execution_count": null,
      "outputs": []
    },
    {
      "cell_type": "markdown",
      "source": [
        "## 2.3 Polymorphism: method overriding"
      ],
      "metadata": {
        "id": "LAmKFDEDHuDh"
      }
    },
    {
      "cell_type": "code",
      "source": [],
      "metadata": {
        "id": "vPKWzVAUzdK9"
      },
      "execution_count": null,
      "outputs": []
    },
    {
      "cell_type": "code",
      "source": [],
      "metadata": {
        "id": "UIbl_NYDxhDP"
      },
      "execution_count": null,
      "outputs": []
    },
    {
      "cell_type": "code",
      "source": [],
      "metadata": {
        "id": "fLr_w-TQxhGs"
      },
      "execution_count": null,
      "outputs": []
    },
    {
      "cell_type": "code",
      "source": [],
      "metadata": {
        "id": "N81vzHY4xhJr"
      },
      "execution_count": null,
      "outputs": []
    },
    {
      "cell_type": "code",
      "source": [],
      "metadata": {
        "id": "1SeF6b9Hu55U"
      },
      "execution_count": null,
      "outputs": []
    },
    {
      "cell_type": "markdown",
      "source": [
        "## 2.4 Encapsulation: public and private members"
      ],
      "metadata": {
        "id": "Y7obb7I_K4XG"
      }
    },
    {
      "cell_type": "code",
      "source": [],
      "metadata": {
        "id": "KpPLYSyIu57b"
      },
      "execution_count": null,
      "outputs": []
    },
    {
      "cell_type": "code",
      "source": [],
      "metadata": {
        "id": "2i_qAxJEu59j"
      },
      "execution_count": null,
      "outputs": []
    },
    {
      "cell_type": "code",
      "source": [],
      "metadata": {
        "id": "Lbvpb8RIu5_p"
      },
      "execution_count": null,
      "outputs": []
    },
    {
      "cell_type": "code",
      "source": [],
      "metadata": {
        "id": "VMnQnq9dxhN5"
      },
      "execution_count": null,
      "outputs": []
    },
    {
      "cell_type": "markdown",
      "source": [
        "## 2.5 Encapsulation: attribute scrambling"
      ],
      "metadata": {
        "id": "IyaH2xo0LCJU"
      }
    },
    {
      "cell_type": "code",
      "source": [],
      "metadata": {
        "id": "tIS3L6qozdQl"
      },
      "execution_count": null,
      "outputs": []
    },
    {
      "cell_type": "code",
      "source": [],
      "metadata": {
        "id": "JdHenkSmzdTW"
      },
      "execution_count": null,
      "outputs": []
    },
    {
      "cell_type": "code",
      "source": [],
      "metadata": {
        "id": "2lYe8cFbzdWX"
      },
      "execution_count": null,
      "outputs": []
    },
    {
      "cell_type": "code",
      "source": [],
      "metadata": {
        "id": "8kdJh3QizdZi"
      },
      "execution_count": null,
      "outputs": []
    },
    {
      "cell_type": "markdown",
      "source": [
        "## 2.6 Setters and getters"
      ],
      "metadata": {
        "id": "jmTzbewfLNuK"
      }
    },
    {
      "cell_type": "code",
      "source": [],
      "metadata": {
        "id": "VEvH62_sMTx_"
      },
      "execution_count": null,
      "outputs": []
    },
    {
      "cell_type": "code",
      "source": [],
      "metadata": {
        "id": "TnjLECh1tkaC"
      },
      "execution_count": null,
      "outputs": []
    },
    {
      "cell_type": "code",
      "source": [],
      "metadata": {
        "id": "N-b5P0bQtkcV"
      },
      "execution_count": null,
      "outputs": []
    },
    {
      "cell_type": "code",
      "source": [],
      "metadata": {
        "id": "RxESEvAStkfc"
      },
      "execution_count": null,
      "outputs": []
    },
    {
      "cell_type": "code",
      "source": [],
      "metadata": {
        "id": "VrMhP_EBBz7x"
      },
      "execution_count": null,
      "outputs": []
    },
    {
      "cell_type": "code",
      "source": [],
      "metadata": {
        "id": "TPP56yUDCBm2"
      },
      "execution_count": null,
      "outputs": []
    },
    {
      "cell_type": "code",
      "source": [],
      "metadata": {
        "id": "ns_yP7OYtkiR"
      },
      "execution_count": null,
      "outputs": []
    },
    {
      "cell_type": "code",
      "source": [],
      "metadata": {
        "id": "o8trj5MNz_KS"
      },
      "execution_count": null,
      "outputs": []
    },
    {
      "cell_type": "code",
      "source": [],
      "metadata": {
        "id": "oPWecbLwtkk3"
      },
      "execution_count": null,
      "outputs": []
    },
    {
      "cell_type": "markdown",
      "source": [
        "## 2.7 Calling a method of the superclass with `super`"
      ],
      "metadata": {
        "id": "Pe1lcTpiDLjy"
      }
    },
    {
      "cell_type": "code",
      "source": [],
      "metadata": {
        "id": "eEOxYso2LNEZ"
      },
      "execution_count": null,
      "outputs": []
    },
    {
      "cell_type": "code",
      "source": [],
      "metadata": {
        "id": "ASU7dJYnLNHL"
      },
      "execution_count": null,
      "outputs": []
    },
    {
      "cell_type": "code",
      "source": [],
      "metadata": {
        "id": "ZfwVaIWGxhX4"
      },
      "execution_count": null,
      "outputs": []
    },
    {
      "cell_type": "code",
      "source": [],
      "metadata": {
        "id": "7dkQ8o6rEmaR"
      },
      "execution_count": null,
      "outputs": []
    },
    {
      "cell_type": "code",
      "source": [],
      "metadata": {
        "id": "G4F5JhoqxhbX"
      },
      "execution_count": null,
      "outputs": []
    },
    {
      "cell_type": "code",
      "source": [],
      "metadata": {
        "id": "2YfzQZqaC54t"
      },
      "execution_count": null,
      "outputs": []
    },
    {
      "cell_type": "code",
      "source": [],
      "metadata": {
        "id": "6bcJF91gC57O"
      },
      "execution_count": null,
      "outputs": []
    },
    {
      "cell_type": "code",
      "source": [],
      "metadata": {
        "id": "H0vS6mloC594"
      },
      "execution_count": null,
      "outputs": []
    },
    {
      "cell_type": "markdown",
      "source": [
        "# Code project: Role-playing game (RPG)\n",
        "\n",
        "In this project, you will be creating a simple RPG (Role-Playing Game). In it, our hero will fight an enemy. There are three unique character classes: `Paladin`, `Mage` and `Warrior`. Each type has strengths and weaknesses.\n",
        "\n",
        "Characters have several attributes:\n",
        "\n",
        "<br>\n",
        "\n",
        "#### **Health:**\n",
        "\n",
        "Non-negative value that defines how much damage the character can take. When a character is attacked, their health points decrease. When the health points go to 0, the character is dead.\n",
        "\n",
        "\n",
        "#### **Mana:**\n",
        "Mana is a resource that some characters use to cast spells and use special abilities. When they do, mana is consumed. When mana is insufficient, the characters cannot use those special abilities.\n",
        "\n",
        "\n",
        "\n",
        "#### **Agility, intelligence and strength:**\n",
        "\n",
        "Attributes of the character that determine how much damage they inflict on the enemy when they attack and how much damage they receive when they are attacked by the enemy.\n",
        "\n",
        "\n",
        "<br>\n",
        "\n",
        "#### **Game mechanics:**\n",
        "\n",
        "We must choose our hero (Paladin, Mage or Warrior). Then, an enemy of one of these classes will appear and the battle will begin.\n",
        "\n",
        "The caracters will take turns attacking each other and defending enemy strikes.\n",
        "When a given character attacks, the other defends, and vice versa. The last fighter standing wins the battle.\n",
        "\n",
        "<br>\n",
        "\n",
        "Sharpen your sword, draw your wand, and let the battle begin!\n",
        "\n",
        "<br>\n"
      ],
      "metadata": {
        "id": "PiPETOGPzboL"
      }
    },
    {
      "cell_type": "code",
      "source": [
        "\n",
        "import random\n",
        "\n",
        "# Create a parent class called \"Character\".\n",
        "class Character:\n",
        "\n",
        "    # Define the constructor to initialize the attributes.\n",
        "    def __init__(self, name, health, mana, strength, agility, intelligence):\n",
        "        self._name = name\n",
        "        self._health = health\n",
        "        self._mana = mana\n",
        "        self._strength = strength\n",
        "        self._agility = agility\n",
        "        self._intelligence = intelligence\n",
        "\n",
        "    # Define the \"attack\" method (to be implemented by the subclasses).\n",
        "    def attack(self, enemy):\n",
        "        raise NotImplementedError\n",
        "\n",
        "    # Define the \"defend\" method (to be implemented by the subclasses).\n",
        "    def defend(self, damage):\n",
        "        raise NotImplementedError\n",
        "\n",
        "    # Define a property to check if the character is alive.\n",
        "    @property\n",
        "    def is_alive(self):\n",
        "        return self._health > 0\n",
        "\n",
        "\n",
        "# Create a subclass called \"Paladin\".\n",
        "class Paladin(Character):\n",
        "\n",
        "    # Define the constructor to initialize the attributes.\n",
        "    def __init__(self, name):\n",
        "        super().__init__(name, health=150, mana=100, strength=20, agility=10, intelligence=10)\n",
        "\n",
        "    # Define the \"string\" method to print the\n",
        "    # character's name, class and health (integer).\n",
        "    def __str__(self):\n",
        "        pass\n",
        "\n",
        "    # Override the \"attack\" method.\n",
        "    def attack(self, enemy):\n",
        "        pass\n",
        "        # Calculate the damage (80% strength, 50% agility, 50% intelligence).\n",
        "\n",
        "        # Apply a random multiplier between 0.8 and 1.2 to the damage.\n",
        "\n",
        "        # Make the enemy defend the damage.\n",
        "\n",
        "        # Check if the paladin has enough mana to heal (costs 10 mana).\n",
        "\n",
        "            # Reduce their mana level by 10.\n",
        "\n",
        "            # Heal the paladin by 5 hp.\n",
        "\n",
        "            # Make sure health is not greater than 150 (maximum).\n",
        "\n",
        "    # Override the \"defend\" method.\n",
        "    def defend(self, damage):\n",
        "        pass\n",
        "        # Calculate the defense (50% agility, 30% intelligence, 20% strength).\n",
        "\n",
        "        # Calculate the actual damage (damage - defense).\n",
        "\n",
        "        # Reduce the health by the actual damage.\n",
        "\n",
        "\n",
        "\n",
        "# Create a subclass called \"Mage\"\n",
        "class Mage(Character):\n",
        "\n",
        "    # Define the constructor to initialize the attributes.\n",
        "    def __init__(self, name):\n",
        "        super().__init__(name, health=100, mana=150, strength=10, agility=10, intelligence=20)\n",
        "\n",
        "    # Define the \"string\" method to print the\n",
        "    # character's name, class and health (integer).\n",
        "    def __str__(self):\n",
        "        pass\n",
        "\n",
        "    # Override the \"attack\" method.\n",
        "    def attack(self, enemy):\n",
        "        pass\n",
        "        # Check if there is enough mana to cast a stronger spell.\n",
        "\n",
        "            # Reduce the mana level by 20 points.\n",
        "\n",
        "            # Calculate the damage (200% intelligence).\n",
        "\n",
        "        # If there is not enough mana, cast a weaker spell\n",
        "\n",
        "            # Calculate the damage (100% intelligence).\n",
        "\n",
        "        # Apply a random multiplier between 0.8 and 1.2 to the damage.\n",
        "\n",
        "        # Make the enemy defend the damage.\n",
        "\n",
        "        # Restore 5 mana points after attacking.\n",
        "\n",
        "\n",
        "    # Override the \"defend\" method.\n",
        "    def defend(self, damage):\n",
        "        pass\n",
        "        # Calculate the defense (30% agility, 30% intelligence, 10% strength).\n",
        "\n",
        "        # Calculate the actual damage (damage - defense).\n",
        "\n",
        "        # Reduce the health by the actual damage.\n",
        "\n",
        "        # Restore 5 mana points after defending.\n",
        "\n",
        "\n",
        "\n",
        "# Create a subclass called \"Warrior\"\n",
        "class Warrior(Character):\n",
        "\n",
        "    # Define the constructor to initialize the attributes.\n",
        "    def __init__(self, name):\n",
        "        super().__init__(name, health=200, mana=0, strength=25, agility=15, intelligence=5)\n",
        "\n",
        "    # Define the \"string\" method to print the\n",
        "    # character's name, class and health (integer).\n",
        "    def __str__(self):\n",
        "        pass\n",
        "\n",
        "    # Override the \"attack\" method.\n",
        "    def attack(self, enemy):\n",
        "        pass\n",
        "        # Calculate the damage (80% strength, 50% agility).\n",
        "\n",
        "        # Apply a random multiplier between 0.8 and 1.2 to the damage.\n",
        "\n",
        "        # Make the enemy defend the damage.\n",
        "\n",
        "        # 20% chance to hit twice.\n",
        "\n",
        "            # Make the enemy defend the damage again.\n",
        "\n",
        "\n",
        "    # Override the \"defend\" method.\n",
        "    def defend(self, damage):\n",
        "        pass\n",
        "        # Calculate the defense (10% agility, 10% intelligence, 10% strength).\n",
        "\n",
        "        # Calculate the actual damage (damage - defense).\n",
        "\n",
        "        # Reduce the health by the actual damage.\n",
        "\n",
        "        # If the Warrior is still alive after defending:\n",
        "\n",
        "            # Heal for 5 health points.\n",
        "\n",
        "            # Make sure health is not greater than 200 (maximum).\n",
        "\n",
        "\n",
        "\n",
        "# Create a list of characters\n",
        "characters = [Paladin(\"Galahad\"), Mage(\"Lyra\"), Warrior(\"Ragnar\")]\n",
        "\n",
        "# Choose a character\n",
        "print(\"Pick a hero:\")\n",
        "for i, character in enumerate(characters):\n",
        "    print(f\"{i+1}: {character}\")\n",
        "choice = int(input(\"> \")) - 1\n",
        "player = characters[choice]\n",
        "\n",
        "# Create a random enemy\n",
        "enemies = [Paladin(\"Godfrey\"), Mage(\"Magnus\"), Warrior(\"Galen\")]\n",
        "enemy = random.choice(enemies)\n",
        "\n",
        "# Fight!\n",
        "print(f\"You encounter {enemy}!\")\n",
        "turn = 1\n",
        "while player.is_alive and enemy.is_alive:\n",
        "    if turn == 1:\n",
        "        print(f\"{player} attacks {enemy}!\")\n",
        "        player.attack(enemy)\n",
        "        turn = 2\n",
        "    elif turn == 2:\n",
        "        print(f\"{enemy} attacks {player}!\")\n",
        "        enemy.attack(player)\n",
        "        turn = 1\n",
        "if player.is_alive:\n",
        "    print(f\"{player} has won the battle!\")\n",
        "else:\n",
        "    print(f\"{enemy} has won the battle!\")\n"
      ],
      "metadata": {
        "id": "GCJEEPfXWPRK"
      },
      "execution_count": null,
      "outputs": []
    },
    {
      "cell_type": "code",
      "source": [
        "#@title Solution\n",
        "\n",
        "\n",
        "import random\n",
        "\n",
        "# Create a parent class called \"Character\".\n",
        "class Character:\n",
        "\n",
        "    # Define the constructor to initialize the attributes.\n",
        "    def __init__(self, name, health, mana, strength, agility, intelligence):\n",
        "        self._name = name\n",
        "        self._health = health\n",
        "        self._mana = mana\n",
        "        self._strength = strength\n",
        "        self._agility = agility\n",
        "        self._intelligence = intelligence\n",
        "\n",
        "    # Define the \"attack\" method (to be implemented by the subclasses).\n",
        "    def attack(self, enemy):\n",
        "        raise NotImplementedError\n",
        "\n",
        "    # Define the \"defend\" method (to be implemented by the subclasses).\n",
        "    def defend(self, damage):\n",
        "        raise NotImplementedError\n",
        "\n",
        "    # Define a property to check if the character is alive.\n",
        "    @property\n",
        "    def is_alive(self):\n",
        "        return self._health > 0\n",
        "\n",
        "\n",
        "# Create a subclass called \"Paladin\".\n",
        "class Paladin(Character):\n",
        "\n",
        "    # Define the constructor to initialize the attributes.\n",
        "    def __init__(self, name):\n",
        "        super().__init__(name, health=150, mana=100, strength=20, agility=10, intelligence=10)\n",
        "\n",
        "    # Define the \"string\" method to print the\n",
        "    # character's name, class and health (integer).\n",
        "    def __str__(self):\n",
        "        return f\"{self._name} (Paladin): {self._health:.0f} hp\"\n",
        "\n",
        "    # Override the \"attack\" method.\n",
        "    def attack(self, enemy):\n",
        "        # Calculate the damage (80% strength, 50% agility, 50% intelligence).\n",
        "        damage = self._strength * 0.8 + self._agility * 0.5 + self._intelligence * 0.5\n",
        "        # Apply a random multiplier between 0.8 and 1.2 to the damage.\n",
        "        damage *= random.uniform(0.8, 1.2)\n",
        "        # Make the enemy defend the damage.\n",
        "        enemy.defend(damage)\n",
        "        # Check if the paladin has enough mana to heal (costs 10 mana).\n",
        "        if self._mana >= 10:\n",
        "            # Reduce their mana level by 10.\n",
        "            self._mana -= 10\n",
        "            # Heal the paladin by 5 hp.\n",
        "            self._health += 5\n",
        "            # Make sure health is not greater than 150 (maximum).\n",
        "            self._health = min(self._health, 150)\n",
        "\n",
        "    # Override the \"defend\" method.\n",
        "    def defend(self, damage):\n",
        "        # Calculate the defense (50% agility, 30% intelligence, 20% strength).\n",
        "        defense = self._agility * 0.5 + self._intelligence * 0.3 + self._strength * 0.2\n",
        "        # Calculate the actual damage (damage - defense).\n",
        "        actual_damage = max(0, damage - defense)\n",
        "        # Reduce the health by the actual damage.\n",
        "        self._health -= actual_damage\n",
        "\n",
        "\n",
        "# Create a subclass called \"Mage\"\n",
        "class Mage(Character):\n",
        "\n",
        "    # Define the constructor to initialize the attributes.\n",
        "    def __init__(self, name):\n",
        "        super().__init__(name, health=100, mana=150, strength=10, agility=10, intelligence=20)\n",
        "\n",
        "    # Define the \"string\" method to print the\n",
        "    # character's name, class and health (integer).\n",
        "    def __str__(self):\n",
        "        return f\"{self._name} (Mage): {self._health:.0f} hp\"\n",
        "\n",
        "    # Override the \"attack\" method.\n",
        "    def attack(self, enemy):\n",
        "        # Check if there is enough mana to cast a stronger spell (20 mana points).\n",
        "        if self._mana >= 20:\n",
        "            # Reduce the mana level by 20 points.\n",
        "            self._mana -= 20\n",
        "            # Calculate the damage (200% intelligence).\n",
        "            damage = self._intelligence * 2.0\n",
        "        # If there is not enough mana, cast a weaker spell\n",
        "        else:\n",
        "            # Calculate the damage (100% intelligence).\n",
        "            damage = self._intelligence * 1.0\n",
        "        # Apply a random multiplier between 0.8 and 1.2 to the damage.\n",
        "        damage *= random.uniform(0.8, 1.2)\n",
        "        # Make the enemy defend the damage.\n",
        "        enemy.defend(damage)\n",
        "        # Restore 5 mana points after attacking.\n",
        "        self._mana += 5\n",
        "\n",
        "    # Override the \"defend\" method.\n",
        "    def defend(self, damage):\n",
        "        # Calculate the defense (30% agility, 30% intelligence, 10% strength).\n",
        "        defense = self._agility * 0.3 + self._intelligence * 0.3 + self._strength * 0.1\n",
        "        # Calculate the actual damage (damage - defense).\n",
        "        actual_damage = max(0, damage - defense)\n",
        "        # Reduce the health by the actual damage.\n",
        "        self._health -= actual_damage\n",
        "        # Restore 5 mana points after defending.\n",
        "        self._mana += 5\n",
        "\n",
        "\n",
        "# Create a subclass called \"Warrior\"\n",
        "class Warrior(Character):\n",
        "\n",
        "    # Define the constructor to initialize the attributes.\n",
        "    def __init__(self, name):\n",
        "        super().__init__(name, health=200, mana=0, strength=25, agility=15, intelligence=5)\n",
        "\n",
        "    # Define the \"string\" method to print the\n",
        "    # character's name, class and health (integer).\n",
        "    def __str__(self):\n",
        "        return f\"{self._name} (Warrior): {self._health:.0f} hp\"\n",
        "\n",
        "    # Override the \"attack\" method.\n",
        "    def attack(self, enemy):\n",
        "        # Calculate the damage (80% strength, 50% agility).\n",
        "        damage = self._strength * 0.8 + self._agility * 0.5\n",
        "        # Apply a random multiplier between 0.8 and 1.2 to the damage.\n",
        "        damage *= random.uniform(0.8, 1.2)\n",
        "        # Make the enemy defend the damage.\n",
        "        enemy.defend(damage)\n",
        "        # 20% chance to hit twice\n",
        "        if random.random() <= 0.2:\n",
        "            # Make the enemy defend the damage again.\n",
        "            enemy.defend(damage)\n",
        "\n",
        "    # Override the \"defend\" method.\n",
        "    def defend(self, damage):\n",
        "        # Calculate the defense (10% agility, 10% intelligence, 10% strength).\n",
        "        defense = self._agility * 0.1 + self._intelligence * 0.1 + self._strength * 0.1\n",
        "        # Calculate the actual damage (damage - defense).\n",
        "        actual_damage = max(0, damage - defense)\n",
        "        # Reduce the health by the actual damage.\n",
        "        self._health -= actual_damage\n",
        "\n",
        "        # If the Warrior is still alive after defending:\n",
        "        if self.is_alive:\n",
        "            # Heal for 5 health points.\n",
        "            self._health += 5\n",
        "            # Make sure health is not greater than 200 (maximum).\n",
        "            self._health = min(self._health, 200)\n",
        "\n",
        "\n",
        "# Create a list of characters\n",
        "characters = [Paladin(\"Galahad\"), Mage(\"Lyra\"), Warrior(\"Ragnar\")]\n",
        "\n",
        "# Choose a character\n",
        "print(\"Pick a hero:\")\n",
        "for i, character in enumerate(characters):\n",
        "    print(f\"{i+1}: {character}\")\n",
        "choice = int(input(\"> \")) - 1\n",
        "player = characters[choice]\n",
        "\n",
        "# Create a random enemy\n",
        "enemies = [Paladin(\"Godfrey\"), Mage(\"Magnus\"), Warrior(\"Galen\")]\n",
        "enemy = random.choice(enemies)\n",
        "\n",
        "# Fight!\n",
        "print(f\"You encounter {enemy}!\")\n",
        "turn = 1\n",
        "while player.is_alive and enemy.is_alive:\n",
        "    if turn == 1:\n",
        "        print(f\"{player} attacks {enemy}!\")\n",
        "        player.attack(enemy)\n",
        "        turn = 2\n",
        "    elif turn == 2:\n",
        "        print(f\"{enemy} attacks {player}!\")\n",
        "        enemy.attack(player)\n",
        "        turn = 1\n",
        "if player.is_alive:\n",
        "    print(f\"{player} has won the battle!\")\n",
        "else:\n",
        "    print(f\"{enemy} has won the battle!\")\n"
      ],
      "metadata": {
        "id": "cB_acYF_Fewh",
        "cellView": "form"
      },
      "execution_count": null,
      "outputs": []
    }
  ]
}