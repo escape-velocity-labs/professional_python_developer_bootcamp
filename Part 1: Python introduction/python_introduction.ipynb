{
  "nbformat": 4,
  "nbformat_minor": 0,
  "metadata": {
    "colab": {
      "provenance": []
    },
    "kernelspec": {
      "name": "python3",
      "display_name": "Python 3"
    },
    "language_info": {
      "name": "python"
    }
  },
  "cells": [
    {
      "cell_type": "markdown",
      "source": [
        "# 1. Python introduction"
      ],
      "metadata": {
        "id": "srlylVjSPGnd"
      }
    },
    {
      "cell_type": "markdown",
      "source": [
        "## 1.1 Basic arithmetic in Python"
      ],
      "metadata": {
        "id": "l1Gk_qMWPGqb"
      }
    },
    {
      "cell_type": "code",
      "source": [
        "5 + 7"
      ],
      "metadata": {
        "id": "dNc3hlC4QbYa",
        "outputId": "f0ed4be7-7074-4008-843e-65da77a135fb",
        "colab": {
          "base_uri": "https://localhost:8080/"
        }
      },
      "execution_count": null,
      "outputs": [
        {
          "output_type": "execute_result",
          "data": {
            "text/plain": [
              "12"
            ]
          },
          "metadata": {},
          "execution_count": 1
        }
      ]
    },
    {
      "cell_type": "code",
      "source": [
        "12 - 4"
      ],
      "metadata": {
        "id": "42U62WzuQba1",
        "outputId": "51a8528c-946d-48ec-82ed-1aa2d1cef04a",
        "colab": {
          "base_uri": "https://localhost:8080/"
        }
      },
      "execution_count": null,
      "outputs": [
        {
          "output_type": "execute_result",
          "data": {
            "text/plain": [
              "8"
            ]
          },
          "metadata": {},
          "execution_count": 2
        }
      ]
    },
    {
      "cell_type": "code",
      "source": [
        "3 * 7"
      ],
      "metadata": {
        "id": "PEdJhXCwQbdK",
        "outputId": "81c1397b-ded4-4b90-d2e8-deb8023e4559",
        "colab": {
          "base_uri": "https://localhost:8080/"
        }
      },
      "execution_count": null,
      "outputs": [
        {
          "output_type": "execute_result",
          "data": {
            "text/plain": [
              "21"
            ]
          },
          "metadata": {},
          "execution_count": 3
        }
      ]
    },
    {
      "cell_type": "code",
      "source": [
        "12 / 5"
      ],
      "metadata": {
        "id": "3Z6bgEyCQbex",
        "outputId": "e71ec605-12d9-4261-eab6-4893811828ec",
        "colab": {
          "base_uri": "https://localhost:8080/"
        }
      },
      "execution_count": null,
      "outputs": [
        {
          "output_type": "execute_result",
          "data": {
            "text/plain": [
              "2.4"
            ]
          },
          "metadata": {},
          "execution_count": 4
        }
      ]
    },
    {
      "cell_type": "code",
      "source": [
        "3 ** 2"
      ],
      "metadata": {
        "id": "8-FvOzxHQe0e",
        "outputId": "d45f45e3-4697-4105-aeec-e523700c5f8a",
        "colab": {
          "base_uri": "https://localhost:8080/"
        }
      },
      "execution_count": null,
      "outputs": [
        {
          "output_type": "execute_result",
          "data": {
            "text/plain": [
              "9"
            ]
          },
          "metadata": {},
          "execution_count": 5
        }
      ]
    },
    {
      "cell_type": "code",
      "source": [
        "10 // 3"
      ],
      "metadata": {
        "id": "NhvodceEQe2t",
        "outputId": "8741ed71-f5ce-4912-e89c-ebe3c1160804",
        "colab": {
          "base_uri": "https://localhost:8080/"
        }
      },
      "execution_count": null,
      "outputs": [
        {
          "output_type": "execute_result",
          "data": {
            "text/plain": [
              "3"
            ]
          },
          "metadata": {},
          "execution_count": 6
        }
      ]
    },
    {
      "cell_type": "code",
      "source": [
        "10 % 3"
      ],
      "metadata": {
        "id": "WXFC30vsQfN8",
        "outputId": "8ab467a9-9ac1-471b-e1e6-2860e6c11f60",
        "colab": {
          "base_uri": "https://localhost:8080/"
        }
      },
      "execution_count": null,
      "outputs": [
        {
          "output_type": "execute_result",
          "data": {
            "text/plain": [
              "1"
            ]
          },
          "metadata": {},
          "execution_count": 7
        }
      ]
    },
    {
      "cell_type": "markdown",
      "source": [
        "## 1.2 Printing messages"
      ],
      "metadata": {
        "id": "D4IuC_1xPGtE"
      }
    },
    {
      "cell_type": "code",
      "source": [
        "print(\"Hello, world\")"
      ],
      "metadata": {
        "id": "PuP88EzCRBfI",
        "outputId": "eb6fe08f-3adf-4f66-9fb7-4978f568ed8e",
        "colab": {
          "base_uri": "https://localhost:8080/"
        }
      },
      "execution_count": null,
      "outputs": [
        {
          "output_type": "stream",
          "name": "stdout",
          "text": [
            "Hello, world\n"
          ]
        }
      ]
    },
    {
      "cell_type": "code",
      "source": [
        "print(5)"
      ],
      "metadata": {
        "id": "W07nkcR_RBkP",
        "outputId": "9c1ff074-b212-4f27-9719-184d3dc9f0bd",
        "colab": {
          "base_uri": "https://localhost:8080/"
        }
      },
      "execution_count": null,
      "outputs": [
        {
          "output_type": "stream",
          "name": "stdout",
          "text": [
            "5\n"
          ]
        }
      ]
    },
    {
      "cell_type": "code",
      "source": [
        "print(\"I am\", 25, \"years old\")"
      ],
      "metadata": {
        "id": "B3SvAUy3RBh6",
        "outputId": "f77c15ba-c909-438c-984d-e77f26f9d5c6",
        "colab": {
          "base_uri": "https://localhost:8080/"
        }
      },
      "execution_count": null,
      "outputs": [
        {
          "output_type": "stream",
          "name": "stdout",
          "text": [
            "I am 25 years old\n"
          ]
        }
      ]
    },
    {
      "cell_type": "markdown",
      "source": [
        "## 1.3 Taking and storing inputs from the user"
      ],
      "metadata": {
        "id": "TkGMO2SHPGv9"
      }
    },
    {
      "cell_type": "code",
      "source": [
        "input(\"What is your name? \")"
      ],
      "metadata": {
        "id": "VVa-YSYHSbBp",
        "colab": {
          "base_uri": "https://localhost:8080/",
          "height": 55
        },
        "outputId": "5cbd9c2b-417f-48dc-dc21-51d88e017a54"
      },
      "execution_count": 1,
      "outputs": [
        {
          "name": "stdout",
          "output_type": "stream",
          "text": [
            "What is your name? David\n"
          ]
        },
        {
          "output_type": "execute_result",
          "data": {
            "text/plain": [
              "'David'"
            ],
            "application/vnd.google.colaboratory.intrinsic+json": {
              "type": "string"
            }
          },
          "metadata": {},
          "execution_count": 1
        }
      ]
    },
    {
      "cell_type": "code",
      "source": [
        "age = 45\n",
        "\n",
        "print(age)"
      ],
      "metadata": {
        "id": "7gw3IiVoSbD8",
        "colab": {
          "base_uri": "https://localhost:8080/"
        },
        "outputId": "cdfe76c8-946f-4a66-9bad-813799eeb46e"
      },
      "execution_count": 2,
      "outputs": [
        {
          "output_type": "stream",
          "name": "stdout",
          "text": [
            "45\n"
          ]
        }
      ]
    },
    {
      "cell_type": "code",
      "source": [
        "my_age = 45"
      ],
      "metadata": {
        "id": "3QtpoAf8SbGl"
      },
      "execution_count": 3,
      "outputs": []
    },
    {
      "cell_type": "code",
      "source": [
        "name = input(\"What is your name? \")"
      ],
      "metadata": {
        "id": "bGA04s6KT0sS",
        "colab": {
          "base_uri": "https://localhost:8080/"
        },
        "outputId": "72d647da-3ec3-4619-e4d6-9b639372eee6"
      },
      "execution_count": 4,
      "outputs": [
        {
          "name": "stdout",
          "output_type": "stream",
          "text": [
            "What is your name? David\n"
          ]
        }
      ]
    },
    {
      "cell_type": "code",
      "source": [
        "# Take the age of the user\n",
        "age = input(\"How old are you? \") # Some comment\n",
        "print(age)"
      ],
      "metadata": {
        "id": "RBzxdSYOTH5s",
        "colab": {
          "base_uri": "https://localhost:8080/"
        },
        "outputId": "8cc53f2b-7388-4929-b7f3-1326796ea436"
      },
      "execution_count": 6,
      "outputs": [
        {
          "output_type": "stream",
          "name": "stdout",
          "text": [
            "How old are you? 45\n",
            "45\n"
          ]
        }
      ]
    },
    {
      "cell_type": "markdown",
      "source": [
        "## 1.4 Data types"
      ],
      "metadata": {
        "id": "lY452yxlPGyz"
      }
    },
    {
      "cell_type": "code",
      "source": [
        "square_corners = 4\n",
        "pi = 3.14"
      ],
      "metadata": {
        "id": "Zs7uFJzQXoMN"
      },
      "execution_count": 7,
      "outputs": []
    },
    {
      "cell_type": "code",
      "source": [
        "type(square_corners)"
      ],
      "metadata": {
        "id": "1KHcuCopf68Y",
        "colab": {
          "base_uri": "https://localhost:8080/"
        },
        "outputId": "3fccd2f2-22a7-41ad-8b06-0a91241f6d42"
      },
      "execution_count": 8,
      "outputs": [
        {
          "output_type": "execute_result",
          "data": {
            "text/plain": [
              "int"
            ]
          },
          "metadata": {},
          "execution_count": 8
        }
      ]
    },
    {
      "cell_type": "code",
      "source": [
        "type(pi)"
      ],
      "metadata": {
        "id": "iFzDLV21XoRv",
        "colab": {
          "base_uri": "https://localhost:8080/"
        },
        "outputId": "ff597cb6-eaa9-4b98-d0bf-3e2abe7cfa2a"
      },
      "execution_count": 9,
      "outputs": [
        {
          "output_type": "execute_result",
          "data": {
            "text/plain": [
              "float"
            ]
          },
          "metadata": {},
          "execution_count": 9
        }
      ]
    },
    {
      "cell_type": "code",
      "source": [
        "my_message = \"Hello, world\""
      ],
      "metadata": {
        "id": "JEL_LQSrXoUf"
      },
      "execution_count": 10,
      "outputs": []
    },
    {
      "cell_type": "code",
      "source": [
        "type(my_message)"
      ],
      "metadata": {
        "id": "xAio6wbKZ_LO",
        "colab": {
          "base_uri": "https://localhost:8080/"
        },
        "outputId": "f3a8d204-aa4a-41e1-f95c-ea6f88e74dd7"
      },
      "execution_count": 11,
      "outputs": [
        {
          "output_type": "execute_result",
          "data": {
            "text/plain": [
              "str"
            ]
          },
          "metadata": {},
          "execution_count": 11
        }
      ]
    },
    {
      "cell_type": "code",
      "source": [
        "is_hungry = True"
      ],
      "metadata": {
        "id": "O00LEv9oZ_Ub"
      },
      "execution_count": 12,
      "outputs": []
    },
    {
      "cell_type": "code",
      "source": [
        "type(is_hungry)"
      ],
      "metadata": {
        "id": "bBXomy3OZ_ay",
        "colab": {
          "base_uri": "https://localhost:8080/"
        },
        "outputId": "82106e8e-3545-4010-9947-908706d4705a"
      },
      "execution_count": 13,
      "outputs": [
        {
          "output_type": "execute_result",
          "data": {
            "text/plain": [
              "bool"
            ]
          },
          "metadata": {},
          "execution_count": 13
        }
      ]
    },
    {
      "cell_type": "code",
      "source": [
        "int(pi)"
      ],
      "metadata": {
        "id": "jOAS6u5aXoW7",
        "colab": {
          "base_uri": "https://localhost:8080/"
        },
        "outputId": "c60771d1-d9c7-4934-b1d3-214d00711958"
      },
      "execution_count": 14,
      "outputs": [
        {
          "output_type": "execute_result",
          "data": {
            "text/plain": [
              "3"
            ]
          },
          "metadata": {},
          "execution_count": 14
        }
      ]
    },
    {
      "cell_type": "code",
      "source": [
        "five = int(\"5\")"
      ],
      "metadata": {
        "id": "xN_FTk8VXoZS"
      },
      "execution_count": 15,
      "outputs": []
    },
    {
      "cell_type": "code",
      "source": [
        "hello = int(\"Hello\")"
      ],
      "metadata": {
        "id": "zOsJU-Dma2Nm",
        "colab": {
          "base_uri": "https://localhost:8080/",
          "height": 183
        },
        "outputId": "f01c2bf3-0b85-450b-8b8f-74ccad1ab464"
      },
      "execution_count": 16,
      "outputs": [
        {
          "output_type": "error",
          "ename": "ValueError",
          "evalue": "ignored",
          "traceback": [
            "\u001b[0;31m---------------------------------------------------------------------------\u001b[0m",
            "\u001b[0;31mValueError\u001b[0m                                Traceback (most recent call last)",
            "\u001b[0;32m<ipython-input-16-a88547fa081e>\u001b[0m in \u001b[0;36m<cell line: 1>\u001b[0;34m()\u001b[0m\n\u001b[0;32m----> 1\u001b[0;31m \u001b[0mhello\u001b[0m \u001b[0;34m=\u001b[0m \u001b[0mint\u001b[0m\u001b[0;34m(\u001b[0m\u001b[0;34m\"Hello\"\u001b[0m\u001b[0;34m)\u001b[0m\u001b[0;34m\u001b[0m\u001b[0;34m\u001b[0m\u001b[0m\n\u001b[0m",
            "\u001b[0;31mValueError\u001b[0m: invalid literal for int() with base 10: 'Hello'"
          ]
        }
      ]
    },
    {
      "cell_type": "code",
      "source": [
        "float(square_corners)"
      ],
      "metadata": {
        "id": "Zo0BFKh-a2QE",
        "colab": {
          "base_uri": "https://localhost:8080/"
        },
        "outputId": "1b25ba83-f206-4b4d-d094-5f8803423286"
      },
      "execution_count": 17,
      "outputs": [
        {
          "output_type": "execute_result",
          "data": {
            "text/plain": [
              "4.0"
            ]
          },
          "metadata": {},
          "execution_count": 17
        }
      ]
    },
    {
      "cell_type": "code",
      "source": [
        "two_point_five = float(\"2.5\")"
      ],
      "metadata": {
        "id": "uGgNvqMia2S3"
      },
      "execution_count": 18,
      "outputs": []
    },
    {
      "cell_type": "code",
      "source": [
        "str(pi)"
      ],
      "metadata": {
        "id": "KYsHszC9a2Vr",
        "colab": {
          "base_uri": "https://localhost:8080/",
          "height": 36
        },
        "outputId": "3dab2e57-ea6a-41c1-80f5-7dfd5eeda648"
      },
      "execution_count": 19,
      "outputs": [
        {
          "output_type": "execute_result",
          "data": {
            "text/plain": [
              "'3.14'"
            ],
            "application/vnd.google.colaboratory.intrinsic+json": {
              "type": "string"
            }
          },
          "metadata": {},
          "execution_count": 19
        }
      ]
    },
    {
      "cell_type": "code",
      "source": [
        "bool(0)"
      ],
      "metadata": {
        "id": "uW51DNuEa2YX",
        "colab": {
          "base_uri": "https://localhost:8080/"
        },
        "outputId": "43bb40df-cff5-49be-84d2-deda0fc5a2f7"
      },
      "execution_count": 20,
      "outputs": [
        {
          "output_type": "execute_result",
          "data": {
            "text/plain": [
              "False"
            ]
          },
          "metadata": {},
          "execution_count": 20
        }
      ]
    },
    {
      "cell_type": "code",
      "source": [
        "bool(5)"
      ],
      "metadata": {
        "id": "GZEivFXriLIH",
        "colab": {
          "base_uri": "https://localhost:8080/"
        },
        "outputId": "deb8a5c1-1b9c-4500-f265-c3a3931f3546"
      },
      "execution_count": 21,
      "outputs": [
        {
          "output_type": "execute_result",
          "data": {
            "text/plain": [
              "True"
            ]
          },
          "metadata": {},
          "execution_count": 21
        }
      ]
    },
    {
      "cell_type": "code",
      "source": [
        "bool(\"\")"
      ],
      "metadata": {
        "id": "OOetS-H0iLLS",
        "colab": {
          "base_uri": "https://localhost:8080/"
        },
        "outputId": "4a4f1aca-fad3-4f49-ed29-6f80ff5d1534"
      },
      "execution_count": 22,
      "outputs": [
        {
          "output_type": "execute_result",
          "data": {
            "text/plain": [
              "False"
            ]
          },
          "metadata": {},
          "execution_count": 22
        }
      ]
    },
    {
      "cell_type": "code",
      "source": [
        "bool(\"Hello\")"
      ],
      "metadata": {
        "id": "hBzShtJqiLOd",
        "colab": {
          "base_uri": "https://localhost:8080/"
        },
        "outputId": "cb269504-80ba-444d-e6a2-6d2385fecb96"
      },
      "execution_count": 23,
      "outputs": [
        {
          "output_type": "execute_result",
          "data": {
            "text/plain": [
              "True"
            ]
          },
          "metadata": {},
          "execution_count": 23
        }
      ]
    },
    {
      "cell_type": "code",
      "source": [
        "age = input(\"How old are you? \")"
      ],
      "metadata": {
        "id": "zIrTUBAtiLSs",
        "colab": {
          "base_uri": "https://localhost:8080/"
        },
        "outputId": "23ea74fb-d1c2-4f12-879b-ad9c36031955"
      },
      "execution_count": 24,
      "outputs": [
        {
          "name": "stdout",
          "output_type": "stream",
          "text": [
            "How old are you? 35\n"
          ]
        }
      ]
    },
    {
      "cell_type": "code",
      "source": [
        "age = int(age)"
      ],
      "metadata": {
        "id": "PpyvkaP3iLU3"
      },
      "execution_count": 25,
      "outputs": []
    },
    {
      "cell_type": "code",
      "source": [
        "empty_variable = None"
      ],
      "metadata": {
        "id": "0Nklrltma2bD"
      },
      "execution_count": 26,
      "outputs": []
    },
    {
      "cell_type": "code",
      "source": [
        "type(empty_variable)"
      ],
      "metadata": {
        "id": "fNNsEmdsjuIx",
        "colab": {
          "base_uri": "https://localhost:8080/"
        },
        "outputId": "654d86e7-bed0-4c89-d721-7e3d85d14837"
      },
      "execution_count": 27,
      "outputs": [
        {
          "output_type": "execute_result",
          "data": {
            "text/plain": [
              "NoneType"
            ]
          },
          "metadata": {},
          "execution_count": 27
        }
      ]
    },
    {
      "cell_type": "code",
      "source": [
        "print(empty_variable)"
      ],
      "metadata": {
        "id": "3gauaSfEjuLd",
        "colab": {
          "base_uri": "https://localhost:8080/"
        },
        "outputId": "1d78fb07-14fe-4889-86bb-b22e70575b2c"
      },
      "execution_count": 28,
      "outputs": [
        {
          "output_type": "stream",
          "name": "stdout",
          "text": [
            "None\n"
          ]
        }
      ]
    },
    {
      "cell_type": "markdown",
      "source": [
        "## 1.5 Errors in Python"
      ],
      "metadata": {
        "id": "Y15oS0kxPG1w"
      }
    },
    {
      "cell_type": "code",
      "source": [
        "5.4"
      ],
      "metadata": {
        "id": "qF0fCUkUeFoU",
        "colab": {
          "base_uri": "https://localhost:8080/"
        },
        "outputId": "42a49fa3-9b9d-4db0-b5e2-a27c0e62c44d"
      },
      "execution_count": 29,
      "outputs": [
        {
          "output_type": "execute_result",
          "data": {
            "text/plain": [
              "5.4"
            ]
          },
          "metadata": {},
          "execution_count": 29
        }
      ]
    },
    {
      "cell_type": "code",
      "source": [
        "print(\"Hello, world\""
      ],
      "metadata": {
        "id": "hY24mJ_oeFq1",
        "colab": {
          "base_uri": "https://localhost:8080/"
        },
        "outputId": "fba91e82-10c6-458a-c2af-859b171f9f3b"
      },
      "execution_count": 30,
      "outputs": [
        {
          "output_type": "stream",
          "name": "stdout",
          "text": [
            "Hello, world\n"
          ]
        }
      ]
    },
    {
      "cell_type": "code",
      "source": [
        "5 + \"Hello\""
      ],
      "metadata": {
        "id": "ZFb4DRgQeFtd"
      },
      "execution_count": null,
      "outputs": []
    },
    {
      "cell_type": "code",
      "source": [
        "10 / 0"
      ],
      "metadata": {
        "id": "jY97vKLCeFwd"
      },
      "execution_count": null,
      "outputs": []
    },
    {
      "cell_type": "code",
      "source": [
        "print(x)"
      ],
      "metadata": {
        "id": "nK7pxl07jULR"
      },
      "execution_count": null,
      "outputs": []
    },
    {
      "cell_type": "code",
      "source": [
        "2 + 3 * 4"
      ],
      "metadata": {
        "id": "0VCOOaatjUN7"
      },
      "execution_count": null,
      "outputs": []
    },
    {
      "cell_type": "code",
      "source": [
        "(2 + 3) * 4"
      ],
      "metadata": {
        "id": "7mBiipiSjUQl"
      },
      "execution_count": null,
      "outputs": []
    },
    {
      "cell_type": "markdown",
      "source": [
        "## 1.6 Order of operations"
      ],
      "metadata": {
        "id": "MP2ROxN4PG4z"
      }
    },
    {
      "cell_type": "code",
      "source": [
        "(2 + 7) * 3 ** 2 / 3 - 1"
      ],
      "metadata": {
        "id": "7ZumZh8Wl4UX",
        "colab": {
          "base_uri": "https://localhost:8080/"
        },
        "outputId": "15f90f39-a4d8-4eeb-a892-548e0be54f70"
      },
      "execution_count": 31,
      "outputs": [
        {
          "output_type": "execute_result",
          "data": {
            "text/plain": [
              "26.0"
            ]
          },
          "metadata": {},
          "execution_count": 31
        }
      ]
    },
    {
      "cell_type": "code",
      "source": [
        "9 * 3 ** 2 / 3 - 1"
      ],
      "metadata": {
        "id": "piUYycFgl4W3",
        "colab": {
          "base_uri": "https://localhost:8080/"
        },
        "outputId": "d3d16114-1694-48cc-c31c-85f164b45e81"
      },
      "execution_count": 32,
      "outputs": [
        {
          "output_type": "execute_result",
          "data": {
            "text/plain": [
              "26.0"
            ]
          },
          "metadata": {},
          "execution_count": 32
        }
      ]
    },
    {
      "cell_type": "code",
      "source": [
        "9 * 9 / 3 - 1"
      ],
      "metadata": {
        "id": "I5QEg-8Wl4Zq",
        "colab": {
          "base_uri": "https://localhost:8080/"
        },
        "outputId": "ecfce136-444f-4547-87ca-a9f5f71b0194"
      },
      "execution_count": 33,
      "outputs": [
        {
          "output_type": "execute_result",
          "data": {
            "text/plain": [
              "26.0"
            ]
          },
          "metadata": {},
          "execution_count": 33
        }
      ]
    },
    {
      "cell_type": "code",
      "source": [
        "27.0 - 1"
      ],
      "metadata": {
        "id": "tbaMYAoX476d",
        "colab": {
          "base_uri": "https://localhost:8080/"
        },
        "outputId": "a72dd2e9-1eaa-4a2a-dd2c-6121034a4fa6"
      },
      "execution_count": 34,
      "outputs": [
        {
          "output_type": "execute_result",
          "data": {
            "text/plain": [
              "26.0"
            ]
          },
          "metadata": {},
          "execution_count": 34
        }
      ]
    },
    {
      "cell_type": "markdown",
      "source": [
        "## 1.7 Formatting strings"
      ],
      "metadata": {
        "id": "s8LuypmxPG-H"
      }
    },
    {
      "cell_type": "code",
      "source": [
        "name = \"David\"\n",
        "age = 27\n",
        "\n",
        "print(f\"My name is {name} and I am {age} years old\")"
      ],
      "metadata": {
        "id": "q0tT5LkRmAtA",
        "colab": {
          "base_uri": "https://localhost:8080/"
        },
        "outputId": "2c055ea1-f892-4501-891c-8ed165cb6d41"
      },
      "execution_count": 35,
      "outputs": [
        {
          "output_type": "stream",
          "name": "stdout",
          "text": [
            "My name is David and I am 27 years old\n"
          ]
        }
      ]
    },
    {
      "cell_type": "code",
      "source": [
        "price = 12.125"
      ],
      "metadata": {
        "id": "BBgWTqQimAyK"
      },
      "execution_count": 36,
      "outputs": []
    },
    {
      "cell_type": "code",
      "source": [
        "print(f\"Your total is ${price:.2f}\")"
      ],
      "metadata": {
        "id": "RNamNmpnwH0r",
        "colab": {
          "base_uri": "https://localhost:8080/"
        },
        "outputId": "009bcbc2-b301-479e-f4f3-bfff506bace8"
      },
      "execution_count": 38,
      "outputs": [
        {
          "output_type": "stream",
          "name": "stdout",
          "text": [
            "Your total is $12.12\n"
          ]
        }
      ]
    },
    {
      "cell_type": "code",
      "source": [
        "print(f\"Your total is ${price:.0f}\")"
      ],
      "metadata": {
        "id": "OYCKvy9LwqzV",
        "colab": {
          "base_uri": "https://localhost:8080/"
        },
        "outputId": "60294b3b-3d4a-44e3-a4fc-9b50e4dca787"
      },
      "execution_count": 39,
      "outputs": [
        {
          "output_type": "stream",
          "name": "stdout",
          "text": [
            "Your total is $12\n"
          ]
        }
      ]
    },
    {
      "cell_type": "code",
      "source": [
        "interest_rate = 0.0327"
      ],
      "metadata": {
        "id": "pUCVcPrGwq1w"
      },
      "execution_count": 40,
      "outputs": []
    },
    {
      "cell_type": "code",
      "source": [
        "print(f\"The interest rate is {interest_rate:%}\")"
      ],
      "metadata": {
        "id": "_kMjHIBYwq4H",
        "colab": {
          "base_uri": "https://localhost:8080/"
        },
        "outputId": "3019dac8-65ae-4a29-ff20-5fa8a562e59d"
      },
      "execution_count": 42,
      "outputs": [
        {
          "output_type": "stream",
          "name": "stdout",
          "text": [
            "The interest rate is 3.270000%\n"
          ]
        }
      ]
    },
    {
      "cell_type": "code",
      "source": [
        "print(f\"The interest rate is {interest_rate:.2%}\")"
      ],
      "metadata": {
        "id": "vevYF0ZB-znx",
        "colab": {
          "base_uri": "https://localhost:8080/"
        },
        "outputId": "c40a5909-4028-4231-e6c3-51bb0d72d15f"
      },
      "execution_count": 43,
      "outputs": [
        {
          "output_type": "stream",
          "name": "stdout",
          "text": [
            "The interest rate is 3.27%\n"
          ]
        }
      ]
    },
    {
      "cell_type": "code",
      "source": [
        "\"abc\" + \"def\""
      ],
      "metadata": {
        "id": "flZLX78ymA0P",
        "colab": {
          "base_uri": "https://localhost:8080/",
          "height": 36
        },
        "outputId": "b7794fd9-77cd-49e4-ad9a-b2307289bb86"
      },
      "execution_count": 44,
      "outputs": [
        {
          "output_type": "execute_result",
          "data": {
            "text/plain": [
              "'abcdef'"
            ],
            "application/vnd.google.colaboratory.intrinsic+json": {
              "type": "string"
            }
          },
          "metadata": {},
          "execution_count": 44
        }
      ]
    },
    {
      "cell_type": "code",
      "source": [
        "\"abc\" + \"def\" + \"hij\""
      ],
      "metadata": {
        "id": "MqA7sTT6pPqd",
        "colab": {
          "base_uri": "https://localhost:8080/",
          "height": 36
        },
        "outputId": "16bd9056-c8e0-43c6-f947-2b13b9226a5d"
      },
      "execution_count": 45,
      "outputs": [
        {
          "output_type": "execute_result",
          "data": {
            "text/plain": [
              "'abcdefhij'"
            ],
            "application/vnd.google.colaboratory.intrinsic+json": {
              "type": "string"
            }
          },
          "metadata": {},
          "execution_count": 45
        }
      ]
    },
    {
      "cell_type": "code",
      "source": [
        "\"abc\" * 3"
      ],
      "metadata": {
        "id": "JMlg4oLPpPtn",
        "colab": {
          "base_uri": "https://localhost:8080/",
          "height": 36
        },
        "outputId": "4b77a2f3-8ca6-45d4-ced2-4dfcdba77063"
      },
      "execution_count": 46,
      "outputs": [
        {
          "output_type": "execute_result",
          "data": {
            "text/plain": [
              "'abcabcabc'"
            ],
            "application/vnd.google.colaboratory.intrinsic+json": {
              "type": "string"
            }
          },
          "metadata": {},
          "execution_count": 46
        }
      ]
    },
    {
      "cell_type": "markdown",
      "source": [
        "## 1.8 Advanced printing options"
      ],
      "metadata": {
        "id": "wrBxLI60PHAz"
      }
    },
    {
      "cell_type": "code",
      "source": [
        "print(\"Hello, world\")\n",
        "print(\"Hello, world\")"
      ],
      "metadata": {
        "id": "YuiJWcS7mBX5",
        "colab": {
          "base_uri": "https://localhost:8080/"
        },
        "outputId": "556fa699-caca-4322-8928-005e40418655"
      },
      "execution_count": 47,
      "outputs": [
        {
          "output_type": "stream",
          "name": "stdout",
          "text": [
            "Hello, world\n",
            "Hello, world\n"
          ]
        }
      ]
    },
    {
      "cell_type": "code",
      "source": [
        "print(\"This is the first line\\nAnd this is the second line\")"
      ],
      "metadata": {
        "id": "cECRfIsJM_9o",
        "colab": {
          "base_uri": "https://localhost:8080/"
        },
        "outputId": "e08fc0a5-43d8-4455-e8a0-010370240414"
      },
      "execution_count": 48,
      "outputs": [
        {
          "output_type": "stream",
          "name": "stdout",
          "text": [
            "This is the first line\n",
            "And this is the second line\n"
          ]
        }
      ]
    },
    {
      "cell_type": "code",
      "source": [
        "print(\"Hello, world\")\n",
        "print(\"My name is John...\")\n",
        "print(\"... and I am 45 years old\")"
      ],
      "metadata": {
        "id": "KF-1a1hN1CJ1",
        "colab": {
          "base_uri": "https://localhost:8080/"
        },
        "outputId": "6fe38d7b-1e3d-46a6-ff2d-e8be264c9728"
      },
      "execution_count": 49,
      "outputs": [
        {
          "output_type": "stream",
          "name": "stdout",
          "text": [
            "Hello, world\n",
            "My name is John...\n",
            "... and I am 45 years old\n"
          ]
        }
      ]
    },
    {
      "cell_type": "code",
      "source": [
        "print(\"Hello, world\", end=\"\")\n",
        "print(\"My name is John...\", end=\"\")\n",
        "print(\"... and I am 45 years old\", end=\"\")"
      ],
      "metadata": {
        "id": "b3jnYWUZ1CPf",
        "colab": {
          "base_uri": "https://localhost:8080/"
        },
        "outputId": "9a94bf3a-22b2-4652-cdb2-ffce683efed6"
      },
      "execution_count": 50,
      "outputs": [
        {
          "output_type": "stream",
          "name": "stdout",
          "text": [
            "Hello, worldMy name is John...... and I am 45 years old"
          ]
        }
      ]
    },
    {
      "cell_type": "code",
      "source": [
        "print(\"five\", \"six\", \"seven\")"
      ],
      "metadata": {
        "id": "gMogAsQD1CMf",
        "colab": {
          "base_uri": "https://localhost:8080/"
        },
        "outputId": "693ffb06-f502-40e2-968e-f99aa5130d4f"
      },
      "execution_count": 51,
      "outputs": [
        {
          "output_type": "stream",
          "name": "stdout",
          "text": [
            "five six seven\n"
          ]
        }
      ]
    },
    {
      "cell_type": "code",
      "source": [
        "print(\"five\", \"six\", \"seven\", sep=\"-\")"
      ],
      "metadata": {
        "id": "J-Z9bzfOmBak",
        "colab": {
          "base_uri": "https://localhost:8080/"
        },
        "outputId": "1200d763-49d4-4637-ad36-3299108dc2f8"
      },
      "execution_count": 52,
      "outputs": [
        {
          "output_type": "stream",
          "name": "stdout",
          "text": [
            "five-six-seven\n"
          ]
        }
      ]
    },
    {
      "cell_type": "code",
      "source": [
        "my_file = open(\"my_file.txt\", \"w\")\n",
        "\n",
        "print(\"Hello, world\", file=my_file)\n",
        "\n",
        "my_file.close()"
      ],
      "metadata": {
        "id": "JACOXgZDmBdO"
      },
      "execution_count": 53,
      "outputs": []
    },
    {
      "cell_type": "markdown",
      "source": [
        "## 1.9 Comparison operators"
      ],
      "metadata": {
        "id": "EczQXzgrPHDk"
      }
    },
    {
      "cell_type": "code",
      "source": [
        "a = 5\n",
        "b = 5.0\n",
        "c = -3"
      ],
      "metadata": {
        "id": "LcnkK77bPDWv"
      },
      "execution_count": 54,
      "outputs": []
    },
    {
      "cell_type": "code",
      "source": [
        "a > b"
      ],
      "metadata": {
        "id": "kcMrKcNxPDZ9",
        "colab": {
          "base_uri": "https://localhost:8080/"
        },
        "outputId": "73459310-b2d0-4262-d9fc-9c87295e87a9"
      },
      "execution_count": 55,
      "outputs": [
        {
          "output_type": "execute_result",
          "data": {
            "text/plain": [
              "False"
            ]
          },
          "metadata": {},
          "execution_count": 55
        }
      ]
    },
    {
      "cell_type": "code",
      "source": [
        "a >= b"
      ],
      "metadata": {
        "id": "9ydnB_h_PDc5",
        "colab": {
          "base_uri": "https://localhost:8080/"
        },
        "outputId": "07e1b628-55e0-49f6-af45-d0eac55b3330"
      },
      "execution_count": 56,
      "outputs": [
        {
          "output_type": "execute_result",
          "data": {
            "text/plain": [
              "True"
            ]
          },
          "metadata": {},
          "execution_count": 56
        }
      ]
    },
    {
      "cell_type": "code",
      "source": [
        "a < b"
      ],
      "metadata": {
        "id": "wi8psPaRPDfl",
        "colab": {
          "base_uri": "https://localhost:8080/"
        },
        "outputId": "8a84e5e0-fdc3-415b-b380-a19df93e51cc"
      },
      "execution_count": 57,
      "outputs": [
        {
          "output_type": "execute_result",
          "data": {
            "text/plain": [
              "False"
            ]
          },
          "metadata": {},
          "execution_count": 57
        }
      ]
    },
    {
      "cell_type": "code",
      "source": [
        "a <= b"
      ],
      "metadata": {
        "id": "c-4FgbYxAUyV",
        "colab": {
          "base_uri": "https://localhost:8080/"
        },
        "outputId": "cab242f6-d2e2-4702-f177-1ac34ea7bc78"
      },
      "execution_count": 58,
      "outputs": [
        {
          "output_type": "execute_result",
          "data": {
            "text/plain": [
              "True"
            ]
          },
          "metadata": {},
          "execution_count": 58
        }
      ]
    },
    {
      "cell_type": "code",
      "source": [
        "\"abacus\" < \"amazon\""
      ],
      "metadata": {
        "id": "GhClYNJBFpAD",
        "colab": {
          "base_uri": "https://localhost:8080/"
        },
        "outputId": "29aff564-0982-4de3-dd5d-ab0348fcb6e4"
      },
      "execution_count": 59,
      "outputs": [
        {
          "output_type": "execute_result",
          "data": {
            "text/plain": [
              "True"
            ]
          },
          "metadata": {},
          "execution_count": 59
        }
      ]
    },
    {
      "cell_type": "code",
      "source": [
        "a == b"
      ],
      "metadata": {
        "id": "zkSgV4pJAU0T",
        "colab": {
          "base_uri": "https://localhost:8080/"
        },
        "outputId": "a68192ad-c9c6-4ada-a011-059160761a03"
      },
      "execution_count": 60,
      "outputs": [
        {
          "output_type": "execute_result",
          "data": {
            "text/plain": [
              "True"
            ]
          },
          "metadata": {},
          "execution_count": 60
        }
      ]
    },
    {
      "cell_type": "code",
      "source": [
        "a == c"
      ],
      "metadata": {
        "id": "A0u0LEF_AU3M",
        "colab": {
          "base_uri": "https://localhost:8080/"
        },
        "outputId": "4bde726e-2483-41da-c705-6ef344f2fa86"
      },
      "execution_count": 61,
      "outputs": [
        {
          "output_type": "execute_result",
          "data": {
            "text/plain": [
              "False"
            ]
          },
          "metadata": {},
          "execution_count": 61
        }
      ]
    },
    {
      "cell_type": "code",
      "source": [
        "\"Hello\" == \"World\""
      ],
      "metadata": {
        "id": "QG6u5rmnFizI",
        "colab": {
          "base_uri": "https://localhost:8080/"
        },
        "outputId": "df4560d6-eab6-4f8a-a74b-fc86471d1292"
      },
      "execution_count": 62,
      "outputs": [
        {
          "output_type": "execute_result",
          "data": {
            "text/plain": [
              "False"
            ]
          },
          "metadata": {},
          "execution_count": 62
        }
      ]
    },
    {
      "cell_type": "code",
      "source": [
        "a != c"
      ],
      "metadata": {
        "id": "oY2hveKbAU5T",
        "colab": {
          "base_uri": "https://localhost:8080/"
        },
        "outputId": "5294948c-793d-47aa-86c4-395d368870ca"
      },
      "execution_count": 63,
      "outputs": [
        {
          "output_type": "execute_result",
          "data": {
            "text/plain": [
              "True"
            ]
          },
          "metadata": {},
          "execution_count": 63
        }
      ]
    },
    {
      "cell_type": "code",
      "source": [
        "c <= a <= b"
      ],
      "metadata": {
        "id": "aTQPdPA5AVAR",
        "colab": {
          "base_uri": "https://localhost:8080/"
        },
        "outputId": "6ccc5e0b-5c5e-43ed-b86a-0847b821622f"
      },
      "execution_count": 64,
      "outputs": [
        {
          "output_type": "execute_result",
          "data": {
            "text/plain": [
              "True"
            ]
          },
          "metadata": {},
          "execution_count": 64
        }
      ]
    },
    {
      "cell_type": "markdown",
      "source": [
        "## 1.10 Logical operators"
      ],
      "metadata": {
        "id": "185UVneHmGBt"
      }
    },
    {
      "cell_type": "code",
      "source": [
        "a = 3\n",
        "b = -1\n",
        "c = 1"
      ],
      "metadata": {
        "id": "arNQGE5rPDin"
      },
      "execution_count": 65,
      "outputs": []
    },
    {
      "cell_type": "code",
      "source": [
        "a < b and b < c"
      ],
      "metadata": {
        "id": "zQ7kfOJoPDln",
        "colab": {
          "base_uri": "https://localhost:8080/"
        },
        "outputId": "688f7839-7eae-4b1c-d538-50d3b6a346ed"
      },
      "execution_count": 66,
      "outputs": [
        {
          "output_type": "execute_result",
          "data": {
            "text/plain": [
              "False"
            ]
          },
          "metadata": {},
          "execution_count": 66
        }
      ]
    },
    {
      "cell_type": "code",
      "source": [
        "a > b and b < c"
      ],
      "metadata": {
        "id": "SxHNpRwZPDod",
        "colab": {
          "base_uri": "https://localhost:8080/"
        },
        "outputId": "59713ee0-742e-4363-830a-f050d4063d10"
      },
      "execution_count": 67,
      "outputs": [
        {
          "output_type": "execute_result",
          "data": {
            "text/plain": [
              "True"
            ]
          },
          "metadata": {},
          "execution_count": 67
        }
      ]
    },
    {
      "cell_type": "code",
      "source": [
        "a > b or b > c"
      ],
      "metadata": {
        "id": "CucjD5CrPDrn",
        "colab": {
          "base_uri": "https://localhost:8080/"
        },
        "outputId": "e6b63420-2b82-4221-86c9-76cf480af7c8"
      },
      "execution_count": 68,
      "outputs": [
        {
          "output_type": "execute_result",
          "data": {
            "text/plain": [
              "True"
            ]
          },
          "metadata": {},
          "execution_count": 68
        }
      ]
    },
    {
      "cell_type": "code",
      "source": [
        "not a < c"
      ],
      "metadata": {
        "id": "n9KFC2lcDTpp",
        "colab": {
          "base_uri": "https://localhost:8080/"
        },
        "outputId": "5f9b0b93-7884-4497-f11c-e01f90d59c67"
      },
      "execution_count": 69,
      "outputs": [
        {
          "output_type": "execute_result",
          "data": {
            "text/plain": [
              "True"
            ]
          },
          "metadata": {},
          "execution_count": 69
        }
      ]
    },
    {
      "cell_type": "code",
      "source": [
        "d = b > c\n",
        "\n",
        "print(d)"
      ],
      "metadata": {
        "id": "7_nPZJU9DTsJ",
        "colab": {
          "base_uri": "https://localhost:8080/"
        },
        "outputId": "f634e563-6386-4cf5-d9b0-1917128634fb"
      },
      "execution_count": 70,
      "outputs": [
        {
          "output_type": "stream",
          "name": "stdout",
          "text": [
            "False\n"
          ]
        }
      ]
    },
    {
      "cell_type": "code",
      "source": [
        "result = not a < b and b > c\n",
        "\n",
        "print(result)"
      ],
      "metadata": {
        "id": "V5rgUoiBDT2J",
        "colab": {
          "base_uri": "https://localhost:8080/"
        },
        "outputId": "a98d5cb9-47ab-4ea4-9e5d-32afebe8a4ba"
      },
      "execution_count": 72,
      "outputs": [
        {
          "output_type": "stream",
          "name": "stdout",
          "text": [
            "False\n"
          ]
        }
      ]
    },
    {
      "cell_type": "code",
      "source": [
        "result = not (a < b and b > c)\n",
        "\n",
        "print(result)"
      ],
      "metadata": {
        "id": "1_VsKBmAHHik",
        "colab": {
          "base_uri": "https://localhost:8080/"
        },
        "outputId": "15e5b8f9-ef77-4ad1-a5bd-1868da71ec6f"
      },
      "execution_count": 73,
      "outputs": [
        {
          "output_type": "stream",
          "name": "stdout",
          "text": [
            "True\n"
          ]
        }
      ]
    },
    {
      "cell_type": "code",
      "source": [
        "None > 3"
      ],
      "metadata": {
        "id": "ghqLcvDuhXWl",
        "colab": {
          "base_uri": "https://localhost:8080/",
          "height": 183
        },
        "outputId": "2425794f-ee9f-4447-ce32-ae2691475142"
      },
      "execution_count": 74,
      "outputs": [
        {
          "output_type": "error",
          "ename": "TypeError",
          "evalue": "ignored",
          "traceback": [
            "\u001b[0;31m---------------------------------------------------------------------------\u001b[0m",
            "\u001b[0;31mTypeError\u001b[0m                                 Traceback (most recent call last)",
            "\u001b[0;32m<ipython-input-74-37c79493723d>\u001b[0m in \u001b[0;36m<cell line: 1>\u001b[0;34m()\u001b[0m\n\u001b[0;32m----> 1\u001b[0;31m \u001b[0;32mNone\u001b[0m \u001b[0;34m>\u001b[0m \u001b[0;36m3\u001b[0m\u001b[0;34m\u001b[0m\u001b[0;34m\u001b[0m\u001b[0m\n\u001b[0m",
            "\u001b[0;31mTypeError\u001b[0m: '>' not supported between instances of 'NoneType' and 'int'"
          ]
        }
      ]
    },
    {
      "cell_type": "code",
      "source": [
        "xyz = None\n",
        "\n",
        "xyz != None and xyz > 3"
      ],
      "metadata": {
        "id": "9Zmh0Dzd5YvU",
        "colab": {
          "base_uri": "https://localhost:8080/"
        },
        "outputId": "d99747e6-b112-41fa-aa40-5de3ade38a57"
      },
      "execution_count": 75,
      "outputs": [
        {
          "output_type": "execute_result",
          "data": {
            "text/plain": [
              "False"
            ]
          },
          "metadata": {},
          "execution_count": 75
        }
      ]
    },
    {
      "cell_type": "markdown",
      "source": [
        "## Coding challenge #1: Mad libs\n",
        "\n",
        "<br>\n",
        "\n",
        "\n",
        "\n",
        "### Description:\n",
        "In this challenge we are going to create a mad lib. You will get two inputs from the user. The first one is a boy's name and the second one is an animal species. Then, with those values, you will print the following text:\n",
        "\n",
        "<br>\n",
        "\n",
        "\n",
        "> { *name* } had always loved animals,\n",
        "> but he never expected to find a { *animal* } in his own backyard!\n",
        "> { *name* } spent hours studying and caring for his new friend,\n",
        "> and they quickly became inseparable. Together,\n",
        "> they explored the great outdoors and had many wild adventures,\n",
        "> forging a bond that would last a lifetime.\n",
        "\n",
        "\n",
        "<br>\n",
        "\n",
        "Run the cell below, titled \"Solution\" to see an example of the expected output.\n",
        "\n",
        "<br>\n",
        "\n"
      ],
      "metadata": {
        "id": "bGcJSGAKmKb0"
      }
    },
    {
      "cell_type": "code",
      "source": [
        "name = input(\"Enter a boy's name: \")\n",
        "animal = input(\"Enter an animal species: \")\n",
        "\n",
        "print(f\"{name} had always loved animals,\")\n",
        "print(f\"but he never expected to find a {animal} in his own backyard!\")\n",
        "print(f\"{name} spent hours studying and caring for his new friend,\")\n",
        "print(\"and they quickly became inseparable. Together,\")\n",
        "print(\"they explored the great outdoors and had many wild adventures,\")\n",
        "print(\"forging a bond that would last a lifetime.\")"
      ],
      "metadata": {
        "id": "p36SCdY3P0-z"
      },
      "execution_count": null,
      "outputs": []
    },
    {
      "cell_type": "code",
      "source": [
        "#@title Solution\n",
        "\n",
        "name = input(\"Enter a boy's name: \")\n",
        "animal = input(\"Enter an animal species: \")\n",
        "\n",
        "print(f\"{name} had always loved animals,\")\n",
        "print(f\"but he never expected to find a {animal} in his own backyard!\")\n",
        "print(f\"{name} spent hours studying and caring for his new friend,\")\n",
        "print(\"and they quickly became inseparable. Together,\")\n",
        "print(\"they explored the great outdoors and had many wild adventures,\")\n",
        "print(\"forging a bond that would last a lifetime.\")"
      ],
      "metadata": {
        "id": "eJo0Bi36PDxh",
        "cellView": "form"
      },
      "execution_count": null,
      "outputs": []
    },
    {
      "cell_type": "markdown",
      "source": [
        "## 1.2 Control Flow"
      ],
      "metadata": {
        "id": "oo9I3pPR6gdt"
      }
    },
    {
      "cell_type": "markdown",
      "source": [
        "### 1.2.1 Conditional statements"
      ],
      "metadata": {
        "id": "h5q4MLm468l2"
      }
    },
    {
      "cell_type": "code",
      "source": [
        "animal = \"Duck\"\n",
        "\n",
        "if animal == \"Duck\":\n",
        "    print(\"Quack!\")"
      ],
      "metadata": {
        "id": "lZ0r7pGgPD3V"
      },
      "execution_count": null,
      "outputs": []
    },
    {
      "cell_type": "code",
      "source": [
        "animal = \"Horse\"\n",
        "\n",
        "if animal == \"Duck\":\n",
        "    print(\"Quack!\")"
      ],
      "metadata": {
        "id": "Vpdl_P4oAujg"
      },
      "execution_count": null,
      "outputs": []
    },
    {
      "cell_type": "code",
      "source": [
        "animal = \"Pangolin\"\n",
        "\n",
        "if animal == \"Duck\":\n",
        "    print(\"Quack!\")\n",
        "elif animal == \"Horse\":\n",
        "    print(\"Neigh!\")\n",
        "elif animal == \"Snake\":\n",
        "    print(\"Zzzzzzzzz!\")\n",
        "else:\n",
        "    print(\"Unknown animal.\")"
      ],
      "metadata": {
        "id": "kCxKs-w4Aurx",
        "colab": {
          "base_uri": "https://localhost:8080/"
        },
        "outputId": "1e28edef-c219-4b31-d3fa-72498dcd4f51"
      },
      "execution_count": 77,
      "outputs": [
        {
          "output_type": "stream",
          "name": "stdout",
          "text": [
            "Unknown animal.\n"
          ]
        }
      ]
    },
    {
      "cell_type": "code",
      "source": [
        "hungry = True\n",
        "sleepy = False\n",
        "\n",
        "if hungry and sleepy:\n",
        "    print(\"I'm hungry and sleepy!\")\n",
        "elif hungry:\n",
        "    print(\"I'm hungry!\")\n",
        "elif sleepy:\n",
        "    print(\"I'm sleepy!\")\n",
        "else:\n",
        "    print(\"Nevermind\")\n",
        "\n",
        "print(\"Goodnight!\")"
      ],
      "metadata": {
        "id": "Ktakaal0PD6b",
        "colab": {
          "base_uri": "https://localhost:8080/"
        },
        "outputId": "3b3ebbda-fb30-4e4b-9e19-ca722d5a1733"
      },
      "execution_count": 78,
      "outputs": [
        {
          "output_type": "stream",
          "name": "stdout",
          "text": [
            "I'm hungry!\n",
            "Goodnight!\n"
          ]
        }
      ]
    },
    {
      "cell_type": "code",
      "source": [
        "x = 5\n",
        "y = -3\n",
        "\n",
        "if x > 0:\n",
        "    if y > 0:\n",
        "        # y>0, x>0\n",
        "        print(\"Both x and y are positive!\")\n",
        "    else:\n",
        "        # y<=0, x>0\n",
        "        print(\"x is positive but y is not!\")\n",
        "else:\n",
        "    if y > 0:\n",
        "        # x<=0, y>0\n",
        "        print(\"y is positive but x is not!\")\n",
        "    else:\n",
        "        # x<=0, y<=0\n",
        "        print(\"Neither x nor y are positive!\")"
      ],
      "metadata": {
        "id": "Rkdont-2PD9J",
        "colab": {
          "base_uri": "https://localhost:8080/"
        },
        "outputId": "c3f7a302-8e30-4ec2-bae1-2c007b5a146e"
      },
      "execution_count": 79,
      "outputs": [
        {
          "output_type": "stream",
          "name": "stdout",
          "text": [
            "x is positive but y is not!\n"
          ]
        }
      ]
    },
    {
      "cell_type": "code",
      "source": [],
      "metadata": {
        "id": "LqdKkKxVCvpp"
      },
      "execution_count": null,
      "outputs": []
    },
    {
      "cell_type": "markdown",
      "source": [
        "### 1.2.2 `for` loops"
      ],
      "metadata": {
        "id": "khpVzyEH9iSA"
      }
    },
    {
      "cell_type": "code",
      "source": [
        "for i in range(3):\n",
        "    print(i)"
      ],
      "metadata": {
        "id": "KX7QSxspPEMN",
        "colab": {
          "base_uri": "https://localhost:8080/"
        },
        "outputId": "173f7719-7c3e-4af4-c4f7-6c2207fb20e8"
      },
      "execution_count": 80,
      "outputs": [
        {
          "output_type": "stream",
          "name": "stdout",
          "text": [
            "0\n",
            "1\n",
            "2\n"
          ]
        }
      ]
    },
    {
      "cell_type": "code",
      "source": [
        "for i in range(1, 4):\n",
        "    print(i)"
      ],
      "metadata": {
        "id": "RvEGNweLH-4O",
        "colab": {
          "base_uri": "https://localhost:8080/"
        },
        "outputId": "55f1dcc4-c501-4b89-f93a-f1dbccc576e3"
      },
      "execution_count": 81,
      "outputs": [
        {
          "output_type": "stream",
          "name": "stdout",
          "text": [
            "1\n",
            "2\n",
            "3\n"
          ]
        }
      ]
    },
    {
      "cell_type": "code",
      "source": [
        "for i in range(0, 10, 2):\n",
        "    print(i)"
      ],
      "metadata": {
        "id": "sWSvVJrhPEPD",
        "colab": {
          "base_uri": "https://localhost:8080/"
        },
        "outputId": "f5db0ea8-b8b1-4248-b7f0-ccf403840fac"
      },
      "execution_count": 82,
      "outputs": [
        {
          "output_type": "stream",
          "name": "stdout",
          "text": [
            "0\n",
            "2\n",
            "4\n",
            "6\n",
            "8\n"
          ]
        }
      ]
    },
    {
      "cell_type": "code",
      "source": [
        "2 ** 4"
      ],
      "metadata": {
        "id": "kJ6iO09pPESD",
        "colab": {
          "base_uri": "https://localhost:8080/"
        },
        "outputId": "f06a5193-392f-4a6d-d542-1450985aba0f"
      },
      "execution_count": 83,
      "outputs": [
        {
          "output_type": "execute_result",
          "data": {
            "text/plain": [
              "16"
            ]
          },
          "metadata": {},
          "execution_count": 83
        }
      ]
    },
    {
      "cell_type": "code",
      "source": [
        "ans = 1\n",
        "\n",
        "for i in range(4):\n",
        "    ans *= 2\n",
        "\n",
        "print(ans)"
      ],
      "metadata": {
        "id": "Gxy0UY2XGcAk",
        "colab": {
          "base_uri": "https://localhost:8080/"
        },
        "outputId": "d8774e7a-3986-4a0e-dc5b-05218a1c526c"
      },
      "execution_count": 84,
      "outputs": [
        {
          "output_type": "stream",
          "name": "stdout",
          "text": [
            "16\n"
          ]
        }
      ]
    },
    {
      "cell_type": "code",
      "source": [
        "1 + 2 + 3 + 4 + 5 + 6 + 7 + 8 + 9 + 10"
      ],
      "metadata": {
        "id": "YaouR3f5Gv_y",
        "colab": {
          "base_uri": "https://localhost:8080/"
        },
        "outputId": "82c8d95b-e61c-4f0d-da46-5b2df8775e97"
      },
      "execution_count": 85,
      "outputs": [
        {
          "output_type": "execute_result",
          "data": {
            "text/plain": [
              "55"
            ]
          },
          "metadata": {},
          "execution_count": 85
        }
      ]
    },
    {
      "cell_type": "code",
      "source": [
        "ans = 0\n",
        "\n",
        "for i in range(1, 11):\n",
        "    ans += i\n",
        "\n",
        "print(ans)"
      ],
      "metadata": {
        "id": "oiI52dKLGwC2",
        "colab": {
          "base_uri": "https://localhost:8080/"
        },
        "outputId": "c1928202-bf7a-4445-f55b-01c069f4e868"
      },
      "execution_count": 86,
      "outputs": [
        {
          "output_type": "stream",
          "name": "stdout",
          "text": [
            "55\n"
          ]
        }
      ]
    },
    {
      "cell_type": "code",
      "source": [
        "for x in range(3):\n",
        "    for y in range(4, 7):\n",
        "        print(\"x is\", x, \"y is\", y)"
      ],
      "metadata": {
        "id": "BscbbRvkGwFk",
        "colab": {
          "base_uri": "https://localhost:8080/"
        },
        "outputId": "7021b82e-b276-4fc0-9c1e-1693506762d8"
      },
      "execution_count": 88,
      "outputs": [
        {
          "output_type": "stream",
          "name": "stdout",
          "text": [
            "x is 0 y is 4\n",
            "x is 0 y is 5\n",
            "x is 0 y is 6\n",
            "x is 1 y is 4\n",
            "x is 1 y is 5\n",
            "x is 1 y is 6\n",
            "x is 2 y is 4\n",
            "x is 2 y is 5\n",
            "x is 2 y is 6\n"
          ]
        }
      ]
    },
    {
      "cell_type": "code",
      "source": [
        "for i in range(11):\n",
        "    if i > 8:\n",
        "        print(i, \"is greater than 8!\")"
      ],
      "metadata": {
        "id": "toL_ViuZGcDU",
        "colab": {
          "base_uri": "https://localhost:8080/"
        },
        "outputId": "bd3dbd69-a8ba-41d0-8b98-47b5302c7c66"
      },
      "execution_count": 89,
      "outputs": [
        {
          "output_type": "stream",
          "name": "stdout",
          "text": [
            "9 is greater than 8!\n",
            "10 is greater than 8!\n"
          ]
        }
      ]
    },
    {
      "cell_type": "markdown",
      "source": [
        "### 1.2.3 `while` loops"
      ],
      "metadata": {
        "id": "xE68EWHb9ldJ"
      }
    },
    {
      "cell_type": "code",
      "source": [
        "num = 5\n",
        "\n",
        "while num >= 0:\n",
        "    # Subtract 1 from num.\n",
        "    # num = num - 1\n",
        "    num -= 1\n",
        "\n",
        "print(\"Now, num has the value:\", num)"
      ],
      "metadata": {
        "id": "Aq4qRjBoBilf",
        "colab": {
          "base_uri": "https://localhost:8080/"
        },
        "outputId": "b00ae88d-2190-4ae7-dcad-2086948eba42"
      },
      "execution_count": 93,
      "outputs": [
        {
          "output_type": "stream",
          "name": "stdout",
          "text": [
            "Now, num has the value: -1\n"
          ]
        }
      ]
    },
    {
      "cell_type": "code",
      "source": [
        "num = 5\n",
        "\n",
        "while num >= 0:\n",
        "    # Subtract 1 from num.\n",
        "    # num = num - 1\n",
        "    num += 1\n",
        "\n",
        "print(\"Now, num has the value:\", num)"
      ],
      "metadata": {
        "id": "4L6SfuTgPEVD",
        "colab": {
          "base_uri": "https://localhost:8080/",
          "height": 257
        },
        "outputId": "03105ae2-6d83-4ea7-f0c9-f6facb90258f"
      },
      "execution_count": 91,
      "outputs": [
        {
          "output_type": "error",
          "ename": "KeyboardInterrupt",
          "evalue": "ignored",
          "traceback": [
            "\u001b[0;31m---------------------------------------------------------------------------\u001b[0m",
            "\u001b[0;31mKeyboardInterrupt\u001b[0m                         Traceback (most recent call last)",
            "\u001b[0;32m<ipython-input-91-0f869bb6610a>\u001b[0m in \u001b[0;36m<cell line: 3>\u001b[0;34m()\u001b[0m\n\u001b[1;32m      1\u001b[0m \u001b[0mnum\u001b[0m \u001b[0;34m=\u001b[0m \u001b[0;36m5\u001b[0m\u001b[0;34m\u001b[0m\u001b[0;34m\u001b[0m\u001b[0m\n\u001b[1;32m      2\u001b[0m \u001b[0;34m\u001b[0m\u001b[0m\n\u001b[0;32m----> 3\u001b[0;31m \u001b[0;32mwhile\u001b[0m \u001b[0mnum\u001b[0m \u001b[0;34m>=\u001b[0m \u001b[0;36m0\u001b[0m\u001b[0;34m:\u001b[0m\u001b[0;34m\u001b[0m\u001b[0;34m\u001b[0m\u001b[0m\n\u001b[0m\u001b[1;32m      4\u001b[0m     \u001b[0;31m# Subtract 1 from num.\u001b[0m\u001b[0;34m\u001b[0m\u001b[0;34m\u001b[0m\u001b[0m\n\u001b[1;32m      5\u001b[0m     \u001b[0;31m# num = num - 1\u001b[0m\u001b[0;34m\u001b[0m\u001b[0;34m\u001b[0m\u001b[0m\n",
            "\u001b[0;31mKeyboardInterrupt\u001b[0m: "
          ]
        }
      ]
    },
    {
      "cell_type": "code",
      "source": [
        "x = 0\n",
        "\n",
        "while x < 3:\n",
        "    y = 0\n",
        "    while y < 2:\n",
        "        print(\"Hip\")\n",
        "        y += 1\n",
        "\n",
        "    print(\"Hurray!\")\n",
        "    x += 1"
      ],
      "metadata": {
        "id": "IvzRjLNgPEX3",
        "colab": {
          "base_uri": "https://localhost:8080/"
        },
        "outputId": "0575c138-af6d-42b9-843a-faacf0045f3a"
      },
      "execution_count": 92,
      "outputs": [
        {
          "output_type": "stream",
          "name": "stdout",
          "text": [
            "Hip\n",
            "Hip\n",
            "Hurray!\n",
            "Hip\n",
            "Hip\n",
            "Hurray!\n",
            "Hip\n",
            "Hip\n",
            "Hurray!\n"
          ]
        }
      ]
    },
    {
      "cell_type": "markdown",
      "source": [
        "### 1.2.4 `break`, `continue` and `else`"
      ],
      "metadata": {
        "id": "6OuBzX7z9rAy"
      }
    },
    {
      "cell_type": "code",
      "source": [
        "for i in range(10):\n",
        "\n",
        "    if i > 5:\n",
        "        break\n",
        "\n",
        "    print(i)"
      ],
      "metadata": {
        "id": "YdL5vxAGPEga",
        "colab": {
          "base_uri": "https://localhost:8080/"
        },
        "outputId": "b8c741e3-a4df-4b1d-966f-62fd2bc89b0c"
      },
      "execution_count": 94,
      "outputs": [
        {
          "output_type": "stream",
          "name": "stdout",
          "text": [
            "0\n",
            "1\n",
            "2\n",
            "3\n",
            "4\n",
            "5\n"
          ]
        }
      ]
    },
    {
      "cell_type": "code",
      "source": [
        "i = 30\n",
        "\n",
        "while i > 0:\n",
        "\n",
        "    if i % 7 == 0:\n",
        "        break\n",
        "\n",
        "    i -= 1\n",
        "\n",
        "print(i)"
      ],
      "metadata": {
        "id": "sQ95s_mTPEmC",
        "colab": {
          "base_uri": "https://localhost:8080/"
        },
        "outputId": "67bfadff-c76d-4b88-f3b0-1328c36bac42"
      },
      "execution_count": 95,
      "outputs": [
        {
          "output_type": "stream",
          "name": "stdout",
          "text": [
            "28\n"
          ]
        }
      ]
    },
    {
      "cell_type": "code",
      "source": [
        "for i in range(21):\n",
        "\n",
        "    if not i % 5 == 0:\n",
        "        continue\n",
        "\n",
        "    print(i)"
      ],
      "metadata": {
        "id": "aQypAkXqgyD7",
        "colab": {
          "base_uri": "https://localhost:8080/"
        },
        "outputId": "222617b6-0f61-4b2a-d1e4-81f411a6119a"
      },
      "execution_count": 96,
      "outputs": [
        {
          "output_type": "stream",
          "name": "stdout",
          "text": [
            "0\n",
            "5\n",
            "10\n",
            "15\n",
            "20\n"
          ]
        }
      ]
    },
    {
      "cell_type": "code",
      "source": [
        "for i in range(10):\n",
        "\n",
        "    if i == 7:\n",
        "        break\n",
        "\n",
        "else:\n",
        "    print(\"Completed!\")"
      ],
      "metadata": {
        "id": "njgF1UwigyO1"
      },
      "execution_count": 97,
      "outputs": []
    },
    {
      "cell_type": "code",
      "source": [],
      "metadata": {
        "id": "IyaB3OhpPEo7"
      },
      "execution_count": null,
      "outputs": []
    },
    {
      "cell_type": "markdown",
      "source": [
        "## Coding challenge #2: draw a hashtag `#` pyramid\n",
        "\n",
        "<br>\n",
        "\n",
        "\n",
        "\n",
        "### Description:\n",
        "Using a loop, print the following output:\n",
        "\n",
        "![Screenshot 2023-01-05 at 16.38.52.png](data:image/png;base64,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)\n",
        "\n",
        "\n",
        "The base should be 7 characters long and each row above it should have two characters less than the previous row. You can only use hashtags '#' and spaces ' ' to solve this challenge.\n",
        "\n",
        "<br>\n",
        "\n",
        "***IMPORTANT: It's okay if you find this challenge hard. I did. Solving challenges like this will help you to develop your problem solving skills, so take your time.***"
      ],
      "metadata": {
        "id": "ZUcPf-l799DZ"
      }
    },
    {
      "cell_type": "code",
      "source": [
        "for i in range(4):\n",
        "  spaces = \" \" * (3-i)\n",
        "  hashtags = \"#\" * (2*i+1)\n",
        "  print(spaces, hashtags, spaces, sep=\"\")"
      ],
      "metadata": {
        "id": "3GqjIE6-mjgu"
      },
      "execution_count": null,
      "outputs": []
    },
    {
      "cell_type": "code",
      "source": [
        "#@title Solution\n",
        "\n",
        "# The pyramid has four rows. Therefore, you can create a for loop\n",
        "# with four iterations to print each row.\n",
        "\n",
        "# The loop will iterate over rows 0 to 3 (both inclusive).\n",
        "\n",
        "# How many spaces does each row have:\n",
        "\n",
        "# Row 0 has: 3 spaces, 1 hashtag, 3 spaces\n",
        "# Row 1 has: 2 spaces, 3 hashtag, 2 spaces\n",
        "# Row 2 has: 1 spaces, 5 hashtag, 1 spaces\n",
        "# Row 3 has: 0 spaces, 7 hashtag, 0 spaces\n",
        "\n",
        "\n",
        "# As you can see, each row has (3 - row index) spaces on each side of the hashtags.\n",
        "\n",
        "# The number of hastags is (2 * row index + 1).\n",
        "\n",
        "# Remember: row indices start at 0.\n",
        "\n",
        "for i in range(4):\n",
        "  spaces = \" \" * (3-i)\n",
        "  hashtags = \"#\" * (2*i+1)\n",
        "  print(spaces, hashtags, spaces, sep=\"\")"
      ],
      "metadata": {
        "id": "clbAzHvtPExv",
        "cellView": "form"
      },
      "execution_count": null,
      "outputs": []
    },
    {
      "cell_type": "markdown",
      "source": [
        "## 1.3 Functions"
      ],
      "metadata": {
        "id": "Z6CoEulCmkRT"
      }
    },
    {
      "cell_type": "markdown",
      "source": [
        "### 1.3.1 What are functions?"
      ],
      "metadata": {
        "id": "WhuvhH5LmtFg"
      }
    },
    {
      "cell_type": "code",
      "source": [
        "def greet_customer():\n",
        "    print(\"Hello, customer!\")"
      ],
      "metadata": {
        "id": "BAXk_-yc69hk"
      },
      "execution_count": 98,
      "outputs": []
    },
    {
      "cell_type": "code",
      "source": [
        "greet_customer()"
      ],
      "metadata": {
        "id": "GID7sC4csOzG",
        "colab": {
          "base_uri": "https://localhost:8080/"
        },
        "outputId": "06eb0490-648c-45d7-e6da-44c83a5a8066"
      },
      "execution_count": 99,
      "outputs": [
        {
          "output_type": "stream",
          "name": "stdout",
          "text": [
            "Hello, customer!\n"
          ]
        }
      ]
    },
    {
      "cell_type": "code",
      "source": [
        "def greet_customer(name):\n",
        "    print(\"Hello,\", name)"
      ],
      "metadata": {
        "id": "kaiFT9dA69ka"
      },
      "execution_count": 100,
      "outputs": []
    },
    {
      "cell_type": "code",
      "source": [
        "greet_customer(\"John\")"
      ],
      "metadata": {
        "id": "LiYZxPER69m5",
        "colab": {
          "base_uri": "https://localhost:8080/"
        },
        "outputId": "dae7c1a7-dc65-4a75-ea23-24d803401654"
      },
      "execution_count": 101,
      "outputs": [
        {
          "output_type": "stream",
          "name": "stdout",
          "text": [
            "Hello, John\n"
          ]
        }
      ]
    },
    {
      "cell_type": "code",
      "source": [
        "def add(number1, number2):\n",
        "    return number1 + number2"
      ],
      "metadata": {
        "id": "srUYz2oimttv"
      },
      "execution_count": 102,
      "outputs": []
    },
    {
      "cell_type": "code",
      "source": [
        "x = 5\n",
        "y = 7\n",
        "\n",
        "add(x, y)"
      ],
      "metadata": {
        "id": "UkgxS8FZmtv7",
        "colab": {
          "base_uri": "https://localhost:8080/"
        },
        "outputId": "c0279844-496d-4d9d-99ea-352245d29b46"
      },
      "execution_count": 103,
      "outputs": [
        {
          "output_type": "execute_result",
          "data": {
            "text/plain": [
              "12"
            ]
          },
          "metadata": {},
          "execution_count": 103
        }
      ]
    },
    {
      "cell_type": "code",
      "source": [
        "result = add(x, y)\n",
        "\n",
        "print(result)"
      ],
      "metadata": {
        "id": "VEcwHPnxx3n3",
        "colab": {
          "base_uri": "https://localhost:8080/"
        },
        "outputId": "23805729-deb5-4e62-a36b-25d22a52dd73"
      },
      "execution_count": 104,
      "outputs": [
        {
          "output_type": "stream",
          "name": "stdout",
          "text": [
            "12\n"
          ]
        }
      ]
    },
    {
      "cell_type": "code",
      "source": [
        "def divide(number1, number2):\n",
        "    quotient = number1 // number2\n",
        "    remainder = number1 % number2\n",
        "    return quotient, remainder"
      ],
      "metadata": {
        "id": "jxJpVgRWuoGq"
      },
      "execution_count": 106,
      "outputs": []
    },
    {
      "cell_type": "code",
      "source": [
        "x = 13\n",
        "y = 3\n",
        "\n",
        "divide(x, y)"
      ],
      "metadata": {
        "id": "QsK4SBzduoJP",
        "colab": {
          "base_uri": "https://localhost:8080/"
        },
        "outputId": "605cdb18-8ca2-4546-c1f1-3bb4659b9664"
      },
      "execution_count": 107,
      "outputs": [
        {
          "output_type": "execute_result",
          "data": {
            "text/plain": [
              "(4, 1)"
            ]
          },
          "metadata": {},
          "execution_count": 107
        }
      ]
    },
    {
      "cell_type": "code",
      "source": [
        "quotient, remainder = divide(x, y)\n",
        "\n",
        "print(quotient, remainder)"
      ],
      "metadata": {
        "id": "DckMXxlruoMW",
        "colab": {
          "base_uri": "https://localhost:8080/"
        },
        "outputId": "b3ed557e-65f6-4de5-ee51-85ecb47bd8d3"
      },
      "execution_count": 108,
      "outputs": [
        {
          "output_type": "stream",
          "name": "stdout",
          "text": [
            "4 1\n"
          ]
        }
      ]
    },
    {
      "cell_type": "markdown",
      "source": [
        "### 1.3.2 Parameters and arguments"
      ],
      "metadata": {
        "id": "Cfib7r4BmtKx"
      }
    },
    {
      "cell_type": "code",
      "source": [
        "def print_message(name, food, drink):\n",
        "    print(f\"Hi, I'm {name}. I like {food} and {drink}.\")"
      ],
      "metadata": {
        "id": "K8Tn3g32OMfD"
      },
      "execution_count": 109,
      "outputs": []
    },
    {
      "cell_type": "code",
      "source": [
        "print_message(\"David\", \"pizza\", \"soda\")"
      ],
      "metadata": {
        "id": "_5MI5YVYOMh8",
        "colab": {
          "base_uri": "https://localhost:8080/"
        },
        "outputId": "9c6dbe79-4b8f-4d74-a5f7-49f1b58bf832"
      },
      "execution_count": 110,
      "outputs": [
        {
          "output_type": "stream",
          "name": "stdout",
          "text": [
            "Hi, I'm David. I like pizza and soda.\n"
          ]
        }
      ]
    },
    {
      "cell_type": "code",
      "source": [
        "print_message(\"David\", food=\"pizza\", drink=\"soda\")"
      ],
      "metadata": {
        "id": "hAiWa7-RRhSq",
        "colab": {
          "base_uri": "https://localhost:8080/"
        },
        "outputId": "09f9b8b6-2249-4cea-e407-6667fc069794"
      },
      "execution_count": 111,
      "outputs": [
        {
          "output_type": "stream",
          "name": "stdout",
          "text": [
            "Hi, I'm David. I like pizza and soda.\n"
          ]
        }
      ]
    },
    {
      "cell_type": "code",
      "source": [
        "def print_phone_number(number, prefix=\"1\"):\n",
        "    print(f\"+{prefix} {number}\")"
      ],
      "metadata": {
        "id": "B8ILxm3BVYfO"
      },
      "execution_count": 112,
      "outputs": []
    },
    {
      "cell_type": "code",
      "source": [
        "print_phone_number(\"324-555-1234\")"
      ],
      "metadata": {
        "id": "ortc6BWUQpLC",
        "colab": {
          "base_uri": "https://localhost:8080/"
        },
        "outputId": "26bc15ff-e88c-4bce-feeb-fee474237d8e"
      },
      "execution_count": 113,
      "outputs": [
        {
          "output_type": "stream",
          "name": "stdout",
          "text": [
            "+1 324-555-1234\n"
          ]
        }
      ]
    },
    {
      "cell_type": "code",
      "source": [
        "print_phone_number(\"12-345-6789\", prefix=\"39\")"
      ],
      "metadata": {
        "id": "JGv5rRPuQpNP",
        "colab": {
          "base_uri": "https://localhost:8080/"
        },
        "outputId": "aabcde29-9fcc-4772-c04e-8a382190ca37"
      },
      "execution_count": 116,
      "outputs": [
        {
          "output_type": "stream",
          "name": "stdout",
          "text": [
            "+39 12-345-6789\n"
          ]
        }
      ]
    },
    {
      "cell_type": "markdown",
      "source": [
        "### 1.3.3 Variable number of arguments"
      ],
      "metadata": {
        "id": "HaSntW6fFBbL"
      }
    },
    {
      "cell_type": "code",
      "source": [
        "def multiply(number1, number2):\n",
        "    return number1 * number2"
      ],
      "metadata": {
        "id": "h2uv1kqOyuq2"
      },
      "execution_count": 117,
      "outputs": []
    },
    {
      "cell_type": "code",
      "source": [
        "x = 3\n",
        "y = 2\n",
        "\n",
        "multiply(x, y)"
      ],
      "metadata": {
        "id": "dNYMDhxgAb5m",
        "colab": {
          "base_uri": "https://localhost:8080/"
        },
        "outputId": "b54d9274-6f57-46bd-8917-6d324c5b069c"
      },
      "execution_count": 118,
      "outputs": [
        {
          "output_type": "execute_result",
          "data": {
            "text/plain": [
              "6"
            ]
          },
          "metadata": {},
          "execution_count": 118
        }
      ]
    },
    {
      "cell_type": "code",
      "source": [
        "def multiply(*numbers):\n",
        "    ans = 1\n",
        "\n",
        "    for i in numbers:\n",
        "        ans *= i\n",
        "\n",
        "    return ans"
      ],
      "metadata": {
        "id": "nwuI3LQiAb-J"
      },
      "execution_count": 119,
      "outputs": []
    },
    {
      "cell_type": "code",
      "source": [
        "x = 3\n",
        "y = 2\n",
        "z = 4\n",
        "\n",
        "multiply(x, y, z)"
      ],
      "metadata": {
        "id": "57gwkj9-PEz3",
        "colab": {
          "base_uri": "https://localhost:8080/"
        },
        "outputId": "45634720-34ba-43ae-8c80-131cd6f15b37"
      },
      "execution_count": 120,
      "outputs": [
        {
          "output_type": "execute_result",
          "data": {
            "text/plain": [
              "24"
            ]
          },
          "metadata": {},
          "execution_count": 120
        }
      ]
    },
    {
      "cell_type": "markdown",
      "source": [
        "## Coding challenge #3: Find the nth Fibonacci number\n",
        "\n",
        "<br>\n",
        "\n",
        "\n",
        "### Description:\n",
        "\n",
        "Fibonacci numbers are a sequence where each number is the sum of the two preceding numbers. The sequence starts with 0 and 1, and then each subsequent number is the sum of the previous two numbers. For example:\n",
        "\n",
        "<br>\n",
        "\n",
        "The initial numbers are:\n",
        "\n",
        "F(0) = 0\n",
        "\n",
        "F(1) = 1\n",
        "\n",
        "<br>\n",
        "\n",
        "And the rest of the sequence can be found\n",
        "\n",
        "F(2) = F(1) + F(0) = 1\n",
        "\n",
        "F(3) = F(2) + F(1) = 2\n",
        "\n",
        "F(4) = F(3) + F(2) = 3\n",
        "\n",
        "F(5) = F(4) + F(3) = 5\n",
        "\n",
        "\n",
        "...\n",
        "\n",
        "<br>\n",
        "\n",
        "The goal of this challenge is to write a program that takes an integer number from the user `n`, and returns `F(n)`. That is, the `nth` Fibonacci number.\n",
        "\n",
        "<br>\n",
        "\n",
        "---\n",
        "\n",
        "<br>\n",
        "\n",
        "\n",
        "### Hint:\n",
        "\n",
        "Write a function that takes a parameter called `n` (integer) and returns\n",
        "the `nth` Fibonacci number. The function should do the following:\n",
        "\n",
        "1. If `n==0`, return 0.\n",
        "2. If `n==1`, return 1.\n",
        "3. Otherwise:\n",
        "  - Make a = 0 (0th Fibonacci number)\n",
        "  - Make b = 1 (1st Fibonacci number)\n",
        "  - Repeat as many times as you need the following loop:\n",
        "    - Find the next Fibonacci number `c = a + b`\n",
        "    - Update a: `a = b`\n",
        "    - Update b: `b = c`\n",
        "  - Return b (the last number we calculated)\n",
        "\n",
        "\n",
        "Once you have your `fibonacci` function, you just need to:\n",
        "\n",
        "- Request the value of `n` from the user.\n",
        "- Use your function to find `fibonacci(n)`.\n",
        "- Print the result."
      ],
      "metadata": {
        "id": "XgO8SRjzrrCW"
      }
    },
    {
      "cell_type": "code",
      "source": [
        "def fibonacci(n):\n",
        "  if n == 0:\n",
        "    return 0\n",
        "  elif n == 1:\n",
        "    return 1\n",
        "  else:\n",
        "    a = 0\n",
        "    b = 1\n",
        "    for i in range(n-1):\n",
        "        c = a + b\n",
        "        a = b\n",
        "        b = c\n",
        "    return b\n",
        "\n",
        "n = int(input(\"Enter a positive integer: \"))\n",
        "fib_n = fibonacci(n)\n",
        "print(\"The\", n, \"Fibonacci number is:\", fib_n)"
      ],
      "metadata": {
        "id": "5oK_ZGayrra-"
      },
      "execution_count": null,
      "outputs": []
    },
    {
      "cell_type": "code",
      "source": [
        "#@title Solution\n",
        "\n",
        "def fibonacci(n):\n",
        "  if n == 0:\n",
        "    return 0\n",
        "  elif n == 1:\n",
        "    return 1\n",
        "  else:\n",
        "    a = 0\n",
        "    b = 1\n",
        "    for i in range(n-1):\n",
        "        c = a + b\n",
        "        a = b\n",
        "        b = c\n",
        "    return b\n",
        "\n",
        "n = int(input(\"Enter a positive integer: \"))\n",
        "fib_n = fibonacci(n)\n",
        "print(\"The\", n, \"Fibonacci number is:\", fib_n)"
      ],
      "metadata": {
        "id": "S6VWDvmcrrlk",
        "cellView": "form"
      },
      "execution_count": null,
      "outputs": []
    },
    {
      "cell_type": "markdown",
      "source": [
        "<br><br><br>"
      ],
      "metadata": {
        "id": "uJfisj3iszyz"
      }
    },
    {
      "cell_type": "markdown",
      "source": [
        "## Coding project #1: Flowchart\n",
        "\n",
        "<br>\n",
        "\n",
        "\n",
        "### Description:\n",
        "Create a Python program that follows a flowchart to help users make friends.\n",
        "The program prompts the user with a series of questions, such as \"What are your interests?\" and \"Do you enjoy the same activities as I do?\". Based on the user's responses, the program uses conditional statements to determine the appropriate next step. The program aims to help users connect with like-minded people and provides an opportunity to practice conditional statements and user input.\n",
        "\n",
        "<br>\n",
        "\n",
        "![flowchart.png](data:image/png;base64,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)"
      ],
      "metadata": {
        "id": "OpMZMlyln0bs"
      }
    },
    {
      "cell_type": "code",
      "source": [
        "# Is John home?\n",
        "is_home = \"yes\"\n",
        "\n",
        "# Place phone call.\n",
        "print(\"Ring ring!\")\n",
        "\n",
        "# Home?\n",
        "if is_home == \"yes\":\n",
        "  # Yes.\n",
        "  print(\"Hi John, it's me.\")\n",
        "else:\n",
        "  # No.\n",
        "  print(\"Hi John. Please call me back. I have something to ask you.\")\n",
        "  print(\"John calls you back. Ring ring!\")\n",
        "\n",
        "# Would you like to share a meal?\n",
        "wants_meal = input(\"Would you like to share a meal? \")\n",
        "\n",
        "# What is the response?\n",
        "if wants_meal == \"yes\":\n",
        "  # Yes.\n",
        "  print(\"Great! I'll see you at dinner tonight.\")\n",
        "else:\n",
        "  # No.\n",
        "  print(\"I see. You wouldn't like that.\")\n",
        "\n",
        "  # Would you like to have a beverage together?\n",
        "  wants_beverage = input(\"Would you like to have a beverage together? \")\n",
        "\n",
        "  # What is the response?\n",
        "  if wants_beverage == \"yes\":\n",
        "    # Yes.\n",
        "    print(\"Great! I'll see you for a drink this evening!\")\n",
        "  else:\n",
        "    # No.\n",
        "    print(\"I see. You wouldn't like that.\")\n",
        "\n",
        "    # Tell me one of your interests.\n",
        "    interest = input(\"Tell me one of your interests: \")\n",
        "\n",
        "    # Is that interest 'physics' or 'comic books'?\n",
        "    while interest != \"physics\" and interest != \"comic books\":\n",
        "      # If not, tell John you only like 'physics' and 'comic books'.\n",
        "      print(\"I'm only interested in physics and comic books.\")\n",
        "      # Ask John for another interest.\n",
        "      interest = input(\"Tell me one of your interests: \")\n",
        "\n",
        "    # If the interest is 'physics', ask him to work together on a project.\n",
        "    if interest == \"physics\":\n",
        "      print(\"Let's work on something together!\")\n",
        "\n",
        "    # If the interest is 'comic books', ask him to go to the comic book store together.\n",
        "    else:\n",
        "      print(\"Let's go to the comic book store sometime!\")\n"
      ],
      "metadata": {
        "id": "Zwe6tfhdPFgB"
      },
      "execution_count": null,
      "outputs": []
    },
    {
      "cell_type": "code",
      "source": [
        "#@title Solution\n",
        "\n",
        "# Is John home?\n",
        "is_home = \"yes\"\n",
        "\n",
        "# Place phone call.\n",
        "print(\"Ring ring!\")\n",
        "\n",
        "# Home?\n",
        "if is_home == \"yes\":\n",
        "  # Yes.\n",
        "  print(\"Hi John, it's me.\")\n",
        "else:\n",
        "  # No.\n",
        "  print(\"Hi John. Please call me back. I have something to ask you.\")\n",
        "  print(\"John calls you back. Ring ring!\")\n",
        "\n",
        "# Would you like to share a meal?\n",
        "wants_meal = input(\"Would you like to share a meal? \")\n",
        "\n",
        "# What is the response?\n",
        "if wants_meal == \"yes\":\n",
        "  # Yes.\n",
        "  print(\"Great! I'll see you at dinner tonight.\")\n",
        "else:\n",
        "  # No.\n",
        "  print(\"I see. You wouldn't like that.\")\n",
        "\n",
        "  # Would you like to have a beverage together?\n",
        "  wants_beverage = input(\"Would you like to have a beverage together? \")\n",
        "\n",
        "  # What is the response?\n",
        "  if wants_beverage == \"yes\":\n",
        "    # Yes.\n",
        "    print(\"Great! I'll see you for a drink this evening!\")\n",
        "  else:\n",
        "    # No.\n",
        "    print(\"I see. You wouldn't like that.\")\n",
        "\n",
        "    # Tell me one of your interests.\n",
        "    interest = input(\"Tell me one of your interests: \")\n",
        "\n",
        "    # Is that interest 'physics' or 'comic books'?\n",
        "    while interest != \"physics\" and interest != \"comic books\":\n",
        "      # If not, tell John you only like 'physics' and 'comic books'.\n",
        "      print(\"I'm only interested in physics and comic books.\")\n",
        "      # Ask John for another interest.\n",
        "      interest = input(\"Tell me one of your interests: \")\n",
        "\n",
        "    # If the interest is 'physics', ask him to work together on a project.\n",
        "    if interest == \"physics\":\n",
        "      print(\"Let's work on something together!\")\n",
        "\n",
        "    # If the interest is 'comic books', ask him to go to the comic book store together.\n",
        "    else:\n",
        "      print(\"Let's go to the comic book store sometime!\")\n"
      ],
      "metadata": {
        "id": "H159Janzla6z",
        "cellView": "form"
      },
      "execution_count": null,
      "outputs": []
    },
    {
      "cell_type": "markdown",
      "source": [
        "<br><br><br>"
      ],
      "metadata": {
        "id": "z0oyV98Us3-r"
      }
    },
    {
      "cell_type": "markdown",
      "source": [
        "## 1.4 Exceptions and debugging"
      ],
      "metadata": {
        "id": "HwpD93FSh5Y0"
      }
    },
    {
      "cell_type": "markdown",
      "source": [
        "### 1.4.1 `try` and `except` statements"
      ],
      "metadata": {
        "id": "dRradYkBi1X-"
      }
    },
    {
      "cell_type": "code",
      "source": [
        "number = int(input(\"Enter an integer: \"))\n",
        "\n",
        "result = 10 / number\n",
        "\n",
        "print(\"Your lucky number is\", result)"
      ],
      "metadata": {
        "id": "gsjEymoFjpz5",
        "colab": {
          "base_uri": "https://localhost:8080/",
          "height": 275
        },
        "outputId": "69170bea-f0d6-4fb9-aade-957974755599"
      },
      "execution_count": 121,
      "outputs": [
        {
          "name": "stdout",
          "output_type": "stream",
          "text": [
            "Enter an integer: hello\n"
          ]
        },
        {
          "output_type": "error",
          "ename": "ValueError",
          "evalue": "ignored",
          "traceback": [
            "\u001b[0;31m---------------------------------------------------------------------------\u001b[0m",
            "\u001b[0;31mValueError\u001b[0m                                Traceback (most recent call last)",
            "\u001b[0;32m<ipython-input-121-d708f88d9869>\u001b[0m in \u001b[0;36m<cell line: 1>\u001b[0;34m()\u001b[0m\n\u001b[0;32m----> 1\u001b[0;31m \u001b[0mnumber\u001b[0m \u001b[0;34m=\u001b[0m \u001b[0mint\u001b[0m\u001b[0;34m(\u001b[0m\u001b[0minput\u001b[0m\u001b[0;34m(\u001b[0m\u001b[0;34m\"Enter an integer: \"\u001b[0m\u001b[0;34m)\u001b[0m\u001b[0;34m)\u001b[0m\u001b[0;34m\u001b[0m\u001b[0;34m\u001b[0m\u001b[0m\n\u001b[0m\u001b[1;32m      2\u001b[0m \u001b[0;34m\u001b[0m\u001b[0m\n\u001b[1;32m      3\u001b[0m \u001b[0mresult\u001b[0m \u001b[0;34m=\u001b[0m \u001b[0;36m10\u001b[0m \u001b[0;34m/\u001b[0m \u001b[0mnumber\u001b[0m\u001b[0;34m\u001b[0m\u001b[0;34m\u001b[0m\u001b[0m\n\u001b[1;32m      4\u001b[0m \u001b[0;34m\u001b[0m\u001b[0m\n\u001b[1;32m      5\u001b[0m \u001b[0mprint\u001b[0m\u001b[0;34m(\u001b[0m\u001b[0;34m\"Your lucky number is\"\u001b[0m\u001b[0;34m,\u001b[0m \u001b[0mresult\u001b[0m\u001b[0;34m)\u001b[0m\u001b[0;34m\u001b[0m\u001b[0;34m\u001b[0m\u001b[0m\n",
            "\u001b[0;31mValueError\u001b[0m: invalid literal for int() with base 10: 'hello'"
          ]
        }
      ]
    },
    {
      "cell_type": "code",
      "source": [
        "try:\n",
        "    number = int(input(\"Enter an integer: \"))\n",
        "    result = 10 / number\n",
        "    print(\"Your lucky number is\", result)\n",
        "\n",
        "except:\n",
        "    print(\"Oh, oh! Something went wrong!\")"
      ],
      "metadata": {
        "id": "qr1I7gDqjp3M",
        "colab": {
          "base_uri": "https://localhost:8080/"
        },
        "outputId": "8f1d9b8a-7cd2-40e0-eeef-03781e5b92b5"
      },
      "execution_count": 122,
      "outputs": [
        {
          "output_type": "stream",
          "name": "stdout",
          "text": [
            "Enter an integer: hi\n",
            "Oh, oh! Something went wrong!\n"
          ]
        }
      ]
    },
    {
      "cell_type": "markdown",
      "source": [
        "### 1.4.2 Handling specific types of errors"
      ],
      "metadata": {
        "id": "3-rnZdZyi1bB"
      }
    },
    {
      "cell_type": "code",
      "source": [
        "5 + \"Hello\""
      ],
      "metadata": {
        "id": "D2ClXG7cjqu0",
        "colab": {
          "base_uri": "https://localhost:8080/",
          "height": 183
        },
        "outputId": "2f2e6ca1-41b0-49fe-c041-817e059576e8"
      },
      "execution_count": 123,
      "outputs": [
        {
          "output_type": "error",
          "ename": "TypeError",
          "evalue": "ignored",
          "traceback": [
            "\u001b[0;31m---------------------------------------------------------------------------\u001b[0m",
            "\u001b[0;31mTypeError\u001b[0m                                 Traceback (most recent call last)",
            "\u001b[0;32m<ipython-input-123-f5d7b7e9b529>\u001b[0m in \u001b[0;36m<cell line: 1>\u001b[0;34m()\u001b[0m\n\u001b[0;32m----> 1\u001b[0;31m \u001b[0;36m5\u001b[0m \u001b[0;34m+\u001b[0m \u001b[0;34m\"Hello\"\u001b[0m\u001b[0;34m\u001b[0m\u001b[0;34m\u001b[0m\u001b[0m\n\u001b[0m",
            "\u001b[0;31mTypeError\u001b[0m: unsupported operand type(s) for +: 'int' and 'str'"
          ]
        }
      ]
    },
    {
      "cell_type": "code",
      "source": [
        "my_string = \"Hello\"\n",
        "\n",
        "my_string[5]"
      ],
      "metadata": {
        "id": "DM1KXRoPbxqA",
        "colab": {
          "base_uri": "https://localhost:8080/",
          "height": 220
        },
        "outputId": "2d92c497-ee5a-43e8-fc53-05ac15e8d03e"
      },
      "execution_count": 124,
      "outputs": [
        {
          "output_type": "error",
          "ename": "IndexError",
          "evalue": "ignored",
          "traceback": [
            "\u001b[0;31m---------------------------------------------------------------------------\u001b[0m",
            "\u001b[0;31mIndexError\u001b[0m                                Traceback (most recent call last)",
            "\u001b[0;32m<ipython-input-124-ac9b58b7049a>\u001b[0m in \u001b[0;36m<cell line: 3>\u001b[0;34m()\u001b[0m\n\u001b[1;32m      1\u001b[0m \u001b[0mmy_string\u001b[0m \u001b[0;34m=\u001b[0m \u001b[0;34m\"Hello\"\u001b[0m\u001b[0;34m\u001b[0m\u001b[0;34m\u001b[0m\u001b[0m\n\u001b[1;32m      2\u001b[0m \u001b[0;34m\u001b[0m\u001b[0m\n\u001b[0;32m----> 3\u001b[0;31m \u001b[0mmy_string\u001b[0m\u001b[0;34m[\u001b[0m\u001b[0;36m5\u001b[0m\u001b[0;34m]\u001b[0m\u001b[0;34m\u001b[0m\u001b[0;34m\u001b[0m\u001b[0m\n\u001b[0m",
            "\u001b[0;31mIndexError\u001b[0m: string index out of range"
          ]
        }
      ]
    },
    {
      "cell_type": "code",
      "source": [
        "int(\"Hello\")"
      ],
      "metadata": {
        "id": "RPlaG7sJbxr5",
        "colab": {
          "base_uri": "https://localhost:8080/",
          "height": 183
        },
        "outputId": "b3de8d68-379c-46d9-eb27-6a8a74823fac"
      },
      "execution_count": 125,
      "outputs": [
        {
          "output_type": "error",
          "ename": "ValueError",
          "evalue": "ignored",
          "traceback": [
            "\u001b[0;31m---------------------------------------------------------------------------\u001b[0m",
            "\u001b[0;31mValueError\u001b[0m                                Traceback (most recent call last)",
            "\u001b[0;32m<ipython-input-125-5cdea6865089>\u001b[0m in \u001b[0;36m<cell line: 1>\u001b[0;34m()\u001b[0m\n\u001b[0;32m----> 1\u001b[0;31m \u001b[0mint\u001b[0m\u001b[0;34m(\u001b[0m\u001b[0;34m\"Hello\"\u001b[0m\u001b[0;34m)\u001b[0m\u001b[0;34m\u001b[0m\u001b[0;34m\u001b[0m\u001b[0m\n\u001b[0m",
            "\u001b[0;31mValueError\u001b[0m: invalid literal for int() with base 10: 'Hello'"
          ]
        }
      ]
    },
    {
      "cell_type": "code",
      "source": [
        "10 / 0"
      ],
      "metadata": {
        "id": "PT87S693u3UO",
        "colab": {
          "base_uri": "https://localhost:8080/",
          "height": 183
        },
        "outputId": "314e55b5-3d4f-4550-fbf2-3fc2d7f4974c"
      },
      "execution_count": 126,
      "outputs": [
        {
          "output_type": "error",
          "ename": "ZeroDivisionError",
          "evalue": "ignored",
          "traceback": [
            "\u001b[0;31m---------------------------------------------------------------------------\u001b[0m",
            "\u001b[0;31mZeroDivisionError\u001b[0m                         Traceback (most recent call last)",
            "\u001b[0;32m<ipython-input-126-cd759d3fcf39>\u001b[0m in \u001b[0;36m<cell line: 1>\u001b[0;34m()\u001b[0m\n\u001b[0;32m----> 1\u001b[0;31m \u001b[0;36m10\u001b[0m \u001b[0;34m/\u001b[0m \u001b[0;36m0\u001b[0m\u001b[0;34m\u001b[0m\u001b[0;34m\u001b[0m\u001b[0m\n\u001b[0m",
            "\u001b[0;31mZeroDivisionError\u001b[0m: division by zero"
          ]
        }
      ]
    },
    {
      "cell_type": "code",
      "source": [
        "try:\n",
        "    number = int(input(\"Enter an integer: \"))\n",
        "    result = 10 / number\n",
        "    print(\"Your lucky number is:\", result)\n",
        "\n",
        "except ValueError:\n",
        "    print(\"You must enter a valid integer!\")\n",
        "\n",
        "except ZeroDivisionError:\n",
        "    print(\"You can't divide by 0!\")"
      ],
      "metadata": {
        "id": "2dNHIokUu3W0",
        "colab": {
          "base_uri": "https://localhost:8080/"
        },
        "outputId": "331dd61a-843e-49f8-b2a0-6056040c3d5f"
      },
      "execution_count": 127,
      "outputs": [
        {
          "output_type": "stream",
          "name": "stdout",
          "text": [
            "Enter an integer: 5\n",
            "Your lucky number is: 2.0\n"
          ]
        }
      ]
    },
    {
      "cell_type": "markdown",
      "source": [
        "### 1.4.3 `else` / `finally`"
      ],
      "metadata": {
        "id": "QT7YeWR5i1d8"
      }
    },
    {
      "cell_type": "code",
      "source": [
        "try:\n",
        "    dividend = int(input(\"Enter the dividend: \"))\n",
        "    divisor = int(input(\"Enter the divisor: \"))\n",
        "    quotient = dividend / divisor\n",
        "\n",
        "except ValueError:\n",
        "    print(\"Enter valid integers.\")\n",
        "\n",
        "except ZeroDivisionError:\n",
        "    print(\"You can't divide by 0!\")\n",
        "\n",
        "else:\n",
        "    print(\"The result is:\", quotient)\n",
        "\n",
        "finally:\n",
        "    print(\"Have a nice day\")"
      ],
      "metadata": {
        "id": "pgdQ3xy8jrXI",
        "colab": {
          "base_uri": "https://localhost:8080/"
        },
        "outputId": "3269404e-eaab-4050-ad8c-853fba79765c"
      },
      "execution_count": 129,
      "outputs": [
        {
          "output_type": "stream",
          "name": "stdout",
          "text": [
            "Enter the dividend: 10\n",
            "Enter the divisor: 2\n",
            "The result is: 5.0\n",
            "Have a nice day\n"
          ]
        }
      ]
    },
    {
      "cell_type": "code",
      "source": [],
      "metadata": {
        "id": "SI5XPU0HjrZ_"
      },
      "execution_count": null,
      "outputs": []
    },
    {
      "cell_type": "markdown",
      "source": [
        "### 1.4.4 Debugging with `print` and `type`"
      ],
      "metadata": {
        "id": "CgL21lPgjXvY"
      }
    },
    {
      "cell_type": "code",
      "source": [
        "def calculate_area(radius):\n",
        "    pi = 3.14159\n",
        "    area = pi * radius ** 2\n",
        "    return area\n",
        "\n",
        "radius = int(input(\"Enter an integer: \"))\n",
        "area = calculate_area(radius)\n",
        "print(\"Area is\", area)"
      ],
      "metadata": {
        "id": "10jxPqS3jsHw",
        "colab": {
          "base_uri": "https://localhost:8080/"
        },
        "outputId": "e8b9ee21-c277-46b2-a6a1-c962e812ef27"
      },
      "execution_count": 132,
      "outputs": [
        {
          "output_type": "stream",
          "name": "stdout",
          "text": [
            "Enter an integer: 10\n",
            "Area is 314.159\n"
          ]
        }
      ]
    },
    {
      "cell_type": "code",
      "source": [
        "def calculate_area(radius):\n",
        "    assert radius >= 0, \"Radius must be non-negative\"\n",
        "    pi = 3.14159\n",
        "    area = pi * radius ** 2\n",
        "    return area\n",
        "\n",
        "radius = int(input(\"Enter an integer: \"))\n",
        "if radius >= 0:\n",
        "    area = calculate_area(radius)\n",
        "    print(\"Area is\", area)\n",
        "else:\n",
        "    print(\"Can't calculate the area of a circle with negative radius.\")"
      ],
      "metadata": {
        "id": "zJylEaFg42ny",
        "colab": {
          "base_uri": "https://localhost:8080/"
        },
        "outputId": "af0b2acc-2fb8-46d8-c558-3769b395a94f"
      },
      "execution_count": 134,
      "outputs": [
        {
          "output_type": "stream",
          "name": "stdout",
          "text": [
            "Enter an integer: -1\n",
            "Can't calculate the area of a circle with negative radius.\n"
          ]
        }
      ]
    },
    {
      "cell_type": "markdown",
      "source": [
        "### 1.4.5 Raising your own errors"
      ],
      "metadata": {
        "id": "3pUnSGwa05at"
      }
    },
    {
      "cell_type": "code",
      "source": [
        "def calculate_average(*numbers):\n",
        "    if not numbers:\n",
        "        raise ValueError(\"At least one number expected.\")\n",
        "    average = sum(numbers) / len(numbers)\n",
        "    return average"
      ],
      "metadata": {
        "id": "FFr14Bad05fR"
      },
      "execution_count": 135,
      "outputs": []
    },
    {
      "cell_type": "code",
      "source": [
        "calculate_average(10, 5)"
      ],
      "metadata": {
        "id": "43nyKzPI05ja",
        "colab": {
          "base_uri": "https://localhost:8080/"
        },
        "outputId": "25142663-8775-4844-c384-3f1477d3cbcd"
      },
      "execution_count": 136,
      "outputs": [
        {
          "output_type": "execute_result",
          "data": {
            "text/plain": [
              "7.5"
            ]
          },
          "metadata": {},
          "execution_count": 136
        }
      ]
    },
    {
      "cell_type": "code",
      "source": [
        "calculate average()"
      ],
      "metadata": {
        "id": "eZx_mpcw05mO",
        "colab": {
          "base_uri": "https://localhost:8080/",
          "height": 146
        },
        "outputId": "49a535b8-732b-421e-d44c-9878672ee41e"
      },
      "execution_count": 137,
      "outputs": [
        {
          "output_type": "error",
          "ename": "SyntaxError",
          "evalue": "ignored",
          "traceback": [
            "\u001b[0;36m  File \u001b[0;32m\"<ipython-input-137-b7c464ae68b1>\"\u001b[0;36m, line \u001b[0;32m1\u001b[0m\n\u001b[0;31m    calculate average()\u001b[0m\n\u001b[0m              ^\u001b[0m\n\u001b[0;31mSyntaxError\u001b[0m\u001b[0;31m:\u001b[0m invalid syntax\n"
          ]
        }
      ]
    },
    {
      "cell_type": "markdown",
      "source": [
        "## Coding Challenge #4: Program debugging\n",
        "\n",
        "In this challenge, you will be given a simple program that calculates the sum of the digits in a given number. The program is broken and contains errors that need to be fixed. You will need to identify and correct the errors in the program using simple Python operations.\n",
        "\n",
        "Once you have fixed the program, it should prompt the user to enter a number and then calculate the sum of its digits. If the input is invalid or a negative number, your program must display a message to the user and terminate.\n",
        "\n",
        "For example, if the user enters the number `'1234'`, your program should print a message with the sum of the digits, which is  `1 + 2 + 3 + 4 = 10.`\n",
        "\n",
        "Test your program with different input values to ensure it works correctly.\n",
        "\n",
        "<br>\n",
        "\n",
        "**Hints:**\n",
        "\n",
        "- Make sure you are working with an `int`.\n",
        "- Think how integer division `//` and modulo `%` can help you to accomplish the task.\n",
        "- `if` the number is negative, display a message to the user and finish the program. `else`, find the sum of the number's digits.\n",
        "\n",
        "<br>\n",
        "\n",
        "**Remember that it's during the times when you're struggling with a programming challenge that you're developing your skills the most. Take your time. You are on your way to greatness.**\n",
        "\n",
        "<br>"
      ],
      "metadata": {
        "id": "9e3cgLtgiMYM"
      }
    },
    {
      "cell_type": "code",
      "source": [
        "number = input(\"Enter a number: \")\n",
        "\n",
        "try:\n",
        "  number = int(number)\n",
        "\n",
        "  if number < 0:\n",
        "    print(\"The number must be positive.\")\n",
        "\n",
        "  else:\n",
        "    total = 0\n",
        "\n",
        "    while number > 0:\n",
        "        digit = number % 10\n",
        "        total += digit\n",
        "        number = number // 10\n",
        "\n",
        "    print(\"Total is:\", total)\n",
        "\n",
        "except ValueError:\n",
        "  print(\"Input is invalid. Please enter an integer\")"
      ],
      "metadata": {
        "id": "tfk6wQ1ziKZB"
      },
      "execution_count": null,
      "outputs": []
    },
    {
      "cell_type": "code",
      "source": [
        "#@title Solution\n",
        "\n",
        "number = input(\"Enter a number: \")\n",
        "\n",
        "try:\n",
        "  number = int(number)\n",
        "\n",
        "  if number < 0:\n",
        "    print(\"The number must be positive.\")\n",
        "\n",
        "  else:\n",
        "    total = 0\n",
        "\n",
        "    while number > 0:\n",
        "        digit = number % 10\n",
        "        total += digit\n",
        "        number = number // 10\n",
        "\n",
        "    print(\"Total is:\", total)\n",
        "\n",
        "except ValueError:\n",
        "  print(\"Input is invalid. Please enter an integer\")\n"
      ],
      "metadata": {
        "id": "dVracDC2iKbt",
        "cellView": "form"
      },
      "execution_count": null,
      "outputs": []
    },
    {
      "cell_type": "markdown",
      "source": [
        "<br><br><br>"
      ],
      "metadata": {
        "id": "bAlxzGHKmWc3"
      }
    },
    {
      "cell_type": "markdown",
      "source": [
        "## 1.5 Data structures - Sequences"
      ],
      "metadata": {
        "id": "pHCvAnQ1mg7c"
      }
    },
    {
      "cell_type": "markdown",
      "source": [
        "### 1.5.1 Lists"
      ],
      "metadata": {
        "id": "4EXiiy3Qmqm0"
      }
    },
    {
      "cell_type": "code",
      "source": [
        "fruits = [\"Apple\", \"Orange\", \"Kiwi\"]\n",
        "\n",
        "fruits"
      ],
      "metadata": {
        "id": "UcDXWh_Qn1Ut",
        "colab": {
          "base_uri": "https://localhost:8080/"
        },
        "outputId": "bc90410a-050a-41e5-99fe-39d2280683d0"
      },
      "execution_count": 149,
      "outputs": [
        {
          "output_type": "execute_result",
          "data": {
            "text/plain": [
              "['Apple', 'Orange', 'Kiwi']"
            ]
          },
          "metadata": {},
          "execution_count": 149
        }
      ]
    },
    {
      "cell_type": "code",
      "source": [
        "empty_list = []\n",
        "\n",
        "empty_list"
      ],
      "metadata": {
        "id": "5DQCWQBmn1XC",
        "colab": {
          "base_uri": "https://localhost:8080/"
        },
        "outputId": "144b5949-70b7-45eb-c32c-7412b12967fc"
      },
      "execution_count": 150,
      "outputs": [
        {
          "output_type": "execute_result",
          "data": {
            "text/plain": [
              "[]"
            ]
          },
          "metadata": {},
          "execution_count": 150
        }
      ]
    },
    {
      "cell_type": "code",
      "source": [
        "another_empty_list = list()\n",
        "\n",
        "another_empty_list"
      ],
      "metadata": {
        "id": "ewQo5UABn1Zi",
        "colab": {
          "base_uri": "https://localhost:8080/"
        },
        "outputId": "90d79907-12ea-46d0-ee41-5adda8ab5c25"
      },
      "execution_count": 151,
      "outputs": [
        {
          "output_type": "execute_result",
          "data": {
            "text/plain": [
              "[]"
            ]
          },
          "metadata": {},
          "execution_count": 151
        }
      ]
    },
    {
      "cell_type": "code",
      "source": [
        "fruits = [\"Apple\", \"Orange\", \"Kiwi\"]\n",
        "\n",
        "fruits.append(\"Cherry\")\n",
        "\n",
        "fruits"
      ],
      "metadata": {
        "id": "JKjpBOm1n1bc",
        "colab": {
          "base_uri": "https://localhost:8080/"
        },
        "outputId": "c0b501e2-ba26-4248-8ecb-b70946fa5132"
      },
      "execution_count": 152,
      "outputs": [
        {
          "output_type": "execute_result",
          "data": {
            "text/plain": [
              "['Apple', 'Orange', 'Kiwi', 'Cherry']"
            ]
          },
          "metadata": {},
          "execution_count": 152
        }
      ]
    },
    {
      "cell_type": "code",
      "source": [
        "fruits.insert(1, \"Prune\")"
      ],
      "metadata": {
        "id": "luSEiis1vAG1"
      },
      "execution_count": 153,
      "outputs": []
    },
    {
      "cell_type": "code",
      "source": [
        "more_fruits = [\"Watermelon\", \"Pineapple\"]\n",
        "\n",
        "fruits.extend(more_fruits)\n",
        "\n",
        "fruits"
      ],
      "metadata": {
        "id": "ECYhkn4fvAKA",
        "colab": {
          "base_uri": "https://localhost:8080/"
        },
        "outputId": "8695e67a-53e7-49a7-a941-15a160bf07f2"
      },
      "execution_count": 154,
      "outputs": [
        {
          "output_type": "execute_result",
          "data": {
            "text/plain": [
              "['Apple', 'Prune', 'Orange', 'Kiwi', 'Cherry', 'Watermelon', 'Pineapple']"
            ]
          },
          "metadata": {},
          "execution_count": 154
        }
      ]
    },
    {
      "cell_type": "code",
      "source": [
        "even_more_fruits = [\"Grape\", \"Lemon\"]\n",
        "\n",
        "fruits += even_more_fruits\n",
        "\n",
        "fruits"
      ],
      "metadata": {
        "id": "hYOmfU23vAMa"
      },
      "execution_count": 155,
      "outputs": []
    },
    {
      "cell_type": "code",
      "source": [
        "lemon = fruits.pop()\n",
        "\n",
        "lemon"
      ],
      "metadata": {
        "id": "S9xOxvfXvAPj",
        "colab": {
          "base_uri": "https://localhost:8080/",
          "height": 36
        },
        "outputId": "d674050d-b4eb-42ff-c3ad-7ff481599aa8"
      },
      "execution_count": 156,
      "outputs": [
        {
          "output_type": "execute_result",
          "data": {
            "text/plain": [
              "'Lemon'"
            ],
            "application/vnd.google.colaboratory.intrinsic+json": {
              "type": "string"
            }
          },
          "metadata": {},
          "execution_count": 156
        }
      ]
    },
    {
      "cell_type": "code",
      "source": [
        "prune = fruits.pop(1)\n",
        "\n",
        "prune"
      ],
      "metadata": {
        "id": "Sw39klCkvAR1",
        "colab": {
          "base_uri": "https://localhost:8080/",
          "height": 36
        },
        "outputId": "c74ceaa8-b32c-496b-9a0a-e2df151e9ca7"
      },
      "execution_count": 157,
      "outputs": [
        {
          "output_type": "execute_result",
          "data": {
            "text/plain": [
              "'Prune'"
            ],
            "application/vnd.google.colaboratory.intrinsic+json": {
              "type": "string"
            }
          },
          "metadata": {},
          "execution_count": 157
        }
      ]
    },
    {
      "cell_type": "code",
      "source": [
        "fruits.remove(\"Grape\")\n",
        "\n",
        "fruits"
      ],
      "metadata": {
        "id": "0nWQoC7fvKZw",
        "colab": {
          "base_uri": "https://localhost:8080/"
        },
        "outputId": "a22af3d6-077e-4995-f2ed-c92580accbcb"
      },
      "execution_count": 158,
      "outputs": [
        {
          "output_type": "execute_result",
          "data": {
            "text/plain": [
              "['Apple', 'Orange', 'Kiwi', 'Cherry', 'Watermelon', 'Pineapple']"
            ]
          },
          "metadata": {},
          "execution_count": 158
        }
      ]
    },
    {
      "cell_type": "code",
      "source": [
        "del fruits[1]\n",
        "\n",
        "fruits"
      ],
      "metadata": {
        "id": "hwNgEhu-vKdh",
        "colab": {
          "base_uri": "https://localhost:8080/"
        },
        "outputId": "52b4b709-73a2-42b9-c1ae-179e02bf6f7c"
      },
      "execution_count": 160,
      "outputs": [
        {
          "output_type": "execute_result",
          "data": {
            "text/plain": [
              "['Apple', 'Cherry', 'Watermelon', 'Pineapple']"
            ]
          },
          "metadata": {},
          "execution_count": 160
        }
      ]
    },
    {
      "cell_type": "code",
      "source": [
        "fruits.clear()\n",
        "\n",
        "fruits"
      ],
      "metadata": {
        "id": "erdbHpfDvKft",
        "colab": {
          "base_uri": "https://localhost:8080/"
        },
        "outputId": "d73b3aee-bdef-45c2-9643-3648c10ccfd3"
      },
      "execution_count": 162,
      "outputs": [
        {
          "output_type": "execute_result",
          "data": {
            "text/plain": [
              "[]"
            ]
          },
          "metadata": {},
          "execution_count": 162
        }
      ]
    },
    {
      "cell_type": "markdown",
      "source": [
        "### 1.5.2 Accessing and slicing lists"
      ],
      "metadata": {
        "id": "z_u-_ltCmqq0"
      }
    },
    {
      "cell_type": "code",
      "source": [
        "numbers = [0,1,2,3,4,5,6,7,8,9]\n",
        "\n",
        "numbers[2]"
      ],
      "metadata": {
        "id": "bLlXDaw-n2Ew",
        "colab": {
          "base_uri": "https://localhost:8080/"
        },
        "outputId": "c06e3b33-8e40-43cb-8ca4-ee4f1a73098a"
      },
      "execution_count": 163,
      "outputs": [
        {
          "output_type": "execute_result",
          "data": {
            "text/plain": [
              "2"
            ]
          },
          "metadata": {},
          "execution_count": 163
        }
      ]
    },
    {
      "cell_type": "code",
      "source": [
        "numbers[2:4]"
      ],
      "metadata": {
        "id": "lVgTrDn4oB5h",
        "colab": {
          "base_uri": "https://localhost:8080/"
        },
        "outputId": "f043d45a-9e51-4431-f0e1-82778b8ab4f0"
      },
      "execution_count": 164,
      "outputs": [
        {
          "output_type": "execute_result",
          "data": {
            "text/plain": [
              "[2, 3]"
            ]
          },
          "metadata": {},
          "execution_count": 164
        }
      ]
    },
    {
      "cell_type": "code",
      "source": [
        "numbers[:4]"
      ],
      "metadata": {
        "id": "XgrlwnAin2HP",
        "colab": {
          "base_uri": "https://localhost:8080/"
        },
        "outputId": "9f8c00b6-3241-4018-aa1c-3fc664295ce2"
      },
      "execution_count": 165,
      "outputs": [
        {
          "output_type": "execute_result",
          "data": {
            "text/plain": [
              "[0, 1, 2, 3]"
            ]
          },
          "metadata": {},
          "execution_count": 165
        }
      ]
    },
    {
      "cell_type": "code",
      "source": [
        "numbers[6:]"
      ],
      "metadata": {
        "id": "Xm0smUzUn2Jz",
        "colab": {
          "base_uri": "https://localhost:8080/"
        },
        "outputId": "a191d842-31bf-491d-e752-d739a97ac514"
      },
      "execution_count": 166,
      "outputs": [
        {
          "output_type": "execute_result",
          "data": {
            "text/plain": [
              "[6, 7, 8, 9]"
            ]
          },
          "metadata": {},
          "execution_count": 166
        }
      ]
    },
    {
      "cell_type": "code",
      "source": [
        "numbers[-1]"
      ],
      "metadata": {
        "id": "Y1Xon-z3w3Im",
        "colab": {
          "base_uri": "https://localhost:8080/"
        },
        "outputId": "67a86ef1-b160-4f57-807b-2cc6c677a926"
      },
      "execution_count": 167,
      "outputs": [
        {
          "output_type": "execute_result",
          "data": {
            "text/plain": [
              "9"
            ]
          },
          "metadata": {},
          "execution_count": 167
        }
      ]
    },
    {
      "cell_type": "code",
      "source": [
        "numbers[-4]"
      ],
      "metadata": {
        "id": "mLnYeXLDw3LT",
        "colab": {
          "base_uri": "https://localhost:8080/"
        },
        "outputId": "8d0b0357-2ad2-48da-9840-0eed815aab7b"
      },
      "execution_count": 168,
      "outputs": [
        {
          "output_type": "execute_result",
          "data": {
            "text/plain": [
              "6"
            ]
          },
          "metadata": {},
          "execution_count": 168
        }
      ]
    },
    {
      "cell_type": "code",
      "source": [
        "numbers[-4:]"
      ],
      "metadata": {
        "id": "qmoJUZpm0yYF",
        "colab": {
          "base_uri": "https://localhost:8080/"
        },
        "outputId": "1422ca62-52f4-4964-f693-f411d6f2ed63"
      },
      "execution_count": 169,
      "outputs": [
        {
          "output_type": "execute_result",
          "data": {
            "text/plain": [
              "[6, 7, 8, 9]"
            ]
          },
          "metadata": {},
          "execution_count": 169
        }
      ]
    },
    {
      "cell_type": "code",
      "source": [
        "numbers[:-4]"
      ],
      "metadata": {
        "id": "CYhZE0pe0yah",
        "colab": {
          "base_uri": "https://localhost:8080/"
        },
        "outputId": "fc9a44fa-bab1-46f6-abc1-6fe1d0ebe3e7"
      },
      "execution_count": 170,
      "outputs": [
        {
          "output_type": "execute_result",
          "data": {
            "text/plain": [
              "[0, 1, 2, 3, 4, 5]"
            ]
          },
          "metadata": {},
          "execution_count": 170
        }
      ]
    },
    {
      "cell_type": "code",
      "source": [
        "numbers[1] = 3"
      ],
      "metadata": {
        "id": "YNtTzgiH1I7C"
      },
      "execution_count": 171,
      "outputs": []
    },
    {
      "cell_type": "code",
      "source": [
        "numbers[:4] = [0, 0, 0, 0]\n",
        "\n",
        "numbers"
      ],
      "metadata": {
        "id": "7b24Y2mC0ydf",
        "colab": {
          "base_uri": "https://localhost:8080/"
        },
        "outputId": "cac3b44d-4a83-4124-91ce-8cc2097ac9b8"
      },
      "execution_count": 173,
      "outputs": [
        {
          "output_type": "execute_result",
          "data": {
            "text/plain": [
              "[0, 0, 0, 0, 4, 5, 6, 7, 8, 9]"
            ]
          },
          "metadata": {},
          "execution_count": 173
        }
      ]
    },
    {
      "cell_type": "code",
      "source": [
        "numbers[0:6:1]"
      ],
      "metadata": {
        "id": "ZzmqWhv1w3Wt",
        "colab": {
          "base_uri": "https://localhost:8080/"
        },
        "outputId": "56a248ec-f29b-409c-fb38-d2e2418284b8"
      },
      "execution_count": 174,
      "outputs": [
        {
          "output_type": "execute_result",
          "data": {
            "text/plain": [
              "[0, 0, 0, 0, 4, 5]"
            ]
          },
          "metadata": {},
          "execution_count": 174
        }
      ]
    },
    {
      "cell_type": "code",
      "source": [
        "numbers[0:6:2]"
      ],
      "metadata": {
        "id": "HLtbezrA1DFX",
        "colab": {
          "base_uri": "https://localhost:8080/"
        },
        "outputId": "f9aeb987-d1c8-4a57-8280-dfe024016f8b"
      },
      "execution_count": 175,
      "outputs": [
        {
          "output_type": "execute_result",
          "data": {
            "text/plain": [
              "[0, 0, 4]"
            ]
          },
          "metadata": {},
          "execution_count": 175
        }
      ]
    },
    {
      "cell_type": "code",
      "source": [
        "numbers[::-1]"
      ],
      "metadata": {
        "id": "jzPO-egXysIy",
        "colab": {
          "base_uri": "https://localhost:8080/"
        },
        "outputId": "193d5bde-2c7c-49ef-e326-3d5fe4bb6f2d"
      },
      "execution_count": 176,
      "outputs": [
        {
          "output_type": "execute_result",
          "data": {
            "text/plain": [
              "[9, 8, 7, 6, 5, 4, 0, 0, 0, 0]"
            ]
          },
          "metadata": {},
          "execution_count": 176
        }
      ]
    },
    {
      "cell_type": "code",
      "source": [
        "numbers[::-2]"
      ],
      "metadata": {
        "id": "LOY_mpr7ysMl",
        "colab": {
          "base_uri": "https://localhost:8080/"
        },
        "outputId": "0a33bc72-01c6-48d1-f0f1-8599fc00ba7b"
      },
      "execution_count": 177,
      "outputs": [
        {
          "output_type": "execute_result",
          "data": {
            "text/plain": [
              "[9, 7, 5, 0, 0]"
            ]
          },
          "metadata": {},
          "execution_count": 177
        }
      ]
    },
    {
      "cell_type": "markdown",
      "source": [
        "### 1.5.3 Sorting and counting the items in a list"
      ],
      "metadata": {
        "id": "bo7G0oStmqwW"
      }
    },
    {
      "cell_type": "code",
      "source": [
        "numbers = [5,1,7,3,2,9,0,8,6,4]"
      ],
      "metadata": {
        "id": "nHLt6BQln21I"
      },
      "execution_count": 178,
      "outputs": []
    },
    {
      "cell_type": "code",
      "source": [
        "len(numbers)"
      ],
      "metadata": {
        "id": "quqbIVb1n24D",
        "colab": {
          "base_uri": "https://localhost:8080/"
        },
        "outputId": "2e2a774d-0ba4-43c5-cfa9-d30f4343dd79"
      },
      "execution_count": 179,
      "outputs": [
        {
          "output_type": "execute_result",
          "data": {
            "text/plain": [
              "10"
            ]
          },
          "metadata": {},
          "execution_count": 179
        }
      ]
    },
    {
      "cell_type": "code",
      "source": [
        "sorted(numbers)"
      ],
      "metadata": {
        "id": "V13xOUxYn26c",
        "colab": {
          "base_uri": "https://localhost:8080/"
        },
        "outputId": "68d0b932-56e8-47f4-90dd-1f5be7c59747"
      },
      "execution_count": 180,
      "outputs": [
        {
          "output_type": "execute_result",
          "data": {
            "text/plain": [
              "[0, 1, 2, 3, 4, 5, 6, 7, 8, 9]"
            ]
          },
          "metadata": {},
          "execution_count": 180
        }
      ]
    },
    {
      "cell_type": "code",
      "source": [
        "max(numbers)"
      ],
      "metadata": {
        "id": "DTgqVR5Wn28V",
        "colab": {
          "base_uri": "https://localhost:8080/"
        },
        "outputId": "bf75208e-c04f-4156-ee55-0ca1d1645de5"
      },
      "execution_count": 181,
      "outputs": [
        {
          "output_type": "execute_result",
          "data": {
            "text/plain": [
              "9"
            ]
          },
          "metadata": {},
          "execution_count": 181
        }
      ]
    },
    {
      "cell_type": "code",
      "source": [
        "min(numbers)"
      ],
      "metadata": {
        "id": "OpRujkWZ2yOw",
        "colab": {
          "base_uri": "https://localhost:8080/"
        },
        "outputId": "89c093d1-d09d-4181-fa2e-c08fd1308ce6"
      },
      "execution_count": 182,
      "outputs": [
        {
          "output_type": "execute_result",
          "data": {
            "text/plain": [
              "0"
            ]
          },
          "metadata": {},
          "execution_count": 182
        }
      ]
    },
    {
      "cell_type": "code",
      "source": [
        "numbers = [5,1,7,3,2,9,0,8,6,4,4,4]"
      ],
      "metadata": {
        "id": "yXYneqlV2yQ6"
      },
      "execution_count": 183,
      "outputs": []
    },
    {
      "cell_type": "code",
      "source": [
        "numbers.count(4)"
      ],
      "metadata": {
        "id": "hV7XBsCp7lX9",
        "colab": {
          "base_uri": "https://localhost:8080/"
        },
        "outputId": "1a920b50-a2b5-4792-a929-3b932a2eb25b"
      },
      "execution_count": 184,
      "outputs": [
        {
          "output_type": "execute_result",
          "data": {
            "text/plain": [
              "3"
            ]
          },
          "metadata": {},
          "execution_count": 184
        }
      ]
    },
    {
      "cell_type": "markdown",
      "source": [
        "### 1.5.4 Tuples"
      ],
      "metadata": {
        "id": "ut9zb3n2mqzK"
      }
    },
    {
      "cell_type": "code",
      "source": [
        "bands = (\"The Beatles\", \"AC/DC\", \"Led Zeppelin\")\n",
        "\n",
        "bands"
      ],
      "metadata": {
        "id": "GD0zjHSTn3hh",
        "colab": {
          "base_uri": "https://localhost:8080/"
        },
        "outputId": "f97d1849-fab7-4e8d-892b-fc3322ddba86"
      },
      "execution_count": 185,
      "outputs": [
        {
          "output_type": "execute_result",
          "data": {
            "text/plain": [
              "('The Beatles', 'AC/DC', 'Led Zeppelin')"
            ]
          },
          "metadata": {},
          "execution_count": 185
        }
      ]
    },
    {
      "cell_type": "code",
      "source": [
        "empty_tuple = ()\n",
        "\n",
        "empty_tuple"
      ],
      "metadata": {
        "id": "pxKDx8HAn3kG",
        "colab": {
          "base_uri": "https://localhost:8080/"
        },
        "outputId": "de137dc7-2d26-4b70-d257-c0fe6e9014fe"
      },
      "execution_count": 186,
      "outputs": [
        {
          "output_type": "execute_result",
          "data": {
            "text/plain": [
              "()"
            ]
          },
          "metadata": {},
          "execution_count": 186
        }
      ]
    },
    {
      "cell_type": "code",
      "source": [
        "another_empty_tuple = tuple()\n",
        "\n",
        "empty_tuple"
      ],
      "metadata": {
        "id": "Dn4oI3k-75kp",
        "colab": {
          "base_uri": "https://localhost:8080/"
        },
        "outputId": "4dd1a871-53d3-421b-f165-efd7d2edded2"
      },
      "execution_count": 188,
      "outputs": [
        {
          "output_type": "execute_result",
          "data": {
            "text/plain": [
              "()"
            ]
          },
          "metadata": {},
          "execution_count": 188
        }
      ]
    },
    {
      "cell_type": "code",
      "source": [
        "bands[0]"
      ],
      "metadata": {
        "id": "M-BNaZFi75m5",
        "colab": {
          "base_uri": "https://localhost:8080/",
          "height": 36
        },
        "outputId": "604bbb6f-1f1c-40e6-d209-ff95efab57a7"
      },
      "execution_count": 189,
      "outputs": [
        {
          "output_type": "execute_result",
          "data": {
            "text/plain": [
              "'The Beatles'"
            ],
            "application/vnd.google.colaboratory.intrinsic+json": {
              "type": "string"
            }
          },
          "metadata": {},
          "execution_count": 189
        }
      ]
    },
    {
      "cell_type": "code",
      "source": [
        "bands[1:]"
      ],
      "metadata": {
        "id": "KJ75n_O--c7P",
        "colab": {
          "base_uri": "https://localhost:8080/"
        },
        "outputId": "22ac057d-ecbf-4590-a17e-e53ff3058561"
      },
      "execution_count": 190,
      "outputs": [
        {
          "output_type": "execute_result",
          "data": {
            "text/plain": [
              "('AC/DC', 'Led Zeppelin')"
            ]
          },
          "metadata": {},
          "execution_count": 190
        }
      ]
    },
    {
      "cell_type": "code",
      "source": [
        "bands[-1]"
      ],
      "metadata": {
        "id": "Zo9VK3_Q-c9V",
        "colab": {
          "base_uri": "https://localhost:8080/",
          "height": 36
        },
        "outputId": "b3fc70ea-a182-471e-a975-69b86f74e3e2"
      },
      "execution_count": 191,
      "outputs": [
        {
          "output_type": "execute_result",
          "data": {
            "text/plain": [
              "'Led Zeppelin'"
            ],
            "application/vnd.google.colaboratory.intrinsic+json": {
              "type": "string"
            }
          },
          "metadata": {},
          "execution_count": 191
        }
      ]
    },
    {
      "cell_type": "code",
      "source": [
        "numbers = (1,7,2)"
      ],
      "metadata": {
        "id": "887wFMD6_kbr"
      },
      "execution_count": 192,
      "outputs": []
    },
    {
      "cell_type": "code",
      "source": [
        "first, second, third = numbers"
      ],
      "metadata": {
        "id": "qGesmnjD_kgh"
      },
      "execution_count": 193,
      "outputs": []
    },
    {
      "cell_type": "code",
      "source": [
        "first, second, third"
      ],
      "metadata": {
        "id": "Ad6xFFts_kkD",
        "colab": {
          "base_uri": "https://localhost:8080/"
        },
        "outputId": "26e23529-eb01-4032-8281-e618a8bc177c"
      },
      "execution_count": 194,
      "outputs": [
        {
          "output_type": "execute_result",
          "data": {
            "text/plain": [
              "(1, 7, 2)"
            ]
          },
          "metadata": {},
          "execution_count": 194
        }
      ]
    },
    {
      "cell_type": "markdown",
      "source": [
        "### 1.5.5 Strings are sequences of characters"
      ],
      "metadata": {
        "id": "Nd9HZFtamq2S"
      }
    },
    {
      "cell_type": "code",
      "source": [
        "message = \"Hello, world\""
      ],
      "metadata": {
        "id": "eoYYpb1Nn4Qb"
      },
      "execution_count": 195,
      "outputs": []
    },
    {
      "cell_type": "code",
      "source": [
        "message[1]"
      ],
      "metadata": {
        "id": "WrzhgHo2n4VT",
        "colab": {
          "base_uri": "https://localhost:8080/",
          "height": 36
        },
        "outputId": "319b56ab-0fed-49cf-aede-db9c7eb80fa0"
      },
      "execution_count": 196,
      "outputs": [
        {
          "output_type": "execute_result",
          "data": {
            "text/plain": [
              "'e'"
            ],
            "application/vnd.google.colaboratory.intrinsic+json": {
              "type": "string"
            }
          },
          "metadata": {},
          "execution_count": 196
        }
      ]
    },
    {
      "cell_type": "code",
      "source": [
        "message[3:9]"
      ],
      "metadata": {
        "id": "GJmpnEM8n4Si",
        "colab": {
          "base_uri": "https://localhost:8080/",
          "height": 36
        },
        "outputId": "06533c10-23b6-4b37-a0c7-66ef9ec0930b"
      },
      "execution_count": 197,
      "outputs": [
        {
          "output_type": "execute_result",
          "data": {
            "text/plain": [
              "'lo, wo'"
            ],
            "application/vnd.google.colaboratory.intrinsic+json": {
              "type": "string"
            }
          },
          "metadata": {},
          "execution_count": 197
        }
      ]
    },
    {
      "cell_type": "markdown",
      "source": [
        "### 1.5.6 Iterating over sequences (Ranges)"
      ],
      "metadata": {
        "id": "NCaJA5Lkmq5B"
      }
    },
    {
      "cell_type": "code",
      "source": [
        "range(5)"
      ],
      "metadata": {
        "id": "cqN3Ws4Wn5Aj",
        "colab": {
          "base_uri": "https://localhost:8080/"
        },
        "outputId": "48b34f44-87e0-419e-b760-ff7aa04de1bb"
      },
      "execution_count": 198,
      "outputs": [
        {
          "output_type": "execute_result",
          "data": {
            "text/plain": [
              "range(0, 5)"
            ]
          },
          "metadata": {},
          "execution_count": 198
        }
      ]
    },
    {
      "cell_type": "code",
      "source": [
        "for i in range(5):\n",
        "    print(i)"
      ],
      "metadata": {
        "id": "a5rT7t2f9uZ3",
        "colab": {
          "base_uri": "https://localhost:8080/"
        },
        "outputId": "fe11993c-1545-4ada-d8f1-4fddc1289dd8"
      },
      "execution_count": 199,
      "outputs": [
        {
          "output_type": "stream",
          "name": "stdout",
          "text": [
            "0\n",
            "1\n",
            "2\n",
            "3\n",
            "4\n"
          ]
        }
      ]
    },
    {
      "cell_type": "code",
      "source": [
        "for i in (2,3,4,5):\n",
        "    print(i)"
      ],
      "metadata": {
        "id": "TgIOJu679ufi",
        "colab": {
          "base_uri": "https://localhost:8080/"
        },
        "outputId": "053d14da-6c3e-49f5-e4f1-e2406718aeb3"
      },
      "execution_count": 200,
      "outputs": [
        {
          "output_type": "stream",
          "name": "stdout",
          "text": [
            "2\n",
            "3\n",
            "4\n",
            "5\n"
          ]
        }
      ]
    },
    {
      "cell_type": "code",
      "source": [
        "message = \"Hello\"\n",
        "\n",
        "for i in message:\n",
        "    print(i)"
      ],
      "metadata": {
        "id": "Kne13LMJ9umD",
        "colab": {
          "base_uri": "https://localhost:8080/"
        },
        "outputId": "bf902513-80f2-4f47-be81-702927e9ea6a"
      },
      "execution_count": 202,
      "outputs": [
        {
          "output_type": "stream",
          "name": "stdout",
          "text": [
            "H\n",
            "e\n",
            "l\n",
            "l\n",
            "o\n"
          ]
        }
      ]
    },
    {
      "cell_type": "code",
      "source": [
        "for i in range(5,0,-1):\n",
        "    print(i)"
      ],
      "metadata": {
        "id": "G-ewuAqrn5Cw",
        "colab": {
          "base_uri": "https://localhost:8080/"
        },
        "outputId": "8d7ea7a0-2f2e-4c82-d085-a4fee77815e0"
      },
      "execution_count": 203,
      "outputs": [
        {
          "output_type": "stream",
          "name": "stdout",
          "text": [
            "5\n",
            "4\n",
            "3\n",
            "2\n",
            "1\n"
          ]
        }
      ]
    },
    {
      "cell_type": "code",
      "source": [
        "for i in range(0, 5, -1):\n",
        "    print(i)"
      ],
      "metadata": {
        "id": "Cg3OAwUMAaqu"
      },
      "execution_count": 204,
      "outputs": []
    },
    {
      "cell_type": "code",
      "source": [],
      "metadata": {
        "id": "20mLCKJOAUsy"
      },
      "execution_count": null,
      "outputs": []
    },
    {
      "cell_type": "markdown",
      "source": [
        "### 1.5.7 Membership testing"
      ],
      "metadata": {
        "id": "CDKJ4KhB8Gj8"
      }
    },
    {
      "cell_type": "code",
      "source": [
        "3 in range(10)"
      ],
      "metadata": {
        "id": "oOH940T2A5EQ",
        "colab": {
          "base_uri": "https://localhost:8080/"
        },
        "outputId": "952209c2-e48a-4df9-9cab-7d6994429e6b"
      },
      "execution_count": 205,
      "outputs": [
        {
          "output_type": "execute_result",
          "data": {
            "text/plain": [
              "True"
            ]
          },
          "metadata": {},
          "execution_count": 205
        }
      ]
    },
    {
      "cell_type": "code",
      "source": [
        "12 in range(10)"
      ],
      "metadata": {
        "id": "hWLLnhQ0A7Sl",
        "colab": {
          "base_uri": "https://localhost:8080/"
        },
        "outputId": "03ae9e33-c682-4432-aac7-05fbccef40ef"
      },
      "execution_count": 206,
      "outputs": [
        {
          "output_type": "execute_result",
          "data": {
            "text/plain": [
              "False"
            ]
          },
          "metadata": {},
          "execution_count": 206
        }
      ]
    },
    {
      "cell_type": "code",
      "source": [
        "if 3 in range(10):\n",
        "    print(\"Success!\")"
      ],
      "metadata": {
        "id": "FBxfVnwx8G0Z",
        "colab": {
          "base_uri": "https://localhost:8080/"
        },
        "outputId": "c5a2cd17-dc06-4dd1-c1f9-856593e7b5bb"
      },
      "execution_count": 207,
      "outputs": [
        {
          "output_type": "stream",
          "name": "stdout",
          "text": [
            "Success!\n"
          ]
        }
      ]
    },
    {
      "cell_type": "code",
      "source": [
        "if not 12 in range(10):\n",
        "    print(\"It's not in!\")"
      ],
      "metadata": {
        "id": "B8lnBIcL8G3T",
        "colab": {
          "base_uri": "https://localhost:8080/"
        },
        "outputId": "58ceba50-20c2-4925-9902-af74b5525742"
      },
      "execution_count": 208,
      "outputs": [
        {
          "output_type": "stream",
          "name": "stdout",
          "text": [
            "It's not in!\n"
          ]
        }
      ]
    },
    {
      "cell_type": "code",
      "source": [
        "if \"H\" in \"Hello\":\n",
        "    print(\"Yes, it's in!\")"
      ],
      "metadata": {
        "id": "w7NMzptS8GvP",
        "colab": {
          "base_uri": "https://localhost:8080/"
        },
        "outputId": "8a72029b-5d8a-4f2d-b666-27cc614e9d9a"
      },
      "execution_count": 209,
      "outputs": [
        {
          "output_type": "stream",
          "name": "stdout",
          "text": [
            "Yes, it's in!\n"
          ]
        }
      ]
    },
    {
      "cell_type": "code",
      "source": [
        "if \"f\" in \"Hello\":\n",
        "    print(\"Yes, it's in!\")"
      ],
      "metadata": {
        "id": "1B3ydyb48Gxq"
      },
      "execution_count": 210,
      "outputs": []
    },
    {
      "cell_type": "markdown",
      "source": [
        "## 1.6 Operations with strings"
      ],
      "metadata": {
        "id": "OWnai0-oD1jQ"
      }
    },
    {
      "cell_type": "markdown",
      "source": [
        "### 1.6.1 Concatenation and repetition"
      ],
      "metadata": {
        "id": "ZT2FsX8xD6ag"
      }
    },
    {
      "cell_type": "code",
      "source": [
        "a = \"Hello,\"\n",
        "b = 'world!'\n",
        "c = \"Good evening!\"\n",
        "\n",
        "a + b + c"
      ],
      "metadata": {
        "id": "YbrZRruJEOdM",
        "colab": {
          "base_uri": "https://localhost:8080/",
          "height": 36
        },
        "outputId": "0b818741-3b88-44e3-93d1-996cf3072d23"
      },
      "execution_count": 215,
      "outputs": [
        {
          "output_type": "execute_result",
          "data": {
            "text/plain": [
              "'Hello,world!Good evening!'"
            ],
            "application/vnd.google.colaboratory.intrinsic+json": {
              "type": "string"
            }
          },
          "metadata": {},
          "execution_count": 215
        }
      ]
    },
    {
      "cell_type": "code",
      "source": [
        "a * 3"
      ],
      "metadata": {
        "id": "Z_5KcMGdEOfe",
        "colab": {
          "base_uri": "https://localhost:8080/",
          "height": 36
        },
        "outputId": "9eec054f-99a6-40d3-8118-850d6aa8505b"
      },
      "execution_count": 216,
      "outputs": [
        {
          "output_type": "execute_result",
          "data": {
            "text/plain": [
              "'Hello,Hello,Hello,'"
            ],
            "application/vnd.google.colaboratory.intrinsic+json": {
              "type": "string"
            }
          },
          "metadata": {},
          "execution_count": 216
        }
      ]
    },
    {
      "cell_type": "markdown",
      "source": [
        "### 1.6.2 Upper and lower case"
      ],
      "metadata": {
        "id": "5Mfms7QZV-Uu"
      }
    },
    {
      "cell_type": "code",
      "source": [
        "message = \"The MeaNinG of life is 42\""
      ],
      "metadata": {
        "id": "bstpO20cV-fJ"
      },
      "execution_count": 217,
      "outputs": []
    },
    {
      "cell_type": "code",
      "source": [
        "message.upper()"
      ],
      "metadata": {
        "id": "begfPd3sV-ht",
        "colab": {
          "base_uri": "https://localhost:8080/",
          "height": 36
        },
        "outputId": "4ff65f8f-6c25-45bd-872b-53c24cb179bf"
      },
      "execution_count": 218,
      "outputs": [
        {
          "output_type": "execute_result",
          "data": {
            "text/plain": [
              "'THE MEANING OF LIFE IS 42'"
            ],
            "application/vnd.google.colaboratory.intrinsic+json": {
              "type": "string"
            }
          },
          "metadata": {},
          "execution_count": 218
        }
      ]
    },
    {
      "cell_type": "code",
      "source": [
        "message.lower()"
      ],
      "metadata": {
        "id": "NHsrI05Zbd5Y",
        "colab": {
          "base_uri": "https://localhost:8080/",
          "height": 36
        },
        "outputId": "a9266191-5601-40c4-9b9c-e12d6e1ee4ab"
      },
      "execution_count": 219,
      "outputs": [
        {
          "output_type": "execute_result",
          "data": {
            "text/plain": [
              "'the meaning of life is 42'"
            ],
            "application/vnd.google.colaboratory.intrinsic+json": {
              "type": "string"
            }
          },
          "metadata": {},
          "execution_count": 219
        }
      ]
    },
    {
      "cell_type": "code",
      "source": [
        "message.capitalize()"
      ],
      "metadata": {
        "id": "ZZ4-rRaZbeCi",
        "colab": {
          "base_uri": "https://localhost:8080/",
          "height": 36
        },
        "outputId": "762a12f7-72c3-4d1e-a5b6-5e8e0ca4eb5c"
      },
      "execution_count": 220,
      "outputs": [
        {
          "output_type": "execute_result",
          "data": {
            "text/plain": [
              "'The meaning of life is 42'"
            ],
            "application/vnd.google.colaboratory.intrinsic+json": {
              "type": "string"
            }
          },
          "metadata": {},
          "execution_count": 220
        }
      ]
    },
    {
      "cell_type": "markdown",
      "source": [
        "### 1.6.3 Finding patterns in strings"
      ],
      "metadata": {
        "id": "85HuH9z4D6dD"
      }
    },
    {
      "cell_type": "code",
      "source": [
        "some_string = \"This is a string\""
      ],
      "metadata": {
        "id": "rRJYIikfV7JS"
      },
      "execution_count": 221,
      "outputs": []
    },
    {
      "cell_type": "code",
      "source": [
        "some_string.startswith(\"T\")"
      ],
      "metadata": {
        "id": "myE29h3oZuwE",
        "colab": {
          "base_uri": "https://localhost:8080/"
        },
        "outputId": "fd2f4960-be82-42dc-f37e-5cbd1044c45c"
      },
      "execution_count": 222,
      "outputs": [
        {
          "output_type": "execute_result",
          "data": {
            "text/plain": [
              "True"
            ]
          },
          "metadata": {},
          "execution_count": 222
        }
      ]
    },
    {
      "cell_type": "code",
      "source": [
        "some_string.startswith(\"This\")"
      ],
      "metadata": {
        "id": "dpzlGc8FZuys",
        "colab": {
          "base_uri": "https://localhost:8080/"
        },
        "outputId": "1ac6d9b0-8f50-4f22-b2a7-a87011afda7d"
      },
      "execution_count": 223,
      "outputs": [
        {
          "output_type": "execute_result",
          "data": {
            "text/plain": [
              "True"
            ]
          },
          "metadata": {},
          "execution_count": 223
        }
      ]
    },
    {
      "cell_type": "code",
      "source": [
        "some_string.startswith(\"That\")"
      ],
      "metadata": {
        "id": "DqMrEBVNZu1K",
        "colab": {
          "base_uri": "https://localhost:8080/"
        },
        "outputId": "f256f0ea-75dc-475b-fcf6-ebae3478c4f8"
      },
      "execution_count": 224,
      "outputs": [
        {
          "output_type": "execute_result",
          "data": {
            "text/plain": [
              "False"
            ]
          },
          "metadata": {},
          "execution_count": 224
        }
      ]
    },
    {
      "cell_type": "code",
      "source": [
        "some_string.endswith(\"ing\")"
      ],
      "metadata": {
        "id": "IZpbVqs1V7L0",
        "colab": {
          "base_uri": "https://localhost:8080/"
        },
        "outputId": "d982ddb2-7c9f-4127-cc85-b8c258f2fc84"
      },
      "execution_count": 225,
      "outputs": [
        {
          "output_type": "execute_result",
          "data": {
            "text/plain": [
              "True"
            ]
          },
          "metadata": {},
          "execution_count": 225
        }
      ]
    },
    {
      "cell_type": "code",
      "source": [
        "some_string.find(\"is \")"
      ],
      "metadata": {
        "id": "Q3eZrMRdEPGo",
        "colab": {
          "base_uri": "https://localhost:8080/"
        },
        "outputId": "68a16b98-e346-4fcf-c743-146e04c716c0"
      },
      "execution_count": 227,
      "outputs": [
        {
          "output_type": "execute_result",
          "data": {
            "text/plain": [
              "2"
            ]
          },
          "metadata": {},
          "execution_count": 227
        }
      ]
    },
    {
      "cell_type": "code",
      "source": [
        "some_string.replace(\"string\", \"message\")"
      ],
      "metadata": {
        "id": "BmgecrfUbGNO",
        "colab": {
          "base_uri": "https://localhost:8080/",
          "height": 36
        },
        "outputId": "bbabc6c8-b659-4ae3-90de-9687224321ba"
      },
      "execution_count": 228,
      "outputs": [
        {
          "output_type": "execute_result",
          "data": {
            "text/plain": [
              "'This is a message'"
            ],
            "application/vnd.google.colaboratory.intrinsic+json": {
              "type": "string"
            }
          },
          "metadata": {},
          "execution_count": 228
        }
      ]
    },
    {
      "cell_type": "code",
      "source": [
        "letters = \"abcde\"\n",
        "digits = \"234\""
      ],
      "metadata": {
        "id": "KWNUG0ajosxt"
      },
      "execution_count": 229,
      "outputs": []
    },
    {
      "cell_type": "code",
      "source": [
        "print(letters.isalpha())\n",
        "print(letters.isalpha())"
      ],
      "metadata": {
        "id": "Z1KmcZ4HooYc",
        "colab": {
          "base_uri": "https://localhost:8080/"
        },
        "outputId": "45ae9633-b7c7-4433-ce42-bf867eaba5b3"
      },
      "execution_count": 230,
      "outputs": [
        {
          "output_type": "stream",
          "name": "stdout",
          "text": [
            "True\n",
            "True\n"
          ]
        }
      ]
    },
    {
      "cell_type": "code",
      "source": [
        "print(letters.isdigit())\n",
        "print(digits.isdigit())"
      ],
      "metadata": {
        "id": "FzBBKAoGoya2",
        "colab": {
          "base_uri": "https://localhost:8080/"
        },
        "outputId": "99ac3f3c-2155-45f8-9c38-8cff5d927fe5"
      },
      "execution_count": 232,
      "outputs": [
        {
          "output_type": "stream",
          "name": "stdout",
          "text": [
            "False\n",
            "True\n"
          ]
        }
      ]
    },
    {
      "cell_type": "markdown",
      "source": [
        "### 1.6.4 Splitting and joining strings"
      ],
      "metadata": {
        "id": "rElrGYAmD6lx"
      }
    },
    {
      "cell_type": "code",
      "source": [
        "message = \"Good morning my friend\""
      ],
      "metadata": {
        "id": "u3ZjDYAhWVM5"
      },
      "execution_count": 233,
      "outputs": []
    },
    {
      "cell_type": "code",
      "source": [
        "word_list = message.split(\" \")\n",
        "\n",
        "word_list"
      ],
      "metadata": {
        "id": "YO2AGX0Aqb9O",
        "colab": {
          "base_uri": "https://localhost:8080/"
        },
        "outputId": "0934e799-78e5-48df-b305-c58241e243ac"
      },
      "execution_count": 235,
      "outputs": [
        {
          "output_type": "execute_result",
          "data": {
            "text/plain": [
              "['Good', 'morning', 'my', 'friend']"
            ]
          },
          "metadata": {},
          "execution_count": 235
        }
      ]
    },
    {
      "cell_type": "code",
      "source": [
        "joined_string = \"@\".join(word_list)\n",
        "\n",
        "joined_string"
      ],
      "metadata": {
        "id": "_X7Vv6Elqb_X",
        "colab": {
          "base_uri": "https://localhost:8080/",
          "height": 36
        },
        "outputId": "fce3014d-a86c-4b04-a21a-716623faa1b4"
      },
      "execution_count": 238,
      "outputs": [
        {
          "output_type": "execute_result",
          "data": {
            "text/plain": [
              "'Good@morning@my@friend'"
            ],
            "application/vnd.google.colaboratory.intrinsic+json": {
              "type": "string"
            }
          },
          "metadata": {},
          "execution_count": 238
        }
      ]
    },
    {
      "cell_type": "code",
      "source": [
        "message = \" Hi there \""
      ],
      "metadata": {
        "id": "WqMJrMVMWVPo"
      },
      "execution_count": 239,
      "outputs": []
    },
    {
      "cell_type": "code",
      "source": [
        "message.strip()"
      ],
      "metadata": {
        "id": "4tHHOp1nZTPS",
        "colab": {
          "base_uri": "https://localhost:8080/",
          "height": 36
        },
        "outputId": "7df2b1e4-1d34-4721-c6d3-9ef88191ad64"
      },
      "execution_count": 240,
      "outputs": [
        {
          "output_type": "execute_result",
          "data": {
            "text/plain": [
              "'Hi there'"
            ],
            "application/vnd.google.colaboratory.intrinsic+json": {
              "type": "string"
            }
          },
          "metadata": {},
          "execution_count": 240
        }
      ]
    },
    {
      "cell_type": "markdown",
      "source": [
        "### 1.6.5 Character escaping"
      ],
      "metadata": {
        "id": "GlUm3Bzqj-jt"
      }
    },
    {
      "cell_type": "code",
      "source": [
        "message = \"The character \\n means newline\"\n",
        "\n",
        "print(message)"
      ],
      "metadata": {
        "id": "ZlWvMYwCkCMC",
        "colab": {
          "base_uri": "https://localhost:8080/"
        },
        "outputId": "ac694932-693d-450a-ceaf-4fa136e6b7da"
      },
      "execution_count": 241,
      "outputs": [
        {
          "output_type": "stream",
          "name": "stdout",
          "text": [
            "The character \n",
            " means newline\n"
          ]
        }
      ]
    },
    {
      "cell_type": "code",
      "source": [
        "message = \"The character \\\\n means newline\"\n",
        "\n",
        "print(message)"
      ],
      "metadata": {
        "id": "Ie3hOvYNkCOc",
        "colab": {
          "base_uri": "https://localhost:8080/"
        },
        "outputId": "ea2918af-ea74-4004-e742-8265d8b56671"
      },
      "execution_count": 242,
      "outputs": [
        {
          "output_type": "stream",
          "name": "stdout",
          "text": [
            "The character \\n means newline\n"
          ]
        }
      ]
    },
    {
      "cell_type": "code",
      "source": [
        "message = \"It's a \\\"good\\\" decision\"\n",
        "\n",
        "print(message)"
      ],
      "metadata": {
        "id": "VWxkkktHkCQk",
        "colab": {
          "base_uri": "https://localhost:8080/"
        },
        "outputId": "838fa7aa-4679-45d8-a73a-6b6a4ed3e6a5"
      },
      "execution_count": 243,
      "outputs": [
        {
          "output_type": "stream",
          "name": "stdout",
          "text": [
            "It's a \"good\" decision\n"
          ]
        }
      ]
    },
    {
      "cell_type": "markdown",
      "source": [
        "## Coding project #2: Caesar cipher\n",
        "\n",
        "Congratulations, you are so good at coding that MI5 decided to hire you. Your first task is to help their spies send encrypted messages back to the head office.\n",
        "\n",
        "To do this, we are going to use the Caesar cipher.\n",
        "\n",
        "\n",
        "The Caesar cipher assigns to each letter of the alphabet a different letter that is x positions away, where x is a number that we choose.\n",
        "\n",
        "For example, if x=5:\n",
        "\n",
        "\n",
        "```\n",
        "a --> f\n",
        "b --> g\n",
        "c --> h\n",
        "d --> i\n",
        "...\n",
        "```\n",
        "\n",
        "`Hello world --> Mjqqt btwqi`\n",
        "\n",
        "\n",
        "If x=2:\n",
        "\n",
        "```\n",
        "a --> c\n",
        "b --> d\n",
        "c --> e\n",
        "...\n",
        "```\n",
        "\n",
        "`Hello world --> Jgnnq yqtnf`\n",
        "\n",
        "<br>\n",
        "\n",
        "Your job is to write a program that does the following:\n",
        "\n",
        "- Prompt the user to write a message and a shift.\n",
        "- Encrypt the message using the Caesar cipher.\n",
        "- Print the encrypted message back to the user.\n",
        "\n",
        "<br>"
      ],
      "metadata": {
        "id": "E3OnRsa8mtCs"
      }
    },
    {
      "cell_type": "code",
      "source": [
        "alphabet = \"abcdefghijklmnopqrstuvwxyz\"\n",
        "\n",
        "message = input(\"Enter a message: \")\n",
        "shift = int(input(\"Enter an shift: \"))\n",
        "\n",
        "message = message.lower()\n",
        "encrypted_message = \"\"\n",
        "\n",
        "for char in message:\n",
        "  if char.isalpha():\n",
        "    index = alphabet.find(char)\n",
        "    new_index = (index + shift) % 26\n",
        "    char = alphabet[new_index]\n",
        "  encrypted_message += char\n",
        "\n",
        "print(encrypted_message)"
      ],
      "metadata": {
        "id": "NXO37QkmiQ2l"
      },
      "execution_count": null,
      "outputs": []
    },
    {
      "cell_type": "code",
      "source": [
        "#@title Solution\n",
        "\n",
        "alphabet = \"abcdefghijklmnopqrstuvwxyz\"\n",
        "\n",
        "message = input(\"Enter a message: \")\n",
        "shift = int(input(\"Enter an shift: \"))\n",
        "\n",
        "message = message.lower()\n",
        "encrypted_message = \"\"\n",
        "\n",
        "for char in message:\n",
        "  if char.isalpha():\n",
        "    index = alphabet.find(char)\n",
        "    new_index = (index + shift) % 26\n",
        "    char = alphabet[new_index]\n",
        "  encrypted_message += char\n",
        "\n",
        "print(encrypted_message)"
      ],
      "metadata": {
        "id": "5KGbh4fziQ5R"
      },
      "execution_count": null,
      "outputs": []
    },
    {
      "cell_type": "markdown",
      "source": [
        "<br><br><br>"
      ],
      "metadata": {
        "id": "R7jKA0L8n-zb"
      }
    },
    {
      "cell_type": "markdown",
      "source": [
        "## 1.7 Data structures - Sets and mappings"
      ],
      "metadata": {
        "id": "xYsKzjyMPDRD"
      }
    },
    {
      "cell_type": "markdown",
      "source": [
        "### 1.7.1 Sets"
      ],
      "metadata": {
        "id": "vt7Dxh6-PDqR"
      }
    },
    {
      "cell_type": "code",
      "source": [
        "numbers = {1,2,3,4}\n",
        "\n",
        "numbers"
      ],
      "metadata": {
        "id": "uiV6QC2iiKuZ",
        "colab": {
          "base_uri": "https://localhost:8080/"
        },
        "outputId": "ab463408-32ae-4087-941d-0d12f7fbc7b6"
      },
      "execution_count": 245,
      "outputs": [
        {
          "output_type": "execute_result",
          "data": {
            "text/plain": [
              "{1, 2, 3, 4}"
            ]
          },
          "metadata": {},
          "execution_count": 245
        }
      ]
    },
    {
      "cell_type": "code",
      "source": [
        "numbers = {1,2,3,4,1}\n",
        "\n",
        "numbers"
      ],
      "metadata": {
        "id": "7_4U7W9amDJt",
        "colab": {
          "base_uri": "https://localhost:8080/"
        },
        "outputId": "5b1124ab-96b4-42a8-e0e3-128204fe3f65"
      },
      "execution_count": 246,
      "outputs": [
        {
          "output_type": "execute_result",
          "data": {
            "text/plain": [
              "{1, 2, 3, 4}"
            ]
          },
          "metadata": {},
          "execution_count": 246
        }
      ]
    },
    {
      "cell_type": "code",
      "source": [
        "empty_set = set()\n",
        "\n",
        "empty_set"
      ],
      "metadata": {
        "id": "pyD25Sv_mDNP",
        "colab": {
          "base_uri": "https://localhost:8080/"
        },
        "outputId": "c8ecb4db-9f91-4eb1-8e64-c11aff1c84b3"
      },
      "execution_count": 248,
      "outputs": [
        {
          "output_type": "execute_result",
          "data": {
            "text/plain": [
              "set()"
            ]
          },
          "metadata": {},
          "execution_count": 248
        }
      ]
    },
    {
      "cell_type": "code",
      "source": [
        "numbers = [1,2,3,4] * 3\n",
        "\n",
        "numbers"
      ],
      "metadata": {
        "id": "I0U2pw-dmDQw",
        "colab": {
          "base_uri": "https://localhost:8080/"
        },
        "outputId": "4f4fa822-85e4-4694-97b6-2a431e37089b"
      },
      "execution_count": 249,
      "outputs": [
        {
          "output_type": "execute_result",
          "data": {
            "text/plain": [
              "[1, 2, 3, 4, 1, 2, 3, 4, 1, 2, 3, 4]"
            ]
          },
          "metadata": {},
          "execution_count": 249
        }
      ]
    },
    {
      "cell_type": "code",
      "source": [
        "numbers_set = set(numbers)\n",
        "\n",
        "numbers_set"
      ],
      "metadata": {
        "id": "3ESW-raXwkWr",
        "colab": {
          "base_uri": "https://localhost:8080/"
        },
        "outputId": "224bac8f-1e9e-459c-df3f-b178b0e8b3b9"
      },
      "execution_count": 250,
      "outputs": [
        {
          "output_type": "execute_result",
          "data": {
            "text/plain": [
              "{1, 2, 3, 4}"
            ]
          },
          "metadata": {},
          "execution_count": 250
        }
      ]
    },
    {
      "cell_type": "code",
      "source": [
        "my_set = {\"Glass\", \"Fork\", \"Knife\"}"
      ],
      "metadata": {
        "id": "Z5QBOAhSbobY"
      },
      "execution_count": 251,
      "outputs": []
    },
    {
      "cell_type": "code",
      "source": [
        "for item in my_set:\n",
        "    print(item)"
      ],
      "metadata": {
        "id": "WEJDsJ0tbgiB",
        "colab": {
          "base_uri": "https://localhost:8080/"
        },
        "outputId": "33eb5a20-0605-4d56-ca6a-f9db9714185e"
      },
      "execution_count": 252,
      "outputs": [
        {
          "output_type": "stream",
          "name": "stdout",
          "text": [
            "Glass\n",
            "Fork\n",
            "Knife\n"
          ]
        }
      ]
    },
    {
      "cell_type": "code",
      "source": [
        "my_set[0]"
      ],
      "metadata": {
        "id": "SRyL1Fw7Yb2j",
        "colab": {
          "base_uri": "https://localhost:8080/",
          "height": 183
        },
        "outputId": "431f18e7-5cd5-4f1e-f5ea-6c9032d520fc"
      },
      "execution_count": 253,
      "outputs": [
        {
          "output_type": "error",
          "ename": "TypeError",
          "evalue": "ignored",
          "traceback": [
            "\u001b[0;31m---------------------------------------------------------------------------\u001b[0m",
            "\u001b[0;31mTypeError\u001b[0m                                 Traceback (most recent call last)",
            "\u001b[0;32m<ipython-input-253-158c424478a1>\u001b[0m in \u001b[0;36m<cell line: 1>\u001b[0;34m()\u001b[0m\n\u001b[0;32m----> 1\u001b[0;31m \u001b[0mmy_set\u001b[0m\u001b[0;34m[\u001b[0m\u001b[0;36m0\u001b[0m\u001b[0;34m]\u001b[0m\u001b[0;34m\u001b[0m\u001b[0;34m\u001b[0m\u001b[0m\n\u001b[0m",
            "\u001b[0;31mTypeError\u001b[0m: 'set' object is not subscriptable"
          ]
        }
      ]
    },
    {
      "cell_type": "code",
      "source": [
        "my_set[1:3]"
      ],
      "metadata": {
        "id": "6oywnlUUYb4o",
        "colab": {
          "base_uri": "https://localhost:8080/",
          "height": 183
        },
        "outputId": "bdfd39cb-874b-4e36-b260-7feac23ceccf"
      },
      "execution_count": 254,
      "outputs": [
        {
          "output_type": "error",
          "ename": "TypeError",
          "evalue": "ignored",
          "traceback": [
            "\u001b[0;31m---------------------------------------------------------------------------\u001b[0m",
            "\u001b[0;31mTypeError\u001b[0m                                 Traceback (most recent call last)",
            "\u001b[0;32m<ipython-input-254-935332eb30f2>\u001b[0m in \u001b[0;36m<cell line: 1>\u001b[0;34m()\u001b[0m\n\u001b[0;32m----> 1\u001b[0;31m \u001b[0mmy_set\u001b[0m\u001b[0;34m[\u001b[0m\u001b[0;36m1\u001b[0m\u001b[0;34m:\u001b[0m\u001b[0;36m3\u001b[0m\u001b[0;34m]\u001b[0m\u001b[0;34m\u001b[0m\u001b[0;34m\u001b[0m\u001b[0m\n\u001b[0m",
            "\u001b[0;31mTypeError\u001b[0m: 'set' object is not subscriptable"
          ]
        }
      ]
    },
    {
      "cell_type": "code",
      "source": [
        "some_set = {1,2,3,4}\n",
        "\n",
        "some_set.add(5)\n",
        "\n",
        "some_set"
      ],
      "metadata": {
        "id": "VqW9IwqVG__A",
        "colab": {
          "base_uri": "https://localhost:8080/"
        },
        "outputId": "7085be45-347b-4694-aa4f-3afd65bf5de5"
      },
      "execution_count": 265,
      "outputs": [
        {
          "output_type": "execute_result",
          "data": {
            "text/plain": [
              "{1, 2, 3, 4, 5}"
            ]
          },
          "metadata": {},
          "execution_count": 265
        }
      ]
    },
    {
      "cell_type": "code",
      "source": [
        "some_set.add(5)\n",
        "\n",
        "some_set"
      ],
      "metadata": {
        "id": "qtxdhBkvU-Up",
        "colab": {
          "base_uri": "https://localhost:8080/"
        },
        "outputId": "18ee9e88-8749-4db9-ed90-8af066d8eab4"
      },
      "execution_count": 266,
      "outputs": [
        {
          "output_type": "execute_result",
          "data": {
            "text/plain": [
              "{1, 2, 3, 4, 5}"
            ]
          },
          "metadata": {},
          "execution_count": 266
        }
      ]
    },
    {
      "cell_type": "code",
      "source": [
        "some_set.remove(4)\n",
        "\n",
        "some_set"
      ],
      "metadata": {
        "id": "M4NBM-cCHAB8",
        "colab": {
          "base_uri": "https://localhost:8080/"
        },
        "outputId": "3fb08110-b28d-4efe-a351-1d9f728afd8a"
      },
      "execution_count": 267,
      "outputs": [
        {
          "output_type": "execute_result",
          "data": {
            "text/plain": [
              "{1, 2, 3, 5}"
            ]
          },
          "metadata": {},
          "execution_count": 267
        }
      ]
    },
    {
      "cell_type": "code",
      "source": [
        "some_set.remove(-1)\n",
        "\n",
        "some_set"
      ],
      "metadata": {
        "id": "l87F_UrwNPRF",
        "colab": {
          "base_uri": "https://localhost:8080/",
          "height": 220
        },
        "outputId": "9ed2d908-bba1-460f-b580-1d1a62aa4250"
      },
      "execution_count": 268,
      "outputs": [
        {
          "output_type": "error",
          "ename": "KeyError",
          "evalue": "ignored",
          "traceback": [
            "\u001b[0;31m---------------------------------------------------------------------------\u001b[0m",
            "\u001b[0;31mKeyError\u001b[0m                                  Traceback (most recent call last)",
            "\u001b[0;32m<ipython-input-268-62e3c9d4fd89>\u001b[0m in \u001b[0;36m<cell line: 1>\u001b[0;34m()\u001b[0m\n\u001b[0;32m----> 1\u001b[0;31m \u001b[0msome_set\u001b[0m\u001b[0;34m.\u001b[0m\u001b[0mremove\u001b[0m\u001b[0;34m(\u001b[0m\u001b[0;34m-\u001b[0m\u001b[0;36m1\u001b[0m\u001b[0;34m)\u001b[0m\u001b[0;34m\u001b[0m\u001b[0;34m\u001b[0m\u001b[0m\n\u001b[0m\u001b[1;32m      2\u001b[0m \u001b[0;34m\u001b[0m\u001b[0m\n\u001b[1;32m      3\u001b[0m \u001b[0msome_set\u001b[0m\u001b[0;34m\u001b[0m\u001b[0;34m\u001b[0m\u001b[0m\n",
            "\u001b[0;31mKeyError\u001b[0m: -1"
          ]
        }
      ]
    },
    {
      "cell_type": "code",
      "source": [
        "some_set.discard(2)\n",
        "\n",
        "some_set"
      ],
      "metadata": {
        "id": "R12Xj7akNPUX",
        "colab": {
          "base_uri": "https://localhost:8080/"
        },
        "outputId": "334882a9-ff21-4914-87e0-2db6abccaf24"
      },
      "execution_count": 271,
      "outputs": [
        {
          "output_type": "execute_result",
          "data": {
            "text/plain": [
              "{3, 5}"
            ]
          },
          "metadata": {},
          "execution_count": 271
        }
      ]
    },
    {
      "cell_type": "code",
      "source": [
        "some_set.discard(-1)\n",
        "\n",
        "some_set"
      ],
      "metadata": {
        "id": "ztNuiN-XNPXh",
        "colab": {
          "base_uri": "https://localhost:8080/"
        },
        "outputId": "2289798d-52aa-45a9-dfe0-57f16364c05a"
      },
      "execution_count": 272,
      "outputs": [
        {
          "output_type": "execute_result",
          "data": {
            "text/plain": [
              "{3, 5}"
            ]
          },
          "metadata": {},
          "execution_count": 272
        }
      ]
    },
    {
      "cell_type": "code",
      "source": [
        "value = some_set.pop()\n",
        "\n",
        "value"
      ],
      "metadata": {
        "id": "pxQOuFesNPZS",
        "colab": {
          "base_uri": "https://localhost:8080/"
        },
        "outputId": "a7b70f66-f67e-421a-e4ed-8f308c238d89"
      },
      "execution_count": 269,
      "outputs": [
        {
          "output_type": "execute_result",
          "data": {
            "text/plain": [
              "1"
            ]
          },
          "metadata": {},
          "execution_count": 269
        }
      ]
    },
    {
      "cell_type": "code",
      "source": [
        "some_set"
      ],
      "metadata": {
        "id": "-pXcML_tNPc_",
        "colab": {
          "base_uri": "https://localhost:8080/"
        },
        "outputId": "16f73bed-0cbe-414e-f26b-466111ca8429"
      },
      "execution_count": 273,
      "outputs": [
        {
          "output_type": "execute_result",
          "data": {
            "text/plain": [
              "{3, 5}"
            ]
          },
          "metadata": {},
          "execution_count": 273
        }
      ]
    },
    {
      "cell_type": "code",
      "source": [
        "some_set.clear()\n",
        "\n",
        "some_set"
      ],
      "metadata": {
        "id": "dQM6XIX1Kula",
        "colab": {
          "base_uri": "https://localhost:8080/"
        },
        "outputId": "06df180d-d43e-4993-f0d3-1b65f4ffc5a0"
      },
      "execution_count": 274,
      "outputs": [
        {
          "output_type": "execute_result",
          "data": {
            "text/plain": [
              "set()"
            ]
          },
          "metadata": {},
          "execution_count": 274
        }
      ]
    },
    {
      "cell_type": "markdown",
      "source": [
        "### 1.7.2 More operations with sets (Venn diagrams)"
      ],
      "metadata": {
        "id": "VCVmPT0gqZ1A"
      }
    },
    {
      "cell_type": "code",
      "source": [
        "bands = {\"The Beatles\", \"AC/DC\", \"Led Zeppelin\"}\n",
        "\n",
        "more_bands = {\"The Beatles\", \"Rolling Stones\"}"
      ],
      "metadata": {
        "id": "nkzHZXMqKusl"
      },
      "execution_count": 275,
      "outputs": []
    },
    {
      "cell_type": "code",
      "source": [
        "\"Rolling Stones\" in bands"
      ],
      "metadata": {
        "id": "YYhZT7pFKuvX",
        "colab": {
          "base_uri": "https://localhost:8080/"
        },
        "outputId": "c1c5bddd-529d-4d27-a9d6-409c7f337a76"
      },
      "execution_count": 276,
      "outputs": [
        {
          "output_type": "execute_result",
          "data": {
            "text/plain": [
              "False"
            ]
          },
          "metadata": {},
          "execution_count": 276
        }
      ]
    },
    {
      "cell_type": "code",
      "source": [
        "\"Rolling Stones\" not in more_bands"
      ],
      "metadata": {
        "id": "Puo9OobTS4vq",
        "colab": {
          "base_uri": "https://localhost:8080/"
        },
        "outputId": "ed233de1-83fa-449a-dfe1-11bcdf4f0d23"
      },
      "execution_count": 277,
      "outputs": [
        {
          "output_type": "execute_result",
          "data": {
            "text/plain": [
              "False"
            ]
          },
          "metadata": {},
          "execution_count": 277
        }
      ]
    },
    {
      "cell_type": "code",
      "source": [
        "more_bands.issubset(bands)"
      ],
      "metadata": {
        "id": "SOGFT83pS4xr",
        "colab": {
          "base_uri": "https://localhost:8080/"
        },
        "outputId": "d3f4d8f9-02fb-405a-e506-bc8cc528f7e6"
      },
      "execution_count": 278,
      "outputs": [
        {
          "output_type": "execute_result",
          "data": {
            "text/plain": [
              "False"
            ]
          },
          "metadata": {},
          "execution_count": 278
        }
      ]
    },
    {
      "cell_type": "code",
      "source": [
        "more_bands.issuperset(bands)"
      ],
      "metadata": {
        "id": "x6kUHlqGKuxf",
        "colab": {
          "base_uri": "https://localhost:8080/"
        },
        "outputId": "afa7ddc5-f0fe-46bd-e359-4978a581b189"
      },
      "execution_count": 279,
      "outputs": [
        {
          "output_type": "execute_result",
          "data": {
            "text/plain": [
              "False"
            ]
          },
          "metadata": {},
          "execution_count": 279
        }
      ]
    },
    {
      "cell_type": "code",
      "source": [
        "# bands.union(more_bands)\n",
        "\n",
        "bands | more_bands"
      ],
      "metadata": {
        "id": "jjS3loOpUZWk",
        "colab": {
          "base_uri": "https://localhost:8080/"
        },
        "outputId": "6a0e92c4-ce96-4248-d344-6bb4af7d093a"
      },
      "execution_count": 281,
      "outputs": [
        {
          "output_type": "execute_result",
          "data": {
            "text/plain": [
              "{'AC/DC', 'Led Zeppelin', 'Rolling Stones', 'The Beatles'}"
            ]
          },
          "metadata": {},
          "execution_count": 281
        }
      ]
    },
    {
      "cell_type": "code",
      "source": [
        "# bands.intersection(more_bands)\n",
        "\n",
        "bands & more_bands"
      ],
      "metadata": {
        "id": "rNrQfgbeUZZC",
        "colab": {
          "base_uri": "https://localhost:8080/"
        },
        "outputId": "47fd346a-ffd1-4566-8532-add4f35a2c91"
      },
      "execution_count": 282,
      "outputs": [
        {
          "output_type": "execute_result",
          "data": {
            "text/plain": [
              "{'The Beatles'}"
            ]
          },
          "metadata": {},
          "execution_count": 282
        }
      ]
    },
    {
      "cell_type": "code",
      "source": [
        "# bands.difference(more_bands)\n",
        "\n",
        "bands - more_bands"
      ],
      "metadata": {
        "id": "FaaW5Jj8UZbY",
        "colab": {
          "base_uri": "https://localhost:8080/"
        },
        "outputId": "17973bd8-8936-4717-ff2f-888873823946"
      },
      "execution_count": 283,
      "outputs": [
        {
          "output_type": "execute_result",
          "data": {
            "text/plain": [
              "{'AC/DC', 'Led Zeppelin'}"
            ]
          },
          "metadata": {},
          "execution_count": 283
        }
      ]
    },
    {
      "cell_type": "code",
      "source": [
        "# bands.symmetric_difference(more_bands)\n",
        "\n",
        "bands ^ more_bands"
      ],
      "metadata": {
        "id": "H3lF-omRUsQ1",
        "colab": {
          "base_uri": "https://localhost:8080/"
        },
        "outputId": "ac9f002a-7667-47dc-d2c9-74d493d529ca"
      },
      "execution_count": 284,
      "outputs": [
        {
          "output_type": "execute_result",
          "data": {
            "text/plain": [
              "{'AC/DC', 'Led Zeppelin', 'Rolling Stones'}"
            ]
          },
          "metadata": {},
          "execution_count": 284
        }
      ]
    },
    {
      "cell_type": "markdown",
      "source": [
        "### 1.7.3 Dictionaries"
      ],
      "metadata": {
        "id": "FnvHPSh-PDlM"
      }
    },
    {
      "cell_type": "code",
      "source": [
        "ages = {\"John\": 23, \"David\": 49, \"Susan\": 33}\n",
        "\n",
        "ages"
      ],
      "metadata": {
        "id": "BNI3DHNPQw9N",
        "colab": {
          "base_uri": "https://localhost:8080/"
        },
        "outputId": "03670ae4-c7a6-4081-ff30-638401b1b155"
      },
      "execution_count": 285,
      "outputs": [
        {
          "output_type": "execute_result",
          "data": {
            "text/plain": [
              "{'John': 23, 'David': 49, 'Susan': 33}"
            ]
          },
          "metadata": {},
          "execution_count": 285
        }
      ]
    },
    {
      "cell_type": "code",
      "source": [
        "ages = dict(John=23, David=49, Susan=33)\n",
        "\n",
        "ages"
      ],
      "metadata": {
        "id": "-uyBpivGQw_5",
        "colab": {
          "base_uri": "https://localhost:8080/"
        },
        "outputId": "bd2101ab-f36a-4a69-81b1-5ae662492fbe"
      },
      "execution_count": 287,
      "outputs": [
        {
          "output_type": "execute_result",
          "data": {
            "text/plain": [
              "{'John': 23, 'David': 49, 'Susan': 33}"
            ]
          },
          "metadata": {},
          "execution_count": 287
        }
      ]
    },
    {
      "cell_type": "code",
      "source": [
        "empty_dict = {}\n",
        "\n",
        "empty_dict"
      ],
      "metadata": {
        "id": "OvvopDWWQxCd",
        "colab": {
          "base_uri": "https://localhost:8080/"
        },
        "outputId": "33cc716b-bc4c-4055-8e46-2816452f0047"
      },
      "execution_count": 288,
      "outputs": [
        {
          "output_type": "execute_result",
          "data": {
            "text/plain": [
              "{}"
            ]
          },
          "metadata": {},
          "execution_count": 288
        }
      ]
    },
    {
      "cell_type": "code",
      "source": [
        "another_empty_dict = dict()\n",
        "\n",
        "another_empty_dict"
      ],
      "metadata": {
        "id": "1pJN90LPQxEw",
        "colab": {
          "base_uri": "https://localhost:8080/"
        },
        "outputId": "2dca2003-1c44-4cfe-ad52-c02063c86a50"
      },
      "execution_count": 289,
      "outputs": [
        {
          "output_type": "execute_result",
          "data": {
            "text/plain": [
              "{}"
            ]
          },
          "metadata": {},
          "execution_count": 289
        }
      ]
    },
    {
      "cell_type": "code",
      "source": [
        "ages[\"Joe\"] = 17\n",
        "\n",
        "ages"
      ],
      "metadata": {
        "id": "K5Edhuwyl4HJ",
        "colab": {
          "base_uri": "https://localhost:8080/"
        },
        "outputId": "b9f5b7ab-a7d6-458c-dee6-6c35c4d1de48"
      },
      "execution_count": 290,
      "outputs": [
        {
          "output_type": "execute_result",
          "data": {
            "text/plain": [
              "{'John': 23, 'David': 49, 'Susan': 33, 'Joe': 17}"
            ]
          },
          "metadata": {},
          "execution_count": 290
        }
      ]
    },
    {
      "cell_type": "code",
      "source": [
        "del ages[\"David\"]\n",
        "\n",
        "ages"
      ],
      "metadata": {
        "id": "Vd-gz4xcl4JZ",
        "colab": {
          "base_uri": "https://localhost:8080/"
        },
        "outputId": "d1ecff10-5c64-40c6-f8d8-7e506e89c9de"
      },
      "execution_count": 291,
      "outputs": [
        {
          "output_type": "execute_result",
          "data": {
            "text/plain": [
              "{'John': 23, 'Susan': 33, 'Joe': 17}"
            ]
          },
          "metadata": {},
          "execution_count": 291
        }
      ]
    },
    {
      "cell_type": "code",
      "source": [
        "value = ages.pop(\"Susan\")\n",
        "\n",
        "value"
      ],
      "metadata": {
        "id": "N-tyT3SBl4Ma",
        "colab": {
          "base_uri": "https://localhost:8080/"
        },
        "outputId": "df1512fa-1521-40c3-aafe-2397a4b91898"
      },
      "execution_count": 292,
      "outputs": [
        {
          "output_type": "execute_result",
          "data": {
            "text/plain": [
              "33"
            ]
          },
          "metadata": {},
          "execution_count": 292
        }
      ]
    },
    {
      "cell_type": "code",
      "source": [
        "ages"
      ],
      "metadata": {
        "id": "Pb-Qc3z6tfdS",
        "colab": {
          "base_uri": "https://localhost:8080/"
        },
        "outputId": "d3e286b5-419f-466e-fb37-49ae475dac80"
      },
      "execution_count": 293,
      "outputs": [
        {
          "output_type": "execute_result",
          "data": {
            "text/plain": [
              "{'John': 23, 'Joe': 17}"
            ]
          },
          "metadata": {},
          "execution_count": 293
        }
      ]
    },
    {
      "cell_type": "code",
      "source": [
        "ages.clear()\n",
        "\n",
        "ages"
      ],
      "metadata": {
        "id": "ZBBMPfwul4Ob",
        "colab": {
          "base_uri": "https://localhost:8080/"
        },
        "outputId": "d93c11ee-373e-4fef-ee42-f54ee5c256e4"
      },
      "execution_count": 294,
      "outputs": [
        {
          "output_type": "execute_result",
          "data": {
            "text/plain": [
              "{}"
            ]
          },
          "metadata": {},
          "execution_count": 294
        }
      ]
    },
    {
      "cell_type": "markdown",
      "source": [
        "### 1.7.4 Accessing and modifying values"
      ],
      "metadata": {
        "id": "EXcapcAXuOR9"
      }
    },
    {
      "cell_type": "code",
      "source": [
        "capitals = {\"Spain\": \"Madrid\", \"Ecuador\": \"Quito\", \"UK\": \"London\"}"
      ],
      "metadata": {
        "id": "KDcMrcKiuOcH"
      },
      "execution_count": 295,
      "outputs": []
    },
    {
      "cell_type": "code",
      "source": [
        "capitals[\"Spain\"]"
      ],
      "metadata": {
        "id": "YfeeuYYDuOeg",
        "colab": {
          "base_uri": "https://localhost:8080/",
          "height": 36
        },
        "outputId": "39515370-0a0d-4280-b0e8-2f272aaf80a1"
      },
      "execution_count": 296,
      "outputs": [
        {
          "output_type": "execute_result",
          "data": {
            "text/plain": [
              "'Madrid'"
            ],
            "application/vnd.google.colaboratory.intrinsic+json": {
              "type": "string"
            }
          },
          "metadata": {},
          "execution_count": 296
        }
      ]
    },
    {
      "cell_type": "code",
      "source": [
        "capitals[\"India\"]"
      ],
      "metadata": {
        "id": "SBc5QOHmuOhi",
        "colab": {
          "base_uri": "https://localhost:8080/",
          "height": 183
        },
        "outputId": "86c1dc5c-d465-4b7e-d3b9-7a37847fe159"
      },
      "execution_count": 297,
      "outputs": [
        {
          "output_type": "error",
          "ename": "KeyError",
          "evalue": "ignored",
          "traceback": [
            "\u001b[0;31m---------------------------------------------------------------------------\u001b[0m",
            "\u001b[0;31mKeyError\u001b[0m                                  Traceback (most recent call last)",
            "\u001b[0;32m<ipython-input-297-ea9c8e39da4d>\u001b[0m in \u001b[0;36m<cell line: 1>\u001b[0;34m()\u001b[0m\n\u001b[0;32m----> 1\u001b[0;31m \u001b[0mcapitals\u001b[0m\u001b[0;34m[\u001b[0m\u001b[0;34m\"India\"\u001b[0m\u001b[0;34m]\u001b[0m\u001b[0;34m\u001b[0m\u001b[0;34m\u001b[0m\u001b[0m\n\u001b[0m",
            "\u001b[0;31mKeyError\u001b[0m: 'India'"
          ]
        }
      ]
    },
    {
      "cell_type": "code",
      "source": [
        "capitals.get(\"Spain\")"
      ],
      "metadata": {
        "id": "NWVjCmWkuOkV",
        "colab": {
          "base_uri": "https://localhost:8080/",
          "height": 36
        },
        "outputId": "40cab5f5-5548-4f3e-c543-6b4611dfd71e"
      },
      "execution_count": 298,
      "outputs": [
        {
          "output_type": "execute_result",
          "data": {
            "text/plain": [
              "'Madrid'"
            ],
            "application/vnd.google.colaboratory.intrinsic+json": {
              "type": "string"
            }
          },
          "metadata": {},
          "execution_count": 298
        }
      ]
    },
    {
      "cell_type": "code",
      "source": [
        "capitals.get(\"India\")"
      ],
      "metadata": {
        "id": "WR2j2fUXuOna"
      },
      "execution_count": 299,
      "outputs": []
    },
    {
      "cell_type": "code",
      "source": [
        "capitals[\"Spain\"] = \"Barcelona\"\n",
        "\n",
        "capitals"
      ],
      "metadata": {
        "id": "QeiBtkJtudxv",
        "colab": {
          "base_uri": "https://localhost:8080/"
        },
        "outputId": "441f5918-f4bc-4a4e-8b1c-efe954d9f896"
      },
      "execution_count": 300,
      "outputs": [
        {
          "output_type": "execute_result",
          "data": {
            "text/plain": [
              "{'Spain': 'Barcelona', 'Ecuador': 'Quito', 'UK': 'London'}"
            ]
          },
          "metadata": {},
          "execution_count": 300
        }
      ]
    },
    {
      "cell_type": "markdown",
      "source": [
        "### 1.7.5 Iterating over dictionaries"
      ],
      "metadata": {
        "id": "3bmvXJeoPDno"
      }
    },
    {
      "cell_type": "code",
      "source": [
        "for x in capitals:\n",
        "    print(x)"
      ],
      "metadata": {
        "id": "Z9tu_oCGQ2tv",
        "colab": {
          "base_uri": "https://localhost:8080/"
        },
        "outputId": "f5db34f9-2dd2-4075-a887-aa19d487f8a1"
      },
      "execution_count": 301,
      "outputs": [
        {
          "output_type": "stream",
          "name": "stdout",
          "text": [
            "Spain\n",
            "Ecuador\n",
            "UK\n"
          ]
        }
      ]
    },
    {
      "cell_type": "code",
      "source": [
        "for x in capitals:\n",
        "    print(x, capitals[x])"
      ],
      "metadata": {
        "id": "GxSvJNnTQ2wL",
        "colab": {
          "base_uri": "https://localhost:8080/"
        },
        "outputId": "b1072660-218c-4096-c70e-a13d3810a491"
      },
      "execution_count": 303,
      "outputs": [
        {
          "output_type": "stream",
          "name": "stdout",
          "text": [
            "Spain Barcelona\n",
            "Ecuador Quito\n",
            "UK London\n"
          ]
        }
      ]
    },
    {
      "cell_type": "code",
      "source": [
        "for key, value in capitals.items():\n",
        "    print(key, value)"
      ],
      "metadata": {
        "id": "8AurvU0SQ2ys",
        "colab": {
          "base_uri": "https://localhost:8080/"
        },
        "outputId": "d92b6823-328d-4bd2-dc6b-078ced9e06ef"
      },
      "execution_count": 304,
      "outputs": [
        {
          "output_type": "stream",
          "name": "stdout",
          "text": [
            "Spain Barcelona\n",
            "Ecuador Quito\n",
            "UK London\n"
          ]
        }
      ]
    },
    {
      "cell_type": "code",
      "source": [
        "for value in capitals.values():\n",
        "    print(value)"
      ],
      "metadata": {
        "id": "ygWwO5D8l5CS",
        "colab": {
          "base_uri": "https://localhost:8080/"
        },
        "outputId": "28aec898-8c9b-45b7-995e-eff37d187176"
      },
      "execution_count": 305,
      "outputs": [
        {
          "output_type": "stream",
          "name": "stdout",
          "text": [
            "Barcelona\n",
            "Quito\n",
            "London\n"
          ]
        }
      ]
    },
    {
      "cell_type": "markdown",
      "source": [
        "### 1.7.6 Membership operations"
      ],
      "metadata": {
        "id": "UsTJSrLDPDsx"
      }
    },
    {
      "cell_type": "code",
      "source": [
        "capitals_dict = {\"Spain\": \"Madrid\", \"Ecuador\": \"Quito\", \"UK\": \"London\"}\n",
        "\n",
        "capitals_dict"
      ],
      "metadata": {
        "id": "DFYzySiepzoN",
        "colab": {
          "base_uri": "https://localhost:8080/"
        },
        "outputId": "c0036c1d-995b-47ac-f567-b622074263a2"
      },
      "execution_count": 306,
      "outputs": [
        {
          "output_type": "execute_result",
          "data": {
            "text/plain": [
              "{'Spain': 'Madrid', 'Ecuador': 'Quito', 'UK': 'London'}"
            ]
          },
          "metadata": {},
          "execution_count": 306
        }
      ]
    },
    {
      "cell_type": "code",
      "source": [
        "capitals_set = set(capitals_dict)\n",
        "\n",
        "capitals_set"
      ],
      "metadata": {
        "id": "idNOic9NiQXw",
        "colab": {
          "base_uri": "https://localhost:8080/"
        },
        "outputId": "9f8e29fa-35ad-46d7-86f2-b5c40ab1e965"
      },
      "execution_count": 308,
      "outputs": [
        {
          "output_type": "execute_result",
          "data": {
            "text/plain": [
              "{'Ecuador', 'Spain', 'UK'}"
            ]
          },
          "metadata": {},
          "execution_count": 308
        }
      ]
    },
    {
      "cell_type": "code",
      "source": [
        "\"Ecuador\" in capitals_set"
      ],
      "metadata": {
        "id": "A95nn4awl6zV",
        "colab": {
          "base_uri": "https://localhost:8080/"
        },
        "outputId": "defca383-b60c-42b2-9b19-2434bfaa4935"
      },
      "execution_count": 309,
      "outputs": [
        {
          "output_type": "execute_result",
          "data": {
            "text/plain": [
              "True"
            ]
          },
          "metadata": {},
          "execution_count": 309
        }
      ]
    },
    {
      "cell_type": "code",
      "source": [
        "\"Bangladesh\" in capitals_set"
      ],
      "metadata": {
        "id": "d_jHNMJYl61D",
        "colab": {
          "base_uri": "https://localhost:8080/"
        },
        "outputId": "a990b696-4dcf-4935-e38a-d61789dfb063"
      },
      "execution_count": 311,
      "outputs": [
        {
          "output_type": "execute_result",
          "data": {
            "text/plain": [
              "False"
            ]
          },
          "metadata": {},
          "execution_count": 311
        }
      ]
    },
    {
      "cell_type": "code",
      "source": [
        "\"Madrid\" in capitals_set"
      ],
      "metadata": {
        "id": "ZJfVguRyvp1h",
        "colab": {
          "base_uri": "https://localhost:8080/"
        },
        "outputId": "7dfd2cbf-2f53-494c-e3d9-dafe873c7c04"
      },
      "execution_count": 312,
      "outputs": [
        {
          "output_type": "execute_result",
          "data": {
            "text/plain": [
              "False"
            ]
          },
          "metadata": {},
          "execution_count": 312
        }
      ]
    },
    {
      "cell_type": "code",
      "source": [
        "if \"Madrid\" in capitals_dict.values():\n",
        "    print(\"Success!\")"
      ],
      "metadata": {
        "id": "U9KEYxn6vp4B",
        "colab": {
          "base_uri": "https://localhost:8080/"
        },
        "outputId": "4479a1be-7afe-4bb9-eb5c-2e3239690589"
      },
      "execution_count": 313,
      "outputs": [
        {
          "output_type": "stream",
          "name": "stdout",
          "text": [
            "Success!\n"
          ]
        }
      ]
    },
    {
      "cell_type": "code",
      "source": [],
      "metadata": {
        "id": "hvNV4Ka9vp6u"
      },
      "execution_count": null,
      "outputs": []
    },
    {
      "cell_type": "code",
      "source": [],
      "metadata": {
        "id": "JFXqWEHdiQam"
      },
      "execution_count": null,
      "outputs": []
    },
    {
      "cell_type": "markdown",
      "source": [
        "## Coding project #3: Morse code\n",
        "\n",
        "\n",
        "\n",
        "In this project, we will create a program that will translate our messages into Morse code. Morse code is a method for transmitting information efficiently. This method uses only two symbols, dots (`.`) and dashes (`-`). By combining these two symbols in different ways, we can represent all the letters of the alphabet. We will have a third symbol: `/` to separate words.\n",
        "\n",
        "This method was invented in the 1830s to send long-distance messages using the telegraph.\n",
        "\n",
        "<br>\n",
        "\n",
        "To complete the project, your solution must do the following:\n",
        "\n",
        "- Ask the user to enter a message.\n",
        "- Translate that message into Morse code.\n",
        "- Print the encoded message.\n",
        "\n",
        "<br>\n",
        "\n",
        "Some hints:\n",
        "\n",
        "- In the solution cell, we have left a dictionary in which each key is a letter of the alphabet, and each value is the representation of that letter in Morse code.\n",
        "\n",
        "- We have also left a string with all the letters of the alphabet.\n",
        "\n",
        "- Before encoding the message, we will convert it to lowercase.\n",
        "\n",
        "- We will separate each letter of the encoded message with a space and each word with a slash.\n",
        "\n",
        "- We provide you with two messages and their conversion to Morse code so you can compare them with your solution and be sure it is correct:\n",
        "\n",
        "\n",
        "\n",
        "> 'Hello world' --> '.... . .-.. .-.. --- /.-- --- .-. .-.. -..'\n",
        "\n",
        "> 'Good morning' --> '--. --- --- -.. /-- --- .-. -. .. -. --.'\n",
        "\n",
        "\n",
        "\n",
        "\n",
        "\n",
        "<br><br>\n"
      ],
      "metadata": {
        "id": "cO9TBExJZzrr"
      }
    },
    {
      "cell_type": "code",
      "source": [
        "alphabet = \"abcdefghijklmnopqrstuvwxyz\"\n",
        "\n",
        "morse_code = {\n",
        "    'a' : '.-', 'b' : '-...', 'c' : '-.-.', 'd' : '-..',\n",
        "    'e' : '.', 'f' : '..-.', 'g' : '--.', 'h' : '....',\n",
        "    'i' : '..', 'j' : '.---', 'k' : '-.-', 'l' : '.-..',\n",
        "    'm' : '--', 'n' : '-.', 'o' : '---', 'p' : '.--.',\n",
        "    'q' : '--.-', 'r' : '.-.', 's' : '...', 't' : '-',\n",
        "    'u' : '..-', 'v' : '...-', 'w' : '.--', 'x' : '-..-',\n",
        "    'y' : '-.--', 'z' : '--..'\n",
        "}\n",
        "\n",
        "# Get the string to translate\n",
        "plaintext_message = input('Enter a string to translate: ')\n",
        "\n",
        "# Convert the message to lowercase.\n",
        "plaintext_message = plaintext_message.lower()\n",
        "message_morse = ''\n",
        "\n",
        "# Iterate over the letters of the message\n",
        "for char in plaintext_message:\n",
        "  # If the character is a space, add '/' to the encoded message.\n",
        "  if char == ' ':\n",
        "    message_morse += '/'\n",
        "  # Otherwise, if the character is a letter, replace it with\n",
        "  # its morse code representation.\n",
        "  elif char in alphabet:\n",
        "    message_morse += morse_code[char] + ' '\n",
        "\n",
        "print(message_morse)"
      ],
      "metadata": {
        "id": "egQ8eYlFbwE0"
      },
      "execution_count": null,
      "outputs": []
    },
    {
      "cell_type": "code",
      "source": [
        "#@title Solution\n",
        "\n",
        "alphabet = \"abcdefghijklmnopqrstuvwxyz\"\n",
        "\n",
        "morse_code = {\n",
        "    'a' : '.-', 'b' : '-...', 'c' : '-.-.', 'd' : '-..',\n",
        "    'e' : '.', 'f' : '..-.', 'g' : '--.', 'h' : '....',\n",
        "    'i' : '..', 'j' : '.---', 'k' : '-.-', 'l' : '.-..',\n",
        "    'm' : '--', 'n' : '-.', 'o' : '---', 'p' : '.--.',\n",
        "    'q' : '--.-', 'r' : '.-.', 's' : '...', 't' : '-',\n",
        "    'u' : '..-', 'v' : '...-', 'w' : '.--', 'x' : '-..-',\n",
        "    'y' : '-.--', 'z' : '--..'\n",
        "}\n",
        "\n",
        "# Get the string to translate\n",
        "plaintext_message = input('Enter a string to translate: ')\n",
        "\n",
        "# Convert the message to lowercase.\n",
        "plaintext_message = plaintext_message.lower()\n",
        "message_morse = ''\n",
        "\n",
        "# Iterate over the letters of the message\n",
        "for char in plaintext_message:\n",
        "  # If the character is a space, add '/' to the encoded message.\n",
        "  if char == ' ':\n",
        "    message_morse += '/'\n",
        "  # Otherwise, if the character is a letter, replace it with\n",
        "  # its morse code representation.\n",
        "  elif char in alphabet:\n",
        "    message_morse += morse_code[char] + ' '\n",
        "\n",
        "print(message_morse)"
      ],
      "metadata": {
        "cellView": "form",
        "id": "qYUgXwQ6bwHk"
      },
      "execution_count": null,
      "outputs": []
    },
    {
      "cell_type": "markdown",
      "source": [
        "<br><br><br>"
      ],
      "metadata": {
        "id": "c2RTx8jPwXhx"
      }
    },
    {
      "cell_type": "markdown",
      "source": [
        "## 1.8 The standard library"
      ],
      "metadata": {
        "id": "8HkisbRrOYxy"
      }
    },
    {
      "cell_type": "markdown",
      "source": [
        "### 1.8.1 The `math` module"
      ],
      "metadata": {
        "id": "BDBRsSEdkP4J"
      }
    },
    {
      "cell_type": "code",
      "source": [
        "import math"
      ],
      "metadata": {
        "id": "rdl2jT4Nd_4S"
      },
      "execution_count": 314,
      "outputs": []
    },
    {
      "cell_type": "code",
      "source": [
        "radius = 5\n",
        "\n",
        "area = math.pi * math.pow(radius, 2)\n",
        "circumference = 2 * math.pi * radius\n",
        "\n",
        "print(f\"Area: {area:.2f}, Circumference: {circumference:.2f}\")"
      ],
      "metadata": {
        "id": "5WANMepFmGjX",
        "colab": {
          "base_uri": "https://localhost:8080/"
        },
        "outputId": "004f30c5-2cf0-43f6-fc3f-2efbbea1fa5a"
      },
      "execution_count": 315,
      "outputs": [
        {
          "output_type": "stream",
          "name": "stdout",
          "text": [
            "Area: 78.54, Circumference: 31.42\n"
          ]
        }
      ]
    },
    {
      "cell_type": "code",
      "source": [
        "num1 = 56\n",
        "num2 = 98\n",
        "\n",
        "gcd = math.gcd(num1, num2)\n",
        "\n",
        "print(\"Greatest common divisor:\", gcd)"
      ],
      "metadata": {
        "id": "RqLmxfQ0mGlU",
        "colab": {
          "base_uri": "https://localhost:8080/"
        },
        "outputId": "b5941516-9597-49b6-9bf4-479f97ac87bd"
      },
      "execution_count": 316,
      "outputs": [
        {
          "output_type": "stream",
          "name": "stdout",
          "text": [
            "Greatest common divisor: 14\n"
          ]
        }
      ]
    },
    {
      "cell_type": "code",
      "source": [
        "x1, y1 = 2,3\n",
        "x2, y2 = 5,7\n",
        "\n",
        "dx = math.pow(x2 - x1, 2)\n",
        "dy = math.pow(y2 - y1, 2)\n",
        "\n",
        "distance = math.sqrt(dx + dy)\n",
        "\n",
        "print(f\"Distance is {distance:.2f}\")"
      ],
      "metadata": {
        "id": "26peMPJNmGol",
        "colab": {
          "base_uri": "https://localhost:8080/"
        },
        "outputId": "e660f27b-0f08-4bba-ccd1-ad3b483732a6"
      },
      "execution_count": 317,
      "outputs": [
        {
          "output_type": "stream",
          "name": "stdout",
          "text": [
            "Distance is 5.00\n"
          ]
        }
      ]
    },
    {
      "cell_type": "code",
      "source": [
        "math.ceil(math.pi)"
      ],
      "metadata": {
        "id": "j_LwcWbJmT9Q",
        "colab": {
          "base_uri": "https://localhost:8080/"
        },
        "outputId": "cde457dc-1d5e-4bc7-83ac-0a6c9cff5478"
      },
      "execution_count": 318,
      "outputs": [
        {
          "output_type": "execute_result",
          "data": {
            "text/plain": [
              "4"
            ]
          },
          "metadata": {},
          "execution_count": 318
        }
      ]
    },
    {
      "cell_type": "code",
      "source": [
        "math.floor(math.pi)"
      ],
      "metadata": {
        "id": "mICJ43qZmT_v",
        "colab": {
          "base_uri": "https://localhost:8080/"
        },
        "outputId": "83e9ca53-7ade-4afe-c49f-7c72c5767913"
      },
      "execution_count": 319,
      "outputs": [
        {
          "output_type": "execute_result",
          "data": {
            "text/plain": [
              "3"
            ]
          },
          "metadata": {},
          "execution_count": 319
        }
      ]
    },
    {
      "cell_type": "code",
      "source": [
        "round(math.pi, 2)"
      ],
      "metadata": {
        "id": "ybH2V4pemUB6",
        "colab": {
          "base_uri": "https://localhost:8080/"
        },
        "outputId": "1ed2f63c-037b-4f4e-c434-3fc62dbe8f22"
      },
      "execution_count": 320,
      "outputs": [
        {
          "output_type": "execute_result",
          "data": {
            "text/plain": [
              "3.14"
            ]
          },
          "metadata": {},
          "execution_count": 320
        }
      ]
    },
    {
      "cell_type": "code",
      "source": [
        "angle_degrees = 180\n",
        "angle_radians = math.radians(angle_degrees)\n",
        "\n",
        "angle_radians"
      ],
      "metadata": {
        "id": "bmGHFULLbwMG",
        "colab": {
          "base_uri": "https://localhost:8080/"
        },
        "outputId": "7e9ba873-0a29-473a-a4f4-902c4f480bf3"
      },
      "execution_count": 321,
      "outputs": [
        {
          "output_type": "execute_result",
          "data": {
            "text/plain": [
              "3.141592653589793"
            ]
          },
          "metadata": {},
          "execution_count": 321
        }
      ]
    },
    {
      "cell_type": "code",
      "source": [
        "math.cos(angle_radians)"
      ],
      "metadata": {
        "id": "O0B8vT8IbwQi",
        "colab": {
          "base_uri": "https://localhost:8080/"
        },
        "outputId": "7a26312a-59b1-41ce-919c-8081db309cdf"
      },
      "execution_count": 322,
      "outputs": [
        {
          "output_type": "execute_result",
          "data": {
            "text/plain": [
              "-1.0"
            ]
          },
          "metadata": {},
          "execution_count": 322
        }
      ]
    },
    {
      "cell_type": "code",
      "source": [
        "math.sin(math.pi/2)"
      ],
      "metadata": {
        "id": "debrouKybwU6",
        "colab": {
          "base_uri": "https://localhost:8080/"
        },
        "outputId": "bb7654d1-bdec-4a9c-ff26-a1553f341076"
      },
      "execution_count": 323,
      "outputs": [
        {
          "output_type": "execute_result",
          "data": {
            "text/plain": [
              "1.0"
            ]
          },
          "metadata": {},
          "execution_count": 323
        }
      ]
    },
    {
      "cell_type": "markdown",
      "source": [
        "### 1.8.2 The `random` module"
      ],
      "metadata": {
        "id": "439IVj9BZzt9"
      }
    },
    {
      "cell_type": "code",
      "source": [
        "import random"
      ],
      "metadata": {
        "id": "73-bQ5OfiQit"
      },
      "execution_count": 324,
      "outputs": []
    },
    {
      "cell_type": "code",
      "source": [
        "num_sides = 6\n",
        "\n",
        "dice_roll = random.randint(1, num_sides)\n",
        "\n",
        "print(\"You rolled:\", dice_roll)"
      ],
      "metadata": {
        "id": "8alYpKvT09Gs",
        "colab": {
          "base_uri": "https://localhost:8080/"
        },
        "outputId": "c97127f7-ff0c-4d3b-fc49-298ebb3536cd"
      },
      "execution_count": 325,
      "outputs": [
        {
          "output_type": "stream",
          "name": "stdout",
          "text": [
            "You rolled: 5\n"
          ]
        }
      ]
    },
    {
      "cell_type": "code",
      "source": [
        "fruits = [\"orange\", \"banana\", \"grapefruit\", \"melon\"]\n",
        "\n",
        "random_fruit = random.choice(fruits)\n",
        "\n",
        "print(\"You chose:\", random_fruit)"
      ],
      "metadata": {
        "id": "BygAjIT13una",
        "colab": {
          "base_uri": "https://localhost:8080/"
        },
        "outputId": "ae93fdb0-889e-4944-8385-ad4170514506"
      },
      "execution_count": 326,
      "outputs": [
        {
          "output_type": "stream",
          "name": "stdout",
          "text": [
            "You chose: banana\n"
          ]
        }
      ]
    },
    {
      "cell_type": "code",
      "source": [
        "ranks = ['2', '3', '4', '5', '6', '7', '8', '9', '10', 'J', 'Q', 'K', 'A']\n",
        "suits = ['hearts', 'diamonds', 'clubs', 'spades']\n",
        "deck = []\n",
        "\n",
        "for suit in suits:\n",
        "    for rank in ranks:\n",
        "        card = rank + ' of ' + suit\n",
        "        deck.append(card)"
      ],
      "metadata": {
        "id": "-vtFRjX109JN"
      },
      "execution_count": 329,
      "outputs": []
    },
    {
      "cell_type": "code",
      "source": [
        "random_card = random.choice(deck)\n",
        "print(\"Your card is:\", random_card)"
      ],
      "metadata": {
        "id": "bUSy_gna09Li",
        "colab": {
          "base_uri": "https://localhost:8080/"
        },
        "outputId": "fec38944-4ab9-4f04-ccac-fe0dd1d1c458"
      },
      "execution_count": 330,
      "outputs": [
        {
          "output_type": "stream",
          "name": "stdout",
          "text": [
            "Your card is: 10 of clubs\n"
          ]
        }
      ]
    },
    {
      "cell_type": "code",
      "source": [
        "cities = [\"Tokyo\", \"Los Angeles\", \"Rome\", \"Madrid\"]\n",
        "\n",
        "sample_size = 2\n",
        "\n",
        "random_cities = random.sample(cities, sample_size)\n",
        "\n",
        "print(\"This year we'll visit:\", random_cities)"
      ],
      "metadata": {
        "id": "vWbcztms09OI",
        "colab": {
          "base_uri": "https://localhost:8080/"
        },
        "outputId": "497def23-0a96-4256-a208-57d84446bbbe"
      },
      "execution_count": 332,
      "outputs": [
        {
          "output_type": "stream",
          "name": "stdout",
          "text": [
            "This year we'll visit: ['Tokyo', 'Madrid']\n"
          ]
        }
      ]
    },
    {
      "cell_type": "code",
      "source": [
        "random_value = random.random()\n",
        "\n",
        "if random_value < 0.5:\n",
        "    result = \"heads\"\n",
        "else:\n",
        "    result = \"tails\"\n",
        "\n",
        "print(\"The result is\", result)"
      ],
      "metadata": {
        "id": "VI66auru09Qh",
        "colab": {
          "base_uri": "https://localhost:8080/"
        },
        "outputId": "a141fe77-678d-411c-e061-f29a3c1fc39b"
      },
      "execution_count": 334,
      "outputs": [
        {
          "output_type": "stream",
          "name": "stdout",
          "text": [
            "The result is tails\n"
          ]
        }
      ]
    },
    {
      "cell_type": "markdown",
      "source": [
        "### 1.8.3 The `datetime` module"
      ],
      "metadata": {
        "id": "vi-DM4a9kdqu"
      }
    },
    {
      "cell_type": "code",
      "source": [
        "import datetime"
      ],
      "metadata": {
        "id": "WhG7Hyk5iQto"
      },
      "execution_count": 335,
      "outputs": []
    },
    {
      "cell_type": "code",
      "source": [
        "current_datetime = datetime.datetime.now()\n",
        "\n",
        "print(\"Current date and time:\", current_datetime)"
      ],
      "metadata": {
        "id": "4PXluruLiQwr",
        "colab": {
          "base_uri": "https://localhost:8080/"
        },
        "outputId": "6c502d62-2b3b-44c9-8547-cd3450db1574"
      },
      "execution_count": 336,
      "outputs": [
        {
          "output_type": "stream",
          "name": "stdout",
          "text": [
            "Current date and time: 2023-09-22 16:03:06.319910\n"
          ]
        }
      ]
    },
    {
      "cell_type": "code",
      "source": [
        "current_date= datetime.date.today()\n",
        "\n",
        "print(\"Current date:\", current_date)"
      ],
      "metadata": {
        "id": "jiqWBixYF4UP",
        "colab": {
          "base_uri": "https://localhost:8080/"
        },
        "outputId": "a22a5fff-10de-45cb-81a0-5fb7d8fbd173"
      },
      "execution_count": 337,
      "outputs": [
        {
          "output_type": "stream",
          "name": "stdout",
          "text": [
            "Current date: 2023-09-22\n"
          ]
        }
      ]
    },
    {
      "cell_type": "code",
      "source": [
        "current_time = current_datetime.time()\n",
        "\n",
        "print(\"Current time:\", current_time)"
      ],
      "metadata": {
        "id": "BgNrPsv_iQzz",
        "colab": {
          "base_uri": "https://localhost:8080/"
        },
        "outputId": "16963ad4-dae8-4011-ca4b-60f7ebd5e8f9"
      },
      "execution_count": 338,
      "outputs": [
        {
          "output_type": "stream",
          "name": "stdout",
          "text": [
            "Current time: 16:03:06.319910\n"
          ]
        }
      ]
    },
    {
      "cell_type": "code",
      "source": [
        "date1 = datetime.date(476, 9, 4)\n",
        "date2 = datetime.date(1789, 5, 5)\n",
        "\n",
        "date_difference = date2 - date1\n",
        "\n",
        "date_difference_in_days = date_difference.days\n",
        "\n",
        "print(f\"{date_difference_in_days:,} days passed between the fall of rome and the french revolution.\")"
      ],
      "metadata": {
        "id": "roxObtAxiQ8P",
        "colab": {
          "base_uri": "https://localhost:8080/"
        },
        "outputId": "718c52c6-9dd2-465c-cb4e-b292d9efc1ba"
      },
      "execution_count": 340,
      "outputs": [
        {
          "output_type": "stream",
          "name": "stdout",
          "text": [
            "479,441 days passed between the fall of rome and the french revolution.\n"
          ]
        }
      ]
    },
    {
      "cell_type": "markdown",
      "source": [
        "### 1.8.4 The `string` module"
      ],
      "metadata": {
        "id": "Jt8Obo93kmHA"
      }
    },
    {
      "cell_type": "code",
      "source": [
        "import string"
      ],
      "metadata": {
        "id": "YRAwwyhaiQ_C"
      },
      "execution_count": 341,
      "outputs": []
    },
    {
      "cell_type": "code",
      "source": [
        "string.ascii_lowercase"
      ],
      "metadata": {
        "id": "LUf9_ulFMkug",
        "colab": {
          "base_uri": "https://localhost:8080/",
          "height": 36
        },
        "outputId": "72ceede7-499e-4e48-fb74-56b34d69596a"
      },
      "execution_count": 342,
      "outputs": [
        {
          "output_type": "execute_result",
          "data": {
            "text/plain": [
              "'abcdefghijklmnopqrstuvwxyz'"
            ],
            "application/vnd.google.colaboratory.intrinsic+json": {
              "type": "string"
            }
          },
          "metadata": {},
          "execution_count": 342
        }
      ]
    },
    {
      "cell_type": "code",
      "source": [
        "string.ascii_uppercase"
      ],
      "metadata": {
        "id": "rd809jdoMkxp",
        "colab": {
          "base_uri": "https://localhost:8080/",
          "height": 36
        },
        "outputId": "34676747-bf37-4cec-a118-35c01bdc9939"
      },
      "execution_count": 343,
      "outputs": [
        {
          "output_type": "execute_result",
          "data": {
            "text/plain": [
              "'ABCDEFGHIJKLMNOPQRSTUVWXYZ'"
            ],
            "application/vnd.google.colaboratory.intrinsic+json": {
              "type": "string"
            }
          },
          "metadata": {},
          "execution_count": 343
        }
      ]
    },
    {
      "cell_type": "code",
      "source": [
        "string.ascii_letters"
      ],
      "metadata": {
        "id": "TB972zqpMkz5",
        "colab": {
          "base_uri": "https://localhost:8080/",
          "height": 36
        },
        "outputId": "79787e35-46f0-4fe9-cbf2-0154d72147ce"
      },
      "execution_count": 344,
      "outputs": [
        {
          "output_type": "execute_result",
          "data": {
            "text/plain": [
              "'abcdefghijklmnopqrstuvwxyzABCDEFGHIJKLMNOPQRSTUVWXYZ'"
            ],
            "application/vnd.google.colaboratory.intrinsic+json": {
              "type": "string"
            }
          },
          "metadata": {},
          "execution_count": 344
        }
      ]
    },
    {
      "cell_type": "code",
      "source": [
        "string.digits"
      ],
      "metadata": {
        "id": "DVZtm3BGiRBq",
        "colab": {
          "base_uri": "https://localhost:8080/",
          "height": 36
        },
        "outputId": "830174d6-4169-42a1-9501-4504ea11f46e"
      },
      "execution_count": 345,
      "outputs": [
        {
          "output_type": "execute_result",
          "data": {
            "text/plain": [
              "'0123456789'"
            ],
            "application/vnd.google.colaboratory.intrinsic+json": {
              "type": "string"
            }
          },
          "metadata": {},
          "execution_count": 345
        }
      ]
    },
    {
      "cell_type": "code",
      "source": [
        "string.punctuation"
      ],
      "metadata": {
        "id": "elh1QdYqiREq",
        "colab": {
          "base_uri": "https://localhost:8080/",
          "height": 36
        },
        "outputId": "55bc9f58-073a-496d-9b9d-fe21942354e6"
      },
      "execution_count": 346,
      "outputs": [
        {
          "output_type": "execute_result",
          "data": {
            "text/plain": [
              "'!\"#$%&\\'()*+,-./:;<=>?@[\\\\]^_`{|}~'"
            ],
            "application/vnd.google.colaboratory.intrinsic+json": {
              "type": "string"
            }
          },
          "metadata": {},
          "execution_count": 346
        }
      ]
    },
    {
      "cell_type": "code",
      "source": [
        "text = \"This is an example text.\"\n",
        "letter_counts = {}\n",
        "\n",
        "for char in string.ascii_letters:\n",
        "    count = text.count(char)\n",
        "    letter_counts[char] = count\n",
        "\n",
        "print(f\"Letter frequency in the text: {letter_counts}\")"
      ],
      "metadata": {
        "id": "9YRjlRlKM8qV",
        "colab": {
          "base_uri": "https://localhost:8080/"
        },
        "outputId": "b706c213-cac6-4e76-94b8-959f89ef5484"
      },
      "execution_count": 347,
      "outputs": [
        {
          "output_type": "stream",
          "name": "stdout",
          "text": [
            "Letter frequency in the text: {'a': 2, 'b': 0, 'c': 0, 'd': 0, 'e': 3, 'f': 0, 'g': 0, 'h': 1, 'i': 2, 'j': 0, 'k': 0, 'l': 1, 'm': 1, 'n': 1, 'o': 0, 'p': 1, 'q': 0, 'r': 0, 's': 2, 't': 2, 'u': 0, 'v': 0, 'w': 0, 'x': 2, 'y': 0, 'z': 0, 'A': 0, 'B': 0, 'C': 0, 'D': 0, 'E': 0, 'F': 0, 'G': 0, 'H': 0, 'I': 0, 'J': 0, 'K': 0, 'L': 0, 'M': 0, 'N': 0, 'O': 0, 'P': 0, 'Q': 0, 'R': 0, 'S': 0, 'T': 1, 'U': 0, 'V': 0, 'W': 0, 'X': 0, 'Y': 0, 'Z': 0}\n"
          ]
        }
      ]
    },
    {
      "cell_type": "code",
      "source": [
        "text = \"Phone number: 123-456-7890\"\n",
        "digit_count = 0\n",
        "\n",
        "for char in text:\n",
        "    if char in string.digits:\n",
        "        digit_count += 1\n",
        "\n",
        "print(f\"There are {digit_count} digits in our text.\")"
      ],
      "metadata": {
        "id": "UTqSkIKjM8s_",
        "colab": {
          "base_uri": "https://localhost:8080/"
        },
        "outputId": "82b46376-da96-4087-8f86-2dfcdbb22862"
      },
      "execution_count": 348,
      "outputs": [
        {
          "output_type": "stream",
          "name": "stdout",
          "text": [
            "There are 10 digits in our text.\n"
          ]
        }
      ]
    },
    {
      "cell_type": "markdown",
      "source": [
        "## Coding challenge #5: Random password generator\n",
        "\n",
        "In this challenge, we are going to create a program to generate a random password. This password can only have uppercase or lowercase letters, and its length must be between 12 and 20 characters.\n",
        "\n",
        "To create the program, we can follow these steps:\n",
        "\n",
        "*   Choose the password length randomly.\n",
        "*   Repeat a loop as many times as the password length.\n",
        "*   Inside the loop, randomly choose an uppercase or lowercase letter.\n",
        "*   Add the letter to the password.\n",
        "*   Print the password.\n",
        "\n",
        "<br>"
      ],
      "metadata": {
        "id": "srNxORGileXh"
      }
    },
    {
      "cell_type": "code",
      "source": [
        "import string\n",
        "import random\n",
        "\n",
        "# Randomly choose the password length.\n",
        "min_length = 12\n",
        "max_length = 20\n",
        "password_length = random.randint(min_length, max_length)\n",
        "\n",
        "# Add as many letters to the password as necessary.\n",
        "password = []\n",
        "for _ in range(password_length):\n",
        "  letter = random.choice(string.ascii_letters)\n",
        "  password.append(letter)\n",
        "\n",
        "# Join the letters to create the password string.\n",
        "random_password = ''.join(password)\n",
        "\n",
        "# Print the generated password.\n",
        "print(f\"Randomly generated password: {random_password}\")"
      ],
      "metadata": {
        "id": "iQMQJJYUiRNK"
      },
      "execution_count": null,
      "outputs": []
    },
    {
      "cell_type": "code",
      "source": [
        "#@title Solution\n",
        "\n",
        "import string\n",
        "import random\n",
        "\n",
        "# Randomly choose the password length.\n",
        "min_length = 12\n",
        "max_length = 20\n",
        "password_length = random.randint(min_length, max_length)\n",
        "\n",
        "# Add as many letters to the password as necessary.\n",
        "password = []\n",
        "for _ in range(password_length):\n",
        "  letter = random.choice(string.ascii_letters)\n",
        "  password.append(letter)\n",
        "\n",
        "# Join the letters to create the password string.\n",
        "random_password = ''.join(password)\n",
        "\n",
        "# Print the generated password.\n",
        "print(f\"Randomly generated password: {random_password}\")"
      ],
      "metadata": {
        "id": "pWS9GOC9dREO",
        "cellView": "form"
      },
      "execution_count": null,
      "outputs": []
    },
    {
      "cell_type": "markdown",
      "source": [
        "<br><br><br>"
      ],
      "metadata": {
        "id": "xkpGY5-MWz4i"
      }
    },
    {
      "cell_type": "markdown",
      "source": [
        "## Coding challenge #6: Find the closest supermarket\n",
        "\n",
        "In this challenge, we have to find the nearest supermarket to go shopping. We have a list of tuples. Each tuple represents the position of a supermarket and has two numerical values (x, y).\n",
        "\n",
        "Our location is also represented by a tuple (x, y). The goal of this challenge is to find the nearest supermarket from this point and display a message with it.\n",
        "\n",
        "To do this, we can follow the steps below:\n",
        "\n",
        "\n",
        "\n",
        "*   Iterate through each point in the list.\n",
        "*   Calculate the straight-line distance between our location and the supermarket at that point.\n",
        "*   If the distance is less than that of the points we have seen so far, we save this supermarket as the closest one (for now).\n",
        "*   Once we finish iterating through the points, we create a message with the closest supermarket.\n",
        "\n",
        "**Hint: to calculate the straight-line distance between two points, we can use the Pythagorean theorem:**\n",
        "\n",
        "$\\text{distance} = \\sqrt{dx^2 + dy^2}$\n",
        "\n",
        "<br>\n",
        "\n",
        "In this expression, **dx** is the distance along the x-axis between the two points (**x2 - x1**); **dy** is the distance along the y-axis (**y2 - y1**).\n",
        "\n",
        "<br><br>\n"
      ],
      "metadata": {
        "id": "ZfOgqmw1WPRI"
      }
    },
    {
      "cell_type": "code",
      "source": [
        "import math\n",
        "\n",
        "ref_point = (1, 1)\n",
        "point_list = [(2, 2), (5, 6), (4, 0), (-2, 1), (3, -1)]\n",
        "\n",
        "# Calculate the distance between two points.\n",
        "def calculate_distance(point1, point2):\n",
        "  x1, y1 = point1\n",
        "  x2, y2 = point2\n",
        "  x_diff_squared = math.pow(x2 - x1, 2)\n",
        "  y_diff_squared = math.pow(y2 - y1, 2)\n",
        "  return math.sqrt(x_diff_squared + y_diff_squared)\n",
        "\n",
        "# Initialize variables to hold the closest distance and the closest point.\n",
        "closest_distance = float('inf')\n",
        "closest_point = None\n",
        "\n",
        "# Iterate through the list of points, finding the closest one.\n",
        "for point in point_list:\n",
        "  current_distance = calculate_distance(ref_point, point)\n",
        "  if current_distance < closest_distance:\n",
        "    closest_distance = current_distance\n",
        "    closest_point = point\n",
        "\n",
        "print(f\"Closest point to {ref_point}: {closest_point}\")"
      ],
      "metadata": {
        "id": "qM6fx2I9WPRI"
      },
      "execution_count": null,
      "outputs": []
    },
    {
      "cell_type": "code",
      "source": [
        "#@title Solution\n",
        "\n",
        "import math\n",
        "\n",
        "ref_point = (1, 1)\n",
        "point_list = [(2, 2), (5, 6), (4, 0), (-2, 1), (3, -1)]\n",
        "\n",
        "# Calculate the distance between two points.\n",
        "def calculate_distance(point1, point2):\n",
        "  x1, y1 = point1\n",
        "  x2, y2 = point2\n",
        "  x_diff_squared = math.pow(x2 - x1, 2)\n",
        "  y_diff_squared = math.pow(y2 - y1, 2)\n",
        "  return math.sqrt(x_diff_squared + y_diff_squared)\n",
        "\n",
        "# Initialize variables to hold the closest distance and the closest point.\n",
        "closest_distance = float('inf')\n",
        "closest_point = None\n",
        "\n",
        "# Iterate through the list of points, finding the closest one.\n",
        "for point in point_list:\n",
        "  current_distance = calculate_distance(ref_point, point)\n",
        "  if current_distance < closest_distance:\n",
        "    closest_distance = current_distance\n",
        "    closest_point = point\n",
        "\n",
        "print(f\"Closest point to {ref_point}: {closest_point}\")"
      ],
      "metadata": {
        "id": "K8WGwlkNXyLd",
        "cellView": "form"
      },
      "execution_count": null,
      "outputs": []
    },
    {
      "cell_type": "markdown",
      "source": [
        "<br><br><br>"
      ],
      "metadata": {
        "id": "9NSmW693WPRJ"
      }
    },
    {
      "cell_type": "markdown",
      "source": [
        "## Coding project #4: Tic-tac-toe\n",
        "\n",
        "In this project where you will implement the classic game of tic-tac-toe in Python. Your task is to complete the provided starter code.\n",
        "\n",
        "You will need to define functions to print the board, check if a player has won, check if a move is valid, and play the game.\n",
        "\n",
        "The `print_board` function must print the board in the following format:\n",
        "\n",
        "<br>\n",
        "\n",
        "```\n",
        "  | X |  \n",
        "---------\n",
        "O | O | O\n",
        "---------\n",
        "X | X |  \n",
        "```\n",
        "<br>\n",
        "\n",
        "Each cell has an index. The first row is represented by the indices `0`, `1` and `2`. The second row, by `3`, `4` and `5`. The third, by `6`, `7` and `8`.\n",
        "\n",
        "<br>\n",
        "\n",
        "The `player_won` function checks if the active player has won by checking if every winning combination of cells (`lines` list) has the player's symbol. For example, in the board above, player 2 has won, as their symbol is present in cells `3`, `4` and `5` (second row).\n",
        "\n",
        "<br>\n",
        "\n",
        "`is_valid` checks if the move entered by the player is valid. The move must be a number between 0 and 8 (both inclusive) that represents the index of the cell where the player wants to occupy. For the move to be valid, the cell must be empty.\n",
        "\n",
        "<br>\n",
        "\n",
        "The `play_game` function will loop through each player's turn until the game is over. Each player will be prompted to enter their move, and if the move is invalid, they will be prompted to make another move. The game will end when a player wins or the board is full. Every time the player makes a move, you need to print the board to let the players know the new state of the board.\n",
        "\n",
        "<br><br>\n"
      ],
      "metadata": {
        "id": "g7L28ysuWPRJ"
      }
    },
    {
      "cell_type": "code",
      "source": [
        "# Define the symbols for the players\n",
        "symbols = {1: \"X\", 2: \"O\"}\n",
        "\n",
        "# Create an empty 3x3 board as a list\n",
        "board = [\" \"] * 9\n",
        "\n",
        "# Define the winning combinations\n",
        "lines = [(0, 1, 2), (3, 4, 5), (6, 7, 8), (0, 3, 6), (1, 4, 7), (2, 5, 8), (0, 4, 8), (2, 4, 6)]\n",
        "\n",
        "# Print the board.\n",
        "def print_board():\n",
        "    print(board[0], \"|\", board[1], \"|\", board[2])\n",
        "    print(\"---------\")\n",
        "    print(board[3], \"|\", board[4], \"|\", board[5])\n",
        "    print(\"---------\")\n",
        "    print(board[6], \"|\", board[7], \"|\", board[8])\n",
        "\n",
        "# Check if a player has won.\n",
        "def player_won(lines, symbol):\n",
        "    for l1, l2, l3 in lines:\n",
        "        if board[l1] == board[l2] == board[l3] == symbol:\n",
        "            return True\n",
        "    return False\n",
        "\n",
        "# Check if a move is valid.\n",
        "def is_valid(move, board):\n",
        "    return move.isdigit() and int(move) in range(9) and board[int(move)] == \" \"\n",
        "\n",
        "# Function to play the game.\n",
        "def play_game(board):\n",
        "    # Initialize the current player.\n",
        "    player = 1\n",
        "\n",
        "    # While there are empty spaces on the board.\n",
        "    while \" \" in board:\n",
        "        print_board()\n",
        "        move = input(\"Choose a number between 0 and 8: \")\n",
        "\n",
        "        # If the move is invalid, tell the player to move again (next iteration).\n",
        "        if not is_valid(move, board):\n",
        "            print(\"Invalid position. Choose again.\")\n",
        "            continue\n",
        "\n",
        "        move = int(move)\n",
        "        board[move] = symbols[player]\n",
        "\n",
        "        # If the player has won, print a message,\n",
        "        # print the board and finish the game.\n",
        "        if player_won(lines, symbols[player]):\n",
        "            print(\"Player\", player, \"won!\")\n",
        "            print_board()\n",
        "            return\n",
        "\n",
        "        # Switch to the other player\n",
        "        if player == 1:\n",
        "            player = 2\n",
        "        else:\n",
        "            player = 1\n",
        "\n",
        "    # If the board is full and nobody won, it's a draw.\n",
        "    print(\"It's a draw!\")\n",
        "    print_board()\n",
        "\n",
        "# Start the game\n",
        "play_game(board)\n",
        "\n"
      ],
      "metadata": {
        "id": "S2dT8pKoWPRJ"
      },
      "execution_count": null,
      "outputs": []
    },
    {
      "cell_type": "code",
      "source": [
        "#@title Solution\n",
        "\n",
        "# Define the symbols for the players\n",
        "symbols = {1: \"X\", 2: \"O\"}\n",
        "\n",
        "# Create an empty 3x3 board as a list\n",
        "board = [\" \"] * 9\n",
        "\n",
        "# Define the winning combinations\n",
        "lines = [(0, 1, 2), (3, 4, 5), (6, 7, 8), (0, 3, 6), (1, 4, 7), (2, 5, 8), (0, 4, 8), (2, 4, 6)]\n",
        "\n",
        "# Print the board.\n",
        "def print_board():\n",
        "    print(board[0], \"|\", board[1], \"|\", board[2])\n",
        "    print(\"---------\")\n",
        "    print(board[3], \"|\", board[4], \"|\", board[5])\n",
        "    print(\"---------\")\n",
        "    print(board[6], \"|\", board[7], \"|\", board[8])\n",
        "\n",
        "# Check if a player has won.\n",
        "def player_won(lines, symbol):\n",
        "    for l1, l2, l3 in lines:\n",
        "        if board[l1] == board[l2] == board[l3] == symbol:\n",
        "            return True\n",
        "    return False\n",
        "\n",
        "# Check if a move is valid.\n",
        "def is_valid(move, board):\n",
        "    return move.isdigit() and int(move) in range(9) and board[int(move)] == \" \"\n",
        "\n",
        "# Function to play the game.\n",
        "def play_game(board):\n",
        "    # Initialize the current player.\n",
        "    player = 1\n",
        "\n",
        "    # While there are empty spaces on the board.\n",
        "    while \" \" in board:\n",
        "        print_board()\n",
        "        move = input(\"Choose a number between 0 and 8: \")\n",
        "\n",
        "        # If the move is invalid, tell the player to move again (next iteration).\n",
        "        if not is_valid(move, board):\n",
        "            print(\"Invalid position. Choose again.\")\n",
        "            continue\n",
        "\n",
        "        move = int(move)\n",
        "        board[move] = symbols[player]\n",
        "\n",
        "        # If the player has won, print a message,\n",
        "        # print the board and finish the game.\n",
        "        if player_won(lines, symbols[player]):\n",
        "            print(\"Player\", player, \"won!\")\n",
        "            print_board()\n",
        "            return\n",
        "\n",
        "        # Switch to the other player\n",
        "        if player == 1:\n",
        "            player = 2\n",
        "        else:\n",
        "            player = 1\n",
        "\n",
        "    # If the board is full and nobody won, it's a draw.\n",
        "    print(\"It's a draw!\")\n",
        "    print_board()\n",
        "\n",
        "# Start the game\n",
        "play_game(board)\n"
      ],
      "metadata": {
        "id": "_NH0RXP4WPRJ",
        "cellView": "form"
      },
      "execution_count": null,
      "outputs": []
    }
  ]
}