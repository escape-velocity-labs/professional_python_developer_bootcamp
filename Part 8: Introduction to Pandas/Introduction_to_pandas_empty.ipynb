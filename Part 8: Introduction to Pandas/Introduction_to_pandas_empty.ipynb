{
  "nbformat": 4,
  "nbformat_minor": 0,
  "metadata": {
    "colab": {
      "provenance": []
    },
    "kernelspec": {
      "name": "python3",
      "display_name": "Python 3"
    },
    "language_info": {
      "name": "python"
    }
  },
  "cells": [
    {
      "cell_type": "markdown",
      "source": [
        "# 8. Introduction to Pandas"
      ],
      "metadata": {
        "id": "l2V3P7aLqUME"
      }
    },
    {
      "cell_type": "markdown",
      "source": [
        "## 8.1 Pandas basics"
      ],
      "metadata": {
        "id": "2XyMcpVYqaXK"
      }
    },
    {
      "cell_type": "code",
      "source": [],
      "metadata": {
        "id": "LcjWdrsCT2xg"
      },
      "execution_count": null,
      "outputs": []
    },
    {
      "cell_type": "markdown",
      "source": [
        "### 8.1.1 Creating a `Series` object"
      ],
      "metadata": {
        "id": "uQb-GpXcTj0m"
      }
    },
    {
      "cell_type": "code",
      "source": [],
      "metadata": {
        "id": "i80-qOHETh1i"
      },
      "execution_count": null,
      "outputs": []
    },
    {
      "cell_type": "code",
      "source": [],
      "metadata": {
        "id": "lGaZbfWKTh3-"
      },
      "execution_count": null,
      "outputs": []
    },
    {
      "cell_type": "markdown",
      "source": [
        "### 8.1.2 Creating a `DataFrame` object"
      ],
      "metadata": {
        "id": "RBd0yISJUfDU"
      }
    },
    {
      "cell_type": "code",
      "source": [],
      "metadata": {
        "id": "Z0GY07H2Th6u"
      },
      "execution_count": null,
      "outputs": []
    },
    {
      "cell_type": "code",
      "source": [
        "#@title Generate a random .csv file\n",
        "\n",
        "import csv\n",
        "import random\n",
        "\n",
        "# Define the number of rows and columns\n",
        "num_rows = 5\n",
        "num_columns = 3\n",
        "\n",
        "# Generate random data and write it to a CSV file\n",
        "with open('random_data.csv', 'w', newline='') as csv_file:\n",
        "    csv_writer = csv.writer(csv_file)\n",
        "\n",
        "    # Write the header row\n",
        "    header = ['Column1', 'Column2', 'Column3']\n",
        "    csv_writer.writerow(header)\n",
        "\n",
        "    # Generate and write random data for each row\n",
        "    for _ in range(num_rows):\n",
        "        row = [random.randint(1, 100) for _ in range(num_columns)]\n",
        "        csv_writer.writerow(row)\n",
        "\n",
        "print(\"Random CSV file generated as 'random_data.csv'\")\n"
      ],
      "metadata": {
        "cellView": "form",
        "id": "FUeWzoMEVAiK"
      },
      "execution_count": null,
      "outputs": []
    },
    {
      "cell_type": "code",
      "source": [],
      "metadata": {
        "id": "ZB-M164rTh9m"
      },
      "execution_count": null,
      "outputs": []
    },
    {
      "cell_type": "markdown",
      "source": [
        "### 8.1.3 Import the penguins dataset"
      ],
      "metadata": {
        "id": "YXCV9bYrgGyQ"
      }
    },
    {
      "cell_type": "code",
      "source": [],
      "metadata": {
        "id": "nOmUHhNvTiAW"
      },
      "execution_count": null,
      "outputs": []
    },
    {
      "cell_type": "code",
      "source": [],
      "metadata": {
        "id": "z7uzq2MBpmi5"
      },
      "execution_count": null,
      "outputs": []
    },
    {
      "cell_type": "code",
      "source": [],
      "metadata": {
        "id": "skf6YdiOmhBF"
      },
      "execution_count": null,
      "outputs": []
    },
    {
      "cell_type": "code",
      "source": [],
      "metadata": {
        "id": "UgwKwCMtmhDL"
      },
      "execution_count": null,
      "outputs": []
    },
    {
      "cell_type": "markdown",
      "source": [
        "### 8.1.4 Indexing with `.loc` and `.iloc`"
      ],
      "metadata": {
        "id": "He0zOt_bkLjG"
      }
    },
    {
      "cell_type": "code",
      "source": [],
      "metadata": {
        "id": "cA0WN8_LTiC9"
      },
      "execution_count": null,
      "outputs": []
    },
    {
      "cell_type": "code",
      "source": [],
      "metadata": {
        "id": "Ntwq0n0CTiFu"
      },
      "execution_count": null,
      "outputs": []
    },
    {
      "cell_type": "code",
      "source": [],
      "metadata": {
        "id": "sZt0Cg0VTiI2"
      },
      "execution_count": null,
      "outputs": []
    },
    {
      "cell_type": "code",
      "source": [],
      "metadata": {
        "id": "I29Hm_q-Uybp"
      },
      "execution_count": null,
      "outputs": []
    },
    {
      "cell_type": "code",
      "source": [],
      "metadata": {
        "id": "gQ3x5_yBUyeM"
      },
      "execution_count": null,
      "outputs": []
    },
    {
      "cell_type": "code",
      "source": [],
      "metadata": {
        "id": "K8MHj-v7UyhN"
      },
      "execution_count": null,
      "outputs": []
    },
    {
      "cell_type": "code",
      "source": [],
      "metadata": {
        "id": "iwMs2okDUyjt"
      },
      "execution_count": null,
      "outputs": []
    },
    {
      "cell_type": "code",
      "source": [],
      "metadata": {
        "id": "VkhGpUO2zt1m"
      },
      "execution_count": null,
      "outputs": []
    },
    {
      "cell_type": "code",
      "source": [],
      "metadata": {
        "id": "AS83v_vBzt30"
      },
      "execution_count": null,
      "outputs": []
    },
    {
      "cell_type": "markdown",
      "source": [
        "### 8.1.5 Arithmetic with `Series` and `DataFrames`"
      ],
      "metadata": {
        "id": "-Ndd3EqTrgT1"
      }
    },
    {
      "cell_type": "code",
      "execution_count": null,
      "metadata": {
        "id": "v0FaROBCp67b"
      },
      "outputs": [],
      "source": []
    },
    {
      "cell_type": "code",
      "source": [],
      "metadata": {
        "id": "85ipspC0q7Cm"
      },
      "execution_count": null,
      "outputs": []
    },
    {
      "cell_type": "code",
      "source": [],
      "metadata": {
        "id": "4m-tzrD3pm6A"
      },
      "execution_count": null,
      "outputs": []
    },
    {
      "cell_type": "markdown",
      "source": [
        "### 8.1.6 Viewing data with head, `tail` and `sample`"
      ],
      "metadata": {
        "id": "siQi7kcyunTR"
      }
    },
    {
      "cell_type": "code",
      "source": [],
      "metadata": {
        "id": "A1NMCGYInx9h"
      },
      "execution_count": null,
      "outputs": []
    },
    {
      "cell_type": "code",
      "source": [],
      "metadata": {
        "id": "IxsRtOTwnx_8"
      },
      "execution_count": null,
      "outputs": []
    },
    {
      "cell_type": "code",
      "source": [],
      "metadata": {
        "id": "yojGE9oQnyC2"
      },
      "execution_count": null,
      "outputs": []
    },
    {
      "cell_type": "markdown",
      "source": [
        "### 8.1.7 Creating, dropping, sorting and renaming columns"
      ],
      "metadata": {
        "id": "WK3kOCu_z31n"
      }
    },
    {
      "cell_type": "code",
      "source": [],
      "metadata": {
        "id": "UfqAfZ_WnyIa"
      },
      "execution_count": null,
      "outputs": []
    },
    {
      "cell_type": "code",
      "source": [],
      "metadata": {
        "id": "BMpfCj5dnyLU"
      },
      "execution_count": null,
      "outputs": []
    },
    {
      "cell_type": "code",
      "source": [],
      "metadata": {
        "id": "7RN7Gs7UnyOd"
      },
      "execution_count": null,
      "outputs": []
    },
    {
      "cell_type": "code",
      "source": [],
      "metadata": {
        "id": "IjSwjazaqP_I"
      },
      "execution_count": null,
      "outputs": []
    },
    {
      "cell_type": "code",
      "source": [],
      "metadata": {
        "id": "wmhseXbqqQTE"
      },
      "execution_count": null,
      "outputs": []
    },
    {
      "cell_type": "code",
      "source": [],
      "metadata": {
        "id": "FJVdGblaqQED"
      },
      "execution_count": null,
      "outputs": []
    },
    {
      "cell_type": "markdown",
      "source": [
        "### 8.1.8 Summarizing our data"
      ],
      "metadata": {
        "id": "d9WnzniOoRuk"
      }
    },
    {
      "cell_type": "code",
      "source": [],
      "metadata": {
        "id": "ZgSK9jZeqQJ7"
      },
      "execution_count": null,
      "outputs": []
    },
    {
      "cell_type": "code",
      "source": [],
      "metadata": {
        "id": "fefEZkJ8qQHc"
      },
      "execution_count": null,
      "outputs": []
    },
    {
      "cell_type": "code",
      "source": [],
      "metadata": {
        "id": "KUo6-7-pqQMs"
      },
      "execution_count": null,
      "outputs": []
    },
    {
      "cell_type": "markdown",
      "source": [
        "## 8.2 Data cleaning and preprocessing"
      ],
      "metadata": {
        "id": "gXDI-BaVoRmy"
      }
    },
    {
      "cell_type": "markdown",
      "source": [
        "### 8.2.1 Find the missing values"
      ],
      "metadata": {
        "id": "4xV1tlEqX9rB"
      }
    },
    {
      "cell_type": "code",
      "source": [],
      "metadata": {
        "id": "Qi8Ma-wUqQP8"
      },
      "execution_count": null,
      "outputs": []
    },
    {
      "cell_type": "code",
      "source": [],
      "metadata": {
        "id": "LqwyfzAUFCPn"
      },
      "execution_count": null,
      "outputs": []
    },
    {
      "cell_type": "code",
      "source": [],
      "metadata": {
        "id": "73tul3PBqQZM"
      },
      "execution_count": null,
      "outputs": []
    },
    {
      "cell_type": "code",
      "source": [],
      "metadata": {
        "id": "oVJm6cBvqQWM"
      },
      "execution_count": null,
      "outputs": []
    },
    {
      "cell_type": "markdown",
      "source": [
        "### 8.2.2 Drop the records with missing values"
      ],
      "metadata": {
        "id": "RRR-O5RiYPoo"
      }
    },
    {
      "cell_type": "code",
      "source": [],
      "metadata": {
        "id": "WFHXjyNxqQcd"
      },
      "execution_count": null,
      "outputs": []
    },
    {
      "cell_type": "code",
      "source": [],
      "metadata": {
        "id": "EUNq2cnQra25"
      },
      "execution_count": null,
      "outputs": []
    },
    {
      "cell_type": "markdown",
      "source": [
        "### 8.2.3 Fill the missing values"
      ],
      "metadata": {
        "id": "uwb6IrMnZo5S"
      }
    },
    {
      "cell_type": "code",
      "source": [],
      "metadata": {
        "id": "3EiM1sYnra5V"
      },
      "execution_count": null,
      "outputs": []
    },
    {
      "cell_type": "code",
      "source": [],
      "metadata": {
        "id": "yLE2w5zHZoR_"
      },
      "execution_count": null,
      "outputs": []
    },
    {
      "cell_type": "code",
      "source": [],
      "metadata": {
        "id": "_amaZUmeZoUg"
      },
      "execution_count": null,
      "outputs": []
    },
    {
      "cell_type": "code",
      "source": [],
      "metadata": {
        "id": "pKymT3SZZoXd"
      },
      "execution_count": null,
      "outputs": []
    },
    {
      "cell_type": "code",
      "source": [],
      "metadata": {
        "id": "nCwjfbDPra7n"
      },
      "execution_count": null,
      "outputs": []
    },
    {
      "cell_type": "markdown",
      "source": [
        "### 8.2.4 Remove duplicates"
      ],
      "metadata": {
        "id": "31eq1qKdv3wQ"
      }
    },
    {
      "cell_type": "code",
      "source": [],
      "metadata": {
        "id": "cV_3CYBBqQkd"
      },
      "execution_count": null,
      "outputs": []
    },
    {
      "cell_type": "code",
      "source": [],
      "metadata": {
        "id": "ODqEFqanul58"
      },
      "execution_count": null,
      "outputs": []
    },
    {
      "cell_type": "code",
      "source": [],
      "metadata": {
        "id": "Pg6XH6zyul8P"
      },
      "execution_count": null,
      "outputs": []
    },
    {
      "cell_type": "markdown",
      "source": [
        "### 8.2.5 Changing the data type of a column"
      ],
      "metadata": {
        "id": "z14uMOSB9lws"
      }
    },
    {
      "cell_type": "code",
      "source": [],
      "metadata": {
        "id": "hfmeuwMViq3E"
      },
      "execution_count": null,
      "outputs": []
    },
    {
      "cell_type": "markdown",
      "source": [
        "## 8.3 Grouping data"
      ],
      "metadata": {
        "id": "IeS2nCJ6oRpd"
      }
    },
    {
      "cell_type": "code",
      "source": [],
      "metadata": {
        "id": "VBxK3oISraKq"
      },
      "execution_count": null,
      "outputs": []
    },
    {
      "cell_type": "code",
      "source": [],
      "metadata": {
        "id": "osogXdDXraNl"
      },
      "execution_count": null,
      "outputs": []
    },
    {
      "cell_type": "code",
      "source": [],
      "metadata": {
        "id": "toig9Sr1raQF"
      },
      "execution_count": null,
      "outputs": []
    },
    {
      "cell_type": "code",
      "source": [],
      "metadata": {
        "id": "plj1wKBNraS-"
      },
      "execution_count": null,
      "outputs": []
    },
    {
      "cell_type": "code",
      "source": [],
      "metadata": {
        "id": "wYaBv63pHKXd"
      },
      "execution_count": null,
      "outputs": []
    },
    {
      "cell_type": "code",
      "source": [],
      "metadata": {
        "id": "-LjRZ8XLqQt8"
      },
      "execution_count": null,
      "outputs": []
    },
    {
      "cell_type": "code",
      "source": [],
      "metadata": {
        "id": "PR5OA0vtqQxk"
      },
      "execution_count": null,
      "outputs": []
    },
    {
      "cell_type": "code",
      "source": [],
      "metadata": {
        "id": "nu3mpLPrqQ0s"
      },
      "execution_count": null,
      "outputs": []
    },
    {
      "cell_type": "code",
      "source": [],
      "metadata": {
        "id": "W4eb_CzvG-yh"
      },
      "execution_count": null,
      "outputs": []
    },
    {
      "cell_type": "code",
      "source": [],
      "metadata": {
        "id": "hNigHdycG-1F"
      },
      "execution_count": null,
      "outputs": []
    },
    {
      "cell_type": "markdown",
      "source": [
        "### 8.3.1 Filtering and transforming data"
      ],
      "metadata": {
        "id": "P5UuLrjbN1-9"
      }
    },
    {
      "cell_type": "code",
      "source": [],
      "metadata": {
        "id": "Wg9aR2cIG-3u"
      },
      "execution_count": null,
      "outputs": []
    },
    {
      "cell_type": "code",
      "source": [],
      "metadata": {
        "id": "RgVowJttG-6T"
      },
      "execution_count": null,
      "outputs": []
    },
    {
      "cell_type": "code",
      "source": [],
      "metadata": {
        "id": "XCp3YKelG-8s"
      },
      "execution_count": null,
      "outputs": []
    },
    {
      "cell_type": "code",
      "source": [],
      "metadata": {
        "id": "C3qW1NheG-_R"
      },
      "execution_count": null,
      "outputs": []
    },
    {
      "cell_type": "markdown",
      "source": [
        "## 8.4 Time series data"
      ],
      "metadata": {
        "id": "NHp3SmgM0IV_"
      }
    },
    {
      "cell_type": "code",
      "source": [],
      "metadata": {
        "id": "vASFyAVerbpF"
      },
      "execution_count": null,
      "outputs": []
    },
    {
      "cell_type": "code",
      "source": [],
      "metadata": {
        "id": "Pu4Jlx66f9Uh"
      },
      "execution_count": null,
      "outputs": []
    },
    {
      "cell_type": "code",
      "source": [],
      "metadata": {
        "id": "qAI4sn8-f9eJ"
      },
      "execution_count": null,
      "outputs": []
    },
    {
      "cell_type": "code",
      "source": [],
      "metadata": {
        "id": "uKfdEmm4rbs9"
      },
      "execution_count": null,
      "outputs": []
    },
    {
      "cell_type": "code",
      "source": [],
      "metadata": {
        "id": "GpFzTVEKrbv2"
      },
      "execution_count": null,
      "outputs": []
    },
    {
      "cell_type": "code",
      "source": [],
      "metadata": {
        "id": "W80-iXHDrbx9"
      },
      "execution_count": null,
      "outputs": []
    },
    {
      "cell_type": "code",
      "source": [],
      "metadata": {
        "id": "hscR1p9_rbzr"
      },
      "execution_count": null,
      "outputs": []
    },
    {
      "cell_type": "code",
      "source": [],
      "metadata": {
        "id": "FodqKY6LpTcr"
      },
      "execution_count": null,
      "outputs": []
    },
    {
      "cell_type": "code",
      "source": [],
      "metadata": {
        "id": "pgO0_y2hpTfG"
      },
      "execution_count": null,
      "outputs": []
    },
    {
      "cell_type": "markdown",
      "source": [
        "## 8.5 Visualizing our data"
      ],
      "metadata": {
        "id": "SH7d2_CEoRsG"
      }
    },
    {
      "cell_type": "code",
      "source": [],
      "metadata": {
        "id": "S8DXTKxaqEcI"
      },
      "execution_count": null,
      "outputs": []
    },
    {
      "cell_type": "markdown",
      "source": [
        "### 8.5.1 Penguins dataset visualization"
      ],
      "metadata": {
        "id": "Kn3ib5wpKmax"
      }
    },
    {
      "cell_type": "markdown",
      "source": [
        "Which species has a highest average flipper length?"
      ],
      "metadata": {
        "id": "eWYFA-MLinxe"
      }
    },
    {
      "cell_type": "code",
      "source": [],
      "metadata": {
        "id": "irrQVJ8FqEhY"
      },
      "execution_count": null,
      "outputs": []
    },
    {
      "cell_type": "markdown",
      "source": [
        "Which island has the largest penguin population?"
      ],
      "metadata": {
        "id": "zGTejevNi6mM"
      }
    },
    {
      "cell_type": "code",
      "source": [],
      "metadata": {
        "id": "f-J1FO5kqEj_"
      },
      "execution_count": null,
      "outputs": []
    },
    {
      "cell_type": "markdown",
      "source": [
        "What is the relationship between bill length and flipper length?"
      ],
      "metadata": {
        "id": "c1ZlNyIxjBRR"
      }
    },
    {
      "cell_type": "code",
      "source": [],
      "metadata": {
        "id": "VM6Q776IqEmk"
      },
      "execution_count": null,
      "outputs": []
    },
    {
      "cell_type": "code",
      "source": [],
      "metadata": {
        "id": "vB-boSegqEpZ"
      },
      "execution_count": null,
      "outputs": []
    },
    {
      "cell_type": "code",
      "source": [],
      "metadata": {
        "id": "ZHNV1Z6rqEsA"
      },
      "execution_count": null,
      "outputs": []
    },
    {
      "cell_type": "markdown",
      "source": [
        "### 8.5.2 Flights dataset visualization"
      ],
      "metadata": {
        "id": "okgzc9LtlH1a"
      }
    },
    {
      "cell_type": "code",
      "source": [],
      "metadata": {
        "id": "JX-tfl7vqEut"
      },
      "execution_count": null,
      "outputs": []
    },
    {
      "cell_type": "code",
      "source": [],
      "metadata": {
        "id": "0M0109uxqExf"
      },
      "execution_count": null,
      "outputs": []
    },
    {
      "cell_type": "code",
      "source": [],
      "metadata": {
        "id": "6LfPiu9fzOuX"
      },
      "execution_count": null,
      "outputs": []
    },
    {
      "cell_type": "code",
      "source": [],
      "metadata": {
        "id": "YmK8t5pSzOw8"
      },
      "execution_count": null,
      "outputs": []
    },
    {
      "cell_type": "code",
      "source": [],
      "metadata": {
        "id": "PdUPzvafsQiR"
      },
      "execution_count": null,
      "outputs": []
    }
  ]
}